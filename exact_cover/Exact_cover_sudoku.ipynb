{
 "cells": [
  {
   "cell_type": "markdown",
   "id": "cae06f6e-39f7-4ce6-b2ef-54bdd0975a99",
   "metadata": {},
   "source": [
    "# Solving Sudoku with exact cover\n",
    "\n",
    "Sudoku solved by exact cover -algorithm implemented by QUBO in quantum annealer.\n",
    "\n",
    "Sudoku can be converted to exact cover problem by following procedure:\n",
    "\n",
    "- Elements of set $U$ in exact cover problem represent here sudoku rule restricition. For example: cell $(y,x)$ of the sudoku is filled, block $y/3,x/3$ has number $n$ somewhere in blocj, row $y$ has number $n$, and column $x$ has number $n$. So there are altogether $4*9*9=324$ elements in $U$.\n",
    "- Every subset $V_i \\in V$ is an option to fill a cell in sudoku: A number $n$ is placed to a cell $(y,x)$. All these subsets have four elements: cell $(y,x)$ is filled, block $y/3,x/3$ has number $n$, row $y$ has number $n$, and column $x$ has number $n$.\n",
    "- To reduce the needed qubits some “evidently impossible” choices of $n$ to cell $(y,x)$ are not included in subsets $V$. For example number $n$ is already in that row.\n",
    "\n",
    "After this problem is solved by the exact cover algorithm with set $V$."
   ]
  },
  {
   "cell_type": "code",
   "execution_count": 109,
   "id": "61255bff-43e9-473c-adbb-49d3d7d15c81",
   "metadata": {
    "tags": []
   },
   "outputs": [],
   "source": [
    "import numpy as np\n",
    "import time\n",
    "import dimod\n",
    "from dwave.system import DWaveSampler, EmbeddingComposite, LeapHybridSampler\n",
    "from dwave.samplers import SimulatedAnnealingSampler\n",
    "import dwave.inspector\n",
    "from minorminer.busclique import find_clique_embedding"
   ]
  },
  {
   "cell_type": "markdown",
   "id": "40c1cdfb-29b7-479b-b13d-6e214a7f2360",
   "metadata": {},
   "source": [
    "## Some helper functions"
   ]
  },
  {
   "cell_type": "code",
   "execution_count": 172,
   "id": "185674d4-8045-47cb-8e5c-bf74811ed8ef",
   "metadata": {
    "tags": []
   },
   "outputs": [],
   "source": [
    "def count_zeros(sudoku):\n",
    "    count=0;\n",
    "    for y in range(size2):\n",
    "        for x in range(size2):\n",
    "            if sudoku[y][x]==0:\n",
    "                count += 1\n",
    "    return count\n",
    "\n",
    "def print_sudoku(sudoku):\n",
    "    for y in range(size2):\n",
    "        if y!=0 and y%ssize==0:\n",
    "            if ssize==4: print('----+----+----+----')      \n",
    "            if ssize==3: print('---+---+---')      \n",
    "            if ssize==2: print('--+--')      \n",
    "        for x in range(size2):\n",
    "            if x!=0 and x%ssize==0:\n",
    "                print('|',end='')\n",
    "            n = int(sudoku[y][x])\n",
    "            print('.' if n==0 else n , end='')\n",
    "        print('')\n",
    "        \n",
    "def merge_sudoku(sudoku1, sudoku2):\n",
    "    sudoku_res = np.zeros((ssize*ssize,ssize*ssize))\n",
    "    for y in range(size2):\n",
    "        for x in range(size2):\n",
    "            if sudoku1[y][x]==0:\n",
    "                sudoku_res[y][x] = sudoku2[y][x]\n",
    "            else:\n",
    "                sudoku_res[y][x] = sudoku1[y][x]\n",
    "                if sudoku2[y][x]>0:\n",
    "                    print('! Sudokus have overlapping cell: {},{}'.format(y+1,x+1))\n",
    "    return sudoku_res\n",
    "\n",
    "def check_sudoku(sudoku):\n",
    "    f = 0\n",
    "    for i in range(size2):\n",
    "        g = []\n",
    "        for j in range(size2):\n",
    "            g.append(sudoku[i][j])\n",
    "        for n in range(1,size2+1):\n",
    "            if not n in g:\n",
    "                print('Number {} missing in row {}.'.format(n,i+1))\n",
    "                f += 1\n",
    "    for i in range(size2):\n",
    "        g = []\n",
    "        for j in range(size2):\n",
    "            g.append(sudoku[j][i])\n",
    "        for n in range(1,size2+1):\n",
    "            if not n in g:\n",
    "                print('Number {} missing in column {}.'.format(n,i+1))\n",
    "                f += 1\n",
    "    for i1 in range(ssize):\n",
    "        for i2 in range(ssize):\n",
    "            g = []\n",
    "            for j1 in range(ssize):\n",
    "                for j2 in range(ssize):\n",
    "                    g.append(sudoku[i1*ssize+j1][i2*ssize+j2])\n",
    "            for n in range(1,size2+1):\n",
    "                if not n in g:\n",
    "                    print('Number {} missing in block {},{}.'.format(n,i1+1,i2+1))\n",
    "                    f += 1\n",
    "    if f==0:\n",
    "         print('sudoku OK')\n",
    "    else:\n",
    "        print('number of problems:',f)\n",
    "                     "
   ]
  },
  {
   "cell_type": "markdown",
   "id": "a7908a29-208c-4aaa-98b2-fb95244dae74",
   "metadata": {},
   "source": [
    "## Load sudoku\n",
    "\n",
    "sudoku file structure: first line is number of sudokus. First line of every sudoku is the size of sudoku.\n",
    "\n",
    "3_level_48.ss: These should be rather easy sudokus, 48 cells not filled."
   ]
  },
  {
   "cell_type": "code",
   "execution_count": 10,
   "id": "4694ad7c-2191-467e-bbaf-1c8b3922c3fd",
   "metadata": {
    "tags": []
   },
   "outputs": [],
   "source": [
    "f = open('testdata/3_level_48.ss','r')\n",
    "#f = open('testdata/2_level_varia.ss','r')\n",
    "scount = int(f.readline())\n",
    "ssize = int(f.readline())\n",
    "\n",
    "sudoku=np.zeros((scount,ssize*ssize,ssize*ssize))\n",
    "\n",
    "for i in range(scount):\n",
    "    for j in range(ssize):        \n",
    "        for k in range(ssize):\n",
    "            line = f.readline()\n",
    "            for l in range(ssize*ssize):\n",
    "                c = line[l+int(l/ssize)]\n",
    "                sudoku[i][j*ssize+k][l] = 0 if c=='.' else int(c)\n",
    "        line = f.readline()"
   ]
  },
  {
   "cell_type": "markdown",
   "id": "d9eb7a92-c84d-46bf-8157-9399c1dc27f3",
   "metadata": {},
   "source": [
    "## Create set and subset from sudoku\n",
    "\n",
    "Sudoku can be converted to exact cover problem:\n",
    "- set elements are all option in all cells. So in empty sudoku there is 9x9x9 elements. To get little bit better efficiency, here only empy cells are counted in.\n",
    "- subset block: 1) every cell can have only one number, 2) every 3x3 block can have only one number each, 3) every row can have only one number each, 4) every column can have only one number each\n",
    "\n",
    "Every four subset block has 81 subsets like this: 1) there is 81 cells in sudoku, 2) sudoku has 9 blocks, for wich one subset for each number, 3) 9 rows, for wich one subset for each number, 4) 9 columns, for wich one subset for each number.\n",
    "\n",
    "Some preprocessing is made, known numbers are one large subset."
   ]
  },
  {
   "cell_type": "code",
   "execution_count": 65,
   "id": "4e16d77c-b8f0-445f-83dc-5d0a9e81d5d9",
   "metadata": {
    "tags": []
   },
   "outputs": [
    {
     "name": "stdout",
     "output_type": "stream",
     "text": [
      "Time used for construction Q (ms): 3.2\n",
      "Number of blanks: 48\n",
      "Number of elements: 324\n",
      "Number of subsets: 141\n",
      "Number of subsets if no zipping: 729\n"
     ]
    }
   ],
   "source": [
    "sind = 0             # which sudoku from the list\n",
    "size2 = ssize*ssize\n",
    "\n",
    "U = [i for i in range(size2*size2*4)]  # 4 blocks of subsets\n",
    "V = []                                  # Set element names are row*81 + col*9 + \"1-9\"\n",
    "cell_id = []\n",
    "\n",
    "t1 = time.time()\n",
    "\n",
    "# “evidently impossible” choices\n",
    "c = []\n",
    "for y in range(size2):\n",
    "    for x in range(size2):\n",
    "        if sudoku[sind][y][x]!=0:\n",
    "            n = sudoku[sind][y][x]-1\n",
    "            c.append(int(y*size2+x))\n",
    "            c.append(int(size2*size2 + int(y/ssize)*size2*ssize + int(x/ssize)*size2 + n))\n",
    "            c.append(int(2*size2*size2 + y*size2 + n))\n",
    "            c.append(int(3*size2*size2 + x*size2 + n))\n",
    "c.sort()\n",
    "            \n",
    "y=0\n",
    "x=0\n",
    "while y<size2:\n",
    "    if sudoku[sind][y][x]==0:\n",
    "        for j in range(size2):\n",
    "            # cell, block, row, column, restriction\n",
    "            bl = size2*size2 + int(y/ssize)*size2*ssize + int(x/ssize)*size2 + j\n",
    "            row = 2*size2*size2 + y*size2 + j\n",
    "            col = 3*size2*size2 + x*size2 + j\n",
    "            if not (bl in c or row in c or col in c):\n",
    "                V.append([y*size2+x, bl, row, col])\n",
    "                cell_id.append((y,x,j+1))\n",
    "    x += 1\n",
    "    if x==size2:\n",
    "        x = 0\n",
    "        y += 1\n",
    "\n",
    "z = count_zeros(sudoku[sind])\n",
    "t2 = time.time()\n",
    "print('Time used for construction Q (ms): {:.1f}'.format((t2-t1)*1000))\n",
    "print('Number of blanks:',z)            \n",
    "print('Number of elements:',len(U))\n",
    "print('Number of subsets:',len(V))\n",
    "print('Number of subsets if no zipping:',size2*size2*size2)"
   ]
  },
  {
   "cell_type": "markdown",
   "id": "2e5eb725-c6f9-420b-b0d4-deb3be0ae535",
   "metadata": {},
   "source": [
    "## Create QUBO\n",
    "\n",
    "Constraints\n",
    "- total number of elements in subset should be $|U|$\n",
    "- each element only in one subset"
   ]
  },
  {
   "cell_type": "code",
   "execution_count": 96,
   "id": "703cf4e9-618a-4063-a6b6-7e08574bd476",
   "metadata": {
    "tags": []
   },
   "outputs": [
    {
     "name": "stdout",
     "output_type": "stream",
     "text": [
      "Time used for construction Q (ms): 353.7\n"
     ]
    }
   ],
   "source": [
    "Q = np.zeros((len(V),len(V)))\n",
    "t1 = time.time()\n",
    "\n",
    "# Total elements constraint\n",
    "for i in range(len(V)):\n",
    "    Q[i][i] =- len(V[i])\n",
    "\n",
    "# each element only in one subset\n",
    "for a in U:\n",
    "    for i in range(len(V)):\n",
    "        for j in range(i+1, len(V)):\n",
    "            if a in V[i] and a in V[j]:\n",
    "                Q[i][j] = len(V[i]) + len(V[j]) + 2\n",
    "                \n",
    "t2 = time.time()\n",
    "print('Time used for construction Q (ms): {:.1f}'.format((t2-t1)*1000))"
   ]
  },
  {
   "cell_type": "markdown",
   "id": "52d05a4b-7709-4763-91d0-24e62a38642a",
   "metadata": {
    "tags": []
   },
   "source": [
    "## Creat BQM from QUBO"
   ]
  },
  {
   "cell_type": "code",
   "execution_count": 100,
   "id": "91271542-e116-47da-b4c0-53daabb66b17",
   "metadata": {
    "tags": []
   },
   "outputs": [
    {
     "name": "stdout",
     "output_type": "stream",
     "text": [
      "Number of logical qubits needed: 141\n",
      "Number of logical couplers needed: 588\n"
     ]
    }
   ],
   "source": [
    "bqm = dimod.BinaryQuadraticModel(Q, 'BINARY')\n",
    "print('Number of logical qubits needed:',Q.shape[0])\n",
    "print('Number of logical couplers needed:', len(bqm.quadratic))"
   ]
  },
  {
   "cell_type": "markdown",
   "id": "7d1389fa-f070-4a39-899c-07a6cc304277",
   "metadata": {},
   "source": [
    "## Local heuristic classical solver\n",
    "\n",
    "Local deterministic solver can not be used because: \"Maximum allowed dimension exceeded\""
   ]
  },
  {
   "cell_type": "code",
   "execution_count": 101,
   "id": "25159720-c5f8-4cbf-a3ed-10f4d0554a78",
   "metadata": {
    "tags": []
   },
   "outputs": [
    {
     "name": "stdout",
     "output_type": "stream",
     "text": [
      "Time used by solver (s): 0.3\n",
      "Lowest energy reached: -192\n",
      "Lowest energy should be: -192\n",
      "Lowest energy occurences: 24 %\n"
     ]
    }
   ],
   "source": [
    "num_reads = 100\n",
    "t1 = time.time()\n",
    "sampleset = SimulatedAnnealingSampler().sample(bqm, num_reads=num_reads).aggregate()\n",
    "t2 = time.time()\n",
    "print('Time used by solver (s): {:.1f}'.format((t2-t1)))\n",
    "print('Lowest energy reached:',int(sampleset.first.energy))\n",
    "print('Lowest energy should be:',-count_zeros(sudoku[sind])*4)   \n",
    "print('Lowest energy occurences: {} %'.format(int(sampleset.first.num_occurrences/num_reads*100)))"
   ]
  },
  {
   "cell_type": "markdown",
   "id": "59e10887-354d-494b-a022-96e0607f6504",
   "metadata": {},
   "source": [
    "## Then analyse results..."
   ]
  },
  {
   "cell_type": "code",
   "execution_count": 160,
   "id": "898e971d-f3d7-4de8-b98c-d7ff29cc6656",
   "metadata": {
    "tags": []
   },
   "outputs": [],
   "source": [
    "sudoku_res = np.zeros((ssize*ssize,ssize*ssize))\n",
    "r = sampleset.first.sample\n",
    "for k,v in r.items():\n",
    "    if v==1 and k<len(cell_id):\n",
    "        y,x,n = cell_id[k]\n",
    "        sudoku_res[y][x] = n"
   ]
  },
  {
   "cell_type": "code",
   "execution_count": 161,
   "id": "9514d7ef-0933-4104-ab10-9d6f23634954",
   "metadata": {},
   "outputs": [
    {
     "name": "stdout",
     "output_type": "stream",
     "text": [
      "..9|..3|.1.\n",
      "..1|.27|.8.\n",
      "...|15.|963\n",
      "---+---+---\n",
      "5.8|..1|.49\n",
      "94.|..6|.3.\n",
      "...|..9|...\n",
      "---+---+---\n",
      "726|3.8|1.4\n",
      ".34|.6.|..2\n",
      "...|...|...\n"
     ]
    }
   ],
   "source": [
    "print_sudoku(sudoku[sind])"
   ]
  },
  {
   "cell_type": "code",
   "execution_count": 162,
   "id": "ca12d453-4733-4ffb-8e51-ca77c6d1fb0d",
   "metadata": {
    "tags": []
   },
   "outputs": [
    {
     "name": "stdout",
     "output_type": "stream",
     "text": [
      "45.|68.|2.7\n",
      "36.|9..|4.5\n",
      "287|..4|...\n",
      "---+---+---\n",
      ".7.|23.|6..\n",
      "..2|87.|5.1\n",
      "613|54.|728\n",
      "---+---+---\n",
      "...|.9.|.5.\n",
      "1..|7.5|89.\n",
      "895|412|376\n"
     ]
    }
   ],
   "source": [
    "print_sudoku(sudoku_res)"
   ]
  },
  {
   "cell_type": "code",
   "execution_count": 163,
   "id": "bb92a1c7-9873-40b3-a3ff-7ab94aff51cb",
   "metadata": {
    "tags": []
   },
   "outputs": [],
   "source": [
    "merge = merge_sudoku(sudoku[sind],sudoku_res)"
   ]
  },
  {
   "cell_type": "code",
   "execution_count": 164,
   "id": "d2005197-40fd-490a-90e8-9e07ac414ce2",
   "metadata": {
    "tags": []
   },
   "outputs": [
    {
     "name": "stdout",
     "output_type": "stream",
     "text": [
      "459|683|217\n",
      "361|927|485\n",
      "287|154|963\n",
      "---+---+---\n",
      "578|231|649\n",
      "942|876|531\n",
      "613|549|728\n",
      "---+---+---\n",
      "726|398|154\n",
      "134|765|892\n",
      "895|412|376\n"
     ]
    }
   ],
   "source": [
    "print_sudoku(merge)"
   ]
  },
  {
   "cell_type": "code",
   "execution_count": 165,
   "id": "f689970f-d6e9-4bd1-af77-bab70ddc29db",
   "metadata": {
    "tags": []
   },
   "outputs": [
    {
     "name": "stdout",
     "output_type": "stream",
     "text": [
      "sudoku OK\n"
     ]
    }
   ],
   "source": [
    "check_sudoku(merge)"
   ]
  },
  {
   "cell_type": "markdown",
   "id": "b84fc9dc-40a4-421a-b35b-790375b49511",
   "metadata": {
    "tags": []
   },
   "source": [
    "# Quantum solver"
   ]
  },
  {
   "cell_type": "code",
   "execution_count": 120,
   "id": "4384c022-d0df-49bc-89ad-d56eaa90687f",
   "metadata": {
    "tags": []
   },
   "outputs": [
    {
     "name": "stdout",
     "output_type": "stream",
     "text": [
      "Chip: Advantage_system4.1\n",
      "Qubits: 5760\n"
     ]
    }
   ],
   "source": [
    "machine = DWaveSampler(solver={'chip_id': 'Advantage_system4.1'})\n",
    "print('Chip:', machine.properties['chip_id'])\n",
    "print('Qubits:', machine.properties['num_qubits'])"
   ]
  },
  {
   "cell_type": "code",
   "execution_count": 140,
   "id": "23986121-9bc3-4c10-b851-412cd4b4964b",
   "metadata": {
    "tags": []
   },
   "outputs": [
    {
     "name": "stdout",
     "output_type": "stream",
     "text": [
      "Number of actual qubits needed: 1952\n",
      "Estimate of 1313ms on Advantage_system4.1\n"
     ]
    }
   ],
   "source": [
    "num_reads = 1000\n",
    "\n",
    "embedding = find_clique_embedding(bqm.variables, machine.to_networkx_graph())  \n",
    "num_qubits_needed = sum(len(chain) for chain in embedding.values())\n",
    "print('Number of actual qubits needed:',num_qubits_needed)\n",
    "\n",
    "anneal_schedule = [[0.0, 0.0], [40.0, 0.4], [1040.0, 0.4], [1042, 1.0]]\n",
    "estimated_runtime = machine.solver.estimate_qpu_access_time(num_qubits_needed, num_reads=num_reads, anneal_schedule=anneal_schedule)    \n",
    "print(\"Estimate of {:.0f}ms on {}\".format(estimated_runtime/1000, machine.solver.name)) "
   ]
  },
  {
   "cell_type": "code",
   "execution_count": 141,
   "id": "c3874824-75ac-4c42-9d41-e52a7c2efb55",
   "metadata": {
    "tags": []
   },
   "outputs": [],
   "source": [
    "sampleset2 = EmbeddingComposite(machine).sample(bqm, num_reads=num_reads)"
   ]
  },
  {
   "cell_type": "code",
   "execution_count": 142,
   "id": "29551f9c-4170-4a3f-96f1-3683ed0feda8",
   "metadata": {
    "tags": []
   },
   "outputs": [
    {
     "name": "stdout",
     "output_type": "stream",
     "text": [
      "Lowest energy should be: -192\n",
      "Lowest energy reached: -152\n",
      "Lowest energy occurences: 0 %\n",
      "QPU time used (ms): 207.0\n",
      "Physical qubits used: 572\n"
     ]
    }
   ],
   "source": [
    "qtime = sampleset2.info['timing']['qpu_access_time'] / 1000\n",
    "qubits = sum(len(x) for x in sampleset2.info['embedding_context']['embedding'].values())\n",
    "print('Lowest energy should be:',-count_zeros(sudoku[sind])*4)  \n",
    "print('Lowest energy reached:',int(sampleset2.first.energy))\n",
    "print('Lowest energy occurences: {} %'.format(int(sampleset2.first.num_occurrences/num_reads*100)))\n",
    "print('QPU time used (ms): {:.1f}'.format(qtime))\n",
    "print('Physical qubits used: {}'.format(qubits))"
   ]
  },
  {
   "cell_type": "code",
   "execution_count": 166,
   "id": "4d815a9e-056b-4d93-968f-99759d21d1ba",
   "metadata": {
    "tags": []
   },
   "outputs": [],
   "source": [
    "sudoku_res2 = np.zeros((ssize*ssize,ssize*ssize))\n",
    "r = sampleset2.first.sample\n",
    "for k,v in r.items():\n",
    "    if v==1 and k<len(cell_id):\n",
    "        y,x,n = cell_id[k]\n",
    "        sudoku_res2[y][x] = n"
   ]
  },
  {
   "cell_type": "code",
   "execution_count": 167,
   "id": "91d1e5d7-3c4d-42de-b9d4-ae8921f1a0e1",
   "metadata": {
    "tags": []
   },
   "outputs": [
    {
     "name": "stdout",
     "output_type": "stream",
     "text": [
      "..9|..3|.1.\n",
      "..1|.27|.8.\n",
      "...|15.|963\n",
      "---+---+---\n",
      "5.8|..1|.49\n",
      "94.|..6|.3.\n",
      "...|..9|...\n",
      "---+---+---\n",
      "726|3.8|1.4\n",
      ".34|.6.|..2\n",
      "...|...|...\n"
     ]
    }
   ],
   "source": [
    "print_sudoku(sudoku[sind])"
   ]
  },
  {
   "cell_type": "code",
   "execution_count": 168,
   "id": "9211ad5b-1956-41b9-bc23-1c99640ec1b0",
   "metadata": {
    "tags": []
   },
   "outputs": [
    {
     "name": "stdout",
     "output_type": "stream",
     "text": [
      "45.|8..|2.7\n",
      "36.|...|5..\n",
      "2.7|..4|...\n",
      "---+---+---\n",
      "...|...|6..\n",
      "..2|58.|..1\n",
      "613|24.|758\n",
      "---+---+---\n",
      "...|...|.9.\n",
      "1..|7.5|8..\n",
      "895|412|376\n"
     ]
    }
   ],
   "source": [
    "print_sudoku(sudoku_res2)"
   ]
  },
  {
   "cell_type": "code",
   "execution_count": 175,
   "id": "1f2a362f-fcb8-42cb-a05c-2b8e08b653df",
   "metadata": {
    "tags": []
   },
   "outputs": [],
   "source": [
    "merge2 = sudoku_merge(sudoku[sind],sudoku_res2)"
   ]
  },
  {
   "cell_type": "code",
   "execution_count": 176,
   "id": "f28f776d-ff21-48ff-a031-11732964dcce",
   "metadata": {
    "tags": []
   },
   "outputs": [
    {
     "name": "stdout",
     "output_type": "stream",
     "text": [
      "459|8.3|217\n",
      "361|.27|58.\n",
      "2.7|154|963\n",
      "---+---+---\n",
      "5.8|..1|649\n",
      "942|586|.31\n",
      "613|249|758\n",
      "---+---+---\n",
      "726|3.8|194\n",
      "134|765|8.2\n",
      "895|412|376\n"
     ]
    }
   ],
   "source": [
    "print_sudoku(merge2)"
   ]
  },
  {
   "cell_type": "code",
   "execution_count": 178,
   "id": "3abd7cc7-7a43-43ec-80db-bf21ab4bc258",
   "metadata": {
    "tags": []
   },
   "outputs": [
    {
     "name": "stdout",
     "output_type": "stream",
     "text": [
      "Number 6 missing in row 1.\n",
      "Number 4 missing in row 2.\n",
      "Number 9 missing in row 2.\n",
      "Number 8 missing in row 3.\n",
      "Number 2 missing in row 4.\n",
      "Number 3 missing in row 4.\n",
      "Number 7 missing in row 4.\n",
      "Number 7 missing in row 5.\n",
      "Number 5 missing in row 7.\n",
      "Number 9 missing in row 8.\n",
      "Number 7 missing in column 2.\n",
      "Number 8 missing in column 2.\n",
      "Number 6 missing in column 4.\n",
      "Number 9 missing in column 4.\n",
      "Number 3 missing in column 5.\n",
      "Number 7 missing in column 5.\n",
      "Number 9 missing in column 5.\n",
      "Number 4 missing in column 7.\n",
      "Number 2 missing in column 8.\n",
      "Number 5 missing in column 9.\n",
      "Number 8 missing in block 1,1.\n",
      "Number 6 missing in block 1,2.\n",
      "Number 9 missing in block 1,2.\n",
      "Number 4 missing in block 1,3.\n",
      "Number 7 missing in block 2,1.\n",
      "Number 3 missing in block 2,2.\n",
      "Number 7 missing in block 2,2.\n",
      "Number 2 missing in block 2,3.\n",
      "Number 9 missing in block 3,2.\n",
      "Number 5 missing in block 3,3.\n",
      "number of problems: 30\n"
     ]
    }
   ],
   "source": [
    "check_sudoku(merge2)"
   ]
  },
  {
   "cell_type": "code",
   "execution_count": 132,
   "id": "32c82cef-b16f-4677-9c33-8bfd347dacbd",
   "metadata": {
    "tags": []
   },
   "outputs": [
    {
     "data": {
      "text/html": [
       "<iframe src=http://127.0.0.1:18000/?problemId=7062af46-1a40-44eb-9d50-3c1394796ab4 width=\"100%\" height=640></iframe>"
      ],
      "text/plain": [
       "Serving Inspector on http://127.0.0.1:18000/?problemId=7062af46-1a40-44eb-9d50-3c1394796ab4"
      ]
     },
     "metadata": {},
     "output_type": "display_data"
    },
    {
     "data": {
      "text/plain": [
       "'http://127.0.0.1:18000/?problemId=7062af46-1a40-44eb-9d50-3c1394796ab4'"
      ]
     },
     "execution_count": 132,
     "metadata": {},
     "output_type": "execute_result"
    }
   ],
   "source": [
    "dwave.inspector.show(sampleset2)"
   ]
  },
  {
   "cell_type": "code",
   "execution_count": 174,
   "id": "0d4071bb-b6f0-4ca9-b3d4-8dca1f471747",
   "metadata": {},
   "outputs": [
    {
     "name": "stdout",
     "output_type": "stream",
     "text": [
      "    0  1  2  3  4  5  6  7  8  9 10 11 12 13 14 15 ... 140 energy num_oc. ...\n",
      "0   0  1  0  0  1  0  0  0  0  0  1  0  0  1  0  0 ...   0 -152.0       1 ...\n",
      "1   0  0  1  0  1  0  0  0  0  0  1  0  0  1  0  0 ...   0 -148.0       1 ...\n",
      "2   1  0  0  0  0  1  0  0  0  0  1  0  0  0  0  1 ...   0 -146.0       1 ...\n",
      "3   0  0  1  0  1  0  0  0  0  0  1  0  0  1  0  0 ...   0 -144.0       1 ...\n",
      "4   0  0  1  0  1  0  0  0  0  0  1  0  0  0  1  0 ...   0 -140.0       1 ...\n",
      "5   0  1  0  0  1  0  0  0  0  1  0  0  1  0  0  0 ...   0 -140.0       1 ...\n",
      "6   0  1  0  0  1  0  0  0  0  0  1  0  0  1  0  0 ...   0 -140.0       1 ...\n",
      "7   0  0  1  0  0  0  0  1  1  0  0  0  0  0  0  1 ...   0 -140.0       1 ...\n",
      "8   0  1  0  0  1  0  0  0  0  1  0  0  0  1  0  0 ...   0 -140.0       1 ...\n",
      "9   0  0  0  0  1  0  0  0  0  1  0  0  1  0  0  0 ...   0 -140.0       1 ...\n",
      "10  0  1  0  0  1  0  0  0  0  1  0  0  1  0  0  0 ...   1 -140.0       1 ...\n",
      "11  0  0  1  0  1  0  0  0  1  0  0  0  1  1  0  0 ...   0 -140.0       1 ...\n",
      "12  0  1  0  0  0  0  0  0  0  0  0  0  1  1  0  0 ...   1 -140.0       1 ...\n",
      "13  1  0  0  0  1  0  0  0  0  1  0  0  1  0  0  0 ...   0 -138.0       1 ...\n",
      "14  0  1  0  0  1  0  0  0  0  1  0  0  0  1  0  0 ...   0 -138.0       1 ...\n",
      "15  0  0  1  0  1  0  0  0  0  0  0  0  1  1  0  0 ...   0 -138.0       1 ...\n",
      "16  1  0  0  0  1  0  0  0  0  0  1  0  0  0  0  0 ...   0 -136.0       1 ...\n",
      "17  1  0  0  0  1  0  0  0  1  0  0  0  1  0  0  0 ...   1 -136.0       1 ...\n",
      "18  0  0  1  0  1  0  0  0  0  0  0  0  1  0  1  0 ...   0 -136.0       1 ...\n",
      "19  0  1  0  0  1  0  0  0  0  0  0  0  1  1  0  0 ...   1 -136.0       1 ...\n",
      "20  0  0  1  0  0  0  0  1  0  0  0  0  0  0  1  0 ...   1 -136.0       1 ...\n",
      "21  1  0  0  0  0  0  0  0  0  1  0  0  0  0  0  0 ...   0 -136.0       1 ...\n",
      "22  0  0  0  0  1  0  0  0  1  0  0  0  1  1  0  0 ...   0 -136.0       1 ...\n",
      "23  0  1  0  0  1  0  0  0  0  0  1  0  0  1  0  0 ...   1 -134.0       1 ...\n",
      "24  1  0  0  0  1  0  0  0  0  0  1  0  0  0  0  0 ...   0 -134.0       1 ...\n",
      "25  0  1  0  0  1  0  0  0  0  0  1  0  0  1  0  0 ...   0 -134.0       1 ...\n",
      "26  0  1  0  0  1  0  0  0  0  1  0  0  1  1  0  0 ...   0 -134.0       1 ...\n",
      "27  0  0  1  0  0  0  0  0  0  0  1  0  0  0  0  1 ...   1 -134.0       1 ...\n",
      "28  0  0  1  0  1  0  0  0  1  0  0  0  1  0  0  0 ...   1 -134.0       1 ...\n",
      "29  0  0  0  0  1  0  0  0  0  1  0  0  1  1  0  0 ...   1 -132.0       1 ...\n",
      "['BINARY', 30 rows, 30 samples, 141 variables]\n"
     ]
    }
   ],
   "source": [
    "print(sampleset2.truncate(30))"
   ]
  },
  {
   "cell_type": "code",
   "execution_count": null,
   "id": "46da9259-fd1e-45c5-9d8a-4a047917b245",
   "metadata": {},
   "outputs": [],
   "source": []
  }
 ],
 "metadata": {
  "kernelspec": {
   "display_name": "Python 3 (ipykernel)",
   "language": "python",
   "name": "python3"
  },
  "language_info": {
   "codemirror_mode": {
    "name": "ipython",
    "version": 3
   },
   "file_extension": ".py",
   "mimetype": "text/x-python",
   "name": "python",
   "nbconvert_exporter": "python",
   "pygments_lexer": "ipython3",
   "version": "3.8.18"
  }
 },
 "nbformat": 4,
 "nbformat_minor": 5
}
