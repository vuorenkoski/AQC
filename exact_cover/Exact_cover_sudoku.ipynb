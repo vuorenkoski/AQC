{
 "cells": [
  {
   "cell_type": "markdown",
   "id": "cae06f6e-39f7-4ce6-b2ef-54bdd0975a99",
   "metadata": {},
   "source": [
    "# Solving Sudoku with exact cover\n",
    "\n",
    "Exact cover algorithm implemented by QUBO in quantum annealer"
   ]
  },
  {
   "cell_type": "code",
   "execution_count": 1,
   "id": "61255bff-43e9-473c-adbb-49d3d7d15c81",
   "metadata": {
    "tags": []
   },
   "outputs": [],
   "source": [
    "import numpy as np\n",
    "import time\n",
    "import dimod\n",
    "from dwave.system import DWaveSampler, EmbeddingComposite, LeapHybridSampler\n",
    "from dwave.samplers import SimulatedAnnealingSampler\n",
    "import dwave.inspector"
   ]
  },
  {
   "cell_type": "markdown",
   "id": "40c1cdfb-29b7-479b-b13d-6e214a7f2360",
   "metadata": {},
   "source": [
    "## Some functions"
   ]
  },
  {
   "cell_type": "code",
   "execution_count": 80,
   "id": "185674d4-8045-47cb-8e5c-bf74811ed8ef",
   "metadata": {
    "tags": []
   },
   "outputs": [],
   "source": [
    "def count_zeros(sudoku):\n",
    "    count=0;\n",
    "    for y in range(size2):\n",
    "        for x in range(size2):\n",
    "            if sudoku[y][x]==0:\n",
    "                count += 1\n",
    "    return count\n",
    "\n",
    "def print_sudoku(sudoku):\n",
    "    for y in range(size2):\n",
    "        if y!=0 and y%ssize==0:\n",
    "            if ssize==4: print('----+----+----+----')      \n",
    "            if ssize==3: print('---+---+---')      \n",
    "            if ssize==2: print('--+--')      \n",
    "        for x in range(size2):\n",
    "            if x!=0 and x%ssize==0:\n",
    "                print('|',end='')\n",
    "            n = int(sudoku[y][x])\n",
    "            print('.' if n==0 else n , end='')\n",
    "        print('')\n",
    "        \n",
    "def sudoku_merge(sudoku1, sudoku2):\n",
    "    sudoku_res = np.zeros((ssize*ssize,ssize*ssize))\n",
    "    for y in range(size2):\n",
    "        for x in range(size2):\n",
    "            if sudoku1[y][x]==0:\n",
    "                sudoku_res[y][x] = sudoku2[y][x]\n",
    "            else:\n",
    "                sudoku_res[y][x] = sudoku1[y][x]\n",
    "                if sudoku2[y][x]>0:\n",
    "                    print('! Solver has filled a cell with constant number: {},{}'.format(y+1,x+1))\n",
    "    return sudoku_res"
   ]
  },
  {
   "cell_type": "markdown",
   "id": "a7908a29-208c-4aaa-98b2-fb95244dae74",
   "metadata": {},
   "source": [
    "## Load sudoku\n",
    "\n",
    "sudoku file structure: first line is number of sudokus. First line of every sudoku is the size of sudoku.\n",
    "\n",
    "3_level_48.ss: These should be rather easy sudokus, 48 cells not filled."
   ]
  },
  {
   "cell_type": "code",
   "execution_count": 81,
   "id": "4694ad7c-2191-467e-bbaf-1c8b3922c3fd",
   "metadata": {
    "tags": []
   },
   "outputs": [],
   "source": [
    "f = open('testdata/3_level_48.ss','r')\n",
    "#f = open('testdata/2_level_varia.ss','r')\n",
    "scount = int(f.readline())\n",
    "ssize = int(f.readline())\n",
    "\n",
    "sudoku=np.zeros((scount,ssize*ssize,ssize*ssize))\n",
    "\n",
    "for i in range(scount):\n",
    "    for j in range(ssize):        \n",
    "        for k in range(ssize):\n",
    "            line = f.readline()\n",
    "            for l in range(ssize*ssize):\n",
    "                c = line[l+int(l/ssize)]\n",
    "                sudoku[i][j*ssize+k][l] = 0 if c=='.' else int(c)\n",
    "        line = f.readline()"
   ]
  },
  {
   "cell_type": "markdown",
   "id": "d9eb7a92-c84d-46bf-8157-9399c1dc27f3",
   "metadata": {},
   "source": [
    "## Create set and subset from sudoku\n",
    "\n",
    "Sudoku can be converted to exact cover problem:\n",
    "- set elements are all option in all cells. So in empty sudoku there is 9x9x9 elements. To get little bit better efficiency, here only empy cells are counted in.\n",
    "- subset block: 1) every cell can have only one number, 2) every 3x3 block can have only one number each, 3) every row can have only one number each, 4) every column can have only one number each\n",
    "\n",
    "Every four subset block has 81 subsets like this: 1) there is 81 cells in sudoku, 2) sudoku has 9 blocks, for wich one subset for each number, 3) 9 rows, for wich one subset for each number, 4) 9 columns, for wich one subset for each number.\n",
    "\n",
    "Some preprocessing is made, known numbers are one large subset."
   ]
  },
  {
   "cell_type": "code",
   "execution_count": 82,
   "id": "4e16d77c-b8f0-445f-83dc-5d0a9e81d5d9",
   "metadata": {
    "tags": []
   },
   "outputs": [
    {
     "name": "stdout",
     "output_type": "stream",
     "text": [
      "Number of blanks: 48\n",
      "Number of elements: 324\n",
      "Number of subsets: 433\n",
      "Number of subsets if no zipping: 729\n"
     ]
    }
   ],
   "source": [
    "sind = 0             # which sudoku from the list\n",
    "size2 = ssize*ssize\n",
    "\n",
    "U = [i for i in range(size2*size2*4)]  # 4 blocks of subsets\n",
    "V = []                                  # Set element names are row*81 + col*9 + \"1-9\"\n",
    "cell_id = []\n",
    "\n",
    "y=0\n",
    "x=0\n",
    "while y<size2:\n",
    "    if sudoku[sind][y][x]==0:\n",
    "        for j in range(size2):\n",
    "            cell_id.append((y,x,j+1))\n",
    "            # cell, block, column, row restriction\n",
    "            V.append([y*size2+x, \n",
    "                      size2*size2 + int(y/ssize)*size2*ssize + int(x/ssize)*size2 + j,\n",
    "                      2*size2*size2 + y*size2 + j, \n",
    "                      3*size2*size2 + x*size2 + j]) \n",
    "    x += 1\n",
    "    if x==size2:\n",
    "        x = 0\n",
    "        y += 1\n",
    "\n",
    "# We have one more large subset, subset of known numbers\n",
    "V.append([])\n",
    "ind = len(V)-1\n",
    "for y in range(size2):\n",
    "    for x in range(size2):\n",
    "        if sudoku[sind][y][x]!=0:\n",
    "            n = sudoku[sind][y][x]-1\n",
    "            V[ind].append(int(y*size2+x))\n",
    "            V[ind].append(int(size2*size2 + int(y/ssize)*size2*ssize + int(x/ssize)*size2 + n))\n",
    "            V[ind].append(int(2*size2*size2 + y*size2 + n))\n",
    "            V[ind].append(int(3*size2*size2 + x*size2 + n))\n",
    "\n",
    "z = count_zeros(sudoku[sind])\n",
    "\n",
    "print('Number of blanks:',z)            \n",
    "print('Number of elements:',len(U))\n",
    "print('Number of subsets:',len(V))\n",
    "print('Number of subsets if no zipping:',size2*size2*size2)\n",
    "\n",
    "#for v in V:\n",
    "#    print(v)"
   ]
  },
  {
   "cell_type": "markdown",
   "id": "2e5eb725-c6f9-420b-b0d4-deb3be0ae535",
   "metadata": {},
   "source": [
    "## Create QUBO\n",
    "\n",
    "Constraints\n",
    "- total number of elements in subset should be (len(U))\n",
    "- each element only in one subset"
   ]
  },
  {
   "cell_type": "code",
   "execution_count": 92,
   "id": "703cf4e9-618a-4063-a6b6-7e08574bd476",
   "metadata": {
    "tags": []
   },
   "outputs": [
    {
     "name": "stdout",
     "output_type": "stream",
     "text": [
      "Time used for construction Q (s): 3.3\n",
      "Q dimensions: (433, 433)\n",
      "Max count: 1860\n"
     ]
    }
   ],
   "source": [
    "Q = np.zeros((len(V),len(V)))\n",
    "t1 = time.time()\n",
    "\n",
    "# Total elements constraint\n",
    "\n",
    "max_count = 0\n",
    "\n",
    "for i in range(len(V)):\n",
    "    Q[i][i] =- len(V[i])\n",
    "    max_count += len(V[i])\n",
    "\n",
    "# each element only in one subset\n",
    "\n",
    "for a in U:\n",
    "    for i in range(len(V)):\n",
    "        for j in range(i+1, len(V)):\n",
    "            if a in V[i] and a in V[j]:\n",
    "                Q[i][j] += len(V[i]) + len(V[j]) + 2\n",
    "t2 = time.time()\n",
    "print('Time used for construction Q (s): {:.1f}'.format((t2-t1)))\n",
    "print('Q dimensions:',Q.shape)\n",
    "print('Max count:',max_count)\n",
    "\n",
    "# LAST PENALTY -132 # PROBLEM THAT DO NOT CHOOSE LAST ONE\n",
    "\n",
    "#for y in range(Q.shape[0]):\n",
    "#    for x in range(Q.shape[1]):\n",
    "#        print('{:2d} '.format(int(Q[y][x])), end='')\n",
    "#    print('')"
   ]
  },
  {
   "cell_type": "markdown",
   "id": "52d05a4b-7709-4763-91d0-24e62a38642a",
   "metadata": {
    "tags": []
   },
   "source": [
    "## Creat BQM from QUBO"
   ]
  },
  {
   "cell_type": "code",
   "execution_count": 93,
   "id": "91271542-e116-47da-b4c0-53daabb66b17",
   "metadata": {
    "tags": []
   },
   "outputs": [],
   "source": [
    "bqm = dimod.BinaryQuadraticModel(Q, 'BINARY')"
   ]
  },
  {
   "cell_type": "markdown",
   "id": "7d1389fa-f070-4a39-899c-07a6cc304277",
   "metadata": {},
   "source": [
    "## Local heuristic classical solver\n",
    "\n",
    "Local deterministic solver can not be used because: \"Maximum allowed dimension exceeded\""
   ]
  },
  {
   "cell_type": "code",
   "execution_count": 94,
   "id": "25159720-c5f8-4cbf-a3ed-10f4d0554a78",
   "metadata": {
    "tags": []
   },
   "outputs": [
    {
     "name": "stdout",
     "output_type": "stream",
     "text": [
      "Time used by solver (s): 12.2\n",
      "Lowest energy reached: -192.0\n",
      "Lowest energy should be: -324\n"
     ]
    }
   ],
   "source": [
    "t1 = time.time()\n",
    "sampleset = SimulatedAnnealingSampler().sample(bqm, num_reads=1000)\n",
    "t2 = time.time()\n",
    "print('Time used by solver (s): {:.1f}'.format((t2-t1)))\n",
    "print('Lowest energy reached:',sampleset.first.energy)\n",
    "print('Lowest energy should be:',-size2*size2*4)   "
   ]
  },
  {
   "cell_type": "markdown",
   "id": "59e10887-354d-494b-a022-96e0607f6504",
   "metadata": {},
   "source": [
    "## Then analyse results..."
   ]
  },
  {
   "cell_type": "code",
   "execution_count": 86,
   "id": "898e971d-f3d7-4de8-b98c-d7ff29cc6656",
   "metadata": {
    "tags": []
   },
   "outputs": [],
   "source": [
    "sudoku_res = np.zeros((ssize*ssize,ssize*ssize))\n",
    "r = sampleset.first.sample\n",
    "for k,v in r.items():\n",
    "    if v==1 and k<len(cell_id):\n",
    "        y,x,n = cell_id[k]\n",
    "        sudoku_res[y][x] = n"
   ]
  },
  {
   "cell_type": "code",
   "execution_count": 87,
   "id": "9514d7ef-0933-4104-ab10-9d6f23634954",
   "metadata": {},
   "outputs": [
    {
     "name": "stdout",
     "output_type": "stream",
     "text": [
      "..9|..3|.1.\n",
      "..1|.27|.8.\n",
      "...|15.|963\n",
      "---+---+---\n",
      "5.8|..1|.49\n",
      "94.|..6|.3.\n",
      "...|..9|...\n",
      "---+---+---\n",
      "726|3.8|1.4\n",
      ".34|.6.|..2\n",
      "...|...|...\n"
     ]
    }
   ],
   "source": [
    "print_sudoku(sudoku[sind])"
   ]
  },
  {
   "cell_type": "code",
   "execution_count": 88,
   "id": "ca12d453-4733-4ffb-8e51-ca77c6d1fb0d",
   "metadata": {
    "tags": []
   },
   "outputs": [
    {
     "name": "stdout",
     "output_type": "stream",
     "text": [
      "21.|75.|6.8\n",
      "98.|2..|1.3\n",
      "453|..8|...\n",
      "---+---+---\n",
      ".4.|91.|5..\n",
      "..9|53.|4.7\n",
      "765|82.|319\n",
      "---+---+---\n",
      "...|.7.|.4.\n",
      "3..|4.9|75.\n",
      "574|681|932\n"
     ]
    }
   ],
   "source": [
    "print_sudoku(sudoku_res)"
   ]
  },
  {
   "cell_type": "code",
   "execution_count": 89,
   "id": "bb92a1c7-9873-40b3-a3ff-7ab94aff51cb",
   "metadata": {
    "tags": []
   },
   "outputs": [],
   "source": [
    "merge = sudoku_merge(sudoku[sind],sudoku_res)"
   ]
  },
  {
   "cell_type": "code",
   "execution_count": 90,
   "id": "d2005197-40fd-490a-90e8-9e07ac414ce2",
   "metadata": {
    "tags": []
   },
   "outputs": [
    {
     "name": "stdout",
     "output_type": "stream",
     "text": [
      "219|753|618\n",
      "981|227|183\n",
      "453|158|963\n",
      "---+---+---\n",
      "548|911|549\n",
      "949|536|437\n",
      "765|829|319\n",
      "---+---+---\n",
      "726|378|144\n",
      "334|469|752\n",
      "574|681|932\n"
     ]
    }
   ],
   "source": [
    "print_sudoku(merge)"
   ]
  },
  {
   "cell_type": "code",
   "execution_count": 76,
   "id": "f689970f-d6e9-4bd1-af77-bab70ddc29db",
   "metadata": {
    "tags": []
   },
   "outputs": [
    {
     "name": "stdout",
     "output_type": "stream",
     "text": [
      "Number of cells not filled: 0\n"
     ]
    }
   ],
   "source": [
    "count=0;\n",
    "for y in range(size2):\n",
    "    for x in range(size2):\n",
    "        if merge[y][x]==0:\n",
    "            count += 1\n",
    "print('Number of cells not filled:', count)"
   ]
  },
  {
   "cell_type": "markdown",
   "id": "cd1b6d4d-bfce-4fcf-99b8-8fb8fa611937",
   "metadata": {},
   "source": [
    "### Some results\n",
    "\n",
    "With 9x9\n",
    "- sudoku 0, num_reads=1.000: 11 seconds, energy -168, not filled 6 (wrong answers)\n",
    "- sudoku 0, num_reads=10.000: 109 seconds, energy -172, not filled 5 (wrong answers)\n",
    "\n",
    "With 4x4\n",
    "- sudoku 0, num_reads=1.000: 1 seconds, energy -64, not filled 0"
   ]
  },
  {
   "cell_type": "markdown",
   "id": "b84fc9dc-40a4-421a-b35b-790375b49511",
   "metadata": {
    "tags": []
   },
   "source": [
    "# Quantum solver"
   ]
  },
  {
   "cell_type": "code",
   "execution_count": 14,
   "id": "4384c022-d0df-49bc-89ad-d56eaa90687f",
   "metadata": {
    "tags": []
   },
   "outputs": [
    {
     "name": "stdout",
     "output_type": "stream",
     "text": [
      "Chip: Advantage_system4.1\n",
      "Qubits: 5760\n"
     ]
    }
   ],
   "source": [
    "machine = DWaveSampler(solver={'chip_id': 'Advantage_system4.1'})\n",
    "print('Chip:', machine.properties['chip_id'])\n",
    "print('Qubits:', machine.properties['num_qubits'])"
   ]
  },
  {
   "cell_type": "code",
   "execution_count": 15,
   "id": "c3874824-75ac-4c42-9d41-e52a7c2efb55",
   "metadata": {
    "tags": []
   },
   "outputs": [],
   "source": [
    "sampleset2 = EmbeddingComposite(machine).sample(bqm, num_reads=1000)"
   ]
  },
  {
   "cell_type": "code",
   "execution_count": 16,
   "id": "29551f9c-4170-4a3f-96f1-3683ed0feda8",
   "metadata": {
    "tags": []
   },
   "outputs": [
    {
     "name": "stdout",
     "output_type": "stream",
     "text": [
      "Lowest energy reached: -56.0\n",
      "Occurences at that level: 1\n",
      "QPU time used (ms): 190.2\n",
      "Physical qubits used: 147\n"
     ]
    }
   ],
   "source": [
    "qtime = sampleset2.info['timing']['qpu_access_time'] / 1000\n",
    "qubits = sum(len(x) for x in sampleset2.info['embedding_context']['embedding'].values())\n",
    "print('Lowest energy reached:',sampleset.first.energy)\n",
    "print('Occurences at that level:',sampleset.first.num_occurrences)\n",
    "print('QPU time used (ms): {:.1f}'.format(qtime))\n",
    "print('Physical qubits used: {}'.format(qubits))"
   ]
  },
  {
   "cell_type": "code",
   "execution_count": 17,
   "id": "4d815a9e-056b-4d93-968f-99759d21d1ba",
   "metadata": {
    "tags": []
   },
   "outputs": [],
   "source": [
    "sudoku_res = np.zeros((ssize*ssize,ssize*ssize))\n",
    "r = sampleset2.first.sample\n",
    "for k,v in r.items():\n",
    "    if v==1 and k<len(cell_id):\n",
    "        y,x,n = cell_id[k]\n",
    "        sudoku_res[y][x] = n"
   ]
  },
  {
   "cell_type": "code",
   "execution_count": 18,
   "id": "91d1e5d7-3c4d-42de-b9d4-ae8921f1a0e1",
   "metadata": {
    "tags": []
   },
   "outputs": [
    {
     "name": "stdout",
     "output_type": "stream",
     "text": [
      "..|.3\n",
      ".4|..\n",
      "--+--\n",
      "..|32\n",
      "..|..\n"
     ]
    }
   ],
   "source": [
    "print_sudoku(sudoku[sind])"
   ]
  },
  {
   "cell_type": "code",
   "execution_count": 19,
   "id": "9211ad5b-1956-41b9-bc23-1c99640ec1b0",
   "metadata": {
    "tags": []
   },
   "outputs": [
    {
     "name": "stdout",
     "output_type": "stream",
     "text": [
      "21|..\n",
      "..|1.\n",
      "--+--\n",
      "1.|..\n",
      "32|41\n"
     ]
    }
   ],
   "source": [
    "print_sudoku(sudoku_res)"
   ]
  },
  {
   "cell_type": "code",
   "execution_count": 20,
   "id": "1f2a362f-fcb8-42cb-a05c-2b8e08b653df",
   "metadata": {
    "tags": []
   },
   "outputs": [],
   "source": [
    "merge = sudoku_merge(sudoku[sind],sudoku_res)"
   ]
  },
  {
   "cell_type": "code",
   "execution_count": 21,
   "id": "f28f776d-ff21-48ff-a031-11732964dcce",
   "metadata": {
    "tags": []
   },
   "outputs": [
    {
     "name": "stdout",
     "output_type": "stream",
     "text": [
      "21|.3\n",
      ".4|1.\n",
      "--+--\n",
      "1.|32\n",
      "32|41\n"
     ]
    }
   ],
   "source": [
    "print_sudoku(merge)"
   ]
  },
  {
   "cell_type": "code",
   "execution_count": 22,
   "id": "3abd7cc7-7a43-43ec-80db-bf21ab4bc258",
   "metadata": {
    "tags": []
   },
   "outputs": [
    {
     "name": "stdout",
     "output_type": "stream",
     "text": [
      "Number of cells not filled: 4\n"
     ]
    }
   ],
   "source": [
    "count=0;\n",
    "for y in range(size2):\n",
    "    for x in range(size2):\n",
    "        if merge[y][x]==0:\n",
    "            count += 1\n",
    "print('Number of cells not filled:', count)"
   ]
  },
  {
   "cell_type": "code",
   "execution_count": 23,
   "id": "32c82cef-b16f-4677-9c33-8bfd347dacbd",
   "metadata": {
    "tags": []
   },
   "outputs": [
    {
     "data": {
      "text/html": [
       "<iframe src=http://127.0.0.1:18000/?problemId=b397bd53-3d9e-4b17-8a9e-df5d833349f3 width=\"100%\" height=640></iframe>"
      ],
      "text/plain": [
       "Serving Inspector on http://127.0.0.1:18000/?problemId=b397bd53-3d9e-4b17-8a9e-df5d833349f3"
      ]
     },
     "metadata": {},
     "output_type": "display_data"
    },
    {
     "data": {
      "text/plain": [
       "'http://127.0.0.1:18000/?problemId=b397bd53-3d9e-4b17-8a9e-df5d833349f3'"
      ]
     },
     "execution_count": 23,
     "metadata": {},
     "output_type": "execute_result"
    }
   ],
   "source": [
    "dwave.inspector.show(sampleset2)"
   ]
  },
  {
   "cell_type": "code",
   "execution_count": null,
   "id": "0d4071bb-b6f0-4ca9-b3d4-8dca1f471747",
   "metadata": {},
   "outputs": [],
   "source": []
  }
 ],
 "metadata": {
  "kernelspec": {
   "display_name": "Python 3 (ipykernel)",
   "language": "python",
   "name": "python3"
  },
  "language_info": {
   "codemirror_mode": {
    "name": "ipython",
    "version": 3
   },
   "file_extension": ".py",
   "mimetype": "text/x-python",
   "name": "python",
   "nbconvert_exporter": "python",
   "pygments_lexer": "ipython3",
   "version": "3.8.18"
  }
 },
 "nbformat": 4,
 "nbformat_minor": 5
}
