{
 "cells": [
  {
   "cell_type": "markdown",
   "id": "cae06f6e-39f7-4ce6-b2ef-54bdd0975a99",
   "metadata": {},
   "source": [
    "# Solving Sudoku with exact cover\n",
    "\n",
    "Sudoku solved by exact cover -algorithm implemented by QUBO in quantum annealer.\n",
    "\n",
    "Sudoku can be converted to exact cover problem by following procedure:\n",
    "\n",
    "- Elements of set $U$ in exact cover problem represent here sudoku rule restricition. For example: cell $(y,x)$ of the sudoku is filled, block $y/3,x/3$ has number $n$ somewhere in block, row $y$ has number $n$, and column $x$ has number $n$. So there are altogether $4*9*9=324$ elements in $U$.\n",
    "- Every subset $V_i \\in V$ is an option to fill a cell in sudoku: A number $n$ is placed to a cell $(y,x)$. All these subsets have four elements: cell $(y,x)$ is filled, block $y/3,x/3$ has number $n$, row $y$ has number $n$, and column $x$ has number $n$.\n",
    "- To reduce the needed qubits some “evidently impossible” choices of $n$ to cell $(y,x)$ are not included in subsets $V$. For example number $n$ is already in that row.\n",
    "\n",
    "After this problem is solved by the exact cover algorithm with set $V$."
   ]
  },
  {
   "cell_type": "code",
   "execution_count": 3,
   "id": "61255bff-43e9-473c-adbb-49d3d7d15c81",
   "metadata": {
    "tags": []
   },
   "outputs": [],
   "source": [
    "import numpy as np\n",
    "import time\n",
    "import dimod\n",
    "from dwave.system import DWaveSampler, EmbeddingComposite, LeapHybridSampler\n",
    "from dwave.samplers import SimulatedAnnealingSampler\n",
    "import dwave.inspector\n",
    "from minorminer.busclique import find_clique_embedding"
   ]
  },
  {
   "cell_type": "markdown",
   "id": "40c1cdfb-29b7-479b-b13d-6e214a7f2360",
   "metadata": {},
   "source": [
    "## Some helper functions"
   ]
  },
  {
   "cell_type": "code",
   "execution_count": 59,
   "id": "185674d4-8045-47cb-8e5c-bf74811ed8ef",
   "metadata": {
    "tags": []
   },
   "outputs": [],
   "source": [
    "stoi = {'.':0, '1':1, '2':2, '3':3, '4':4, '5':5, '6':6, '7':7, '8':8, '9':9, 'A':10, 'B':11, 'C':12, 'D':13, 'E':14, 'F':15, 'G':16} \n",
    "itos = {0:'.', 1:'1', 2:'2', 3:'3', 4:'4', 5:'5', 6:'6', 7:'7', 8:'8', 9:'9', 10:'A', 11:'B', 12:'C', 13:'D', 14:'E', 15:'F', 16:'G'} \n",
    "\n",
    "def count_zeros(sudoku):\n",
    "    count=0;\n",
    "    for y in range(size2):\n",
    "        for x in range(size2):\n",
    "            if sudoku[y][x]==0:\n",
    "                count += 1\n",
    "    return count\n",
    "\n",
    "def print_sudoku(sudoku):\n",
    "    for y in range(size2):\n",
    "        if y!=0 and y%ssize==0:\n",
    "            if ssize==4: print('----+----+----+----')      \n",
    "            if ssize==3: print('---+---+---')      \n",
    "            if ssize==2: print('--+--')      \n",
    "        for x in range(size2):\n",
    "            if x!=0 and x%ssize==0:\n",
    "                print('|',end='')\n",
    "            print(itos[sudoku[y][x]], end='')\n",
    "        print('')\n",
    "        \n",
    "def merge_sudoku(sudoku1, sudoku2):\n",
    "    sudoku_res = np.zeros((ssize*ssize,ssize*ssize))\n",
    "    for y in range(size2):\n",
    "        for x in range(size2):\n",
    "            if sudoku1[y][x]==0:\n",
    "                sudoku_res[y][x] = sudoku2[y][x]\n",
    "            else:\n",
    "                sudoku_res[y][x] = sudoku1[y][x]\n",
    "                if sudoku2[y][x]>0:\n",
    "                    print('! Sudokus have overlapping cell: {},{}'.format(y+1,x+1))\n",
    "    return sudoku_res\n",
    "\n",
    "def check_sudoku(sudoku):\n",
    "    f = 0\n",
    "    for i in range(size2):\n",
    "        g = []\n",
    "        for j in range(size2):\n",
    "            g.append(sudoku[i][j])\n",
    "        for n in range(1,size2+1):\n",
    "            if not n in g:\n",
    "                print('Number {} missing in row {}.'.format(itos[n],i+1))\n",
    "                f += 1\n",
    "    for i in range(size2):\n",
    "        g = []\n",
    "        for j in range(size2):\n",
    "            g.append(sudoku[j][i])\n",
    "        for n in range(1,size2+1):\n",
    "            if not n in g:\n",
    "                print('Number {} missing in column {}.'.format(itos[n],i+1))\n",
    "                f += 1\n",
    "    for i1 in range(ssize):\n",
    "        for i2 in range(ssize):\n",
    "            g = []\n",
    "            for j1 in range(ssize):\n",
    "                for j2 in range(ssize):\n",
    "                    g.append(sudoku[i1*ssize+j1][i2*ssize+j2])\n",
    "            for n in range(1,size2+1):\n",
    "                if not n in g:\n",
    "                    print('Number {} missing in block {},{}.'.format(itos[n],i1+1,i2+1))\n",
    "                    f += 1\n",
    "    if f==0:\n",
    "         print('sudoku OK')\n",
    "    else:\n",
    "        print('number of problems:',f)\n",
    "\n",
    "def check_sudoku_rules(sudoku):\n",
    "    ga = 0;\n",
    "    for n in range(1, size2+1):\n",
    "        for i in range(size2):\n",
    "            g = 0\n",
    "            for j in range(size2):\n",
    "                if sudoku[i][j]==n:\n",
    "                    g += 1\n",
    "            if g>1:\n",
    "                print('Number {} more then once in row {}.'.format(itos[n],i+1))\n",
    "                ga += 1\n",
    "        for i in range(size2):\n",
    "            g = 0\n",
    "            for j in range(size2):\n",
    "                if sudoku[j][i]==n:\n",
    "                    g += 1\n",
    "            if g>1:\n",
    "                print('Number {} more then once in column {}.'.format(itos[n],i+1))\n",
    "                ga += 1\n",
    "        for i1 in range(ssize):\n",
    "            for i2 in range(ssize):\n",
    "                g = 0\n",
    "                for j1 in range(ssize):\n",
    "                    for j2 in range(ssize):\n",
    "                        if sudoku[i1*ssize+j1][i2*ssize+j2]==n:\n",
    "                            g += 1\n",
    "                if g>1:\n",
    "                    print('Number {} more than once in block {},{}.'.format(itos[n],i1+1,i2+1))\n",
    "                    ga += 1\n",
    "    if ga==0:\n",
    "         print('Rules obeyed.')\n",
    "    else:\n",
    "        print('number of problems:',ga)"
   ]
  },
  {
   "cell_type": "markdown",
   "id": "a7908a29-208c-4aaa-98b2-fb95244dae74",
   "metadata": {},
   "source": [
    "## Load sudoku\n",
    "\n",
    "sudoku file structure: first line is number of sudokus. First line of every sudoku is the size of sudoku.\n",
    "\n",
    "3_level_48.ss: These should be rather easy sudokus, 48 cells not filled."
   ]
  },
  {
   "cell_type": "code",
   "execution_count": 62,
   "id": "4694ad7c-2191-467e-bbaf-1c8b3922c3fd",
   "metadata": {
    "tags": []
   },
   "outputs": [],
   "source": [
    "#file = '3_level_48.ss'\n",
    "#file = '2_level_varia.ss'\n",
    "#file = '3_worldsHardest_60.ss'\n",
    "file = '4_level_163.ss'\n",
    "f = open('testdata/'+file,'r')\n",
    "\n",
    "scount = int(f.readline())\n",
    "ssize = int(f.readline())\n",
    "\n",
    "sudoku=np.zeros((scount,ssize*ssize,ssize*ssize))\n",
    "\n",
    "for i in range(scount):\n",
    "    for j in range(ssize):        \n",
    "        for k in range(ssize):\n",
    "            line = f.readline()\n",
    "            for l in range(ssize*ssize):\n",
    "                c = line[l+int(l/ssize)]\n",
    "                sudoku[i][j*ssize+k][l] = stoi[c]\n",
    "        line = f.readline()"
   ]
  },
  {
   "cell_type": "markdown",
   "id": "d9eb7a92-c84d-46bf-8157-9399c1dc27f3",
   "metadata": {},
   "source": [
    "## Create set and subset from sudoku\n",
    "\n",
    "Sudoku can be converted to exact cover problem:\n",
    "- set elements are all option in all cells. So in empty sudoku there is 9x9x9 elements. To get little bit better efficiency, here only empy cells are counted in.\n",
    "- subset block: 1) every cell can have only one number, 2) every 3x3 block can have only one number each, 3) every row can have only one number each, 4) every column can have only one number each\n",
    "\n",
    "Every four subset block has 81 subsets like this: 1) there is 81 cells in sudoku, 2) sudoku has 9 blocks, for wich one subset for each number, 3) 9 rows, for wich one subset for each number, 4) 9 columns, for wich one subset for each number.\n",
    "\n",
    "Some preprocessing is made, known numbers are one large subset."
   ]
  },
  {
   "cell_type": "code",
   "execution_count": 63,
   "id": "4e16d77c-b8f0-445f-83dc-5d0a9e81d5d9",
   "metadata": {
    "tags": []
   },
   "outputs": [
    {
     "name": "stdout",
     "output_type": "stream",
     "text": [
      "Time used for constructing Q (ms): 17.0\n",
      "Number of blanks: 163\n",
      "Number of elements: 1024\n",
      "Number of subsets: 854\n",
      "Number of subsets if no zipping: 4096\n"
     ]
    }
   ],
   "source": [
    "sind = 0             # which sudoku from the list\n",
    "size2 = ssize*ssize\n",
    "\n",
    "U = [i for i in range(size2*size2*4)]  # 4 blocks of subsets\n",
    "V = []                                  # Set element names are row*81 + col*9 + \"1-9\"\n",
    "cell_id = []\n",
    "\n",
    "t1 = time.time()\n",
    "\n",
    "# “evidently impossible” choices\n",
    "c = []\n",
    "for y in range(size2):\n",
    "    for x in range(size2):\n",
    "        if sudoku[sind][y][x]!=0:\n",
    "            n = sudoku[sind][y][x]-1\n",
    "            c.append(int(y*size2+x))\n",
    "            c.append(int(size2*size2 + int(y/ssize)*size2*ssize + int(x/ssize)*size2 + n))\n",
    "            c.append(int(2*size2*size2 + y*size2 + n))\n",
    "            c.append(int(3*size2*size2 + x*size2 + n))\n",
    "c.sort()\n",
    "            \n",
    "y=0\n",
    "x=0\n",
    "while y<size2:\n",
    "    if sudoku[sind][y][x]==0:\n",
    "        for j in range(size2):\n",
    "            # cell, block, row, column, restriction\n",
    "            bl = size2*size2 + int(y/ssize)*size2*ssize + int(x/ssize)*size2 + j\n",
    "            row = 2*size2*size2 + y*size2 + j\n",
    "            col = 3*size2*size2 + x*size2 + j\n",
    "            if not (bl in c or row in c or col in c):\n",
    "                V.append([y*size2+x, bl, row, col])\n",
    "                cell_id.append((y,x,j+1))\n",
    "    x += 1\n",
    "    if x==size2:\n",
    "        x = 0\n",
    "        y += 1\n",
    "\n",
    "z = count_zeros(sudoku[sind])\n",
    "t2 = time.time()\n",
    "print('Time used for constructing Q (ms): {:.1f}'.format((t2-t1)*1000))\n",
    "print('Number of blanks:',z)            \n",
    "print('Number of elements:',len(U))\n",
    "print('Number of subsets:',len(V))\n",
    "print('Number of subsets if no zipping:',size2*size2*size2)"
   ]
  },
  {
   "cell_type": "markdown",
   "id": "2e5eb725-c6f9-420b-b0d4-deb3be0ae535",
   "metadata": {},
   "source": [
    "## Create QUBO\n",
    "\n",
    "Constraints\n",
    "- total number of elements in subset should be $|U|$\n",
    "- each element only in one subset"
   ]
  },
  {
   "cell_type": "code",
   "execution_count": 64,
   "id": "703cf4e9-618a-4063-a6b6-7e08574bd476",
   "metadata": {
    "tags": []
   },
   "outputs": [
    {
     "name": "stdout",
     "output_type": "stream",
     "text": [
      "Time used for constructing QUBO (ms): 41796.6\n"
     ]
    }
   ],
   "source": [
    "Q = np.zeros((len(V),len(V)))\n",
    "t1 = time.time()\n",
    "\n",
    "# Total elements constraint\n",
    "for i in range(len(V)):\n",
    "    Q[i][i] = -1\n",
    "\n",
    "# each element only in one subset\n",
    "for a in U:\n",
    "    for i in range(len(V)):\n",
    "        for j in range(i+1, len(V)):\n",
    "            if a in V[i] and a in V[j]:\n",
    "                Q[i][j] = 3\n",
    "                \n",
    "t2 = time.time()\n",
    "print('Time used for constructing QUBO (ms): {:.1f}'.format((t2-t1)*1000))"
   ]
  },
  {
   "cell_type": "markdown",
   "id": "52d05a4b-7709-4763-91d0-24e62a38642a",
   "metadata": {
    "tags": []
   },
   "source": [
    "## Creat BQM from QUBO"
   ]
  },
  {
   "cell_type": "code",
   "execution_count": 65,
   "id": "91271542-e116-47da-b4c0-53daabb66b17",
   "metadata": {
    "tags": []
   },
   "outputs": [
    {
     "name": "stdout",
     "output_type": "stream",
     "text": [
      "Number of logical qubits needed: 854\n",
      "Number of logical couplers needed: 7466\n"
     ]
    }
   ],
   "source": [
    "bqm = dimod.BinaryQuadraticModel(Q, 'BINARY')\n",
    "print('Number of logical qubits needed:',Q.shape[0])\n",
    "print('Number of logical couplers needed:', len(bqm.quadratic))"
   ]
  },
  {
   "cell_type": "markdown",
   "id": "7d1389fa-f070-4a39-899c-07a6cc304277",
   "metadata": {},
   "source": [
    "## Local heuristic classical solver\n",
    "\n",
    "Local deterministic solver can not be used because: \"Maximum allowed dimension exceeded\""
   ]
  },
  {
   "cell_type": "code",
   "execution_count": 66,
   "id": "25159720-c5f8-4cbf-a3ed-10f4d0554a78",
   "metadata": {
    "tags": []
   },
   "outputs": [
    {
     "name": "stdout",
     "output_type": "stream",
     "text": [
      "Time used by solver (ms): 1828.3\n",
      "Lowest energy reached: -153\n",
      "Lowest energy should be: -163\n",
      "Lowest energy occurences: 0 %\n"
     ]
    }
   ],
   "source": [
    "num_reads = 1000\n",
    "t1 = time.time()\n",
    "sampleset = SimulatedAnnealingSampler().sample(bqm, num_reads=num_reads).aggregate()\n",
    "t2 = time.time()\n",
    "print('Time used by solver (ms): {:.1f}'.format((t2-t1)*100))\n",
    "print('Lowest energy reached:',int(sampleset.first.energy))\n",
    "print('Lowest energy should be:',-count_zeros(sudoku[sind]))   \n",
    "print('Lowest energy occurences: {} %'.format(int(sampleset.first.num_occurrences/num_reads*100)))"
   ]
  },
  {
   "cell_type": "markdown",
   "id": "59e10887-354d-494b-a022-96e0607f6504",
   "metadata": {},
   "source": [
    "### Results"
   ]
  },
  {
   "cell_type": "code",
   "execution_count": 67,
   "id": "898e971d-f3d7-4de8-b98c-d7ff29cc6656",
   "metadata": {
    "tags": []
   },
   "outputs": [],
   "source": [
    "sudoku_res = np.zeros((ssize*ssize,ssize*ssize))\n",
    "r = sampleset.first.sample\n",
    "for k,v in r.items():\n",
    "    if v==1 and k<len(cell_id):\n",
    "        y,x,n = cell_id[k]\n",
    "        sudoku_res[y][x] = n"
   ]
  },
  {
   "cell_type": "code",
   "execution_count": 68,
   "id": "9514d7ef-0933-4104-ab10-9d6f23634954",
   "metadata": {},
   "outputs": [
    {
     "name": "stdout",
     "output_type": "stream",
     "text": [
      "9..1|4..7|...B|.G2.\n",
      "...D|9C2.|4.E.|A.58\n",
      "6..5|.E..|..92|...7\n",
      "G..B|..6.|.A..|..3D\n",
      "----+----+----+----\n",
      "....|F3.G|8..6|7.C.\n",
      "..7C|...E|AF4.|....\n",
      ".2AG|....|.C.1|.6E.\n",
      "....|B...|...E|....\n",
      "----+----+----+----\n",
      "....|.A.9|.1.4|....\n",
      "..B.|8...|D.3.|F.GA\n",
      "..F.|6..5|..7.|.1..\n",
      "....|.2.F|..58|C4..\n",
      "----+----+----+----\n",
      "F6..|..B.|..C7|G...\n",
      "B.1.|..4C|.E.5|9D.6\n",
      "..59|.7..|....|....\n",
      ".E.4|....|....|.7..\n"
     ]
    }
   ],
   "source": [
    "print_sudoku(sudoku[sind])"
   ]
  },
  {
   "cell_type": "code",
   "execution_count": 69,
   "id": "ca12d453-4733-4ffb-8e51-ca77c6d1fb0d",
   "metadata": {
    "tags": []
   },
   "outputs": [
    {
     "name": "stdout",
     "output_type": "stream",
     "text": [
      ".AE.|.DF.|538.|6..C\n",
      "73..|...B|.6.G|.F..\n",
      ".48.|A.G3|FD..|1B..\n",
      ".F2.|5..8|7.1C|4E..\n",
      "----+----+----+----\n",
      "DB4E|..A.|.52.|.9.1\n",
      "58..|D61.|...3|.2BG\n",
      "3...|7854|9.B.|D..F\n",
      "1.6F|.9C2|G7D.|8345\n",
      "----+----+----+----\n",
      "85G7|C.E.|6.F.|2.DB\n",
      "EC.6|.471|.2.9|.5..\n",
      "49.2|.BD.|CG.A|E.83\n",
      "A1D3|G...|EB..|..69\n",
      "----+----+----+----\n",
      "..3A|15.D|24..|.8.E\n",
      ".7.8|2G..|3.A.|..F.\n",
      "2D..|E..A|B86F|3C14\n",
      "C...|3F86|19GD|B.A2\n"
     ]
    }
   ],
   "source": [
    "print_sudoku(sudoku_res)"
   ]
  },
  {
   "cell_type": "code",
   "execution_count": 70,
   "id": "d2005197-40fd-490a-90e8-9e07ac414ce2",
   "metadata": {
    "tags": []
   },
   "outputs": [
    {
     "name": "stdout",
     "output_type": "stream",
     "text": [
      "9AE1|4DF7|538B|6G2C\n",
      "73.D|9C2B|46EG|AF58\n",
      "6485|AEG3|FD92|1B.7\n",
      "GF2B|5.68|7A1C|4E3D\n",
      "----+----+----+----\n",
      "DB4E|F3AG|8526|79C1\n",
      "587C|D61E|AF43|.2BG\n",
      "32AG|7854|9CB1|D6EF\n",
      "1.6F|B9C2|G7DE|8345\n",
      "----+----+----+----\n",
      "85G7|CAE9|61F4|2.DB\n",
      "ECB6|8471|D239|F5GA\n",
      "49F2|6BD5|CG7A|E183\n",
      "A1D3|G2.F|EB58|C469\n",
      "----+----+----+----\n",
      "F63A|15BD|24C7|G8.E\n",
      "B718|2G4C|3EA5|9DF6\n",
      "2D59|E7.A|B86F|3C14\n",
      "CE.4|3F86|19GD|B7A2\n"
     ]
    }
   ],
   "source": [
    "merge = merge_sudoku(sudoku[sind],sudoku_res)\n",
    "print_sudoku(merge)"
   ]
  },
  {
   "cell_type": "code",
   "execution_count": 71,
   "id": "f689970f-d6e9-4bd1-af77-bab70ddc29db",
   "metadata": {
    "tags": []
   },
   "outputs": [
    {
     "name": "stdout",
     "output_type": "stream",
     "text": [
      "Number 1 missing in row 2.\n",
      "Number C missing in row 3.\n",
      "Number 9 missing in row 4.\n",
      "Number 9 missing in row 6.\n",
      "Number A missing in row 8.\n",
      "Number 3 missing in row 9.\n",
      "Number 7 missing in row 12.\n",
      "Number 9 missing in row 13.\n",
      "Number G missing in row 15.\n",
      "Number 5 missing in row 16.\n",
      "Number G missing in column 2.\n",
      "Number 9 missing in column 3.\n",
      "Number C missing in column 3.\n",
      "Number 1 missing in column 6.\n",
      "Number 3 missing in column 7.\n",
      "Number 9 missing in column 7.\n",
      "Number 5 missing in column 13.\n",
      "Number A missing in column 14.\n",
      "Number 7 missing in column 15.\n",
      "Number 9 missing in column 15.\n",
      "Number C missing in block 1,1.\n",
      "Number 1 missing in block 1,2.\n",
      "Number 9 missing in block 1,4.\n",
      "Number 9 missing in block 2,1.\n",
      "Number A missing in block 2,4.\n",
      "Number 3 missing in block 3,2.\n",
      "Number 7 missing in block 3,4.\n",
      "Number G missing in block 4,1.\n",
      "Number 9 missing in block 4,2.\n",
      "Number 5 missing in block 4,4.\n",
      "number of problems: 30\n"
     ]
    }
   ],
   "source": [
    "check_sudoku(merge)"
   ]
  },
  {
   "cell_type": "code",
   "execution_count": 72,
   "id": "71bb0b9b-d6b6-498b-869b-2edf32694c1e",
   "metadata": {
    "tags": []
   },
   "outputs": [
    {
     "name": "stdout",
     "output_type": "stream",
     "text": [
      "Rules obeyed.\n"
     ]
    }
   ],
   "source": [
    "check_sudoku_rules(merge)"
   ]
  },
  {
   "cell_type": "markdown",
   "id": "b84fc9dc-40a4-421a-b35b-790375b49511",
   "metadata": {
    "tags": []
   },
   "source": [
    "# Quantum solver"
   ]
  },
  {
   "cell_type": "code",
   "execution_count": 48,
   "id": "4384c022-d0df-49bc-89ad-d56eaa90687f",
   "metadata": {
    "tags": []
   },
   "outputs": [
    {
     "name": "stdout",
     "output_type": "stream",
     "text": [
      "Chip: Advantage_system4.1\n",
      "Qubits: 5760\n"
     ]
    }
   ],
   "source": [
    "machine = DWaveSampler(solver={'chip_id': 'Advantage_system4.1'})\n",
    "print('Chip:', machine.properties['chip_id'])\n",
    "print('Qubits:', machine.properties['num_qubits'])"
   ]
  },
  {
   "cell_type": "code",
   "execution_count": 78,
   "id": "23986121-9bc3-4c10-b851-412cd4b4964b",
   "metadata": {
    "tags": []
   },
   "outputs": [
    {
     "name": "stdout",
     "output_type": "stream",
     "text": [
      "Estimate actual qubits needed: 1952\n",
      "Estimate QPU time needed (ms) : 1313\n"
     ]
    }
   ],
   "source": [
    "num_reads = 1000\n",
    "\n",
    "embedding = find_clique_embedding(bqm.variables, machine.to_networkx_graph())  \n",
    "num_qubits_needed = sum(len(chain) for chain in embedding.values())\n",
    "print('Estimate actual qubits needed:',num_qubits_needed)\n",
    "\n",
    "anneal_schedule = [[0.0, 0.0], [40.0, 0.4], [1040.0, 0.4], [1042, 1.0]]\n",
    "estimated_runtime = machine.solver.estimate_qpu_access_time(num_qubits_needed, num_reads=num_reads, anneal_schedule=anneal_schedule)    \n",
    "print(\"Estimate QPU time needed (ms) : {:.0f}\".format(estimated_runtime/1000, machine.solver.name)) "
   ]
  },
  {
   "cell_type": "code",
   "execution_count": 50,
   "id": "c3874824-75ac-4c42-9d41-e52a7c2efb55",
   "metadata": {
    "tags": []
   },
   "outputs": [],
   "source": [
    "sampleset2 = EmbeddingComposite(machine).sample(bqm, num_reads=num_reads)"
   ]
  },
  {
   "cell_type": "code",
   "execution_count": 77,
   "id": "29551f9c-4170-4a3f-96f1-3683ed0feda8",
   "metadata": {
    "tags": []
   },
   "outputs": [
    {
     "name": "stdout",
     "output_type": "stream",
     "text": [
      "Lowest energy should be: -48\n",
      "Lowest energy reached: -37\n",
      "Lowest energy occurences: 0.1 %\n",
      "QPU time used (ms): 160.7\n",
      "Physical qubits used: 595\n"
     ]
    }
   ],
   "source": [
    "qtime = sampleset2.info['timing']['qpu_access_time'] / 1000\n",
    "qubits = sum(len(x) for x in sampleset2.info['embedding_context']['embedding'].values())\n",
    "print('Lowest energy should be:',-count_zeros(sudoku[sind]))  \n",
    "print('Lowest energy reached:',int(sampleset2.first.energy))\n",
    "print('Lowest energy occurences: {:.1f} %'.format(sampleset2.first.num_occurrences/num_reads*100))\n",
    "print('QPU time used (ms): {:.1f}'.format(qtime))\n",
    "print('Physical qubits used: {}'.format(qubits))"
   ]
  },
  {
   "cell_type": "markdown",
   "id": "b84d16f0-52c0-4e26-b499-bfcb1c174ae0",
   "metadata": {},
   "source": [
    "### Results"
   ]
  },
  {
   "cell_type": "code",
   "execution_count": 52,
   "id": "4d815a9e-056b-4d93-968f-99759d21d1ba",
   "metadata": {
    "tags": []
   },
   "outputs": [],
   "source": [
    "sudoku_res2 = np.zeros((ssize*ssize,ssize*ssize))\n",
    "r = sampleset2.first.sample\n",
    "for k,v in r.items():\n",
    "    if v==1 and k<len(cell_id):\n",
    "        y,x,n = cell_id[k]\n",
    "        sudoku_res2[y][x] = n"
   ]
  },
  {
   "cell_type": "code",
   "execution_count": 53,
   "id": "91d1e5d7-3c4d-42de-b9d4-ae8921f1a0e1",
   "metadata": {
    "tags": []
   },
   "outputs": [
    {
     "name": "stdout",
     "output_type": "stream",
     "text": [
      "..9|..3|.1.\n",
      "..1|.27|.8.\n",
      "...|15.|963\n",
      "---+---+---\n",
      "5.8|..1|.49\n",
      "94.|..6|.3.\n",
      "...|..9|...\n",
      "---+---+---\n",
      "726|3.8|1.4\n",
      ".34|.6.|..2\n",
      "...|...|...\n"
     ]
    }
   ],
   "source": [
    "print_sudoku(sudoku[sind])"
   ]
  },
  {
   "cell_type": "code",
   "execution_count": 54,
   "id": "9211ad5b-1956-41b9-bc23-1c99640ec1b0",
   "metadata": {
    "tags": []
   },
   "outputs": [
    {
     "name": "stdout",
     "output_type": "stream",
     "text": [
      "4..|68.|5..\n",
      "65.|9..|4..\n",
      "287|..4|...\n",
      "---+---+---\n",
      ".6.|.7.|2..\n",
      "...|2..|..1\n",
      "312|84.|6.7\n",
      "---+---+---\n",
      "...|.9.|.5.\n",
      "1..|7.5|.9.\n",
      "895|412|376\n"
     ]
    }
   ],
   "source": [
    "print_sudoku(sudoku_res2)"
   ]
  },
  {
   "cell_type": "code",
   "execution_count": 56,
   "id": "f28f776d-ff21-48ff-a031-11732964dcce",
   "metadata": {
    "tags": []
   },
   "outputs": [
    {
     "name": "stdout",
     "output_type": "stream",
     "text": [
      "4.9|683|51.\n",
      "651|927|48.\n",
      "287|154|963\n",
      "---+---+---\n",
      "568|.71|249\n",
      "94.|2.6|.31\n",
      "312|849|6.7\n",
      "---+---+---\n",
      "726|398|154\n",
      "134|765|.92\n",
      "895|412|376\n"
     ]
    }
   ],
   "source": [
    "merge2 = merge_sudoku(sudoku[sind],sudoku_res2)\n",
    "print_sudoku(merge2)"
   ]
  },
  {
   "cell_type": "code",
   "execution_count": 57,
   "id": "3abd7cc7-7a43-43ec-80db-bf21ab4bc258",
   "metadata": {
    "tags": []
   },
   "outputs": [
    {
     "name": "stdout",
     "output_type": "stream",
     "text": [
      "Rules obeyed.\n"
     ]
    }
   ],
   "source": [
    "check_sudoku_rules(merge2)"
   ]
  },
  {
   "cell_type": "code",
   "execution_count": 66,
   "id": "79a47b64-b991-4d78-bf3a-5c1abd79a06b",
   "metadata": {
    "tags": []
   },
   "outputs": [
    {
     "name": "stdout",
     "output_type": "stream",
     "text": [
      "Cells missing: 9\n"
     ]
    }
   ],
   "source": [
    "print('Cells missing:',count_zeros(merge2))"
   ]
  },
  {
   "cell_type": "code",
   "execution_count": 68,
   "id": "32c82cef-b16f-4677-9c33-8bfd347dacbd",
   "metadata": {
    "tags": []
   },
   "outputs": [
    {
     "data": {
      "text/html": [
       "<iframe src=http://127.0.0.1:18001/?problemId=0ad0f018-5571-4898-b95c-8ac3367f548d width=\"100%\" height=640></iframe>"
      ],
      "text/plain": [
       "Serving Inspector on http://127.0.0.1:18001/?problemId=0ad0f018-5571-4898-b95c-8ac3367f548d"
      ]
     },
     "metadata": {},
     "output_type": "display_data"
    },
    {
     "data": {
      "text/plain": [
       "'http://127.0.0.1:18001/?problemId=0ad0f018-5571-4898-b95c-8ac3367f548d'"
      ]
     },
     "execution_count": 68,
     "metadata": {},
     "output_type": "execute_result"
    }
   ],
   "source": [
    "dwave.inspector.show(sampleset2)"
   ]
  },
  {
   "cell_type": "code",
   "execution_count": 67,
   "id": "0d4071bb-b6f0-4ca9-b3d4-8dca1f471747",
   "metadata": {},
   "outputs": [
    {
     "name": "stdout",
     "output_type": "stream",
     "text": [
      "    0  1  2  3  4  5  6  7  8  9 10 11 12 13 14 15 ... 140 energy num_oc. ...\n",
      "0   0  1  0  0  0  0  0  0  0  1  0  0  1  0  0  1 ...   0  -37.0       1 ...\n",
      "1   1  0  0  0  0  0  0  0  0  1  0  0  1  0  0  0 ...   0  -36.0       1 ...\n",
      "2   0  0  0  0  0  0  1  0  0  1  0  0  1  0  1  0 ...   0  -36.0       1 ...\n",
      "3   0  0  1  0  1  0  0  0  0  0  1  1  0  1  0  0 ...   0  -35.0       1 ...\n",
      "4   1  0  0  0  0  0  0  0  0  1  0  0  0  0  1  0 ...   0  -35.0       1 ...\n",
      "5   1  0  0  0  0  0  0  0  0  1  0  0  1  0  1  0 ...   1  -35.0       1 ...\n",
      "6   0  0  0  0  1  0  0  0  0  1  0  0  0  0  1  0 ...   0  -35.0       1 ...\n",
      "7   1  0  0  0  0  1  0  0  0  0  0  0  1  0  1  0 ...   0  -34.0       1 ...\n",
      "8   0  1  0  0  0  0  0  0  0  1  0  0  0  0  0  1 ...   0  -34.0       1 ...\n",
      "9   0  0  1  0  0  0  0  0  0  0  1  0  0  1  0  0 ...   1  -34.0       1 ...\n",
      "10  1  0  0  0  0  0  0  0  0  0  1  1  0  0  0  0 ...   1  -34.0       1 ...\n",
      "11  0  1  0  0  1  0  0  0  0  1  0  0  1  1  0  0 ...   1  -34.0       1 ...\n",
      "12  0  0  1  0  1  0  0  0  0  0  0  0  1  0  0  0 ...   0  -34.0       1 ...\n",
      "13  1  0  0  0  1  0  0  0  0  1  0  0  1  0  1  0 ...   1  -34.0       1 ...\n",
      "14  0  0  0  0  0  1  0  0  0  0  0  0  1  0  0  0 ...   1  -33.0       1 ...\n",
      "15  1  0  0  0  0  0  0  0  0  1  0  0  1  0  1  0 ...   0  -33.0       1 ...\n",
      "16  0  0  0  0  0  0  0  0  0  0  1  1  0  1  0  0 ...   0  -33.0       1 ...\n",
      "17  0  0  0  0  0  0  0  0  0  1  0  0  1  1  0  0 ...   0  -33.0       1 ...\n",
      "18  0  0  0  0  0  0  0  0  0  1  0  0  0  1  0  0 ...   0  -33.0       1 ...\n",
      "19  0  0  0  0  1  0  0  0  0  1  0  0  1  0  1  0 ...   0  -33.0       1 ...\n",
      "20  0  0  0  0  1  0  0  0  0  1  0  0  0  0  1  0 ...   0  -33.0       1 ...\n",
      "21  0  0  0  0  1  0  0  0  0  1  0  0  1  1  0  0 ...   0  -33.0       1 ...\n",
      "22  0  0  0  0  1  0  0  0  0  1  0  0  1  0  1  0 ...   0  -33.0       1 ...\n",
      "23  1  0  0  0  1  0  0  0  0  0  0  0  1  0  1  0 ...   0  -33.0       1 ...\n",
      "24  0  0  1  0  0  0  0  1  0  0  0  0  0  1  0  0 ...   0  -32.0       1 ...\n",
      "25  0  0  0  0  0  0  0  1  0  0  0  1  0  0  0  0 ...   0  -32.0       1 ...\n",
      "26  0  0  0  0  0  0  0  0  0  0  0  0  1  1  0  0 ...   0  -32.0       1 ...\n",
      "27  0  1  0  0  0  0  0  1  0  1  0  0  0  0  0  0 ...   1  -32.0       1 ...\n",
      "28  0  0  0  0  0  0  0  0  1  0  0  0  1  0  0  0 ...   1  -32.0       1 ...\n",
      "29  1  0  0  0  0  0  0  0  0  0  1  1  0  0  0  0 ...   0  -32.0       1 ...\n",
      "['BINARY', 30 rows, 30 samples, 141 variables]\n"
     ]
    }
   ],
   "source": [
    "print(sampleset2.truncate(30))"
   ]
  },
  {
   "cell_type": "markdown",
   "id": "c31fc6e4-96f4-4a92-aee0-a6d2cbbfa151",
   "metadata": {},
   "source": [
    "## Hybrid solver"
   ]
  },
  {
   "cell_type": "code",
   "execution_count": 79,
   "id": "76ef6ddb-226e-4ae4-999f-4995e0ef542a",
   "metadata": {
    "tags": []
   },
   "outputs": [],
   "source": [
    "sampleset2 = LeapHybridSampler().sample(bqm)"
   ]
  },
  {
   "cell_type": "code",
   "execution_count": 80,
   "id": "d5d4326b-63bb-40f1-8ebe-be4a34d40288",
   "metadata": {
    "tags": []
   },
   "outputs": [
    {
     "name": "stdout",
     "output_type": "stream",
     "text": [
      "Lowest energy should be: -163\n",
      "Lowest energy reached: -161\n"
     ]
    }
   ],
   "source": [
    "print('Lowest energy should be:',-count_zeros(sudoku[sind]))  \n",
    "print('Lowest energy reached:',int(sampleset2.first.energy))"
   ]
  },
  {
   "cell_type": "code",
   "execution_count": 81,
   "id": "f043fea3-3d83-423b-bcf0-6c4b0cc45e72",
   "metadata": {
    "tags": []
   },
   "outputs": [
    {
     "name": "stdout",
     "output_type": "stream",
     "text": [
      "QPU time used (ms): 85.4\n",
      "Total time used (ms): 2987.1\n",
      "\n",
      "   0  1  2  3  4  5  6  7  8  9 10 11 12 13 14 15 16 17 ... 853 energy num_oc.\n",
      "0  0  0  1  0  0  0  0  0  1  0  0  0  1  0  0  0  0  1 ...   0 -161.0       1\n",
      "['BINARY', 1 rows, 1 samples, 854 variables]\n"
     ]
    }
   ],
   "source": [
    "hyb_time = sampleset2.info['qpu_access_time'] / 1000\n",
    "run_time = sampleset2.info['run_time'] / 1000\n",
    "print('QPU time used (ms): {:.1f}'.format(hyb_time))\n",
    "print('Total time used (ms): {:.1f}\\n'.format(run_time))\n",
    "print(sampleset2) "
   ]
  },
  {
   "cell_type": "code",
   "execution_count": 82,
   "id": "c3ce5e87-989e-40f5-b9cc-e2afb037ab62",
   "metadata": {
    "tags": []
   },
   "outputs": [],
   "source": [
    "sudoku_res2 = np.zeros((ssize*ssize,ssize*ssize))\n",
    "r = sampleset2.first.sample\n",
    "for k,v in r.items():\n",
    "    if v==1 and k<len(cell_id):\n",
    "        y,x,n = cell_id[k]\n",
    "        sudoku_res2[y][x] = n"
   ]
  },
  {
   "cell_type": "code",
   "execution_count": 83,
   "id": "dbb8c9a2-d91d-472a-b9e1-8e93d6c2f974",
   "metadata": {
    "tags": []
   },
   "outputs": [
    {
     "name": "stdout",
     "output_type": "stream",
     "text": [
      "9AE1|4FD7|538B|6G2C\n",
      "7F.D|9C23|46EG|AB58\n",
      "6835|GEAB|CD92|1F47\n",
      "G4CB|.568|7A1F|E93D\n",
      "----+----+----+----\n",
      "DB4E|F39G|8526|7AC1\n",
      "597C|261E|AF43|D8BG\n",
      "82AG|7D54|9CB1|36EF\n",
      "136F|B8CA|G7DE|4592\n",
      "----+----+----+----\n",
      "2DG8|CAE9|F164|B375\n",
      "E5B6|8471|D93C|F2GA\n",
      "4CF3|6BG5|E27A|81D9\n",
      "A197|D23F|BG58|C46E\n",
      "----+----+----+----\n",
      "F68A|59BD|24C7|GE13\n",
      "B712|AG4C|3EF5|9D86\n",
      "3G59|E786|1BAD|2CF4\n",
      "CED4|31F2|68G9|57AB\n"
     ]
    }
   ],
   "source": [
    "merge2 = merge_sudoku(sudoku[sind],sudoku_res2)\n",
    "print_sudoku(merge2)"
   ]
  },
  {
   "cell_type": "code",
   "execution_count": 84,
   "id": "33d3b24f-e7d8-432f-8a9e-5e6fb906e296",
   "metadata": {
    "tags": []
   },
   "outputs": [
    {
     "name": "stdout",
     "output_type": "stream",
     "text": [
      "Rules obeyed.\n",
      "Cells missing: 2\n"
     ]
    }
   ],
   "source": [
    "check_sudoku_rules(merge2)\n",
    "print('Cells missing:',count_zeros(merge2))"
   ]
  },
  {
   "cell_type": "code",
   "execution_count": null,
   "id": "79cefe0b-efcf-4678-a508-e50e03ef77ea",
   "metadata": {},
   "outputs": [],
   "source": []
  }
 ],
 "metadata": {
  "kernelspec": {
   "display_name": "Python 3 (ipykernel)",
   "language": "python",
   "name": "python3"
  },
  "language_info": {
   "codemirror_mode": {
    "name": "ipython",
    "version": 3
   },
   "file_extension": ".py",
   "mimetype": "text/x-python",
   "name": "python",
   "nbconvert_exporter": "python",
   "pygments_lexer": "ipython3",
   "version": "3.8.18"
  }
 },
 "nbformat": 4,
 "nbformat_minor": 5
}
