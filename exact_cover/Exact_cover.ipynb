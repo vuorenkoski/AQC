{
 "cells": [
  {
   "cell_type": "markdown",
   "id": "cae06f6e-39f7-4ce6-b2ef-54bdd0975a99",
   "metadata": {},
   "source": [
    "# Exact cover\n",
    "\n",
    "Exact cover algorithm implemented by QUBO in quantum annealer"
   ]
  },
  {
   "cell_type": "code",
   "execution_count": 1,
   "id": "61255bff-43e9-473c-adbb-49d3d7d15c81",
   "metadata": {
    "tags": []
   },
   "outputs": [],
   "source": [
    "import numpy as np\n",
    "import time\n",
    "import dimod\n",
    "from dwave.system import DWaveSampler, EmbeddingComposite, LeapHybridSampler\n",
    "from dwave.samplers import SimulatedAnnealingSampler\n",
    "import dwave.inspector"
   ]
  },
  {
   "cell_type": "markdown",
   "id": "a7908a29-208c-4aaa-98b2-fb95244dae74",
   "metadata": {},
   "source": [
    "## Define sets"
   ]
  },
  {
   "cell_type": "code",
   "execution_count": 36,
   "id": "4694ad7c-2191-467e-bbaf-1c8b3922c3fd",
   "metadata": {
    "tags": []
   },
   "outputs": [],
   "source": [
    "U = [0,1,2,3,4,5,6,7,8,9]\n",
    "V = [[0,1,2], [2,3], [6,7,8,9], [7,9], [4,5,6], [4,5], [9]]\n",
    "\n",
    "def result_info(sampleset):\n",
    "    r = sampleset.first.sample\n",
    "    r = [V[k] for k, v in r.items() if v==1]\n",
    "    print('Edges: ' + str(r))"
   ]
  },
  {
   "cell_type": "markdown",
   "id": "2e5eb725-c6f9-420b-b0d4-deb3be0ae535",
   "metadata": {},
   "source": [
    "## Create qubo\n",
    "\n",
    "Constraints\n",
    "- total number of elements in subset should be (len(U))\n",
    "- each element only in one subset"
   ]
  },
  {
   "cell_type": "code",
   "execution_count": 28,
   "id": "703cf4e9-618a-4063-a6b6-7e08574bd476",
   "metadata": {
    "tags": []
   },
   "outputs": [
    {
     "name": "stdout",
     "output_type": "stream",
     "text": [
      "[[-3. 17.  0.  0.  0.  0.  0.]\n",
      " [ 0. -2.  0.  0.  0.  0.  0.]\n",
      " [ 0.  0. -4. 17. 17.  0. 17.]\n",
      " [ 0.  0.  0. -2.  0.  0. 17.]\n",
      " [ 0.  0.  0.  0. -3. 17.  0.]\n",
      " [ 0.  0.  0.  0.  0. -2.  0.]\n",
      " [ 0.  0.  0.  0.  0.  0. -1.]]\n"
     ]
    }
   ],
   "source": [
    "Q = np.zeros((len(V),len(V)))\n",
    "\n",
    "# Total elements constraint\n",
    "\n",
    "max_count = 0\n",
    "\n",
    "for i in range(len(V)):\n",
    "    Q[i][i] =- len(V[i])\n",
    "    max_count += len(V[i])\n",
    "\n",
    "# each element only in one subset\n",
    "\n",
    "for a in U:\n",
    "    for i in range(len(V)):\n",
    "        for j in range(i+1, len(V)):\n",
    "            if a in V[i] and a in V[j]:\n",
    "                Q[i][j] = max_count\n",
    "print(Q)"
   ]
  },
  {
   "cell_type": "markdown",
   "id": "52d05a4b-7709-4763-91d0-24e62a38642a",
   "metadata": {
    "tags": []
   },
   "source": [
    "## Creat BQM from QUBO"
   ]
  },
  {
   "cell_type": "code",
   "execution_count": 29,
   "id": "91271542-e116-47da-b4c0-53daabb66b17",
   "metadata": {
    "tags": []
   },
   "outputs": [],
   "source": [
    "bqm = dimod.BinaryQuadraticModel(Q, 'BINARY')\n",
    "#bqm = bqm.relabel_variables(edge_names, inplace=False)"
   ]
  },
  {
   "cell_type": "markdown",
   "id": "9defa7b8-553d-4d41-a869-49b5e2876469",
   "metadata": {},
   "source": [
    "# Local deterministic solver"
   ]
  },
  {
   "cell_type": "code",
   "execution_count": 30,
   "id": "4afb4377-d8d7-4acd-b9e7-dcfe5490c2a9",
   "metadata": {
    "tags": []
   },
   "outputs": [
    {
     "name": "stdout",
     "output_type": "stream",
     "text": [
      "   0  1  2  3  4  5  6 energy num_oc.\n",
      "0  1  0  1  0  0  1  0   -9.0       1\n",
      "1  0  1  1  0  0  1  0   -8.0       1\n",
      "2  1  0  0  1  1  0  0   -8.0       1\n",
      "3  1  0  0  1  0  1  0   -7.0       1\n",
      "4  1  0  0  0  1  0  1   -7.0       1\n",
      "5  1  0  1  0  0  0  0   -7.0       1\n",
      "6  0  1  0  1  1  0  0   -7.0       1\n",
      "7  0  1  1  0  0  0  0   -6.0       1\n",
      "8  0  0  1  0  0  1  0   -6.0       1\n",
      "9  1  0  0  0  0  1  1   -6.0       1\n",
      "['BINARY', 10 rows, 10 samples, 7 variables]\n"
     ]
    }
   ],
   "source": [
    "sampleset = dimod.ExactSolver().sample(bqm)\n",
    "print(sampleset.truncate(10))"
   ]
  },
  {
   "cell_type": "code",
   "execution_count": 37,
   "id": "a0298594-b8c4-413d-b770-26a3d7b7342a",
   "metadata": {
    "tags": []
   },
   "outputs": [
    {
     "name": "stdout",
     "output_type": "stream",
     "text": [
      "Edges: [[0, 1, 2], [6, 7, 8, 9], [4, 5]]\n"
     ]
    }
   ],
   "source": [
    "result_info(sampleset)"
   ]
  },
  {
   "cell_type": "markdown",
   "id": "7d1389fa-f070-4a39-899c-07a6cc304277",
   "metadata": {},
   "source": [
    "## Local heuristic classical solver"
   ]
  },
  {
   "cell_type": "code",
   "execution_count": 40,
   "id": "25159720-c5f8-4cbf-a3ed-10f4d0554a78",
   "metadata": {
    "tags": []
   },
   "outputs": [
    {
     "name": "stdout",
     "output_type": "stream",
     "text": [
      "   0  1  2  3  4  5  6 energy num_oc.\n",
      "0  1  0  1  0  0  1  0   -9.0     164\n",
      "1  0  1  1  0  0  1  0   -8.0      63\n",
      "2  1  0  0  1  1  0  0   -8.0      72\n",
      "3  1  0  0  0  1  0  1   -7.0      27\n",
      "4  1  0  0  1  0  1  0   -7.0      27\n",
      "5  1  0  1  0  0  0  0   -7.0      23\n",
      "6  0  1  0  1  1  0  0   -7.0      25\n",
      "7  1  0  0  0  0  1  1   -6.0      10\n",
      "8  0  1  1  0  0  0  0   -6.0      10\n",
      "9  0  1  0  1  0  1  0   -6.0      12\n",
      "['BINARY', 10 rows, 433 samples, 7 variables]\n"
     ]
    }
   ],
   "source": [
    "sampleset2 = SimulatedAnnealingSampler().sample(bqm, num_reads=500)\n",
    "print(sampleset2.aggregate().truncate(10))"
   ]
  },
  {
   "cell_type": "code",
   "execution_count": 39,
   "id": "898e971d-f3d7-4de8-b98c-d7ff29cc6656",
   "metadata": {
    "tags": []
   },
   "outputs": [
    {
     "name": "stdout",
     "output_type": "stream",
     "text": [
      "Edges: [[0, 1, 2], [6, 7, 8, 9], [4, 5]]\n"
     ]
    }
   ],
   "source": [
    "result_info(sampleset)"
   ]
  },
  {
   "cell_type": "code",
   "execution_count": null,
   "id": "9514d7ef-0933-4104-ab10-9d6f23634954",
   "metadata": {},
   "outputs": [],
   "source": []
  }
 ],
 "metadata": {
  "kernelspec": {
   "display_name": "Python 3 (ipykernel)",
   "language": "python",
   "name": "python3"
  },
  "language_info": {
   "codemirror_mode": {
    "name": "ipython",
    "version": 3
   },
   "file_extension": ".py",
   "mimetype": "text/x-python",
   "name": "python",
   "nbconvert_exporter": "python",
   "pygments_lexer": "ipython3",
   "version": "3.8.18"
  }
 },
 "nbformat": 4,
 "nbformat_minor": 5
}
