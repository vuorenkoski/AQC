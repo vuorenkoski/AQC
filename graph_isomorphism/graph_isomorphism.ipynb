{
 "cells": [
  {
   "cell_type": "markdown",
   "id": "37491fc9-dd27-47f9-998c-30f2f162aa83",
   "metadata": {},
   "source": [
    "# Graph isomorphism\n",
    "\n",
    "Ising formulation here: https://arxiv.org/abs/1302.5843 (Lucas 2014)\n",
    "\n",
    "Lets assume that we have two directed graphs $G_1 = (V_1, E_1)$ and $G_2 = (V_2, E_2)$. They are isomorphic if we can find bijection from $V_1$ to $V_2$ so that structure of mapped $V_1$ is identical to $V_2$. Obviously $n=|V_1|=|V_2|$. \n",
    "\n",
    "One obvious solution is binary variable vector having $|V||V|$ elements. Each element indicate a mapping from one vertex to the other (Lucas 2014). To achieve the results intended, following constraints are build to QUBO:\n",
    "1. every vertex $v_1 \\in G_1$ must be mapped to some vertex $v_3 \\in G_2$ (penalty $p$ for every couple of vertices which are indicated to be mappings from the same source)  \n",
    "2. every vertex $v_2 \\in G_2$ must be mapped from some vertex $v_1 \\in G_1$ (penalty $p$ for every couple of vertices which are indicated to be mapped to the same target) \n",
    "3. for every $e_1 \\in E_1$  there should be counterpart $e_2 \\in E_2$ so that with mapping $e_1$ starting and ending vertex there are similar $e_2$. Each succesfull mapping brings gain of $-1$. \n",
    "\n",
    "If graphs are isomorphic, lowest energy level is $-|E|$. This comes from third constraint of the QUBO. Binary variable vector of this energy level shows correct mapping.  \n",
    "\n",
    "Main disadvantage of this algorithm is fast growing elements in binary variable vector when number of vertices increases (size of vector is $|V|^2$). Size of QUBO grows even faster, as size of the QUBO is $|V|^4$."
   ]
  },
  {
   "cell_type": "code",
   "execution_count": 1,
   "id": "265905c4-1b60-4b0c-9871-511ef6d1962a",
   "metadata": {
    "tags": []
   },
   "outputs": [],
   "source": [
    "import numpy as np\n",
    "import time\n",
    "import dimod\n",
    "from dwave.system import DWaveSampler, EmbeddingComposite, LeapHybridSampler\n",
    "from dwave.samplers import SimulatedAnnealingSampler\n",
    "import dwave.inspector\n",
    "import networkx as nx\n",
    "from networkx.classes.function import path_weight\n",
    "import random"
   ]
  },
  {
   "cell_type": "markdown",
   "id": "efda6875-aeb4-4e8a-8acc-d149f2452219",
   "metadata": {
    "tags": []
   },
   "source": [
    "## QUBO function"
   ]
  },
  {
   "cell_type": "code",
   "execution_count": 43,
   "id": "e5f35b0a-8124-465d-a872-29ecfc23f2f4",
   "metadata": {
    "tags": []
   },
   "outputs": [],
   "source": [
    "def create_qubo(E1,E2,vertices,p):\n",
    "    Q = np.zeros((vertices*vertices, vertices*vertices))\n",
    "    \n",
    "    # Constraint 1: penalty if several mappings from same source\n",
    "    for i in range(vertices): \n",
    "        for j in range(vertices): \n",
    "            for k in range(j+1,vertices): \n",
    "                Q[i*vertices+j,i*vertices+k]=p \n",
    "\n",
    "    # Constaint 2: penalty if several mappings to same target\n",
    "    for i in range(vertices): \n",
    "        for j in range(vertices): \n",
    "            for k in range(j+1,vertices): \n",
    "                Q[i+vertices*j,i+vertices*k]=p \n",
    "                \n",
    "    # Constraint 3: -1 for each succesfully mapped edge: (x1,y1) -> (x2,y2) \n",
    "    #    two possible mappings: (x1->x2, y1->y2) or (x1->y2,y1->x2)\n",
    "    for e1 in E1: \n",
    "        for e2 in E2: \n",
    "            Q[e1[0]*vertices+e2[0], e1[1]*vertices+e2[1]] -= 1\n",
    "            Q[e1[0]*vertices+e2[1], e1[1]*vertices+e2[0]] -= 1\n",
    "            \n",
    "    # All quadratic coefficients in lower triangle to upper triangle\n",
    "    for i in range(vertices): \n",
    "        for j in range(i):\n",
    "            Q[j,i] += Q[i,j]\n",
    "            Q[i,j] = 0\n",
    "    return Q"
   ]
  },
  {
   "cell_type": "markdown",
   "id": "f6ed6d15-6f21-4c09-9a76-597dcb6f27e4",
   "metadata": {},
   "source": [
    "## Helper functions"
   ]
  },
  {
   "cell_type": "code",
   "execution_count": 89,
   "id": "98f597f2-69d1-4b97-9515-1a88ada6239c",
   "metadata": {
    "tags": []
   },
   "outputs": [],
   "source": [
    "def result_info(sampleset, e):\n",
    "    print('Lowest energy should be:',-e)\n",
    "    print('Lowest energy was:',int(sampleset.first.energy))\n",
    "    results = []\n",
    "    if -e!=int(sampleset.first.energy):\n",
    "        print('Graphs are NOT isomorphic')\n",
    "    else:\n",
    "        print('Graphs are isomorphic')\n",
    "        for sample in sampleset:\n",
    "            m = ''\n",
    "            res = {}\n",
    "            for k,v in sample.items():\n",
    "                if v==1:\n",
    "                    m += str(k)+', '\n",
    "                    res[k[0]]=k[1]\n",
    "            print('Mapping: '+m)\n",
    "            results.append(res)\n",
    "    return results\n",
    "    \n",
    "def solve_gi(solver, num_reads, E1, E2, vertices, p, qpu_info=False, timing_info=False, print_sample=False):\n",
    "    Q = create_qubo(E1,E2,vertices,p)\n",
    "\n",
    "    labels = {}\n",
    "    for i in range(vertices):\n",
    "        for j in range(vertices):\n",
    "            labels[i*vertices+j] = (i,j)\n",
    "        \n",
    "    bqm = dimod.BinaryQuadraticModel(Q, 'BINARY')\n",
    "    bqm = bqm.relabel_variables(labels, inplace=False)\n",
    "    t1 = time.time()\n",
    "    sampleset = solver.sample(bqm, num_reads=num_reads).aggregate()\n",
    "    if print_sample:\n",
    "        print(sampleset.truncate(10))\n",
    "    ttime = (time.time()-t1)*1000\n",
    "    res = result_info(sampleset.filter(lambda s: s.energy==sampleset.first.energy), len(E1))\n",
    "    if qpu_info:\n",
    "        print('\\nTotal time used (ms): {:.3f}'.format(ttime))\n",
    "        print('Number of logical qubits:',Q.shape[0])\n",
    "        print('Number of couplers:', len(bqm.quadratic))\n",
    "        qpu_time = sampleset.info['timing']['qpu_access_time'] / 1000\n",
    "        qubits = sum(len(x) for x in sampleset.info['embedding_context']['embedding'].values())\n",
    "        print('QPU time used (ms): {:.1f}'.format(qpu_time))\n",
    "        print('Physical qubits used: {}\\n'.format(qubits))\n",
    "    if timing_info:\n",
    "        print('\\nTotal time used (ms): {:.3f}'.format(ttime))\n",
    "\n",
    "    return res, sampleset"
   ]
  },
  {
   "cell_type": "markdown",
   "id": "e8660af3-2c0e-4915-8efe-1a6847394cb2",
   "metadata": {},
   "source": [
    "## First test\n",
    "\n",
    "Very simple graph from (Calude 2017)"
   ]
  },
  {
   "cell_type": "code",
   "execution_count": 90,
   "id": "f52d98cd-8930-4f48-ae94-cbe9c38502d9",
   "metadata": {
    "tags": []
   },
   "outputs": [
    {
     "name": "stdout",
     "output_type": "stream",
     "text": [
      "[[ 0.  2.  2.  2. -1. -1.  2.  0.  0.]\n",
      " [ 0.  0.  2. -1.  2.  0.  0.  2.  0.]\n",
      " [ 0.  0.  0. -1.  0.  2.  0.  0.  2.]\n",
      " [ 0.  0.  0.  0.  2.  2.  2. -1. -1.]\n",
      " [ 0.  0.  0.  0.  0.  2. -1.  2.  0.]\n",
      " [ 0.  0.  0.  0.  0.  0. -1.  0.  2.]\n",
      " [ 0.  0.  0.  0.  0.  0.  0.  2.  2.]\n",
      " [ 0.  0.  0.  0.  0.  0.  0.  0.  2.]\n",
      " [ 0.  0.  0.  0.  0.  0.  0.  0.  0.]]\n",
      "\n",
      "\n",
      "   0  1  2  3  4  5  6  7  8 energy num_oc.\n",
      "0  0  1  0  1  0  0  0  0  1   -2.0       1\n",
      "1  0  0  1  1  0  0  0  1  0   -2.0       1\n",
      "2  1  0  0  0  0  1  0  1  0   -1.0       1\n",
      "3  1  0  0  0  0  1  0  0  0   -1.0       1\n",
      "4  0  0  0  1  0  0  0  1  0   -1.0       1\n",
      "5  0  0  0  0  1  0  1  0  0   -1.0       1\n",
      "6  0  1  0  1  0  0  0  0  0   -1.0       1\n",
      "7  0  0  1  0  1  0  1  0  0   -1.0       1\n",
      "8  0  1  0  0  0  1  1  0  0   -1.0       1\n",
      "9  0  0  0  0  0  1  1  0  0   -1.0       1\n",
      "['BINARY', 10 rows, 10 samples, 9 variables]\n",
      "Lowest energy should be: -2\n",
      "Lowest energy was: -2\n",
      "Graphs are isomorphic\n",
      "Mapping: (0, 2), (1, 0), (2, 1), \n",
      "Mapping: (0, 1), (1, 0), (2, 2), \n"
     ]
    }
   ],
   "source": [
    "vertices = 3\n",
    "E1 = np.array([(0, 1), (1, 2)])\n",
    "E2 = np.array([(0, 1), (0, 2)])\n",
    "# Correct mapping (0,1),(1,0),(2,2) and (0,2),(1,0),(2,1)\n",
    "Q = create_qubo(E1,E2,3,2)\n",
    "print(Q)\n",
    "print('\\n')\n",
    "bqm = dimod.BinaryQuadraticModel(Q, 'BINARY')\n",
    "sampleset = dimod.ExactSolver().sample(bqm)\n",
    "print(sampleset.truncate(10))\n",
    "res, sampleset = solve_gi(SimulatedAnnealingSampler(), 1000, E1, E2, vertices, len(E1))"
   ]
  },
  {
   "cell_type": "code",
   "execution_count": 85,
   "id": "4f80dc8e-f596-4373-9abb-7eb6317c719c",
   "metadata": {
    "tags": []
   },
   "outputs": [
    {
     "name": "stdout",
     "output_type": "stream",
     "text": [
      "Lowest energy should be: -2\n",
      "Lowest energy was: -2\n",
      "Graphs are isomorphic\n",
      "Mapping: (0, 2), (1, 0), (2, 1), \n",
      "Mapping: (0, 1), (1, 0), (2, 2), \n"
     ]
    }
   ],
   "source": [
    "res, sampleset = solve_gi(SimulatedAnnealingSampler(), 1000, E1, E2, vertices, len(E1))"
   ]
  },
  {
   "cell_type": "code",
   "execution_count": 86,
   "id": "4c6c49a5-397f-4097-938e-15f6d8278159",
   "metadata": {
    "tags": []
   },
   "outputs": [
    {
     "name": "stdout",
     "output_type": "stream",
     "text": [
      "Chip: Advantage_system4.1\n",
      "Qubits: 5760\n",
      "Lowest energy should be: -2\n",
      "Lowest energy was: -2\n",
      "Graphs are isomorphic\n",
      "Mapping: (0, 1), (1, 0), (2, 2), \n",
      "Mapping: (0, 2), (1, 0), (2, 1), \n"
     ]
    }
   ],
   "source": [
    "machine = DWaveSampler(solver={'chip_id': 'Advantage_system4.1'})\n",
    "print('Chip:', machine.properties['chip_id'])\n",
    "print('Qubits:', machine.properties['num_qubits'])\n",
    "res, sampleset = solve_gi(EmbeddingComposite(machine), 1000, E1, E2, vertices, len(E1))"
   ]
  },
  {
   "cell_type": "markdown",
   "id": "64d15a5a-0525-49c3-8daf-e1635e2d4209",
   "metadata": {},
   "source": [
    "## Simple graphs"
   ]
  },
  {
   "cell_type": "code",
   "execution_count": 94,
   "id": "e6ea7637-f0cc-4f8d-8ab6-9649c6dc6934",
   "metadata": {
    "tags": []
   },
   "outputs": [
    {
     "name": "stdout",
     "output_type": "stream",
     "text": [
      "Penalty: 6\n"
     ]
    }
   ],
   "source": [
    "vertices = 7\n",
    "E1 = np.array([(0, 1), (0, 2), (0, 3), (2, 4), (3, 5), (5, 6)])\n",
    "E2 = np.array([(0, 1), (0, 2), (0, 3), (2, 4), (3, 5), (0, 6)])# last number difference\n",
    "E3 = np.array([(0, 1), (1, 2), (2, 3), (3, 4), (4, 5), (5, 6)]) # very different\n",
    "\n",
    "perm={0:2, 1:1, 2:3, 3:4, 4:0, 5:6, 6:5}\n",
    "E4 = np.array(E1, copy=True) \n",
    "for i in range(len(E2)):\n",
    "    E4[i]=(perm[E1[i][0]],perm[E1[i][1]])\n",
    "\n",
    "perm2={0:2, 1:1, 2:0, 3:3, 4:4, 5:5, 6:6}\n",
    "E5 = np.array(E1, copy=True) \n",
    "for i in range(len(E3)):\n",
    "    E5[i]=(perm2[E1[i][0]],perm2[E1[i][1]])\n",
    "\n",
    "p = len(E1)\n",
    "print('Penalty:',p)"
   ]
  },
  {
   "cell_type": "markdown",
   "id": "f81c3aaf-74d5-417e-aafb-0994bbc3673d",
   "metadata": {
    "tags": []
   },
   "source": [
    "### Heuristic solver"
   ]
  },
  {
   "cell_type": "code",
   "execution_count": 95,
   "id": "57c6a1cd-8cd9-4826-a51b-30837cc2d18f",
   "metadata": {
    "tags": []
   },
   "outputs": [
    {
     "name": "stdout",
     "output_type": "stream",
     "text": [
      "Identical graphs\n",
      "Lowest energy should be: -6\n",
      "Lowest energy was: -6\n",
      "Graphs are isomorphic\n",
      "Mapping: (0, 0), (1, 1), (2, 2), (3, 3), (4, 4), (5, 5), (6, 6), \n"
     ]
    }
   ],
   "source": [
    "print('Identical graphs')\n",
    "res, sampleset = solve_gi(SimulatedAnnealingSampler(), 1000, E1, E1, vertices, p)"
   ]
  },
  {
   "cell_type": "code",
   "execution_count": 96,
   "id": "24035d5b-8c57-41f9-b79d-fd89eb3497db",
   "metadata": {
    "tags": []
   },
   "outputs": [
    {
     "name": "stdout",
     "output_type": "stream",
     "text": [
      "Slightly differing graphs\n",
      "Lowest energy should be: -6\n",
      "Lowest energy was: -5\n",
      "Graphs are NOT isomorphic\n"
     ]
    }
   ],
   "source": [
    "print('Slightly differing graphs')\n",
    "res, sampleset = solve_gi(SimulatedAnnealingSampler(), 1000, E1, E2, vertices, p)"
   ]
  },
  {
   "cell_type": "code",
   "execution_count": 97,
   "id": "46133071-8997-45b6-a523-3932909b54a2",
   "metadata": {
    "tags": []
   },
   "outputs": [
    {
     "name": "stdout",
     "output_type": "stream",
     "text": [
      "Greatly differing graphs\n",
      "Lowest energy should be: -6\n",
      "Lowest energy was: -5\n",
      "Graphs are NOT isomorphic\n"
     ]
    }
   ],
   "source": [
    "print('Greatly differing graphs')\n",
    "res, sampleset = solve_gi(SimulatedAnnealingSampler(), 1000, E1, E3, vertices, p)"
   ]
  },
  {
   "cell_type": "code",
   "execution_count": 98,
   "id": "5dbb01b6-8cba-41d5-ace2-c9c1e100366c",
   "metadata": {
    "tags": []
   },
   "outputs": [
    {
     "name": "stdout",
     "output_type": "stream",
     "text": [
      "Identical but nodes permuted\n",
      "Lowest energy should be: -6\n",
      "Lowest energy was: -6\n",
      "Graphs are isomorphic\n",
      "Mapping: (0, 2), (1, 1), (2, 3), (3, 4), (4, 0), (5, 6), (6, 5), \n"
     ]
    }
   ],
   "source": [
    "print('Identical but nodes permuted')\n",
    "res, sampleset = solve_gi(SimulatedAnnealingSampler(), 1000, E1, E4, vertices, p)"
   ]
  },
  {
   "cell_type": "code",
   "execution_count": 99,
   "id": "45cedb98-b61b-4688-8c52-30e69900f27a",
   "metadata": {
    "tags": []
   },
   "outputs": [
    {
     "name": "stdout",
     "output_type": "stream",
     "text": [
      "Identical but nodes permuted, v2\n",
      "Lowest energy should be: -6\n",
      "Lowest energy was: -6\n",
      "Graphs are isomorphic\n",
      "Mapping: (0, 2), (1, 1), (2, 0), (3, 3), (4, 4), (5, 5), (6, 6), \n"
     ]
    }
   ],
   "source": [
    "print('Identical but nodes permuted, v2')\n",
    "res, sampleset = solve_gi(SimulatedAnnealingSampler(), 1000, E1, E5, vertices, p)"
   ]
  },
  {
   "cell_type": "markdown",
   "id": "5232fda2-b793-470f-b18a-298cab38c0da",
   "metadata": {},
   "source": [
    "### Quantum solver"
   ]
  },
  {
   "cell_type": "code",
   "execution_count": 100,
   "id": "ba1b02ed-f672-4a75-81a2-42ea02d18f0b",
   "metadata": {
    "tags": []
   },
   "outputs": [
    {
     "name": "stdout",
     "output_type": "stream",
     "text": [
      "Chip: Advantage_system4.1\n",
      "Qubits: 5760\n"
     ]
    }
   ],
   "source": [
    "machine = DWaveSampler(solver={'chip_id': 'Advantage_system4.1'})\n",
    "print('Chip:', machine.properties['chip_id'])\n",
    "print('Qubits:', machine.properties['num_qubits'])"
   ]
  },
  {
   "cell_type": "code",
   "execution_count": 101,
   "id": "2a052bfc-ebfa-4768-a28b-0e30a6b2ae11",
   "metadata": {
    "tags": []
   },
   "outputs": [
    {
     "name": "stdout",
     "output_type": "stream",
     "text": [
      "Identical graphs\n",
      "Lowest energy should be: -6\n",
      "Lowest energy was: -4\n",
      "Graphs are NOT isomorphic\n",
      "\n",
      "Total time used (ms): 4879.424\n",
      "Number of logical qubits: 49\n",
      "Number of couplers: 366\n",
      "QPU time used (ms): 266.5\n",
      "Physical qubits used: 234\n",
      "\n"
     ]
    }
   ],
   "source": [
    "print('Identical graphs')\n",
    "res,sampleset = solve_gi(EmbeddingComposite(machine), 2000, E1, E1, vertices, p, qpu_info=True)"
   ]
  },
  {
   "cell_type": "code",
   "execution_count": 103,
   "id": "33c7a328-5d0a-4284-9fb5-a9327b0b188f",
   "metadata": {
    "tags": []
   },
   "outputs": [
    {
     "data": {
      "text/html": [
       "<iframe src=http://127.0.0.1:18000/?problemId=526d9848-c4b8-43cf-8663-5a1b59f64590 width=\"100%\" height=640></iframe>"
      ],
      "text/plain": [
       "Serving Inspector on http://127.0.0.1:18000/?problemId=526d9848-c4b8-43cf-8663-5a1b59f64590"
      ]
     },
     "metadata": {},
     "output_type": "display_data"
    },
    {
     "data": {
      "text/plain": [
       "'http://127.0.0.1:18000/?problemId=526d9848-c4b8-43cf-8663-5a1b59f64590'"
      ]
     },
     "execution_count": 103,
     "metadata": {},
     "output_type": "execute_result"
    }
   ],
   "source": [
    "dwave.inspector.show(sampleset)"
   ]
  },
  {
   "cell_type": "code",
   "execution_count": 33,
   "id": "02f417cc-8006-4435-b69e-9fa4d2f518dc",
   "metadata": {
    "tags": []
   },
   "outputs": [
    {
     "name": "stdout",
     "output_type": "stream",
     "text": [
      "Differing graphs\n",
      "Lowest energy should be: -6\n",
      "Lowest energy was: -4\n",
      "Graphs are NOT isomorphic\n",
      "\n",
      "Total time used (ms): 4406.366\n",
      "Number of logical qubits: 49\n",
      "Number of couplers: 366\n",
      "QPU time used (ms): 363.6\n",
      "Physical qubits used: 232\n",
      "\n"
     ]
    }
   ],
   "source": [
    "print('Differing graphs')\n",
    "res, sampleset = solve_gi(EmbeddingComposite(machine), 2000, E1, E2, vertices, p, qpu_info=True)"
   ]
  },
  {
   "cell_type": "code",
   "execution_count": 34,
   "id": "d5fd5fd5-42e6-472c-8093-001dddb63709",
   "metadata": {
    "tags": []
   },
   "outputs": [
    {
     "name": "stdout",
     "output_type": "stream",
     "text": [
      "Identical but nodes permuted\n",
      "Lowest energy should be: -6\n",
      "Lowest energy was: -3\n",
      "Graphs are NOT isomorphic\n",
      "\n",
      "Total time used (ms): 7521.396\n",
      "Number of logical qubits: 49\n",
      "Number of couplers: 366\n",
      "QPU time used (ms): 369.8\n",
      "Physical qubits used: 215\n",
      "\n"
     ]
    }
   ],
   "source": [
    "print('Identical but nodes permuted')\n",
    "res, sampleset = solve_gi(EmbeddingComposite(machine), 2000, E1, E4, vertices, p, qpu_info=True)"
   ]
  },
  {
   "cell_type": "markdown",
   "id": "e1a6e8ff-63b1-4123-be69-c06fe333cbd4",
   "metadata": {
    "tags": []
   },
   "source": [
    "## Larger graph"
   ]
  },
  {
   "cell_type": "code",
   "execution_count": 74,
   "id": "b7c22fbe-5bc0-49fb-b18d-2c3feec26254",
   "metadata": {
    "tags": []
   },
   "outputs": [
    {
     "name": "stdout",
     "output_type": "stream",
     "text": [
      "Number of edges: 17\n",
      "Number of vertices: 10\n",
      "Penalty: 17\n"
     ]
    }
   ],
   "source": [
    "seed = 42\n",
    "vertices2 = 10\n",
    "random.seed(seed)\n",
    "G = nx.gnp_random_graph(vertices2, 0.30, seed, directed=False)\n",
    "E6 = [] \n",
    "for e in G.edges(data=True):\n",
    "    E6.append((e[0],e[1]))\n",
    "print('Number of edges:',len(E6))\n",
    "print('Number of vertices:',vertices2)\n",
    "p = len(E6)\n",
    "print('Penalty:',p)"
   ]
  },
  {
   "cell_type": "code",
   "execution_count": 75,
   "id": "1e2e2d53-6972-4008-adc0-41121e110b8b",
   "metadata": {
    "tags": []
   },
   "outputs": [
    {
     "name": "stdout",
     "output_type": "stream",
     "text": [
      "{0: 1, 1: 9, 2: 7, 3: 3, 4: 2, 5: 8, 6: 0, 7: 5, 8: 4, 9: 6}\n"
     ]
    }
   ],
   "source": [
    "mapping = dict(zip(G.nodes(), sorted(G.nodes(), key=lambda k: random.random())))\n",
    "print(mapping)\n",
    "G2 = nx.relabel_nodes(G, mapping)\n",
    "E7 = []\n",
    "for e in G2.edges(data=True):\n",
    "    E7.append((e[0],e[1]))"
   ]
  },
  {
   "cell_type": "code",
   "execution_count": 80,
   "id": "8c778fa3-d2c0-4a2c-90ee-6d61507e3cf6",
   "metadata": {
    "tags": []
   },
   "outputs": [],
   "source": [
    "G3 = nx.gnp_random_graph(vertices2, 0.30, seed+1, directed=False)\n",
    "E8 = [] \n",
    "for e in G3.edges(data=True):\n",
    "    E8.append((e[0],e[1]))"
   ]
  },
  {
   "cell_type": "markdown",
   "id": "deb5bbee-478e-4c48-abf4-c02851019318",
   "metadata": {},
   "source": [
    "### Local heuristic solver"
   ]
  },
  {
   "cell_type": "code",
   "execution_count": 81,
   "id": "49cd5fb1-83e1-47cf-b73a-f5feb2c7f2a0",
   "metadata": {
    "tags": []
   },
   "outputs": [
    {
     "name": "stdout",
     "output_type": "stream",
     "text": [
      "Identical graphs\n",
      "Lowest energy should be: -17\n",
      "Lowest energy was: -17\n",
      "Graphs are isomorphic\n",
      "Mapping: (0, 0), (1, 1), (2, 2), (3, 3), (4, 4), (5, 5), (6, 6), (7, 7), (8, 8), (9, 9), \n",
      "\n",
      "Total time used (ms): 3631.280\n"
     ]
    }
   ],
   "source": [
    "print('Identical graphs')\n",
    "res, sampleset = solve_gi(SimulatedAnnealingSampler(), 2000, E6, E6, vertices2, p, timing_info=True)"
   ]
  },
  {
   "cell_type": "code",
   "execution_count": 82,
   "id": "12ee6480-b8a0-4e06-993e-221e17b080d0",
   "metadata": {
    "tags": []
   },
   "outputs": [
    {
     "name": "stdout",
     "output_type": "stream",
     "text": [
      "permuted graphs\n",
      "Lowest energy should be: -17\n",
      "Lowest energy was: -17\n",
      "Graphs are isomorphic\n",
      "Mapping: (0, 1), (1, 9), (2, 7), (3, 3), (4, 2), (5, 8), (6, 0), (7, 5), (8, 4), (9, 6), \n",
      "\n",
      "Total time used (ms): 3607.384\n"
     ]
    }
   ],
   "source": [
    "print('permuted graphs')\n",
    "res,sampleset = solve_gi(SimulatedAnnealingSampler(), 2000, E6, E7, vertices2, p, timing_info=True)"
   ]
  },
  {
   "cell_type": "code",
   "execution_count": 83,
   "id": "5aef1539-47d3-4910-b619-f9c32bc0b3dc",
   "metadata": {
    "tags": []
   },
   "outputs": [
    {
     "name": "stdout",
     "output_type": "stream",
     "text": [
      "Different graphs\n",
      "Lowest energy should be: -17\n",
      "Lowest energy was: -10\n",
      "Graphs are NOT isomorphic\n",
      "\n",
      "Total time used (ms): 3451.040\n"
     ]
    }
   ],
   "source": [
    "print('Different graphs')\n",
    "res, sampleset = solve_gi(SimulatedAnnealingSampler(), 2000, E6, E8, vertices2, p, timing_info=True)"
   ]
  },
  {
   "cell_type": "markdown",
   "id": "f8a10a8f-46f3-412d-938a-25b60eff34cd",
   "metadata": {},
   "source": [
    "### Quantum solver"
   ]
  },
  {
   "cell_type": "code",
   "execution_count": 72,
   "id": "40d785bd-d788-4cff-bb7d-d3d86392c05f",
   "metadata": {
    "tags": []
   },
   "outputs": [
    {
     "name": "stdout",
     "output_type": "stream",
     "text": [
      "Chip: Advantage_system4.1\n",
      "Qubits: 5760\n"
     ]
    }
   ],
   "source": [
    "machine = DWaveSampler(solver={'chip_id': 'Advantage_system4.1'})\n",
    "print('Chip:', machine.properties['chip_id'])\n",
    "print('Qubits:', machine.properties['num_qubits'])"
   ]
  },
  {
   "cell_type": "code",
   "execution_count": 73,
   "id": "cbea1650-0025-45c9-9a63-d8ddb1758c4d",
   "metadata": {
    "tags": []
   },
   "outputs": [
    {
     "name": "stdout",
     "output_type": "stream",
     "text": [
      "Identical graphs\n",
      "Lowest energy should be: -17\n",
      "Lowest energy was: -8\n",
      "Graphs are NOT isomorphic\n",
      "\n",
      "Total time used (ms): 41473.189\n",
      "Number of logical qubits: 100\n",
      "Number of couplers: 1478\n",
      "QPU time used (ms): 450.1\n",
      "Physical qubits used: 1043\n",
      "\n"
     ]
    }
   ],
   "source": [
    "print('Identical graphs')\n",
    "res, sampleset = solve_gi(EmbeddingComposite(machine), 2000, E6, E6, vertices2, p, qpu_info=True)"
   ]
  },
  {
   "cell_type": "code",
   "execution_count": 62,
   "id": "835e512d-c343-453d-bf15-2610e063ac17",
   "metadata": {
    "tags": []
   },
   "outputs": [
    {
     "name": "stdout",
     "output_type": "stream",
     "text": [
      "Similar graphs\n",
      "Lowest energy should be: -6\n",
      "Lowest energy was: -2\n",
      "Graphs are NOT isomorphic\n",
      "\n",
      "Total time used (ms): 19073.738\n",
      "Number of logical qubits: 100\n",
      "Number of couplers: 972\n",
      "QPU time used (ms): 482.8\n",
      "Physical qubits used: 738\n",
      "\n"
     ]
    }
   ],
   "source": [
    "print('Similar graphs')\n",
    "res, sampleset = solve_gi(EmbeddingComposite(machine), 2000, E4, E5, vertices2, p, qpu_info=True)"
   ]
  },
  {
   "cell_type": "code",
   "execution_count": 63,
   "id": "75002a0e-fb1d-4791-a113-d3fe24679f84",
   "metadata": {
    "tags": []
   },
   "outputs": [
    {
     "name": "stdout",
     "output_type": "stream",
     "text": [
      "Different graphs\n",
      "Lowest energy should be: -6\n",
      "Lowest energy was: -4\n",
      "Graphs are NOT isomorphic\n",
      "\n",
      "Total time used (ms): 17896.299\n",
      "Number of logical qubits: 100\n",
      "Number of couplers: 1104\n",
      "QPU time used (ms): 475.5\n",
      "Physical qubits used: 882\n",
      "\n"
     ]
    }
   ],
   "source": [
    "print('Different graphs')\n",
    "res, sampleset = solve_gi(EmbeddingComposite(machine), 2000, E4, E6, vertices2, p, qpu_info=True)"
   ]
  },
  {
   "cell_type": "markdown",
   "id": "80cfd8d0-7df8-4806-b6b8-b1f5d3205a1a",
   "metadata": {
    "tags": []
   },
   "source": [
    "## Testing procedure"
   ]
  },
  {
   "cell_type": "code",
   "execution_count": 65,
   "id": "7ad34b5f-5a95-4ee9-83e9-8ab5bd2d0efb",
   "metadata": {
    "tags": []
   },
   "outputs": [
    {
     "name": "stdout",
     "output_type": "stream",
     "text": [
      "Lowest energy should be: -8\n",
      "Lowest energy was: -8\n",
      "Graphs are isomorphic\n",
      "Mapping: (0, 3), (1, 7), (3, 2), (4, 8), (5, 4), (6, 9), (7, 1), (8, 6), (9, 0), \n",
      "Mapping: (0, 0), (1, 7), (3, 2), (4, 1), (5, 4), (6, 9), (7, 8), (8, 6), (9, 3), \n",
      "Mapping: (0, 0), (1, 7), (2, 5), (3, 2), (4, 1), (5, 4), (6, 9), (7, 8), (8, 6), (9, 3), \n",
      "Mapping: (0, 3), (1, 7), (2, 5), (3, 2), (4, 8), (5, 4), (6, 9), (7, 1), (8, 6), (9, 0), \n",
      "Mapping: (0, 3), (1, 9), (2, 5), (3, 2), (4, 8), (5, 4), (6, 7), (7, 1), (8, 6), (9, 0), \n",
      "Mapping: (0, 0), (1, 9), (3, 2), (4, 1), (5, 4), (6, 7), (7, 8), (8, 6), (9, 3), \n",
      "Mapping: (0, 0), (1, 9), (2, 5), (3, 2), (4, 1), (5, 4), (6, 7), (7, 8), (8, 6), (9, 3), \n",
      "Mapping: (0, 3), (1, 9), (3, 2), (4, 8), (5, 4), (6, 7), (7, 1), (8, 6), (9, 0), \n",
      "Result ok\n",
      "\n",
      "Lowest energy should be: -18\n",
      "Lowest energy was: -18\n",
      "Graphs are isomorphic\n",
      "Mapping: (0, 9), (1, 8), (2, 0), (3, 3), (4, 5), (5, 4), (6, 6), (7, 2), (8, 7), (9, 1), \n",
      "Mapping: (0, 1), (1, 8), (2, 0), (3, 3), (4, 5), (5, 4), (6, 6), (7, 2), (8, 7), (9, 9), \n",
      "Result ok\n",
      "\n",
      "Lowest energy should be: -10\n",
      "Lowest energy was: -10\n",
      "Graphs are isomorphic\n",
      "Mapping: (0, 2), (1, 3), (2, 7), (3, 8), (4, 9), (5, 6), (6, 5), (7, 4), (8, 1), (9, 0), \n",
      "Mapping: (0, 2), (1, 3), (2, 7), (3, 8), (4, 9), (5, 6), (6, 5), (7, 4), (8, 0), (9, 1), \n",
      "Result ok\n",
      "\n",
      "Lowest energy should be: -11\n",
      "Lowest energy was: -11\n",
      "Graphs are isomorphic\n",
      "Mapping: (0, 6), (1, 5), (2, 9), (3, 0), (5, 2), (6, 1), (7, 3), (8, 4), (9, 7), \n",
      "Mapping: (0, 6), (1, 5), (2, 9), (3, 0), (4, 8), (5, 2), (6, 1), (7, 3), (8, 4), (9, 7), \n",
      "Result ok\n",
      "\n",
      "Lowest energy should be: -14\n",
      "Lowest energy was: -14\n",
      "Graphs are isomorphic\n",
      "Mapping: (0, 4), (1, 1), (2, 3), (3, 9), (4, 0), (5, 2), (6, 5), (7, 8), (8, 7), (9, 6), \n",
      "Result ok\n",
      "\n",
      "Lowest energy should be: -17\n",
      "Lowest energy was: -17\n",
      "Graphs are isomorphic\n",
      "Mapping: (0, 6), (1, 7), (2, 0), (3, 9), (4, 4), (5, 1), (6, 2), (7, 5), (8, 3), (9, 8), \n",
      "Result ok\n",
      "\n",
      "Lowest energy should be: -11\n",
      "Lowest energy was: -11\n",
      "Graphs are isomorphic\n",
      "Mapping: (0, 4), (1, 0), (2, 8), (3, 1), (4, 2), (5, 5), (6, 7), (7, 9), (8, 3), (9, 6), \n",
      "Mapping: (0, 4), (1, 3), (2, 8), (3, 1), (4, 2), (5, 5), (6, 7), (7, 9), (8, 0), (9, 6), \n",
      "Mapping: (0, 4), (1, 3), (2, 8), (3, 6), (4, 2), (5, 5), (6, 7), (7, 9), (8, 0), (9, 1), \n",
      "Mapping: (0, 4), (1, 0), (2, 8), (3, 1), (4, 2), (5, 5), (6, 7), (8, 3), (9, 6), \n",
      "Mapping: (0, 4), (1, 3), (2, 8), (3, 1), (4, 2), (5, 5), (6, 7), (8, 0), (9, 6), \n",
      "Mapping: (0, 4), (1, 0), (2, 8), (3, 6), (4, 2), (5, 5), (6, 7), (7, 9), (8, 3), (9, 1), \n",
      "Mapping: (0, 4), (1, 3), (2, 8), (3, 6), (4, 2), (5, 5), (6, 7), (8, 0), (9, 1), \n",
      "Mapping: (0, 4), (1, 0), (2, 8), (3, 6), (4, 2), (5, 5), (6, 7), (8, 3), (9, 1), \n",
      "Result ok\n",
      "\n",
      "Lowest energy should be: -18\n",
      "Lowest energy was: -18\n",
      "Graphs are isomorphic\n",
      "Mapping: (0, 8), (1, 6), (2, 3), (3, 1), (4, 0), (5, 5), (6, 9), (7, 7), (8, 4), (9, 2), \n",
      "Result ok\n",
      "\n",
      "Lowest energy should be: -17\n",
      "Lowest energy was: -17\n",
      "Graphs are isomorphic\n",
      "Mapping: (0, 4), (1, 2), (2, 7), (3, 0), (4, 5), (5, 9), (6, 8), (7, 3), (8, 1), (9, 6), \n",
      "Result ok\n",
      "\n",
      "Lowest energy should be: -17\n",
      "Lowest energy was: -17\n",
      "Graphs are isomorphic\n",
      "Mapping: (0, 4), (1, 7), (2, 2), (3, 1), (4, 0), (5, 5), (6, 8), (7, 9), (8, 3), (9, 6), \n",
      "Result ok\n",
      "\n",
      "Lowest energy should be: -13\n",
      "Lowest energy was: -13\n",
      "Graphs are isomorphic\n",
      "Mapping: (0, 7), (1, 3), (2, 9), (3, 1), (4, 8), (5, 0), (6, 2), (7, 6), (8, 4), (9, 5), \n",
      "Result ok\n",
      "\n",
      "Lowest energy should be: -14\n",
      "Lowest energy was: -14\n",
      "Graphs are isomorphic\n",
      "Mapping: (0, 6), (1, 0), (2, 3), (3, 4), (4, 7), (5, 1), (6, 5), (7, 8), (8, 9), (9, 2), \n",
      "Mapping: (0, 6), (1, 0), (2, 2), (3, 4), (4, 7), (5, 1), (6, 5), (7, 8), (8, 9), (9, 3), \n",
      "Result ok\n",
      "\n",
      "Lowest energy should be: -15\n",
      "Lowest energy was: -15\n",
      "Graphs are isomorphic\n",
      "Mapping: (0, 4), (1, 3), (2, 6), (3, 5), (4, 0), (5, 9), (6, 8), (7, 2), (8, 1), (9, 7), \n",
      "Mapping: (0, 4), (1, 3), (2, 6), (3, 5), (4, 0), (5, 9), (6, 1), (7, 2), (8, 8), (9, 7), \n",
      "Result ok\n",
      "\n",
      "Lowest energy should be: -14\n",
      "Lowest energy was: -14\n",
      "Graphs are isomorphic\n",
      "Mapping: (0, 9), (1, 6), (2, 4), (3, 7), (4, 5), (5, 0), (6, 2), (7, 8), (8, 1), (9, 3), \n",
      "Mapping: (0, 9), (1, 6), (2, 4), (3, 7), (4, 5), (5, 0), (6, 2), (7, 1), (8, 8), (9, 3), \n",
      "Result ok\n",
      "\n",
      "Lowest energy should be: -16\n",
      "Lowest energy was: -16\n",
      "Graphs are isomorphic\n",
      "Mapping: (0, 0), (1, 5), (2, 4), (3, 8), (4, 2), (5, 7), (6, 9), (7, 1), (8, 6), (9, 3), \n",
      "Result ok\n",
      "\n",
      "Lowest energy should be: -14\n",
      "Lowest energy was: -14\n",
      "Graphs are isomorphic\n",
      "Mapping: (0, 1), (1, 5), (2, 3), (3, 7), (4, 2), (5, 8), (6, 6), (7, 0), (8, 4), (9, 9), \n",
      "Result ok\n",
      "\n",
      "Lowest energy should be: -13\n",
      "Lowest energy was: -13\n",
      "Graphs are isomorphic\n",
      "Mapping: (0, 8), (1, 6), (2, 9), (3, 0), (4, 4), (5, 2), (6, 3), (7, 1), (8, 7), (9, 5), \n",
      "Result ok\n",
      "\n",
      "Lowest energy should be: -11\n",
      "Lowest energy was: -11\n",
      "Graphs are isomorphic\n",
      "Mapping: (0, 8), (1, 7), (2, 3), (3, 9), (4, 0), (5, 6), (6, 5), (7, 4), (8, 1), (9, 2), \n",
      "Result ok\n",
      "\n",
      "Lowest energy should be: -15\n",
      "Lowest energy was: -15\n",
      "Graphs are isomorphic\n",
      "Mapping: (0, 0), (1, 3), (2, 9), (3, 8), (4, 2), (5, 5), (6, 6), (7, 4), (8, 7), (9, 1), \n",
      "Mapping: (0, 0), (1, 3), (2, 9), (3, 8), (4, 2), (5, 7), (6, 6), (7, 4), (8, 5), (9, 1), \n",
      "Result ok\n",
      "\n",
      "Lowest energy should be: -15\n",
      "Lowest energy was: -15\n",
      "Graphs are isomorphic\n",
      "Mapping: (0, 7), (1, 9), (2, 8), (3, 6), (4, 4), (5, 3), (6, 2), (7, 0), (8, 1), (9, 5), \n",
      "Result ok\n",
      "\n"
     ]
    }
   ],
   "source": [
    "for seed in range(20):\n",
    "    vertices = 10\n",
    "    random.seed(seed)\n",
    "    G1 = nx.gnp_random_graph(vertices2, 0.30, seed, directed=False)\n",
    "    E1 = [] \n",
    "    for e in G1.edges(data=True):\n",
    "        E1.append((e[0],e[1]))\n",
    "    p = len(E1)\n",
    "    \n",
    "    mapping = dict(zip(G.nodes(), sorted(G.nodes(), key=lambda k: random.random())))\n",
    "    G2 = nx.relabel_nodes(G1, mapping)\n",
    "    E2 = []\n",
    "    for e in G2.edges(data=True):\n",
    "        E2.append((e[0],e[1]))\n",
    "        \n",
    "    results, sampleset = solve_gi(SimulatedAnnealingSampler(), 2000, E1, E2, vertices, p)\n",
    "    ok = False\n",
    "    for res in results:\n",
    "        if res==mapping:\n",
    "            ok = True\n",
    "    if ok:\n",
    "        print('Result ok\\n')\n",
    "    else:\n",
    "        print('ERROR\\n')"
   ]
  },
  {
   "cell_type": "code",
   "execution_count": null,
   "id": "d87c3462-8cd4-4c81-8c1d-8f8a0cca313c",
   "metadata": {},
   "outputs": [],
   "source": []
  }
 ],
 "metadata": {
  "kernelspec": {
   "display_name": "Python 3 (ipykernel)",
   "language": "python",
   "name": "python3"
  },
  "language_info": {
   "codemirror_mode": {
    "name": "ipython",
    "version": 3
   },
   "file_extension": ".py",
   "mimetype": "text/x-python",
   "name": "python",
   "nbconvert_exporter": "python",
   "pygments_lexer": "ipython3",
   "version": "3.8.18"
  }
 },
 "nbformat": 4,
 "nbformat_minor": 5
}
