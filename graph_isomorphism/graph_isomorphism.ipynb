{
 "cells": [
  {
   "cell_type": "markdown",
   "id": "37491fc9-dd27-47f9-998c-30f2f162aa83",
   "metadata": {},
   "source": [
    "# Graph isomorphism\n",
    "\n",
    "Lets assume that we have two undirected graphs $G_1 = (V_1, E_1)$ and $G_2 = (V_2, E_2)$. They are isomorphic if we can find bijective mapping from $V_1$ to $V_2$ so that structure of mapped V1 is identical to V2. Obviously $n=|V_1|=|V_2|$.   \n",
    "\n",
    "Approach is to form QUBO which elements are mappings of single vertex $(v_1 \\in V_1, v_1 \\in V_1)$. So there are altogether $n^2$ elements. We build following constraints: \n",
    "1. every vertex from G1 must be mapped to one vertex in G2 \n",
    "2. every vertex from G2 must be mapped to one vertex in G1 \n",
    "3. with mapping every e in E1 should be mapped to e in E2 \n",
    "4. with mapping every e in E2 should be mapped to e in E1 (this is however not needed, 1 and 2 ensures bijection already) "
   ]
  },
  {
   "cell_type": "code",
   "execution_count": 1,
   "id": "265905c4-1b60-4b0c-9871-511ef6d1962a",
   "metadata": {
    "tags": []
   },
   "outputs": [],
   "source": [
    "import numpy as np\n",
    "import time\n",
    "import dimod\n",
    "from dwave.system import DWaveSampler, EmbeddingComposite, LeapHybridSampler\n",
    "from dwave.samplers import SimulatedAnnealingSampler\n",
    "import dwave.inspector\n",
    "import networkx as nx\n",
    "from networkx.classes.function import path_weight\n",
    "import random"
   ]
  },
  {
   "cell_type": "code",
   "execution_count": 2,
   "id": "e5f35b0a-8124-465d-a872-29ecfc23f2f4",
   "metadata": {
    "tags": []
   },
   "outputs": [],
   "source": [
    "def create_qubo(G1,G2,p):\n",
    "    vertices=len(G1.vertices)\n",
    "    Q = np.zeros(vertices*vertices, vertices*vertices)\n",
    "    return Q"
   ]
  },
  {
   "cell_type": "code",
   "execution_count": null,
   "id": "e6ea7637-f0cc-4f8d-8ab6-9649c6dc6934",
   "metadata": {},
   "outputs": [],
   "source": []
  }
 ],
 "metadata": {
  "kernelspec": {
   "display_name": "Python 3 (ipykernel)",
   "language": "python",
   "name": "python3"
  },
  "language_info": {
   "codemirror_mode": {
    "name": "ipython",
    "version": 3
   },
   "file_extension": ".py",
   "mimetype": "text/x-python",
   "name": "python",
   "nbconvert_exporter": "python",
   "pygments_lexer": "ipython3",
   "version": "3.8.18"
  }
 },
 "nbformat": 4,
 "nbformat_minor": 5
}
