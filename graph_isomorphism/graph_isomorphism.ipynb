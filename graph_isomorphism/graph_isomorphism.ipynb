{
 "cells": [
  {
   "cell_type": "markdown",
   "id": "37491fc9-dd27-47f9-998c-30f2f162aa83",
   "metadata": {},
   "source": [
    "# Graph isomorphism\n",
    "\n",
    "Ising formulation here: https://arxiv.org/abs/1302.5843 (Lucas 2014)\n",
    "\n",
    "Lets assume that we have two directed graphs $G_1 = (V_1, E_1)$ and $G_2 = (V_2, E_2)$. They are isomorphic if we can find bijection from $V_1$ to $V_2$ so that structure of mapped $V_1$ is identical to $V_2$. Obviously $n=|V_1|=|V_2|$. \n",
    "\n",
    "Approach is to form QUBO which elements are mappings of single vertex $(v_1 \\in V_1, v_2 \\in V_2)$. So there are altogether $n^2$ elements. Following constraints are build to QUBO: \n",
    "1. every vertex $v \\in G_1$ must be mapped to vertex $v \\in G_2$ \n",
    "2. every vertex $v \\in G_2$ must be mapped from vertex $v \\in G_1$\n",
    "3. with mapping every $e \\in E_1$ should be mapped to $e \\in E_2$ \n",
    "4. with mapping every $e \\in E_2$ should be mapped to $e \\in E_1$(this is however not needed, 1 and 2 ensures bijection already) \n",
    "\n",
    "Lowest energylevel should be $-|E|$. If this is reached, graphs are isomorphic."
   ]
  },
  {
   "cell_type": "code",
   "execution_count": 1,
   "id": "265905c4-1b60-4b0c-9871-511ef6d1962a",
   "metadata": {
    "tags": []
   },
   "outputs": [],
   "source": [
    "import numpy as np\n",
    "import time\n",
    "import dimod\n",
    "from dwave.system import DWaveSampler, EmbeddingComposite, LeapHybridSampler\n",
    "from dwave.samplers import SimulatedAnnealingSampler\n",
    "import dwave.inspector\n",
    "import networkx as nx\n",
    "from networkx.classes.function import path_weight\n",
    "import random"
   ]
  },
  {
   "cell_type": "markdown",
   "id": "efda6875-aeb4-4e8a-8acc-d149f2452219",
   "metadata": {
    "tags": []
   },
   "source": [
    "## QUBO function"
   ]
  },
  {
   "cell_type": "code",
   "execution_count": 2,
   "id": "e5f35b0a-8124-465d-a872-29ecfc23f2f4",
   "metadata": {
    "tags": []
   },
   "outputs": [],
   "source": [
    "def create_qubo(E1,E2,vertices,p):\n",
    "    Q = np.zeros((vertices*vertices, vertices*vertices))\n",
    "    \n",
    "    # Constraint 1: penalty if several mappings from same source\n",
    "    for i in range(vertices): \n",
    "        for j in range(vertices): \n",
    "            for k in range(j+1,vertices): \n",
    "                Q[i*vertices+j,i*vertices+k]=p \n",
    "\n",
    "    # Constaint 2: penalty if several mappings to same target\n",
    "    for i in range(vertices): \n",
    "        for j in range(vertices): \n",
    "            for k in range(j+1,vertices): \n",
    "                Q[i+vertices*j,i+vertices*k]=p \n",
    "                \n",
    "    # Constraint 3: -1 for each succesfully mapped edge\n",
    "    for e1 in E1: \n",
    "        for e2 in E2: \n",
    "            Q[e1[0]*vertices+e2[0], e1[1]*vertices+e2[1]] -= 1 \n",
    "            \n",
    "    return Q"
   ]
  },
  {
   "cell_type": "markdown",
   "id": "f6ed6d15-6f21-4c09-9a76-597dcb6f27e4",
   "metadata": {},
   "source": [
    "## Helper functions"
   ]
  },
  {
   "cell_type": "code",
   "execution_count": 82,
   "id": "98f597f2-69d1-4b97-9515-1a88ada6239c",
   "metadata": {
    "tags": []
   },
   "outputs": [],
   "source": [
    "def result_info(sample, e):\n",
    "    print('Lowest energy should be:',-e)\n",
    "    print('Lowest energy was:',int(sample.energy))\n",
    "    if -e==int(sample.energy):\n",
    "        print('Graphs are isomorphic')\n",
    "    else:\n",
    "        print('Graphs are NOT isomorphic')\n",
    "    m = ''\n",
    "    res = {}\n",
    "    for k,v in sample.sample.items():\n",
    "        if v==1:\n",
    "            m += str(k)+', '\n",
    "            res[k[0]]=k[1]\n",
    "    print('Mapping: '+m)\n",
    "    return res\n",
    "    \n",
    "def solve_gi(solver, num_reads, E1, E2, vertices, p, qpu_info=False):\n",
    "    Q = create_qubo(E1,E2,vertices,p)\n",
    "\n",
    "    labels = {}\n",
    "    for i in range(vertices):\n",
    "        for j in range(vertices):\n",
    "            labels[i*vertices+j] = (i,j)\n",
    "        \n",
    "    bqm = dimod.BinaryQuadraticModel(Q, 'BINARY')\n",
    "    bqm = bqm.relabel_variables(labels, inplace=False)\n",
    "    sampleset = solver.sample(bqm, num_reads=num_reads).aggregate()\n",
    "    res = result_info(sampleset.first, len(E1))\n",
    "    if qpu_info:\n",
    "        print('\\nNumber of logical qubits:',Q.shape[0])\n",
    "        print('Number of couplers:', len(bqm.quadratic))\n",
    "        qpu_time = sampleset.info['timing']['qpu_access_time'] / 1000\n",
    "        qubits = sum(len(x) for x in sampleset.info['embedding_context']['embedding'].values())\n",
    "        print('QPU time used (ms): {:.1f}'.format(qpu_time))\n",
    "        print('Physical qubits used: {}\\n'.format(qubits))\n",
    "    return res"
   ]
  },
  {
   "cell_type": "markdown",
   "id": "64d15a5a-0525-49c3-8daf-e1635e2d4209",
   "metadata": {},
   "source": [
    "## Simple graphs"
   ]
  },
  {
   "cell_type": "code",
   "execution_count": 77,
   "id": "e6ea7637-f0cc-4f8d-8ab6-9649c6dc6934",
   "metadata": {
    "tags": []
   },
   "outputs": [
    {
     "name": "stdout",
     "output_type": "stream",
     "text": [
      "Penalty: 7\n"
     ]
    }
   ],
   "source": [
    "vertices = 5\n",
    "E1 = np.array([(0, 2), (2, 1), (1, 3), (3, 2), (0, 1), (3, 4), (2, 4)])\n",
    "E3 = np.array([(0, 2), (2, 1), (1, 3), (3, 2), (0, 1), (3, 4), (2, 0)]) # last number difference\n",
    "\n",
    "perm={0:2, 1:1, 2:3, 3:4, 4:0}\n",
    "E2 = np.array(E1, copy=True) \n",
    "for i in range(len(E2)):\n",
    "    E2[i]=(perm[E2[i][0]],perm[E2[i][1]])\n",
    "    \n",
    "p = len(E2)\n",
    "print('Penalty:',p)"
   ]
  },
  {
   "cell_type": "markdown",
   "id": "f81c3aaf-74d5-417e-aafb-0994bbc3673d",
   "metadata": {
    "tags": []
   },
   "source": [
    "### Heuristic solver"
   ]
  },
  {
   "cell_type": "code",
   "execution_count": 5,
   "id": "57c6a1cd-8cd9-4826-a51b-30837cc2d18f",
   "metadata": {
    "tags": []
   },
   "outputs": [
    {
     "name": "stdout",
     "output_type": "stream",
     "text": [
      "Identical graphs\n",
      "Lowest energy should be: -7\n",
      "Lowest energy was: -7\n",
      "Graphs are isomorphic\n",
      "Mapping: (0, 0), (1, 1), (2, 2), (3, 3), (4, 4), \n"
     ]
    }
   ],
   "source": [
    "print('Identical graphs')\n",
    "res = solve_gi(SimulatedAnnealingSampler(), 1000, E1, E1, vertices, p)"
   ]
  },
  {
   "cell_type": "code",
   "execution_count": 6,
   "id": "24035d5b-8c57-41f9-b79d-fd89eb3497db",
   "metadata": {
    "tags": []
   },
   "outputs": [
    {
     "name": "stdout",
     "output_type": "stream",
     "text": [
      "Differing graphs\n",
      "Lowest energy should be: -7\n",
      "Lowest energy was: -6\n",
      "Graphs are NOT isomorphic\n",
      "Mapping: (0, 0), (1, 1), (2, 2), (3, 3), (4, 4), \n"
     ]
    }
   ],
   "source": [
    "print('Differing graphs')\n",
    "res = solve_gi(SimulatedAnnealingSampler(), 1000, E1, E3, vertices, p)"
   ]
  },
  {
   "cell_type": "code",
   "execution_count": 7,
   "id": "5dbb01b6-8cba-41d5-ace2-c9c1e100366c",
   "metadata": {
    "tags": []
   },
   "outputs": [
    {
     "name": "stdout",
     "output_type": "stream",
     "text": [
      "Identical but nodes permuted\n",
      "Lowest energy should be: -7\n",
      "Lowest energy was: -7\n",
      "Graphs are isomorphic\n",
      "Mapping: (0, 2), (1, 1), (2, 3), (3, 4), (4, 0), \n"
     ]
    }
   ],
   "source": [
    "print('Identical but nodes permuted')\n",
    "res = solve_gi(SimulatedAnnealingSampler(), 1000, E1, E2, vertices, p)"
   ]
  },
  {
   "cell_type": "markdown",
   "id": "5232fda2-b793-470f-b18a-298cab38c0da",
   "metadata": {},
   "source": [
    "### Quantum solver"
   ]
  },
  {
   "cell_type": "code",
   "execution_count": 8,
   "id": "ba1b02ed-f672-4a75-81a2-42ea02d18f0b",
   "metadata": {
    "tags": []
   },
   "outputs": [
    {
     "name": "stdout",
     "output_type": "stream",
     "text": [
      "Chip: Advantage_system4.1\n",
      "Qubits: 5760\n"
     ]
    }
   ],
   "source": [
    "machine = DWaveSampler(solver={'chip_id': 'Advantage_system4.1'})\n",
    "print('Chip:', machine.properties['chip_id'])\n",
    "print('Qubits:', machine.properties['num_qubits'])"
   ]
  },
  {
   "cell_type": "code",
   "execution_count": 83,
   "id": "2a052bfc-ebfa-4768-a28b-0e30a6b2ae11",
   "metadata": {
    "tags": []
   },
   "outputs": [
    {
     "name": "stdout",
     "output_type": "stream",
     "text": [
      "Identical graphs\n",
      "Lowest energy should be: -7\n",
      "Lowest energy was: -7\n",
      "Graphs are isomorphic\n",
      "Mapping: (0, 0), (1, 1), (2, 2), (3, 3), (4, 4), \n",
      "\n",
      "Number of logical qubits: 25\n",
      "Number of couplers: 149\n",
      "QPU time used (ms): 45.8\n",
      "Physical qubits used: 66\n",
      "\n"
     ]
    }
   ],
   "source": [
    "print('Identical graphs')\n",
    "res = solve_gi(EmbeddingComposite(machine), 200, E1, E1, vertices, p, qpu_info=True)"
   ]
  },
  {
   "cell_type": "code",
   "execution_count": 84,
   "id": "02f417cc-8006-4435-b69e-9fa4d2f518dc",
   "metadata": {
    "tags": []
   },
   "outputs": [
    {
     "name": "stdout",
     "output_type": "stream",
     "text": [
      "Differing graphs\n",
      "Lowest energy should be: -7\n",
      "Lowest energy was: -6\n",
      "Graphs are NOT isomorphic\n",
      "Mapping: (0, 0), (1, 1), (2, 2), (3, 3), (4, 4), \n",
      "\n",
      "Number of logical qubits: 25\n",
      "Number of couplers: 149\n",
      "QPU time used (ms): 38.4\n",
      "Physical qubits used: 68\n",
      "\n"
     ]
    }
   ],
   "source": [
    "print('Differing graphs')\n",
    "res = solve_gi(EmbeddingComposite(machine), 200, E1, E3, vertices, p, qpu_info=True)"
   ]
  },
  {
   "cell_type": "code",
   "execution_count": 85,
   "id": "d5fd5fd5-42e6-472c-8093-001dddb63709",
   "metadata": {
    "tags": []
   },
   "outputs": [
    {
     "name": "stdout",
     "output_type": "stream",
     "text": [
      "Identical but nodes permuted\n",
      "Lowest energy should be: -7\n",
      "Lowest energy was: -7\n",
      "Graphs are isomorphic\n",
      "Mapping: (0, 2), (1, 1), (2, 3), (3, 4), (4, 0), \n",
      "\n",
      "Number of logical qubits: 25\n",
      "Number of couplers: 149\n",
      "QPU time used (ms): 51.2\n",
      "Physical qubits used: 72\n",
      "\n"
     ]
    }
   ],
   "source": [
    "print('Identical but nodes permuted')\n",
    "res = solve_gi(EmbeddingComposite(machine), 200, E1, E2, vertices, p, qpu_info=True)"
   ]
  },
  {
   "cell_type": "markdown",
   "id": "e1a6e8ff-63b1-4123-be69-c06fe333cbd4",
   "metadata": {
    "tags": []
   },
   "source": [
    "## Larger graph"
   ]
  },
  {
   "cell_type": "code",
   "execution_count": 86,
   "id": "b7c22fbe-5bc0-49fb-b18d-2c3feec26254",
   "metadata": {
    "tags": []
   },
   "outputs": [
    {
     "name": "stdout",
     "output_type": "stream",
     "text": [
      "Number of edges: 34\n",
      "Number of vertices: 10\n",
      "Penalty: 34\n"
     ]
    }
   ],
   "source": [
    "seed = 42\n",
    "vertices2 = 10\n",
    "random.seed(seed)\n",
    "G = nx.gnp_random_graph(vertices2, 0.30, seed, directed=True)\n",
    "E4 = [] \n",
    "for e in G.edges(data=True):\n",
    "    E4.append((e[0],e[1]))\n",
    "print('Number of edges:',len(E4))\n",
    "print('Number of vertices:',vertices2)\n",
    "p = len(E4)\n",
    "print('Penalty:',p)"
   ]
  },
  {
   "cell_type": "code",
   "execution_count": 87,
   "id": "1e2e2d53-6972-4008-adc0-41121e110b8b",
   "metadata": {
    "tags": []
   },
   "outputs": [
    {
     "name": "stdout",
     "output_type": "stream",
     "text": [
      "{0: 1, 1: 9, 2: 7, 3: 3, 4: 2, 5: 8, 6: 0, 7: 5, 8: 4, 9: 6}\n"
     ]
    }
   ],
   "source": [
    "mapping = dict(zip(G.nodes(), sorted(G.nodes(), key=lambda k: random.random())))\n",
    "print(mapping)\n",
    "G2 = nx.relabel_nodes(G, mapping)\n",
    "E5 = []\n",
    "for e in G2.edges(data=True):\n",
    "    E5.append((e[0],e[1]))"
   ]
  },
  {
   "cell_type": "code",
   "execution_count": 88,
   "id": "8c778fa3-d2c0-4a2c-90ee-6d61507e3cf6",
   "metadata": {
    "tags": []
   },
   "outputs": [],
   "source": [
    "G3 = nx.gnp_random_graph(vertices2, 0.30, seed+1, directed=True)\n",
    "E6 = [] \n",
    "for e in G3.edges(data=True):\n",
    "    E6.append((e[0],e[1]))"
   ]
  },
  {
   "cell_type": "code",
   "execution_count": 89,
   "id": "49cd5fb1-83e1-47cf-b73a-f5feb2c7f2a0",
   "metadata": {
    "tags": []
   },
   "outputs": [
    {
     "name": "stdout",
     "output_type": "stream",
     "text": [
      "Identical graphs\n",
      "Lowest energy should be: -34\n",
      "Lowest energy was: -34\n",
      "Graphs are isomorphic\n",
      "Mapping: (0, 0), (1, 1), (2, 2), (3, 3), (4, 4), (5, 5), (6, 6), (7, 7), (8, 8), (9, 9), \n"
     ]
    }
   ],
   "source": [
    "print('Identical graphs')\n",
    "res = solve_gi(SimulatedAnnealingSampler(), 1000, E4, E4, vertices2, p)"
   ]
  },
  {
   "cell_type": "code",
   "execution_count": 90,
   "id": "12ee6480-b8a0-4e06-993e-221e17b080d0",
   "metadata": {
    "tags": []
   },
   "outputs": [
    {
     "name": "stdout",
     "output_type": "stream",
     "text": [
      "Similar graphs\n",
      "Lowest energy should be: -34\n",
      "Lowest energy was: -34\n",
      "Graphs are isomorphic\n",
      "Mapping: (0, 1), (1, 9), (2, 7), (3, 3), (4, 2), (5, 8), (6, 0), (7, 5), (8, 4), (9, 6), \n"
     ]
    }
   ],
   "source": [
    "print('Similar graphs')\n",
    "res = solve_gi(SimulatedAnnealingSampler(), 1000, E4, E5, vertices2, p)"
   ]
  },
  {
   "cell_type": "code",
   "execution_count": 91,
   "id": "5aef1539-47d3-4910-b619-f9c32bc0b3dc",
   "metadata": {
    "tags": []
   },
   "outputs": [
    {
     "name": "stdout",
     "output_type": "stream",
     "text": [
      "Different graphs\n",
      "Lowest energy should be: -34\n",
      "Lowest energy was: -18\n",
      "Graphs are NOT isomorphic\n",
      "Mapping: (0, 8), (1, 7), (2, 5), (3, 9), (4, 2), (5, 3), (6, 4), (7, 0), (8, 1), (9, 6), \n"
     ]
    }
   ],
   "source": [
    "print('Different graphs')\n",
    "res = solve_gi(SimulatedAnnealingSampler(), 1000, E4, E6, vertices2, p)"
   ]
  },
  {
   "cell_type": "markdown",
   "id": "80cfd8d0-7df8-4806-b6b8-b1f5d3205a1a",
   "metadata": {
    "tags": []
   },
   "source": [
    "## Testing procedure"
   ]
  },
  {
   "cell_type": "code",
   "execution_count": 92,
   "id": "7ad34b5f-5a95-4ee9-83e9-8ab5bd2d0efb",
   "metadata": {
    "tags": []
   },
   "outputs": [
    {
     "name": "stdout",
     "output_type": "stream",
     "text": [
      "Lowest energy should be: -17\n",
      "Lowest energy was: -17\n",
      "Graphs are isomorphic\n",
      "Mapping: (0, 3), (1, 7), (2, 5), (3, 2), (4, 8), (5, 4), (6, 9), (7, 1), (8, 6), (9, 0), \n",
      "Result ok\n",
      "\n",
      "Lowest energy should be: -26\n",
      "Lowest energy was: -26\n",
      "Graphs are isomorphic\n",
      "Mapping: (0, 9), (1, 8), (2, 0), (3, 3), (4, 5), (5, 4), (6, 6), (7, 2), (8, 7), (9, 1), \n",
      "Result ok\n",
      "\n",
      "Lowest energy should be: -19\n",
      "Lowest energy was: -19\n",
      "Graphs are isomorphic\n",
      "Mapping: (0, 2), (1, 3), (2, 7), (3, 8), (4, 9), (5, 6), (6, 5), (7, 4), (8, 1), (9, 0), \n",
      "Result ok\n",
      "\n",
      "Lowest energy should be: -23\n",
      "Lowest energy was: -23\n",
      "Graphs are isomorphic\n",
      "Mapping: (0, 6), (1, 5), (2, 9), (3, 0), (4, 8), (5, 2), (6, 1), (7, 3), (8, 4), (9, 7), \n",
      "Result ok\n",
      "\n",
      "Lowest energy should be: -30\n",
      "Lowest energy was: -30\n",
      "Graphs are isomorphic\n",
      "Mapping: (0, 4), (1, 1), (2, 3), (3, 9), (4, 0), (5, 2), (6, 5), (7, 8), (8, 7), (9, 6), \n",
      "Result ok\n",
      "\n",
      "Lowest energy should be: -29\n",
      "Lowest energy was: -29\n",
      "Graphs are isomorphic\n",
      "Mapping: (0, 6), (1, 7), (2, 0), (3, 9), (4, 4), (5, 1), (6, 2), (7, 5), (8, 3), (9, 8), \n",
      "Result ok\n",
      "\n",
      "Lowest energy should be: -22\n",
      "Lowest energy was: -22\n",
      "Graphs are isomorphic\n",
      "Mapping: (0, 4), (1, 3), (2, 8), (3, 6), (4, 2), (5, 5), (6, 7), (7, 9), (8, 0), (9, 1), \n",
      "Result ok\n",
      "\n",
      "Lowest energy should be: -31\n",
      "Lowest energy was: -31\n",
      "Graphs are isomorphic\n",
      "Mapping: (0, 8), (1, 6), (2, 3), (3, 1), (4, 0), (5, 5), (6, 9), (7, 7), (8, 4), (9, 2), \n",
      "Result ok\n",
      "\n",
      "Lowest energy should be: -33\n",
      "Lowest energy was: -33\n",
      "Graphs are isomorphic\n",
      "Mapping: (0, 4), (1, 2), (2, 7), (3, 0), (4, 5), (5, 9), (6, 8), (7, 3), (8, 1), (9, 6), \n",
      "Result ok\n",
      "\n",
      "Lowest energy should be: -33\n",
      "Lowest energy was: -33\n",
      "Graphs are isomorphic\n",
      "Mapping: (0, 4), (1, 7), (2, 2), (3, 1), (4, 0), (5, 5), (6, 8), (7, 9), (8, 3), (9, 6), \n",
      "Result ok\n",
      "\n",
      "Lowest energy should be: -26\n",
      "Lowest energy was: -26\n",
      "Graphs are isomorphic\n",
      "Mapping: (0, 7), (1, 3), (2, 9), (3, 1), (4, 8), (5, 0), (6, 2), (7, 6), (8, 4), (9, 5), \n",
      "Result ok\n",
      "\n",
      "Lowest energy should be: -31\n",
      "Lowest energy was: -31\n",
      "Graphs are isomorphic\n",
      "Mapping: (0, 6), (1, 0), (2, 3), (3, 4), (4, 7), (5, 1), (6, 5), (7, 8), (8, 9), (9, 2), \n",
      "Result ok\n",
      "\n",
      "Lowest energy should be: -29\n",
      "Lowest energy was: -29\n",
      "Graphs are isomorphic\n",
      "Mapping: (0, 4), (1, 3), (2, 6), (3, 5), (4, 0), (5, 9), (6, 1), (7, 2), (8, 8), (9, 7), \n",
      "Result ok\n",
      "\n",
      "Lowest energy should be: -29\n",
      "Lowest energy was: -29\n",
      "Graphs are isomorphic\n",
      "Mapping: (0, 9), (1, 6), (2, 4), (3, 7), (4, 5), (5, 0), (6, 2), (7, 1), (8, 8), (9, 3), \n",
      "Result ok\n",
      "\n",
      "Lowest energy should be: -31\n",
      "Lowest energy was: -31\n",
      "Graphs are isomorphic\n",
      "Mapping: (0, 0), (1, 5), (2, 4), (3, 8), (4, 2), (5, 7), (6, 9), (7, 1), (8, 6), (9, 3), \n",
      "Result ok\n",
      "\n",
      "Lowest energy should be: -27\n",
      "Lowest energy was: -27\n",
      "Graphs are isomorphic\n",
      "Mapping: (0, 1), (1, 5), (2, 3), (4, 2), (5, 8), (6, 6), (7, 0), (8, 4), (9, 9), \n",
      "ERROR\n",
      "\n",
      "Lowest energy should be: -30\n",
      "Lowest energy was: -30\n",
      "Graphs are isomorphic\n",
      "Mapping: (0, 8), (1, 6), (2, 9), (3, 0), (4, 4), (5, 2), (6, 3), (7, 1), (8, 7), (9, 5), \n",
      "Result ok\n",
      "\n",
      "Lowest energy should be: -25\n",
      "Lowest energy was: -25\n",
      "Graphs are isomorphic\n",
      "Mapping: (0, 8), (1, 7), (2, 3), (3, 9), (4, 0), (5, 6), (6, 5), (7, 4), (8, 1), (9, 2), \n",
      "Result ok\n",
      "\n",
      "Lowest energy should be: -28\n",
      "Lowest energy was: -28\n",
      "Graphs are isomorphic\n",
      "Mapping: (0, 0), (1, 3), (2, 9), (3, 8), (4, 2), (5, 7), (6, 6), (7, 4), (8, 5), (9, 1), \n",
      "Result ok\n",
      "\n",
      "Lowest energy should be: -34\n",
      "Lowest energy was: -34\n",
      "Graphs are isomorphic\n",
      "Mapping: (0, 7), (1, 9), (2, 8), (3, 6), (4, 4), (5, 3), (6, 2), (7, 0), (8, 1), (9, 5), \n",
      "Result ok\n",
      "\n"
     ]
    }
   ],
   "source": [
    "for seed in range(20):\n",
    "    vertices = 10\n",
    "    random.seed(seed)\n",
    "    G1 = nx.gnp_random_graph(vertices2, 0.30, seed, directed=True)\n",
    "    E1 = [] \n",
    "    for e in G1.edges(data=True):\n",
    "        E1.append((e[0],e[1]))\n",
    "    p = len(E1)\n",
    "    \n",
    "    mapping = dict(zip(G.nodes(), sorted(G.nodes(), key=lambda k: random.random())))\n",
    "    G2 = nx.relabel_nodes(G1, mapping)\n",
    "    E2 = []\n",
    "    for e in G2.edges(data=True):\n",
    "        E2.append((e[0],e[1]))\n",
    "        \n",
    "    res = solve_gi(SimulatedAnnealingSampler(), 1000, E1, E2, vertices, p)\n",
    "    if res==mapping:\n",
    "        print('Result ok\\n')\n",
    "    else:\n",
    "        print('ERROR\\n')"
   ]
  },
  {
   "cell_type": "code",
   "execution_count": null,
   "id": "d87c3462-8cd4-4c81-8c1d-8f8a0cca313c",
   "metadata": {},
   "outputs": [],
   "source": []
  }
 ],
 "metadata": {
  "kernelspec": {
   "display_name": "Python 3 (ipykernel)",
   "language": "python",
   "name": "python3"
  },
  "language_info": {
   "codemirror_mode": {
    "name": "ipython",
    "version": 3
   },
   "file_extension": ".py",
   "mimetype": "text/x-python",
   "name": "python",
   "nbconvert_exporter": "python",
   "pygments_lexer": "ipython3",
   "version": "3.8.18"
  }
 },
 "nbformat": 4,
 "nbformat_minor": 5
}
