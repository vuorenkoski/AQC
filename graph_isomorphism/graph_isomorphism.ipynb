{
 "cells": [
  {
   "cell_type": "markdown",
   "id": "37491fc9-dd27-47f9-998c-30f2f162aa83",
   "metadata": {},
   "source": [
    "# Graph isomorphism\n",
    "\n",
    "Ising formulation here: https://arxiv.org/abs/1302.5843 (Lucas 2014)\n",
    "\n",
    "Lets assume that we have two directed graphs $G_1 = (V_1, E_1)$ and $G_2 = (V_2, E_2)$. They are isomorphic if we can find bijection from $V_1$ to $V_2$ so that structure of mapped $V_1$ is identical to $V_2$. Obviously $n=|V_1|=|V_2|$. \n",
    "\n",
    "One obvious solution is binary variable vector having $|V||V|$ elements. Each element indicate a mapping from one vertex to the other (Lucas 2014). To achieve the results intended, following constraints are build to QUBO:\n",
    "1. every vertex $v_1 \\in G_1$ must be mapped to some vertex $v_3 \\in G_2$ (penalty $p$ for every couple of vertices which are indicated to be mappings from the same source)  \n",
    "2. every vertex $v_2 \\in G_2$ must be mapped from some vertex $v_1 \\in G_1$ (penalty $p$ for every couple of vertices which are indicated to be mapped to the same target) \n",
    "3. for every $e_1 \\in E_1$  there should be counterpart $e_2 \\in E_2$ so that with mapping $e_1$ starting and ending vertex there are similar $e_2$. Each succesfull mapping brings gain of $-1$. \n",
    "\n",
    "If graphs are isomorphic, lowest energy level is $-|E|$. This comes from third constraint of the QUBO. Binary variable vector of this energy level shows correct mapping.  \n",
    "\n",
    "Main disadvantage of this algorithm is fast growing elements in binary variable vector when number of vertices increases (size of vector is $|V|^2$). Size of QUBO grows even faster, as size of the QUBO is $|V|^4$."
   ]
  },
  {
   "cell_type": "code",
   "execution_count": 2,
   "id": "265905c4-1b60-4b0c-9871-511ef6d1962a",
   "metadata": {
    "tags": []
   },
   "outputs": [],
   "source": [
    "import numpy as np\n",
    "import time\n",
    "import dimod\n",
    "from dwave.system import DWaveSampler, EmbeddingComposite, LeapHybridSampler\n",
    "from dwave.samplers import SimulatedAnnealingSampler\n",
    "import dwave.inspector\n",
    "import networkx as nx\n",
    "from networkx.classes.function import path_weight\n",
    "import random"
   ]
  },
  {
   "cell_type": "markdown",
   "id": "efda6875-aeb4-4e8a-8acc-d149f2452219",
   "metadata": {
    "tags": []
   },
   "source": [
    "## QUBO function"
   ]
  },
  {
   "cell_type": "code",
   "execution_count": 3,
   "id": "e5f35b0a-8124-465d-a872-29ecfc23f2f4",
   "metadata": {
    "tags": []
   },
   "outputs": [],
   "source": [
    "def create_qubo(E1,E2,vertices,p):\n",
    "    Q = np.zeros((vertices*vertices, vertices*vertices))\n",
    "    \n",
    "    # Constraint 1: penalty if several mappings from same source\n",
    "    for i in range(vertices): \n",
    "        for j in range(vertices): \n",
    "            for k in range(j+1,vertices): \n",
    "                Q[i*vertices+j,i*vertices+k]=p \n",
    "\n",
    "    # Constaint 2: penalty if several mappings to same target\n",
    "    for i in range(vertices): \n",
    "        for j in range(vertices): \n",
    "            for k in range(j+1,vertices): \n",
    "                Q[i+vertices*j,i+vertices*k]=p \n",
    "                \n",
    "    # Constraint 3: -1 for each succesfully mapped edge: (x1,y1) -> (x2,y2) \n",
    "    #    two possible mappings: (x1->x2, y1->y2) or (x1->y2,y1->x2)\n",
    "    for e1 in E1: \n",
    "        for e2 in E2: \n",
    "            Q[e1[0]*vertices+e2[0], e1[1]*vertices+e2[1]] -= 1\n",
    "            Q[e1[0]*vertices+e2[1], e1[1]*vertices+e2[0]] -= 1\n",
    "            \n",
    "    # All quadratic coefficients in lower triangle to upper triangle\n",
    "    for i in range(vertices): \n",
    "        for j in range(i):\n",
    "            Q[j,i] += Q[i,j]\n",
    "            Q[i,j] = 0\n",
    "    return Q"
   ]
  },
  {
   "cell_type": "markdown",
   "id": "f6ed6d15-6f21-4c09-9a76-597dcb6f27e4",
   "metadata": {},
   "source": [
    "## Helper functions"
   ]
  },
  {
   "cell_type": "code",
   "execution_count": 16,
   "id": "98f597f2-69d1-4b97-9515-1a88ada6239c",
   "metadata": {
    "tags": []
   },
   "outputs": [],
   "source": [
    "def result_info(sampleset, e):\n",
    "    print('Lowest energy should be:',-e)\n",
    "    print('Lowest energy was:',int(sampleset.first.energy))\n",
    "    results = []\n",
    "    if -e!=int(sampleset.first.energy):\n",
    "        print('Graphs are NOT isomorphic')\n",
    "    else:\n",
    "        print('Graphs are isomorphic')\n",
    "        for sample in sampleset:\n",
    "            m = ''\n",
    "            res = {}\n",
    "            for k,v in sample.items():\n",
    "                if v==1:\n",
    "                    m += str(k)+', '\n",
    "                    res[k[0]]=k[1]\n",
    "            print('Mapping: '+m)\n",
    "            results.append(res)\n",
    "    return results\n",
    "    \n",
    "def solve_gi(solver, num_reads, E1, E2, vertices, p, qpu_info=False, qpu_info_hybrid=False, timing_info=False, print_sample=False):\n",
    "    Q = create_qubo(E1,E2,vertices,p)\n",
    "\n",
    "    labels = {}\n",
    "    for i in range(vertices):\n",
    "        for j in range(vertices):\n",
    "            labels[i*vertices+j] = (i,j)\n",
    "        \n",
    "    bqm = dimod.BinaryQuadraticModel(Q, 'BINARY')\n",
    "    bqm = bqm.relabel_variables(labels, inplace=False)\n",
    "    t1 = time.time()\n",
    "    if num_reads==None:\n",
    "        sampleset = solver.sample(bqm).aggregate()\n",
    "    else:\n",
    "        sampleset = solver.sample(bqm, num_reads=num_reads).aggregate()\n",
    "    ttime = (time.time()-t1)*1000\n",
    "    if print_sample:\n",
    "        print(sampleset.truncate(10))\n",
    "    res = result_info(sampleset.filter(lambda s: s.energy==sampleset.first.energy), len(E1))\n",
    "    if qpu_info_hybrid:\n",
    "        print('\\nTotal time used (ms): {:.3f}'.format(ttime))\n",
    "        print('Number of logical qubits:',Q.shape[0])\n",
    "        print('Number of couplers:', len(bqm.quadratic))\n",
    "        hyb_time = sampleset.info['qpu_access_time'] / 1000\n",
    "        run_time = sampleset.info['run_time'] / 1000\n",
    "        print('QPU time used (ms): {:.1f}'.format(hyb_time))\n",
    "        print('Total time used (ms): {:.1f}\\n'.format(run_time))\n",
    "    if qpu_info:\n",
    "        print('\\nTotal time used (ms): {:.3f}'.format(ttime))\n",
    "        print('Number of logical qubits:',Q.shape[0])\n",
    "        print('Number of couplers:', len(bqm.quadratic))\n",
    "        qpu_time = sampleset.info['timing']['qpu_access_time'] / 1000\n",
    "        qubits = sum(len(x) for x in sampleset.info['embedding_context']['embedding'].values())\n",
    "        print('QPU time used (ms): {:.1f}'.format(qpu_time))\n",
    "        print('Physical qubits used: {}\\n'.format(qubits))\n",
    "    if timing_info:\n",
    "        print('\\nTotal time used (ms): {:.3f}'.format(ttime))\n",
    "\n",
    "    return res, sampleset"
   ]
  },
  {
   "cell_type": "markdown",
   "id": "e8660af3-2c0e-4915-8efe-1a6847394cb2",
   "metadata": {},
   "source": [
    "## First test\n",
    "\n",
    "Very simple graph from (Calude 2017)"
   ]
  },
  {
   "cell_type": "code",
   "execution_count": 5,
   "id": "f52d98cd-8930-4f48-ae94-cbe9c38502d9",
   "metadata": {
    "tags": []
   },
   "outputs": [
    {
     "name": "stdout",
     "output_type": "stream",
     "text": [
      "[[ 0.  2.  2.  2. -1. -1.  2.  0.  0.]\n",
      " [ 0.  0.  2. -1.  2.  0.  0.  2.  0.]\n",
      " [ 0.  0.  0. -1.  0.  2.  0.  0.  2.]\n",
      " [ 0.  0.  0.  0.  2.  2.  2. -1. -1.]\n",
      " [ 0.  0.  0.  0.  0.  2. -1.  2.  0.]\n",
      " [ 0.  0.  0.  0.  0.  0. -1.  0.  2.]\n",
      " [ 0.  0.  0.  0.  0.  0.  0.  2.  2.]\n",
      " [ 0.  0.  0.  0.  0.  0.  0.  0.  2.]\n",
      " [ 0.  0.  0.  0.  0.  0.  0.  0.  0.]]\n",
      "\n",
      "\n",
      "   0  1  2  3  4  5  6  7  8 energy num_oc.\n",
      "0  0  1  0  1  0  0  0  0  1   -2.0       1\n",
      "1  0  0  1  1  0  0  0  1  0   -2.0       1\n",
      "2  1  0  0  0  0  1  0  1  0   -1.0       1\n",
      "3  1  0  0  0  0  1  0  0  0   -1.0       1\n",
      "4  0  0  0  1  0  0  0  1  0   -1.0       1\n",
      "5  0  0  0  0  1  0  1  0  0   -1.0       1\n",
      "6  0  1  0  1  0  0  0  0  0   -1.0       1\n",
      "7  0  0  1  0  1  0  1  0  0   -1.0       1\n",
      "8  0  1  0  0  0  1  1  0  0   -1.0       1\n",
      "9  0  0  0  0  0  1  1  0  0   -1.0       1\n",
      "['BINARY', 10 rows, 10 samples, 9 variables]\n",
      "Lowest energy should be: -2\n",
      "Lowest energy was: -2\n",
      "Graphs are isomorphic\n",
      "Mapping: (0, 2), (1, 0), (2, 1), \n",
      "Mapping: (0, 1), (1, 0), (2, 2), \n"
     ]
    }
   ],
   "source": [
    "vertices = 3\n",
    "E1 = np.array([(0, 1), (1, 2)])\n",
    "E2 = np.array([(0, 1), (0, 2)])\n",
    "# Correct mapping (0,1),(1,0),(2,2) and (0,2),(1,0),(2,1)\n",
    "Q = create_qubo(E1,E2,3,2)\n",
    "print(Q)\n",
    "print('\\n')\n",
    "bqm = dimod.BinaryQuadraticModel(Q, 'BINARY')\n",
    "sampleset = dimod.ExactSolver().sample(bqm)\n",
    "print(sampleset.truncate(10))\n",
    "res, sampleset = solve_gi(SimulatedAnnealingSampler(), 1000, E1, E2, vertices, len(E1))"
   ]
  },
  {
   "cell_type": "code",
   "execution_count": 6,
   "id": "4f80dc8e-f596-4373-9abb-7eb6317c719c",
   "metadata": {
    "tags": []
   },
   "outputs": [
    {
     "name": "stdout",
     "output_type": "stream",
     "text": [
      "Lowest energy should be: -2\n",
      "Lowest energy was: -2\n",
      "Graphs are isomorphic\n",
      "Mapping: (0, 1), (1, 0), (2, 2), \n",
      "Mapping: (0, 2), (1, 0), (2, 1), \n"
     ]
    }
   ],
   "source": [
    "res, sampleset = solve_gi(SimulatedAnnealingSampler(), 1000, E1, E2, vertices, len(E1))"
   ]
  },
  {
   "cell_type": "code",
   "execution_count": 7,
   "id": "4c6c49a5-397f-4097-938e-15f6d8278159",
   "metadata": {
    "tags": []
   },
   "outputs": [
    {
     "name": "stdout",
     "output_type": "stream",
     "text": [
      "Chip: Advantage_system4.1\n",
      "Qubits: 5760\n",
      "Lowest energy should be: -2\n",
      "Lowest energy was: -2\n",
      "Graphs are isomorphic\n",
      "Mapping: (0, 1), (1, 0), (2, 2), \n",
      "Mapping: (0, 2), (1, 0), (2, 1), \n"
     ]
    }
   ],
   "source": [
    "machine = DWaveSampler(solver={'chip_id': 'Advantage_system4.1'})\n",
    "print('Chip:', machine.properties['chip_id'])\n",
    "print('Qubits:', machine.properties['num_qubits'])\n",
    "res, sampleset = solve_gi(EmbeddingComposite(machine), 1000, E1, E2, vertices, len(E1))"
   ]
  },
  {
   "cell_type": "markdown",
   "id": "64d15a5a-0525-49c3-8daf-e1635e2d4209",
   "metadata": {},
   "source": [
    "## Simple graphs"
   ]
  },
  {
   "cell_type": "code",
   "execution_count": 8,
   "id": "e6ea7637-f0cc-4f8d-8ab6-9649c6dc6934",
   "metadata": {
    "tags": []
   },
   "outputs": [
    {
     "name": "stdout",
     "output_type": "stream",
     "text": [
      "Penalty: 6\n"
     ]
    }
   ],
   "source": [
    "vertices = 7\n",
    "E1 = np.array([(0, 1), (0, 2), (0, 3), (2, 4), (3, 5), (5, 6)])\n",
    "E2 = np.array([(0, 1), (0, 2), (0, 3), (2, 4), (3, 5), (0, 6)])# last number difference\n",
    "E3 = np.array([(0, 1), (1, 2), (2, 3), (3, 4), (4, 5), (5, 6)]) # very different\n",
    "\n",
    "perm={0:2, 1:1, 2:3, 3:4, 4:0, 5:6, 6:5}\n",
    "E4 = np.array(E1, copy=True) \n",
    "for i in range(len(E2)):\n",
    "    E4[i]=(perm[E1[i][0]],perm[E1[i][1]])\n",
    "\n",
    "perm2={0:2, 1:1, 2:0, 3:3, 4:4, 5:5, 6:6}\n",
    "E5 = np.array(E1, copy=True) \n",
    "for i in range(len(E3)):\n",
    "    E5[i]=(perm2[E1[i][0]],perm2[E1[i][1]])\n",
    "\n",
    "p = len(E1)\n",
    "print('Penalty:',p)"
   ]
  },
  {
   "cell_type": "markdown",
   "id": "f81c3aaf-74d5-417e-aafb-0994bbc3673d",
   "metadata": {
    "tags": []
   },
   "source": [
    "### Exact solver"
   ]
  },
  {
   "cell_type": "code",
   "execution_count": 17,
   "id": "57c6a1cd-8cd9-4826-a51b-30837cc2d18f",
   "metadata": {
    "tags": []
   },
   "outputs": [
    {
     "name": "stdout",
     "output_type": "stream",
     "text": [
      "Identical graphs\n"
     ]
    },
    {
     "name": "stderr",
     "output_type": "stream",
     "text": [
      "/tmp/ipykernel_3788/3340262194.py:34: SamplerUnknownArgWarning: Ignoring unknown kwarg: 'num_reads'\n",
      "  sampleset = solver.sample(bqm, num_reads=num_reads).aggregate()\n"
     ]
    },
    {
     "ename": "MemoryError",
     "evalue": "Unable to allocate 24.5 PiB for an array with shape (562949953421312, 49) and data type int8",
     "output_type": "error",
     "traceback": [
      "\u001b[0;31m---------------------------------------------------------------------------\u001b[0m",
      "\u001b[0;31mMemoryError\u001b[0m                               Traceback (most recent call last)",
      "Cell \u001b[0;32mIn[17], line 2\u001b[0m\n\u001b[1;32m      1\u001b[0m \u001b[38;5;28mprint\u001b[39m(\u001b[38;5;124m'\u001b[39m\u001b[38;5;124mIdentical graphs\u001b[39m\u001b[38;5;124m'\u001b[39m)\n\u001b[0;32m----> 2\u001b[0m res, sampleset \u001b[38;5;241m=\u001b[39m \u001b[43msolve_gi\u001b[49m\u001b[43m(\u001b[49m\u001b[43mdimod\u001b[49m\u001b[38;5;241;43m.\u001b[39;49m\u001b[43mExactSolver\u001b[49m\u001b[43m(\u001b[49m\u001b[43m)\u001b[49m\u001b[43m,\u001b[49m\u001b[43m \u001b[49m\u001b[38;5;241;43m1000\u001b[39;49m\u001b[43m,\u001b[49m\u001b[43m \u001b[49m\u001b[43mE1\u001b[49m\u001b[43m,\u001b[49m\u001b[43m \u001b[49m\u001b[43mE1\u001b[49m\u001b[43m,\u001b[49m\u001b[43m \u001b[49m\u001b[43mvertices\u001b[49m\u001b[43m,\u001b[49m\u001b[43m \u001b[49m\u001b[43mp\u001b[49m\u001b[43m,\u001b[49m\u001b[43m \u001b[49m\u001b[43mtiming_info\u001b[49m\u001b[38;5;241;43m=\u001b[39;49m\u001b[38;5;28;43;01mTrue\u001b[39;49;00m\u001b[43m)\u001b[49m\n\u001b[1;32m      3\u001b[0m \u001b[38;5;28mprint\u001b[39m(\u001b[38;5;124m'\u001b[39m\u001b[38;5;130;01m\\n\u001b[39;00m\u001b[38;5;124mSlightly differing graphs\u001b[39m\u001b[38;5;124m'\u001b[39m)\n\u001b[1;32m      4\u001b[0m res, sampleset \u001b[38;5;241m=\u001b[39m solve_gi(dimod\u001b[38;5;241m.\u001b[39mExactSolver(), \u001b[38;5;241m1000\u001b[39m, E1, E2, vertices, p, timing_info\u001b[38;5;241m=\u001b[39m\u001b[38;5;28;01mTrue\u001b[39;00m)\n",
      "Cell \u001b[0;32mIn[16], line 34\u001b[0m, in \u001b[0;36msolve_gi\u001b[0;34m(solver, num_reads, E1, E2, vertices, p, qpu_info, qpu_info_hybrid, timing_info, print_sample)\u001b[0m\n\u001b[1;32m     32\u001b[0m     sampleset \u001b[38;5;241m=\u001b[39m solver\u001b[38;5;241m.\u001b[39msample(bqm)\u001b[38;5;241m.\u001b[39maggregate()\n\u001b[1;32m     33\u001b[0m \u001b[38;5;28;01melse\u001b[39;00m:\n\u001b[0;32m---> 34\u001b[0m     sampleset \u001b[38;5;241m=\u001b[39m \u001b[43msolver\u001b[49m\u001b[38;5;241;43m.\u001b[39;49m\u001b[43msample\u001b[49m\u001b[43m(\u001b[49m\u001b[43mbqm\u001b[49m\u001b[43m,\u001b[49m\u001b[43m \u001b[49m\u001b[43mnum_reads\u001b[49m\u001b[38;5;241;43m=\u001b[39;49m\u001b[43mnum_reads\u001b[49m\u001b[43m)\u001b[49m\u001b[38;5;241m.\u001b[39maggregate()\n\u001b[1;32m     35\u001b[0m ttime \u001b[38;5;241m=\u001b[39m (time\u001b[38;5;241m.\u001b[39mtime()\u001b[38;5;241m-\u001b[39mt1)\u001b[38;5;241m*\u001b[39m\u001b[38;5;241m1000\u001b[39m\n\u001b[1;32m     36\u001b[0m \u001b[38;5;28;01mif\u001b[39;00m print_sample:\n",
      "File \u001b[0;32m~/anaconda3/envs/ocean/lib/python3.8/site-packages/dimod/reference/samplers/exact_solver.py:83\u001b[0m, in \u001b[0;36mExactSolver.sample\u001b[0;34m(self, bqm, **kwargs)\u001b[0m\n\u001b[1;32m     80\u001b[0m \u001b[38;5;28;01mif\u001b[39;00m \u001b[38;5;129;01mnot\u001b[39;00m \u001b[38;5;28mlen\u001b[39m(bqm\u001b[38;5;241m.\u001b[39mvariables):\n\u001b[1;32m     81\u001b[0m     \u001b[38;5;28;01mreturn\u001b[39;00m SampleSet\u001b[38;5;241m.\u001b[39mfrom_samples([], bqm\u001b[38;5;241m.\u001b[39mvartype, energy\u001b[38;5;241m=\u001b[39m[])\n\u001b[0;32m---> 83\u001b[0m samples \u001b[38;5;241m=\u001b[39m \u001b[43m_graycode\u001b[49m\u001b[43m(\u001b[49m\u001b[43mbqm\u001b[49m\u001b[43m)\u001b[49m\n\u001b[1;32m     85\u001b[0m \u001b[38;5;28;01mif\u001b[39;00m bqm\u001b[38;5;241m.\u001b[39mvartype \u001b[38;5;129;01mis\u001b[39;00m Vartype\u001b[38;5;241m.\u001b[39mSPIN:\n\u001b[1;32m     86\u001b[0m     samples \u001b[38;5;241m=\u001b[39m \u001b[38;5;241m2\u001b[39m\u001b[38;5;241m*\u001b[39msamples \u001b[38;5;241m-\u001b[39m \u001b[38;5;241m1\u001b[39m\n",
      "File \u001b[0;32m~/anaconda3/envs/ocean/lib/python3.8/site-packages/dimod/reference/samplers/exact_solver.py:257\u001b[0m, in \u001b[0;36m_graycode\u001b[0;34m(bqm)\u001b[0m\n\u001b[1;32m    255\u001b[0m n \u001b[38;5;241m=\u001b[39m \u001b[38;5;28mlen\u001b[39m(bqm\u001b[38;5;241m.\u001b[39mvariables)\n\u001b[1;32m    256\u001b[0m ns \u001b[38;5;241m=\u001b[39m \u001b[38;5;241m1\u001b[39m \u001b[38;5;241m<<\u001b[39m n\n\u001b[0;32m--> 257\u001b[0m samples \u001b[38;5;241m=\u001b[39m \u001b[43mnp\u001b[49m\u001b[38;5;241;43m.\u001b[39;49m\u001b[43mempty\u001b[49m\u001b[43m(\u001b[49m\u001b[43m(\u001b[49m\u001b[43mns\u001b[49m\u001b[43m,\u001b[49m\u001b[43m \u001b[49m\u001b[43mn\u001b[49m\u001b[43m)\u001b[49m\u001b[43m,\u001b[49m\u001b[43m \u001b[49m\u001b[43mdtype\u001b[49m\u001b[38;5;241;43m=\u001b[39;49m\u001b[43mnp\u001b[49m\u001b[38;5;241;43m.\u001b[39;49m\u001b[43mint8\u001b[49m\u001b[43m)\u001b[49m\n\u001b[1;32m    259\u001b[0m samples[\u001b[38;5;241m0\u001b[39m, :] \u001b[38;5;241m=\u001b[39m \u001b[38;5;241m0\u001b[39m\n\u001b[1;32m    261\u001b[0m \u001b[38;5;28;01mfor\u001b[39;00m i \u001b[38;5;129;01min\u001b[39;00m \u001b[38;5;28mrange\u001b[39m(\u001b[38;5;241m1\u001b[39m, ns):\n",
      "\u001b[0;31mMemoryError\u001b[0m: Unable to allocate 24.5 PiB for an array with shape (562949953421312, 49) and data type int8"
     ]
    }
   ],
   "source": [
    "print('Identical graphs')\n",
    "res, sampleset = solve_gi(dimod.ExactSolver(), 1000, E1, E1, vertices, p, timing_info=True)\n",
    "print('\\nSlightly differing graphs')\n",
    "res, sampleset = solve_gi(dimod.ExactSolver(), 1000, E1, E2, vertices, p, timing_info=True)\n",
    "print('\\nGreatly differing graphs')\n",
    "res, sampleset = solve_gi(dimod.ExactSolver(), 1000, E1, E3, vertices, p, timing_info=True)\n",
    "print('\\nIdentical but nodes permuted')\n",
    "res, sampleset = solve_gi(dimod.ExactSolver(), 1000, E1, E4, vertices, p, timing_info=True)\n",
    "print('\\nIdentical but nodes permuted, v2')\n",
    "res, sampleset = solve_gi(dimod.ExactSolver(), 1000, E1, E5, vertices, p, timing_info=True)"
   ]
  },
  {
   "cell_type": "markdown",
   "id": "b47f5652-9f34-4447-8b9c-65d4e359afa8",
   "metadata": {
    "tags": []
   },
   "source": [
    "### Heuristic solver"
   ]
  },
  {
   "cell_type": "code",
   "execution_count": 10,
   "id": "5dbb01b6-8cba-41d5-ace2-c9c1e100366c",
   "metadata": {
    "tags": []
   },
   "outputs": [
    {
     "name": "stdout",
     "output_type": "stream",
     "text": [
      "Identical graphs\n",
      "Lowest energy should be: -6\n",
      "Lowest energy was: -6\n",
      "Graphs are isomorphic\n",
      "Mapping: (0, 0), (1, 1), (2, 2), (3, 3), (4, 4), (5, 5), (6, 6), \n",
      "\n",
      "Total time used (ms): 833.748\n",
      "\n",
      "Slightly differing graphs\n",
      "Lowest energy should be: -6\n",
      "Lowest energy was: -5\n",
      "Graphs are NOT isomorphic\n",
      "\n",
      "Total time used (ms): 847.340\n",
      "\n",
      "Greatly differing graphs\n",
      "Lowest energy should be: -6\n",
      "Lowest energy was: -5\n",
      "Graphs are NOT isomorphic\n",
      "\n",
      "Total time used (ms): 809.334\n",
      "\n",
      "Identical but nodes permuted\n",
      "Lowest energy should be: -6\n",
      "Lowest energy was: -6\n",
      "Graphs are isomorphic\n",
      "Mapping: (0, 2), (1, 1), (2, 3), (3, 4), (4, 0), (5, 6), (6, 5), \n",
      "\n",
      "Total time used (ms): 821.453\n",
      "\n",
      "Identical but nodes permuted, v2\n",
      "Lowest energy should be: -6\n",
      "Lowest energy was: -6\n",
      "Graphs are isomorphic\n",
      "Mapping: (0, 2), (1, 1), (2, 0), (3, 3), (4, 4), (5, 5), (6, 6), \n",
      "\n",
      "Total time used (ms): 825.155\n"
     ]
    }
   ],
   "source": [
    "print('Identical graphs')\n",
    "res, sampleset = solve_gi(SimulatedAnnealingSampler(), 1000, E1, E1, vertices, p, timing_info=True)\n",
    "print('\\nSlightly differing graphs')\n",
    "res, sampleset = solve_gi(SimulatedAnnealingSampler(), 1000, E1, E2, vertices, p, timing_info=True)\n",
    "print('\\nGreatly differing graphs')\n",
    "res, sampleset = solve_gi(SimulatedAnnealingSampler(), 1000, E1, E3, vertices, p, timing_info=True)\n",
    "print('\\nIdentical but nodes permuted')\n",
    "res, sampleset = solve_gi(SimulatedAnnealingSampler(), 1000, E1, E4, vertices, p, timing_info=True)\n",
    "print('\\nIdentical but nodes permuted, v2')\n",
    "res, sampleset = solve_gi(SimulatedAnnealingSampler(), 1000, E1, E5, vertices, p, timing_info=True)"
   ]
  },
  {
   "cell_type": "code",
   "execution_count": 99,
   "id": "45cedb98-b61b-4688-8c52-30e69900f27a",
   "metadata": {
    "tags": []
   },
   "outputs": [
    {
     "name": "stdout",
     "output_type": "stream",
     "text": [
      "Identical but nodes permuted, v2\n",
      "Lowest energy should be: -6\n",
      "Lowest energy was: -6\n",
      "Graphs are isomorphic\n",
      "Mapping: (0, 2), (1, 1), (2, 0), (3, 3), (4, 4), (5, 5), (6, 6), \n"
     ]
    }
   ],
   "source": []
  },
  {
   "cell_type": "markdown",
   "id": "5232fda2-b793-470f-b18a-298cab38c0da",
   "metadata": {},
   "source": [
    "### Quantum solver"
   ]
  },
  {
   "cell_type": "code",
   "execution_count": 100,
   "id": "ba1b02ed-f672-4a75-81a2-42ea02d18f0b",
   "metadata": {
    "tags": []
   },
   "outputs": [
    {
     "name": "stdout",
     "output_type": "stream",
     "text": [
      "Chip: Advantage_system4.1\n",
      "Qubits: 5760\n"
     ]
    }
   ],
   "source": [
    "machine = DWaveSampler(solver={'chip_id': 'Advantage_system4.1'})\n",
    "print('Chip:', machine.properties['chip_id'])\n",
    "print('Qubits:', machine.properties['num_qubits'])"
   ]
  },
  {
   "cell_type": "code",
   "execution_count": 101,
   "id": "2a052bfc-ebfa-4768-a28b-0e30a6b2ae11",
   "metadata": {
    "tags": []
   },
   "outputs": [
    {
     "name": "stdout",
     "output_type": "stream",
     "text": [
      "Identical graphs\n",
      "Lowest energy should be: -6\n",
      "Lowest energy was: -4\n",
      "Graphs are NOT isomorphic\n",
      "\n",
      "Total time used (ms): 4879.424\n",
      "Number of logical qubits: 49\n",
      "Number of couplers: 366\n",
      "QPU time used (ms): 266.5\n",
      "Physical qubits used: 234\n",
      "\n"
     ]
    }
   ],
   "source": [
    "print('Identical graphs')\n",
    "res,sampleset = solve_gi(EmbeddingComposite(machine), 2000, E1, E1, vertices, p, qpu_info=True)"
   ]
  },
  {
   "cell_type": "code",
   "execution_count": 103,
   "id": "33c7a328-5d0a-4284-9fb5-a9327b0b188f",
   "metadata": {
    "tags": []
   },
   "outputs": [
    {
     "data": {
      "text/html": [
       "<iframe src=http://127.0.0.1:18000/?problemId=526d9848-c4b8-43cf-8663-5a1b59f64590 width=\"100%\" height=640></iframe>"
      ],
      "text/plain": [
       "Serving Inspector on http://127.0.0.1:18000/?problemId=526d9848-c4b8-43cf-8663-5a1b59f64590"
      ]
     },
     "metadata": {},
     "output_type": "display_data"
    },
    {
     "data": {
      "text/plain": [
       "'http://127.0.0.1:18000/?problemId=526d9848-c4b8-43cf-8663-5a1b59f64590'"
      ]
     },
     "execution_count": 103,
     "metadata": {},
     "output_type": "execute_result"
    }
   ],
   "source": [
    "dwave.inspector.show(sampleset)"
   ]
  },
  {
   "cell_type": "code",
   "execution_count": 33,
   "id": "02f417cc-8006-4435-b69e-9fa4d2f518dc",
   "metadata": {
    "tags": []
   },
   "outputs": [
    {
     "name": "stdout",
     "output_type": "stream",
     "text": [
      "Differing graphs\n",
      "Lowest energy should be: -6\n",
      "Lowest energy was: -4\n",
      "Graphs are NOT isomorphic\n",
      "\n",
      "Total time used (ms): 4406.366\n",
      "Number of logical qubits: 49\n",
      "Number of couplers: 366\n",
      "QPU time used (ms): 363.6\n",
      "Physical qubits used: 232\n",
      "\n"
     ]
    }
   ],
   "source": [
    "print('Differing graphs')\n",
    "res, sampleset = solve_gi(EmbeddingComposite(machine), 2000, E1, E2, vertices, p, qpu_info=True)"
   ]
  },
  {
   "cell_type": "code",
   "execution_count": 34,
   "id": "d5fd5fd5-42e6-472c-8093-001dddb63709",
   "metadata": {
    "tags": []
   },
   "outputs": [
    {
     "name": "stdout",
     "output_type": "stream",
     "text": [
      "Identical but nodes permuted\n",
      "Lowest energy should be: -6\n",
      "Lowest energy was: -3\n",
      "Graphs are NOT isomorphic\n",
      "\n",
      "Total time used (ms): 7521.396\n",
      "Number of logical qubits: 49\n",
      "Number of couplers: 366\n",
      "QPU time used (ms): 369.8\n",
      "Physical qubits used: 215\n",
      "\n"
     ]
    }
   ],
   "source": [
    "print('Identical but nodes permuted')\n",
    "res, sampleset = solve_gi(EmbeddingComposite(machine), 2000, E1, E4, vertices, p, qpu_info=True)"
   ]
  },
  {
   "cell_type": "markdown",
   "id": "866a4649-d78c-4e51-af61-4829420aa45f",
   "metadata": {},
   "source": [
    "### Hybrid solver"
   ]
  },
  {
   "cell_type": "code",
   "execution_count": 19,
   "id": "1aa86a16-c6b0-44c4-b7cc-8c4f5557d14d",
   "metadata": {
    "tags": []
   },
   "outputs": [
    {
     "name": "stdout",
     "output_type": "stream",
     "text": [
      "Identical graphs\n",
      "Lowest energy should be: -6\n",
      "Lowest energy was: -6\n",
      "Graphs are isomorphic\n",
      "Mapping: (0, 0), (1, 1), (2, 2), (3, 3), (4, 4), (5, 5), (6, 6), \n",
      "\n",
      "Total time used (ms): 10516.489\n",
      "Number of logical qubits: 49\n",
      "Number of couplers: 366\n",
      "QPU time used (ms): 124.1\n",
      "Total time used (ms): 2997.0\n",
      "\n",
      "\n",
      "Differing graphs\n",
      "Lowest energy should be: -6\n",
      "Lowest energy was: -5\n",
      "Graphs are NOT isomorphic\n",
      "\n",
      "Total time used (ms): 10663.911\n",
      "Number of logical qubits: 49\n",
      "Number of couplers: 366\n",
      "QPU time used (ms): 126.0\n",
      "Total time used (ms): 2992.1\n",
      "\n",
      "\n",
      "Identical but nodes permuted\n",
      "Lowest energy should be: -6\n",
      "Lowest energy was: -6\n",
      "Graphs are isomorphic\n",
      "Mapping: (0, 2), (1, 1), (2, 3), (3, 4), (4, 0), (5, 6), (6, 5), \n",
      "\n",
      "Total time used (ms): 10553.451\n",
      "Number of logical qubits: 49\n",
      "Number of couplers: 366\n",
      "QPU time used (ms): 121.7\n",
      "Total time used (ms): 2985.3\n",
      "\n"
     ]
    }
   ],
   "source": [
    "print('Identical graphs')\n",
    "res,sampleset = solve_gi(LeapHybridSampler(), None, E1, E1, vertices, p, qpu_info_hybrid=True)\n",
    "print('\\nDiffering graphs')\n",
    "res, sampleset = solve_gi(LeapHybridSampler(), None, E1, E2, vertices, p, qpu_info_hybrid=True)\n",
    "print('\\nIdentical but nodes permuted')\n",
    "res, sampleset = solve_gi(LeapHybridSampler(), None, E1, E4, vertices, p, qpu_info_hybrid=True)"
   ]
  },
  {
   "cell_type": "markdown",
   "id": "e1a6e8ff-63b1-4123-be69-c06fe333cbd4",
   "metadata": {
    "tags": []
   },
   "source": [
    "## Larger graph"
   ]
  },
  {
   "cell_type": "code",
   "execution_count": 24,
   "id": "b7c22fbe-5bc0-49fb-b18d-2c3feec26254",
   "metadata": {
    "tags": []
   },
   "outputs": [
    {
     "name": "stdout",
     "output_type": "stream",
     "text": [
      "Number of edges: 17\n",
      "Number of vertices: 10\n",
      "Penalty: 17\n"
     ]
    }
   ],
   "source": [
    "seed = 42\n",
    "vertices2 = 10\n",
    "random.seed(seed)\n",
    "G = nx.gnp_random_graph(vertices2, 0.30, seed, directed=False)\n",
    "E6 = [] \n",
    "for e in G.edges(data=True):\n",
    "    E6.append((e[0],e[1]))\n",
    "print('Number of edges:',len(E6))\n",
    "print('Number of vertices:',vertices2)\n",
    "p = len(E6)\n",
    "print('Penalty:',p)"
   ]
  },
  {
   "cell_type": "code",
   "execution_count": 25,
   "id": "1e2e2d53-6972-4008-adc0-41121e110b8b",
   "metadata": {
    "tags": []
   },
   "outputs": [
    {
     "name": "stdout",
     "output_type": "stream",
     "text": [
      "{0: 1, 1: 9, 2: 7, 3: 3, 4: 2, 5: 8, 6: 0, 7: 5, 8: 4, 9: 6}\n"
     ]
    }
   ],
   "source": [
    "mapping = dict(zip(G.nodes(), sorted(G.nodes(), key=lambda k: random.random())))\n",
    "print(mapping)\n",
    "G2 = nx.relabel_nodes(G, mapping)\n",
    "E7 = []\n",
    "for e in G2.edges(data=True):\n",
    "    E7.append((e[0],e[1]))"
   ]
  },
  {
   "cell_type": "code",
   "execution_count": 26,
   "id": "8c778fa3-d2c0-4a2c-90ee-6d61507e3cf6",
   "metadata": {
    "tags": []
   },
   "outputs": [],
   "source": [
    "G3 = nx.gnp_random_graph(vertices2, 0.30, seed+1, directed=False)\n",
    "E8 = [] \n",
    "for e in G3.edges(data=True):\n",
    "    E8.append((e[0],e[1]))"
   ]
  },
  {
   "cell_type": "markdown",
   "id": "deb5bbee-478e-4c48-abf4-c02851019318",
   "metadata": {},
   "source": [
    "### Local heuristic solver"
   ]
  },
  {
   "cell_type": "code",
   "execution_count": 81,
   "id": "49cd5fb1-83e1-47cf-b73a-f5feb2c7f2a0",
   "metadata": {
    "tags": []
   },
   "outputs": [
    {
     "name": "stdout",
     "output_type": "stream",
     "text": [
      "Identical graphs\n",
      "Lowest energy should be: -17\n",
      "Lowest energy was: -17\n",
      "Graphs are isomorphic\n",
      "Mapping: (0, 0), (1, 1), (2, 2), (3, 3), (4, 4), (5, 5), (6, 6), (7, 7), (8, 8), (9, 9), \n",
      "\n",
      "Total time used (ms): 3631.280\n"
     ]
    }
   ],
   "source": [
    "print('Identical graphs')\n",
    "res, sampleset = solve_gi(SimulatedAnnealingSampler(), 2000, E6, E6, vertices2, p, timing_info=True)"
   ]
  },
  {
   "cell_type": "code",
   "execution_count": 82,
   "id": "12ee6480-b8a0-4e06-993e-221e17b080d0",
   "metadata": {
    "tags": []
   },
   "outputs": [
    {
     "name": "stdout",
     "output_type": "stream",
     "text": [
      "permuted graphs\n",
      "Lowest energy should be: -17\n",
      "Lowest energy was: -17\n",
      "Graphs are isomorphic\n",
      "Mapping: (0, 1), (1, 9), (2, 7), (3, 3), (4, 2), (5, 8), (6, 0), (7, 5), (8, 4), (9, 6), \n",
      "\n",
      "Total time used (ms): 3607.384\n"
     ]
    }
   ],
   "source": [
    "print('permuted graphs')\n",
    "res,sampleset = solve_gi(SimulatedAnnealingSampler(), 2000, E6, E7, vertices2, p, timing_info=True)"
   ]
  },
  {
   "cell_type": "code",
   "execution_count": 83,
   "id": "5aef1539-47d3-4910-b619-f9c32bc0b3dc",
   "metadata": {
    "tags": []
   },
   "outputs": [
    {
     "name": "stdout",
     "output_type": "stream",
     "text": [
      "Different graphs\n",
      "Lowest energy should be: -17\n",
      "Lowest energy was: -10\n",
      "Graphs are NOT isomorphic\n",
      "\n",
      "Total time used (ms): 3451.040\n"
     ]
    }
   ],
   "source": [
    "print('Different graphs')\n",
    "res, sampleset = solve_gi(SimulatedAnnealingSampler(), 2000, E6, E8, vertices2, p, timing_info=True)"
   ]
  },
  {
   "cell_type": "markdown",
   "id": "f8a10a8f-46f3-412d-938a-25b60eff34cd",
   "metadata": {},
   "source": [
    "### Quantum solver"
   ]
  },
  {
   "cell_type": "code",
   "execution_count": 72,
   "id": "40d785bd-d788-4cff-bb7d-d3d86392c05f",
   "metadata": {
    "tags": []
   },
   "outputs": [
    {
     "name": "stdout",
     "output_type": "stream",
     "text": [
      "Chip: Advantage_system4.1\n",
      "Qubits: 5760\n"
     ]
    }
   ],
   "source": [
    "machine = DWaveSampler(solver={'chip_id': 'Advantage_system4.1'})\n",
    "print('Chip:', machine.properties['chip_id'])\n",
    "print('Qubits:', machine.properties['num_qubits'])"
   ]
  },
  {
   "cell_type": "code",
   "execution_count": 73,
   "id": "cbea1650-0025-45c9-9a63-d8ddb1758c4d",
   "metadata": {
    "tags": []
   },
   "outputs": [
    {
     "name": "stdout",
     "output_type": "stream",
     "text": [
      "Identical graphs\n",
      "Lowest energy should be: -17\n",
      "Lowest energy was: -8\n",
      "Graphs are NOT isomorphic\n",
      "\n",
      "Total time used (ms): 41473.189\n",
      "Number of logical qubits: 100\n",
      "Number of couplers: 1478\n",
      "QPU time used (ms): 450.1\n",
      "Physical qubits used: 1043\n",
      "\n"
     ]
    }
   ],
   "source": [
    "print('Identical graphs')\n",
    "res, sampleset = solve_gi(EmbeddingComposite(machine), 2000, E6, E6, vertices2, p, qpu_info=True)"
   ]
  },
  {
   "cell_type": "code",
   "execution_count": 62,
   "id": "835e512d-c343-453d-bf15-2610e063ac17",
   "metadata": {
    "tags": []
   },
   "outputs": [
    {
     "name": "stdout",
     "output_type": "stream",
     "text": [
      "Similar graphs\n",
      "Lowest energy should be: -6\n",
      "Lowest energy was: -2\n",
      "Graphs are NOT isomorphic\n",
      "\n",
      "Total time used (ms): 19073.738\n",
      "Number of logical qubits: 100\n",
      "Number of couplers: 972\n",
      "QPU time used (ms): 482.8\n",
      "Physical qubits used: 738\n",
      "\n"
     ]
    }
   ],
   "source": [
    "print('Similar graphs')\n",
    "res, sampleset = solve_gi(EmbeddingComposite(machine), 2000, E4, E5, vertices2, p, qpu_info=True)"
   ]
  },
  {
   "cell_type": "code",
   "execution_count": 63,
   "id": "75002a0e-fb1d-4791-a113-d3fe24679f84",
   "metadata": {
    "tags": []
   },
   "outputs": [
    {
     "name": "stdout",
     "output_type": "stream",
     "text": [
      "Different graphs\n",
      "Lowest energy should be: -6\n",
      "Lowest energy was: -4\n",
      "Graphs are NOT isomorphic\n",
      "\n",
      "Total time used (ms): 17896.299\n",
      "Number of logical qubits: 100\n",
      "Number of couplers: 1104\n",
      "QPU time used (ms): 475.5\n",
      "Physical qubits used: 882\n",
      "\n"
     ]
    }
   ],
   "source": [
    "print('Different graphs')\n",
    "res, sampleset = solve_gi(EmbeddingComposite(machine), 2000, E4, E6, vertices2, p, qpu_info=True)"
   ]
  },
  {
   "cell_type": "markdown",
   "id": "9d32bc58-027c-4e64-a2f5-03adad543854",
   "metadata": {},
   "source": [
    "### Hybrid solver"
   ]
  },
  {
   "cell_type": "code",
   "execution_count": 27,
   "id": "89f248bd-e161-4899-b2d5-b2385756e19b",
   "metadata": {
    "tags": []
   },
   "outputs": [
    {
     "name": "stdout",
     "output_type": "stream",
     "text": [
      "Identical graphs\n",
      "Lowest energy should be: -17\n",
      "Lowest energy was: -17\n",
      "Graphs are isomorphic\n",
      "Mapping: (0, 0), (1, 1), (2, 2), (3, 3), (4, 4), (5, 5), (6, 6), (7, 7), (8, 8), (9, 9), \n",
      "\n",
      "Total time used (ms): 10770.909\n",
      "Number of logical qubits: 100\n",
      "Number of couplers: 1478\n",
      "QPU time used (ms): 184.0\n",
      "Total time used (ms): 2989.1\n",
      "\n",
      "\n",
      "Identical but nodes permuted\n",
      "Lowest energy should be: -17\n",
      "Lowest energy was: -17\n",
      "Graphs are isomorphic\n",
      "Mapping: (0, 1), (1, 9), (2, 7), (3, 3), (4, 2), (5, 8), (6, 0), (7, 5), (8, 4), (9, 6), \n",
      "\n",
      "Total time used (ms): 10763.394\n",
      "Number of logical qubits: 100\n",
      "Number of couplers: 1478\n",
      "QPU time used (ms): 145.7\n",
      "Total time used (ms): 2997.0\n",
      "\n",
      "\n",
      "Differing graphs\n",
      "Lowest energy should be: -17\n",
      "Lowest energy was: -10\n",
      "Graphs are NOT isomorphic\n",
      "\n",
      "Total time used (ms): 10746.384\n",
      "Number of logical qubits: 100\n",
      "Number of couplers: 1240\n",
      "QPU time used (ms): 118.7\n",
      "Total time used (ms): 2993.7\n",
      "\n"
     ]
    }
   ],
   "source": [
    "print('Identical graphs')\n",
    "res,sampleset = solve_gi(LeapHybridSampler(), None, E6, E6, vertices2, p, qpu_info_hybrid=True)\n",
    "print('\\nIdentical but nodes permuted')\n",
    "res, sampleset = solve_gi(LeapHybridSampler(), None, E6, E7, vertices2, p, qpu_info_hybrid=True)\n",
    "print('\\nDiffering graphs')\n",
    "res, sampleset = solve_gi(LeapHybridSampler(), None, E6, E8, vertices2, p, qpu_info_hybrid=True)"
   ]
  },
  {
   "cell_type": "markdown",
   "id": "24a8deaa-d48e-4a76-b725-3630885bebe6",
   "metadata": {},
   "source": [
    "## Graph with 15 vertices"
   ]
  },
  {
   "cell_type": "code",
   "execution_count": 29,
   "id": "bfc54baa-fe57-49cc-9838-b63ea4a6064b",
   "metadata": {
    "tags": []
   },
   "outputs": [
    {
     "name": "stdout",
     "output_type": "stream",
     "text": [
      "Number of edges: 38\n",
      "Number of vertices: 15\n",
      "Penalty: 38\n",
      "{0: 1, 1: 12, 2: 9, 3: 7, 4: 13, 5: 10, 6: 3, 7: 2, 8: 8, 9: 11, 10: 0, 11: 14, 12: 5, 13: 4, 14: 6}\n"
     ]
    }
   ],
   "source": [
    "seed = 42\n",
    "vertices2 = 15\n",
    "random.seed(seed)\n",
    "G = nx.gnp_random_graph(vertices2, 0.30, seed, directed=False)\n",
    "E6 = [] \n",
    "for e in G.edges(data=True):\n",
    "    E6.append((e[0],e[1]))\n",
    "print('Number of edges:',len(E6))\n",
    "print('Number of vertices:',vertices2)\n",
    "p = len(E6)\n",
    "print('Penalty:',p)\n",
    "\n",
    "mapping = dict(zip(G.nodes(), sorted(G.nodes(), key=lambda k: random.random())))\n",
    "print(mapping)\n",
    "G2 = nx.relabel_nodes(G, mapping)\n",
    "E7 = []\n",
    "for e in G2.edges(data=True):\n",
    "    E7.append((e[0],e[1]))\n",
    "    \n",
    "G3 = nx.gnp_random_graph(vertices2, 0.30, seed+1, directed=False)\n",
    "E8 = [] \n",
    "for e in G3.edges(data=True):\n",
    "    E8.append((e[0],e[1]))"
   ]
  },
  {
   "cell_type": "markdown",
   "id": "ba74f4f4-f7ce-4c16-a658-01cc77437c58",
   "metadata": {},
   "source": [
    "### Local heuristic solver"
   ]
  },
  {
   "cell_type": "code",
   "execution_count": 31,
   "id": "d6731f58-51ad-4ed7-826d-36468add2164",
   "metadata": {
    "tags": []
   },
   "outputs": [
    {
     "name": "stdout",
     "output_type": "stream",
     "text": [
      "Identical graphs\n",
      "Lowest energy should be: -38\n",
      "Lowest energy was: -30\n",
      "Graphs are NOT isomorphic\n",
      "\n",
      "Total time used (ms): 9395.400\n",
      "\n",
      "permuted graphs\n",
      "Lowest energy should be: -38\n",
      "Lowest energy was: -30\n",
      "Graphs are NOT isomorphic\n",
      "\n",
      "Total time used (ms): 16937.242\n",
      "\n",
      "Different graphs\n",
      "Lowest energy should be: -38\n",
      "Lowest energy was: -24\n",
      "Graphs are NOT isomorphic\n",
      "\n",
      "Total time used (ms): 8832.859\n"
     ]
    }
   ],
   "source": [
    "print('Identical graphs')\n",
    "res, sampleset = solve_gi(SimulatedAnnealingSampler(), 2000, E6, E6, vertices2, p, timing_info=True)\n",
    "print('\\npermuted graphs')\n",
    "res,sampleset = solve_gi(SimulatedAnnealingSampler(), 2000, E6, E7, vertices2, p, timing_info=True)\n",
    "print('\\nDifferent graphs')\n",
    "res, sampleset = solve_gi(SimulatedAnnealingSampler(), 2000, E6, E8, vertices2, p, timing_info=True)"
   ]
  },
  {
   "cell_type": "markdown",
   "id": "53f48b18-3a0a-4614-9dcd-0fb2d2f0b647",
   "metadata": {},
   "source": [
    "### Hybrid solver"
   ]
  },
  {
   "cell_type": "code",
   "execution_count": 32,
   "id": "4b1078b7-4e37-4c91-8bdb-d2db45459ef1",
   "metadata": {
    "tags": []
   },
   "outputs": [
    {
     "name": "stdout",
     "output_type": "stream",
     "text": [
      "Identical graphs\n",
      "Lowest energy should be: -38\n",
      "Lowest energy was: -38\n",
      "Graphs are isomorphic\n",
      "Mapping: (0, 0), (1, 1), (2, 2), (3, 3), (4, 4), (5, 5), (6, 6), (7, 7), (8, 8), (9, 9), (10, 10), (11, 11), (12, 12), (13, 13), (14, 14), \n",
      "\n",
      "Total time used (ms): 11365.252\n",
      "Number of logical qubits: 225\n",
      "Number of couplers: 6038\n",
      "QPU time used (ms): 78.2\n",
      "Total time used (ms): 2988.6\n",
      "\n",
      "\n",
      "Identical but nodes permuted\n",
      "Lowest energy should be: -38\n",
      "Lowest energy was: -38\n",
      "Graphs are isomorphic\n",
      "Mapping: (0, 1), (1, 12), (2, 9), (3, 7), (4, 13), (5, 10), (6, 3), (7, 2), (8, 8), (9, 11), (10, 0), (11, 14), (12, 5), (13, 4), (14, 6), \n",
      "\n",
      "Total time used (ms): 9916.501\n",
      "Number of logical qubits: 225\n",
      "Number of couplers: 6038\n",
      "QPU time used (ms): 115.2\n",
      "Total time used (ms): 2997.6\n",
      "\n",
      "\n",
      "Differing graphs\n",
      "Lowest energy should be: -38\n",
      "Lowest energy was: -25\n",
      "Graphs are NOT isomorphic\n",
      "\n",
      "Total time used (ms): 11180.227\n",
      "Number of logical qubits: 225\n",
      "Number of couplers: 5278\n",
      "QPU time used (ms): 114.9\n",
      "Total time used (ms): 3001.0\n",
      "\n"
     ]
    }
   ],
   "source": [
    "print('Identical graphs')\n",
    "res,sampleset = solve_gi(LeapHybridSampler(), None, E6, E6, vertices2, p, qpu_info_hybrid=True)\n",
    "print('\\nIdentical but nodes permuted')\n",
    "res, sampleset = solve_gi(LeapHybridSampler(), None, E6, E7, vertices2, p, qpu_info_hybrid=True)\n",
    "print('\\nDiffering graphs')\n",
    "res, sampleset = solve_gi(LeapHybridSampler(), None, E6, E8, vertices2, p, qpu_info_hybrid=True)"
   ]
  },
  {
   "cell_type": "markdown",
   "id": "d0028ba6-6b2b-4221-a823-798753f59650",
   "metadata": {},
   "source": [
    "## Graph with 25 vertices"
   ]
  },
  {
   "cell_type": "code",
   "execution_count": 34,
   "id": "6d3c7bac-d324-4611-af43-a704887b3be3",
   "metadata": {
    "tags": []
   },
   "outputs": [
    {
     "name": "stdout",
     "output_type": "stream",
     "text": [
      "Number of edges: 105\n",
      "Number of vertices: 25\n",
      "Penalty: 105\n",
      "{0: 19, 1: 1, 2: 12, 3: 9, 4: 7, 5: 23, 6: 13, 7: 10, 8: 16, 9: 3, 10: 2, 11: 22, 12: 8, 13: 11, 14: 15, 15: 17, 16: 0, 17: 14, 18: 5, 19: 21, 20: 4, 21: 20, 22: 18, 23: 6, 24: 24}\n"
     ]
    }
   ],
   "source": [
    "seed = 42\n",
    "vertices2 = 25\n",
    "random.seed(seed)\n",
    "G = nx.gnp_random_graph(vertices2, 0.30, seed, directed=False)\n",
    "E6 = [] \n",
    "for e in G.edges(data=True):\n",
    "    E6.append((e[0],e[1]))\n",
    "print('Number of edges:',len(E6))\n",
    "print('Number of vertices:',vertices2)\n",
    "p = len(E6)\n",
    "print('Penalty:',p)\n",
    "\n",
    "mapping = dict(zip(G.nodes(), sorted(G.nodes(), key=lambda k: random.random())))\n",
    "print(mapping)\n",
    "G2 = nx.relabel_nodes(G, mapping)\n",
    "E7 = []\n",
    "for e in G2.edges(data=True):\n",
    "    E7.append((e[0],e[1]))\n",
    "    \n",
    "G3 = nx.gnp_random_graph(vertices2, 0.30, seed+1, directed=False)\n",
    "E8 = [] \n",
    "for e in G3.edges(data=True):\n",
    "    E8.append((e[0],e[1]))"
   ]
  },
  {
   "cell_type": "code",
   "execution_count": 35,
   "id": "8fe42978-fd05-4966-a8d7-0f63f37ec8c8",
   "metadata": {
    "tags": []
   },
   "outputs": [
    {
     "name": "stdout",
     "output_type": "stream",
     "text": [
      "Identical graphs\n",
      "Lowest energy should be: -105\n",
      "Lowest energy was: -71\n",
      "Graphs are NOT isomorphic\n",
      "\n",
      "Total time used (ms): 11642.484\n",
      "Number of logical qubits: 625\n",
      "Number of couplers: 37050\n",
      "QPU time used (ms): 42.0\n",
      "Total time used (ms): 2990.7\n",
      "\n",
      "\n",
      "Identical but nodes permuted\n",
      "Lowest energy should be: -105\n",
      "Lowest energy was: -69\n",
      "Graphs are NOT isomorphic\n",
      "\n",
      "Total time used (ms): 11557.159\n",
      "Number of logical qubits: 625\n",
      "Number of couplers: 37050\n",
      "QPU time used (ms): 42.7\n",
      "Total time used (ms): 2992.0\n",
      "\n",
      "\n",
      "Differing graphs\n",
      "Lowest energy should be: -105\n",
      "Lowest energy was: -65\n",
      "Graphs are NOT isomorphic\n",
      "\n",
      "Total time used (ms): 11579.280\n",
      "Number of logical qubits: 625\n",
      "Number of couplers: 34110\n",
      "QPU time used (ms): 42.7\n",
      "Total time used (ms): 2998.6\n",
      "\n"
     ]
    }
   ],
   "source": [
    "print('Identical graphs')\n",
    "res,sampleset = solve_gi(LeapHybridSampler(), None, E6, E6, vertices2, p, qpu_info_hybrid=True)\n",
    "print('\\nIdentical but nodes permuted')\n",
    "res, sampleset = solve_gi(LeapHybridSampler(), None, E6, E7, vertices2, p, qpu_info_hybrid=True)\n",
    "print('\\nDiffering graphs')\n",
    "res, sampleset = solve_gi(LeapHybridSampler(), None, E6, E8, vertices2, p, qpu_info_hybrid=True)"
   ]
  },
  {
   "cell_type": "markdown",
   "id": "80cfd8d0-7df8-4806-b6b8-b1f5d3205a1a",
   "metadata": {
    "tags": []
   },
   "source": [
    "## Testing procedure"
   ]
  },
  {
   "cell_type": "code",
   "execution_count": 65,
   "id": "7ad34b5f-5a95-4ee9-83e9-8ab5bd2d0efb",
   "metadata": {
    "tags": []
   },
   "outputs": [
    {
     "name": "stdout",
     "output_type": "stream",
     "text": [
      "Lowest energy should be: -8\n",
      "Lowest energy was: -8\n",
      "Graphs are isomorphic\n",
      "Mapping: (0, 3), (1, 7), (3, 2), (4, 8), (5, 4), (6, 9), (7, 1), (8, 6), (9, 0), \n",
      "Mapping: (0, 0), (1, 7), (3, 2), (4, 1), (5, 4), (6, 9), (7, 8), (8, 6), (9, 3), \n",
      "Mapping: (0, 0), (1, 7), (2, 5), (3, 2), (4, 1), (5, 4), (6, 9), (7, 8), (8, 6), (9, 3), \n",
      "Mapping: (0, 3), (1, 7), (2, 5), (3, 2), (4, 8), (5, 4), (6, 9), (7, 1), (8, 6), (9, 0), \n",
      "Mapping: (0, 3), (1, 9), (2, 5), (3, 2), (4, 8), (5, 4), (6, 7), (7, 1), (8, 6), (9, 0), \n",
      "Mapping: (0, 0), (1, 9), (3, 2), (4, 1), (5, 4), (6, 7), (7, 8), (8, 6), (9, 3), \n",
      "Mapping: (0, 0), (1, 9), (2, 5), (3, 2), (4, 1), (5, 4), (6, 7), (7, 8), (8, 6), (9, 3), \n",
      "Mapping: (0, 3), (1, 9), (3, 2), (4, 8), (5, 4), (6, 7), (7, 1), (8, 6), (9, 0), \n",
      "Result ok\n",
      "\n",
      "Lowest energy should be: -18\n",
      "Lowest energy was: -18\n",
      "Graphs are isomorphic\n",
      "Mapping: (0, 9), (1, 8), (2, 0), (3, 3), (4, 5), (5, 4), (6, 6), (7, 2), (8, 7), (9, 1), \n",
      "Mapping: (0, 1), (1, 8), (2, 0), (3, 3), (4, 5), (5, 4), (6, 6), (7, 2), (8, 7), (9, 9), \n",
      "Result ok\n",
      "\n",
      "Lowest energy should be: -10\n",
      "Lowest energy was: -10\n",
      "Graphs are isomorphic\n",
      "Mapping: (0, 2), (1, 3), (2, 7), (3, 8), (4, 9), (5, 6), (6, 5), (7, 4), (8, 1), (9, 0), \n",
      "Mapping: (0, 2), (1, 3), (2, 7), (3, 8), (4, 9), (5, 6), (6, 5), (7, 4), (8, 0), (9, 1), \n",
      "Result ok\n",
      "\n",
      "Lowest energy should be: -11\n",
      "Lowest energy was: -11\n",
      "Graphs are isomorphic\n",
      "Mapping: (0, 6), (1, 5), (2, 9), (3, 0), (5, 2), (6, 1), (7, 3), (8, 4), (9, 7), \n",
      "Mapping: (0, 6), (1, 5), (2, 9), (3, 0), (4, 8), (5, 2), (6, 1), (7, 3), (8, 4), (9, 7), \n",
      "Result ok\n",
      "\n",
      "Lowest energy should be: -14\n",
      "Lowest energy was: -14\n",
      "Graphs are isomorphic\n",
      "Mapping: (0, 4), (1, 1), (2, 3), (3, 9), (4, 0), (5, 2), (6, 5), (7, 8), (8, 7), (9, 6), \n",
      "Result ok\n",
      "\n",
      "Lowest energy should be: -17\n",
      "Lowest energy was: -17\n",
      "Graphs are isomorphic\n",
      "Mapping: (0, 6), (1, 7), (2, 0), (3, 9), (4, 4), (5, 1), (6, 2), (7, 5), (8, 3), (9, 8), \n",
      "Result ok\n",
      "\n",
      "Lowest energy should be: -11\n",
      "Lowest energy was: -11\n",
      "Graphs are isomorphic\n",
      "Mapping: (0, 4), (1, 0), (2, 8), (3, 1), (4, 2), (5, 5), (6, 7), (7, 9), (8, 3), (9, 6), \n",
      "Mapping: (0, 4), (1, 3), (2, 8), (3, 1), (4, 2), (5, 5), (6, 7), (7, 9), (8, 0), (9, 6), \n",
      "Mapping: (0, 4), (1, 3), (2, 8), (3, 6), (4, 2), (5, 5), (6, 7), (7, 9), (8, 0), (9, 1), \n",
      "Mapping: (0, 4), (1, 0), (2, 8), (3, 1), (4, 2), (5, 5), (6, 7), (8, 3), (9, 6), \n",
      "Mapping: (0, 4), (1, 3), (2, 8), (3, 1), (4, 2), (5, 5), (6, 7), (8, 0), (9, 6), \n",
      "Mapping: (0, 4), (1, 0), (2, 8), (3, 6), (4, 2), (5, 5), (6, 7), (7, 9), (8, 3), (9, 1), \n",
      "Mapping: (0, 4), (1, 3), (2, 8), (3, 6), (4, 2), (5, 5), (6, 7), (8, 0), (9, 1), \n",
      "Mapping: (0, 4), (1, 0), (2, 8), (3, 6), (4, 2), (5, 5), (6, 7), (8, 3), (9, 1), \n",
      "Result ok\n",
      "\n",
      "Lowest energy should be: -18\n",
      "Lowest energy was: -18\n",
      "Graphs are isomorphic\n",
      "Mapping: (0, 8), (1, 6), (2, 3), (3, 1), (4, 0), (5, 5), (6, 9), (7, 7), (8, 4), (9, 2), \n",
      "Result ok\n",
      "\n",
      "Lowest energy should be: -17\n",
      "Lowest energy was: -17\n",
      "Graphs are isomorphic\n",
      "Mapping: (0, 4), (1, 2), (2, 7), (3, 0), (4, 5), (5, 9), (6, 8), (7, 3), (8, 1), (9, 6), \n",
      "Result ok\n",
      "\n",
      "Lowest energy should be: -17\n",
      "Lowest energy was: -17\n",
      "Graphs are isomorphic\n",
      "Mapping: (0, 4), (1, 7), (2, 2), (3, 1), (4, 0), (5, 5), (6, 8), (7, 9), (8, 3), (9, 6), \n",
      "Result ok\n",
      "\n",
      "Lowest energy should be: -13\n",
      "Lowest energy was: -13\n",
      "Graphs are isomorphic\n",
      "Mapping: (0, 7), (1, 3), (2, 9), (3, 1), (4, 8), (5, 0), (6, 2), (7, 6), (8, 4), (9, 5), \n",
      "Result ok\n",
      "\n",
      "Lowest energy should be: -14\n",
      "Lowest energy was: -14\n",
      "Graphs are isomorphic\n",
      "Mapping: (0, 6), (1, 0), (2, 3), (3, 4), (4, 7), (5, 1), (6, 5), (7, 8), (8, 9), (9, 2), \n",
      "Mapping: (0, 6), (1, 0), (2, 2), (3, 4), (4, 7), (5, 1), (6, 5), (7, 8), (8, 9), (9, 3), \n",
      "Result ok\n",
      "\n",
      "Lowest energy should be: -15\n",
      "Lowest energy was: -15\n",
      "Graphs are isomorphic\n",
      "Mapping: (0, 4), (1, 3), (2, 6), (3, 5), (4, 0), (5, 9), (6, 8), (7, 2), (8, 1), (9, 7), \n",
      "Mapping: (0, 4), (1, 3), (2, 6), (3, 5), (4, 0), (5, 9), (6, 1), (7, 2), (8, 8), (9, 7), \n",
      "Result ok\n",
      "\n",
      "Lowest energy should be: -14\n",
      "Lowest energy was: -14\n",
      "Graphs are isomorphic\n",
      "Mapping: (0, 9), (1, 6), (2, 4), (3, 7), (4, 5), (5, 0), (6, 2), (7, 8), (8, 1), (9, 3), \n",
      "Mapping: (0, 9), (1, 6), (2, 4), (3, 7), (4, 5), (5, 0), (6, 2), (7, 1), (8, 8), (9, 3), \n",
      "Result ok\n",
      "\n",
      "Lowest energy should be: -16\n",
      "Lowest energy was: -16\n",
      "Graphs are isomorphic\n",
      "Mapping: (0, 0), (1, 5), (2, 4), (3, 8), (4, 2), (5, 7), (6, 9), (7, 1), (8, 6), (9, 3), \n",
      "Result ok\n",
      "\n",
      "Lowest energy should be: -14\n",
      "Lowest energy was: -14\n",
      "Graphs are isomorphic\n",
      "Mapping: (0, 1), (1, 5), (2, 3), (3, 7), (4, 2), (5, 8), (6, 6), (7, 0), (8, 4), (9, 9), \n",
      "Result ok\n",
      "\n",
      "Lowest energy should be: -13\n",
      "Lowest energy was: -13\n",
      "Graphs are isomorphic\n",
      "Mapping: (0, 8), (1, 6), (2, 9), (3, 0), (4, 4), (5, 2), (6, 3), (7, 1), (8, 7), (9, 5), \n",
      "Result ok\n",
      "\n",
      "Lowest energy should be: -11\n",
      "Lowest energy was: -11\n",
      "Graphs are isomorphic\n",
      "Mapping: (0, 8), (1, 7), (2, 3), (3, 9), (4, 0), (5, 6), (6, 5), (7, 4), (8, 1), (9, 2), \n",
      "Result ok\n",
      "\n",
      "Lowest energy should be: -15\n",
      "Lowest energy was: -15\n",
      "Graphs are isomorphic\n",
      "Mapping: (0, 0), (1, 3), (2, 9), (3, 8), (4, 2), (5, 5), (6, 6), (7, 4), (8, 7), (9, 1), \n",
      "Mapping: (0, 0), (1, 3), (2, 9), (3, 8), (4, 2), (5, 7), (6, 6), (7, 4), (8, 5), (9, 1), \n",
      "Result ok\n",
      "\n",
      "Lowest energy should be: -15\n",
      "Lowest energy was: -15\n",
      "Graphs are isomorphic\n",
      "Mapping: (0, 7), (1, 9), (2, 8), (3, 6), (4, 4), (5, 3), (6, 2), (7, 0), (8, 1), (9, 5), \n",
      "Result ok\n",
      "\n"
     ]
    }
   ],
   "source": [
    "for seed in range(20):\n",
    "    vertices = 10\n",
    "    random.seed(seed)\n",
    "    G1 = nx.gnp_random_graph(vertices2, 0.30, seed, directed=False)\n",
    "    E1 = [] \n",
    "    for e in G1.edges(data=True):\n",
    "        E1.append((e[0],e[1]))\n",
    "    p = len(E1)\n",
    "    \n",
    "    mapping = dict(zip(G.nodes(), sorted(G.nodes(), key=lambda k: random.random())))\n",
    "    G2 = nx.relabel_nodes(G1, mapping)\n",
    "    E2 = []\n",
    "    for e in G2.edges(data=True):\n",
    "        E2.append((e[0],e[1]))\n",
    "        \n",
    "    results, sampleset = solve_gi(SimulatedAnnealingSampler(), 2000, E1, E2, vertices, p)\n",
    "    ok = False\n",
    "    for res in results:\n",
    "        if res==mapping:\n",
    "            ok = True\n",
    "    if ok:\n",
    "        print('Result ok\\n')\n",
    "    else:\n",
    "        print('ERROR\\n')"
   ]
  },
  {
   "cell_type": "code",
   "execution_count": null,
   "id": "d87c3462-8cd4-4c81-8c1d-8f8a0cca313c",
   "metadata": {},
   "outputs": [],
   "source": []
  }
 ],
 "metadata": {
  "kernelspec": {
   "display_name": "Python 3 (ipykernel)",
   "language": "python",
   "name": "python3"
  },
  "language_info": {
   "codemirror_mode": {
    "name": "ipython",
    "version": 3
   },
   "file_extension": ".py",
   "mimetype": "text/x-python",
   "name": "python",
   "nbconvert_exporter": "python",
   "pygments_lexer": "ipython3",
   "version": "3.8.18"
  }
 },
 "nbformat": 4,
 "nbformat_minor": 5
}
