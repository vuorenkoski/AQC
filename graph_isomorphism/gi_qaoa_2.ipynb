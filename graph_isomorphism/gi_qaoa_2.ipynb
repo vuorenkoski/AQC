{
 "cells": [
  {
   "cell_type": "markdown",
   "id": "39549f8b-f7bc-4858-8f7f-0eda75039d95",
   "metadata": {},
   "source": [
    "# GI and QAOA try 2"
   ]
  },
  {
   "cell_type": "code",
   "execution_count": 1,
   "id": "2160a48a-e614-432a-95f1-2a97ecf7379e",
   "metadata": {
    "tags": []
   },
   "outputs": [],
   "source": [
    "import numpy as np"
   ]
  },
  {
   "cell_type": "code",
   "execution_count": 2,
   "id": "fc716539-3b67-4174-9929-57871d12388a",
   "metadata": {
    "tags": []
   },
   "outputs": [],
   "source": [
    "def create_qubo(E1,E2,vertices,p):\n",
    "    Q = np.zeros((vertices*vertices, vertices*vertices))\n",
    "    \n",
    "    # Constraint 1: penalty if several mappings from same source\n",
    "    for i in range(vertices): \n",
    "        for j in range(vertices): \n",
    "            for k in range(j+1,vertices): \n",
    "                Q[i*vertices+j,i*vertices+k]=p \n",
    "\n",
    "    # Constaint 2: penalty if several mappings to same target\n",
    "    for i in range(vertices): \n",
    "        for j in range(vertices): \n",
    "            for k in range(j+1,vertices): \n",
    "                Q[i+vertices*j,i+vertices*k]=p \n",
    "                \n",
    "    # Constraint 3: -1 for each succesfully mapped edge: (x1,y1) -> (x2,y2) \n",
    "    #    two possible mappings: (x1->x2, y1->y2) or (x1->y2,y1->x2)\n",
    "    for e1 in E1: \n",
    "        for e2 in E2: \n",
    "            Q[e1[0]*vertices+e2[0], e1[1]*vertices+e2[1]] -= 1\n",
    "            Q[e1[0]*vertices+e2[1], e1[1]*vertices+e2[0]] -= 1\n",
    "            \n",
    "    # All quadratic coefficients in lower triangle to upper triangle\n",
    "    for i in range(vertices*vertices): \n",
    "        for j in range(i):\n",
    "            Q[j,i] += Q[i,j]\n",
    "            Q[i,j] = 0\n",
    "    return Q"
   ]
  },
  {
   "cell_type": "code",
   "execution_count": 3,
   "id": "4bb3148e-b6c4-4ca1-a9b6-25878382b892",
   "metadata": {
    "tags": []
   },
   "outputs": [],
   "source": [
    "def result_info(sampleset, e, labels):\n",
    "    le = int(sampleset[0].fval)\n",
    "    print('Lowest energy should be:',-e)\n",
    "    print('Lowest energy was:',le)\n",
    "    results = []\n",
    "    if -e!=le:\n",
    "        print('Graphs are NOT isomorphic')\n",
    "    else:\n",
    "        print('Graphs are isomorphic')\n",
    "        for sample in sampleset:\n",
    "            if sample.fval==le:\n",
    "                m = ''\n",
    "                for i,x in enumerate(sample.x):\n",
    "                    if x==1:\n",
    "                        m += str(labels[i])+', '\n",
    "                print('Mapping: '+m)"
   ]
  },
  {
   "cell_type": "code",
   "execution_count": 21,
   "id": "bfe904d2-66b7-4165-a1a3-194089f5667d",
   "metadata": {
    "tags": []
   },
   "outputs": [],
   "source": [
    "#vertices = 3\n",
    "#E1 = np.array([(0, 1), (1, 2)])\n",
    "#E2 = np.array([(0, 1), (0, 2)]) \n",
    "\n",
    "vertices = 2\n",
    "E1 = np.array([(0, 1)])\n",
    "E2 = np.array([(1, 0)]) "
   ]
  },
  {
   "cell_type": "code",
   "execution_count": 22,
   "id": "77f0ab50-dac4-45aa-9ac4-ebf166b7488e",
   "metadata": {
    "tags": []
   },
   "outputs": [
    {
     "name": "stdout",
     "output_type": "stream",
     "text": [
      "Penalty: 1\n"
     ]
    }
   ],
   "source": [
    "labels = {}\n",
    "for i in range(vertices):\n",
    "    for j in range(vertices):\n",
    "        labels[i*vertices+j] = (i,j)\n",
    "            \n",
    "p = len(E1)\n",
    "print('Penalty:',p)"
   ]
  },
  {
   "cell_type": "code",
   "execution_count": 23,
   "id": "07474278-bb76-464e-94f8-0ed0cd87d490",
   "metadata": {
    "tags": []
   },
   "outputs": [],
   "source": [
    "Q = create_qubo(E1,E2,vertices,p)\n",
    "qubosize= vertices*vertices"
   ]
  },
  {
   "cell_type": "markdown",
   "id": "b140fad5-2db2-4595-9113-baeadc37330f",
   "metadata": {},
   "source": [
    "## Build hamiltonian $H_p$"
   ]
  },
  {
   "cell_type": "code",
   "execution_count": 24,
   "id": "2d156c55-dd8e-4de7-9c83-0a5ad46e6eca",
   "metadata": {
    "tags": []
   },
   "outputs": [],
   "source": [
    "from qiskit.quantum_info import SparsePauliOp, Pauli\n",
    "oplist=[]\n",
    "offset = 0\n",
    "for i in range(qubosize):\n",
    "    if Q[i,i]!=0:\n",
    "        oplist.append(('Z',i,-Q[i,i]/2))\n",
    "    else:\n",
    "        offset += 1/2\n",
    "for i in range(qubosize):\n",
    "    for j in range(i+1,qubosize):\n",
    "        if Q[i,j]!=0:\n",
    "            oplist.append(('ZZ',[i,j],Q[i,j]/4))\n",
    "            oplist.append(('Z',[i],-Q[i,j]/4))\n",
    "            oplist.append(('Z',[j],-Q[i,j]/4))\n",
    "        else:\n",
    "            offset += 1/4\n",
    "                          \n",
    "H_p = SparsePauliOp.from_sparse_list(oplist, num_qubits=qubosize).simplify()"
   ]
  },
  {
   "cell_type": "code",
   "execution_count": 26,
   "id": "35fc3ac8-8d85-4088-a149-c2bfcc77a857",
   "metadata": {
    "tags": []
   },
   "outputs": [
    {
     "name": "stdout",
     "output_type": "stream",
     "text": [
      "SparsePauliOp(['IIZZ', 'IIIZ', 'IIZI', 'IZIZ', 'IZII', 'ZIIZ', 'ZIII', 'IZZI', 'ZIZI', 'ZZII'],\n",
      "              coeffs=[ 0.25+0.j, -0.25+0.j, -0.25+0.j,  0.25+0.j, -0.25+0.j, -0.25+0.j,\n",
      " -0.25+0.j, -0.25+0.j,  0.25+0.j,  0.25+0.j])\n",
      "2.0\n",
      "4\n"
     ]
    }
   ],
   "source": [
    "print(H_p)\n",
    "print(offset)\n",
    "print(qubosize)\n"
   ]
  },
  {
   "cell_type": "raw",
   "id": "91186ae7-751c-474d-908f-c46ee72365f2",
   "metadata": {},
   "source": [
    "SparsePauliOp(['IIIIIIIZZ', 'IIIIIIIIZ', 'IIIIIIIZI', 'IIIIIIZIZ', 'IIIIIIZII', 'IIIIIZIIZ', 'IIIIIZIII', 'IIIIZIIIZ', 'IIIIZIIII', 'IIIZIIIIZ', 'IIIZIIIII', 'IIZIIIIIZ', 'IIZIIIIII', 'IIIIIIZZI', 'IIIIIZIZI', 'IIIIZIIZI', 'IZIIIIIZI', 'IZIIIIIII', 'IIIIIZZII', 'IIIZIIZII', 'ZIIIIIZII', 'ZIIIIIIII', 'IIIIZZIII', 'IIIZIZIII', 'IIZIIZIII', 'IZIIIZIII', 'ZIIIIZIII', 'IIIZZIIII', 'IIZIZIIII', 'IZIIZIIII', 'IIZZIIIII', 'ZIIZIIIII', 'IZZIIIIII', 'ZIZIIIIII', 'ZZIIIIIII'],\n",
    "              coeffs=[ 0.5 +0.j, -1.5 +0.j, -1.75+0.j,  0.5 +0.j, -1.75+0.j,  0.5 +0.j,\n",
    " -1.  +0.j, -0.25+0.j, -1.5 +0.j, -0.25+0.j, -1.5 +0.j,  0.5 +0.j,\n",
    " -1.5 +0.j,  0.5 +0.j, -0.25+0.j,  0.5 +0.j,  0.5 +0.j, -1.75+0.j,\n",
    " -0.25+0.j,  0.5 +0.j,  0.5 +0.j, -1.75+0.j,  0.5 +0.j,  0.5 +0.j,\n",
    "  0.5 +0.j, -0.25+0.j, -0.25+0.j,  0.5 +0.j, -0.25+0.j,  0.5 +0.j,\n",
    " -0.25+0.j,  0.5 +0.j,  0.5 +0.j,  0.5 +0.j,  0.5 +0.j])"
   ]
  },
  {
   "cell_type": "markdown",
   "id": "6a1c455b-0d3f-49a2-b397-7c517e34171a",
   "metadata": {},
   "source": [
    "## Build QAOA "
   ]
  },
  {
   "cell_type": "code",
   "execution_count": 10,
   "id": "8461e9ce-3832-46c4-b3aa-991b38d20e81",
   "metadata": {
    "tags": []
   },
   "outputs": [],
   "source": [
    "from qiskit import BasicAer, transpile\n",
    "from qiskit.circuit.library import QAOAAnsatz\n",
    "\n",
    "#ansatz = QAOAAnsatz(H_p, reps=2) "
   ]
  },
  {
   "cell_type": "code",
   "execution_count": 12,
   "id": "46e000fc-5488-499f-a4ea-65ca5bbaf054",
   "metadata": {
    "tags": []
   },
   "outputs": [],
   "source": [
    "from qiskit.primitives import Sampler\n",
    "from qiskit_algorithms import QAOA\n",
    "from qiskit_algorithms.optimizers import COBYLA\n",
    "\n",
    "backend = BasicAer.get_backend('qasm_simulator')\n",
    "sampler = Sampler()\n",
    "qaoa = QAOA(sampler, COBYLA(), reps=2, initial_point=[0.0, 0.0, 0.0, 0.0])\n",
    "result = qaoa.compute_minimum_eigenvalue(H_p) # This includes automatically mixer operator"
   ]
  },
  {
   "cell_type": "code",
   "execution_count": 13,
   "id": "36272e5c-6cca-4129-8a26-942c21bd5b10",
   "metadata": {
    "tags": []
   },
   "outputs": [
    {
     "data": {
      "text/plain": [
       "{'state': 6,\n",
       " 'bitstring': '0110',\n",
       " 'value': (-1.5+0j),\n",
       " 'probability': 0.4122789886803482}"
      ]
     },
     "execution_count": 13,
     "metadata": {},
     "output_type": "execute_result"
    }
   ],
   "source": [
    "result.best_measurement"
   ]
  },
  {
   "cell_type": "code",
   "execution_count": 14,
   "id": "b7e5d1cf-eb2a-4752-a20f-56e8ed20a69d",
   "metadata": {
    "tags": []
   },
   "outputs": [
    {
     "name": "stdout",
     "output_type": "stream",
     "text": [
      "Binary variable vector: 0110\n",
      "Energy level: 0.5\n"
     ]
    }
   ],
   "source": [
    "print('Binary variable vector:',result.best_measurement['bitstring'])\n",
    "print('Energy level:',np.real(result.best_measurement['value']+offset))"
   ]
  },
  {
   "cell_type": "code",
   "execution_count": 15,
   "id": "c4bf4310-1cd5-4b8d-8252-1eb90914c33f",
   "metadata": {
    "tags": []
   },
   "outputs": [
    {
     "name": "stdout",
     "output_type": "stream",
     "text": [
      "Optimal parameters: [-0.32616107  0.32721212  1.15000964 -1.95711985]\n",
      "Optimal value: -1.298474275763471\n",
      "Number of optimizer evaluations: None\n",
      "Optimizer result: {   'fun': -1.298474275763471,\n",
      "    'jac': None,\n",
      "    'nfev': 802,\n",
      "    'nit': None,\n",
      "    'njev': None,\n",
      "    'x': array([-0.32616107,  0.32721212,  1.15000964, -1.95711985])}\n",
      "Time (s): 12.70673394203186\n",
      "Eigenvalue: -1.298474275763471\n",
      "Number of cost optimizer evaluations: 802\n"
     ]
    }
   ],
   "source": [
    "print('Optimal parameters:',result.optimal_point)\n",
    "print('Optimal value:',result.optimal_value)\n",
    "print('Number of optimizer evaluations:',result.optimizer_evals)\n",
    "print('Optimizer result:',result.optimizer_result)\n",
    "print('Time (s):',result.optimizer_time)\n",
    "print('Eigenvalue:',result.eigenvalue)\n",
    "print('Number of cost optimizer evaluations:',result.cost_function_evals)"
   ]
  },
  {
   "cell_type": "code",
   "execution_count": 20,
   "id": "792ee245-4dfa-4bf9-bcc5-c2f5c696fb8f",
   "metadata": {
    "tags": []
   },
   "outputs": [
    {
     "data": {
      "text/html": [
       "<pre style=\"word-wrap: normal;white-space: pre;background: #fff0;line-height: 1.1;font-family: &quot;Courier New&quot;,Courier,monospace\">        ┌─────────────┐               ┌───────────────┐               »\n",
       "   q_0: ┤ U3(π/2,0,π) ├─■─────────────┤ Rz(-0.5*γ[0]) ├─■─────────────»\n",
       "        ├─────────────┤ │ZZ(0.5*γ[0]) ├───────────────┤ │             »\n",
       "   q_1: ┤ U3(π/2,0,π) ├─■─────────────┤ Rz(-0.5*γ[0]) ├─┼─────────────»\n",
       "        ├─────────────┤               └───────────────┘ │ZZ(0.5*γ[0]) »\n",
       "   q_2: ┤ U3(π/2,0,π) ├─────────────────────────────────■─────────────»\n",
       "        ├─────────────┤                                               »\n",
       "   q_3: ┤ U3(π/2,0,π) ├───────────────────────────────────────────────»\n",
       "        └─────────────┘                                               »\n",
       "meas: 4/══════════════════════════════════════════════════════════════»\n",
       "                                                                      »\n",
       "«                                          ┌──────────────┐               »\n",
       "«   q_0: ──────────────────■───────────────┤ Rx(2.0*β[0]) ├───────────────»\n",
       "«                          │               └──────────────┘               »\n",
       "«   q_1: ──────────────────┼────────────────■───────────────■─────────────»\n",
       "«        ┌───────────────┐ │                │ZZ(-0.5*γ[0])  │             »\n",
       "«   q_2: ┤ Rz(-0.5*γ[0]) ├─┼────────────────■───────────────┼─────────────»\n",
       "«        └───────────────┘ │ZZ(-0.5*γ[0]) ┌───────────────┐ │ZZ(0.5*γ[0]) »\n",
       "«   q_3: ──────────────────■──────────────┤ Rz(-0.5*γ[0]) ├─■─────────────»\n",
       "«                                         └───────────────┘               »\n",
       "«meas: 4/═════════════════════════════════════════════════════════════════»\n",
       "«                                                                         »\n",
       "«                                        ┌───────────────┐               »\n",
       "«   q_0: ─────────────────■──────────────┤ Rz(-0.5*γ[1]) ├─■─────────────»\n",
       "«        ┌──────────────┐ │ZZ(0.5*γ[1])  ├───────────────┤ │             »\n",
       "«   q_1: ┤ Rx(2.0*β[0]) ├─■──────────────┤ Rz(-0.5*γ[1]) ├─┼─────────────»\n",
       "«        └──────────────┘┌──────────────┐└───────────────┘ │ZZ(0.5*γ[1]) »\n",
       "«   q_2: ─■──────────────┤ Rx(2.0*β[0]) ├──────────────────■─────────────»\n",
       "«         │ZZ(0.5*γ[0])  ├──────────────┤                                »\n",
       "«   q_3: ─■──────────────┤ Rx(2.0*β[0]) ├────────────────────────────────»\n",
       "«                        └──────────────┘                                »\n",
       "«meas: 4/════════════════════════════════════════════════════════════════»\n",
       "«                                                                        »\n",
       "«                                          ┌──────────────┐               »\n",
       "«   q_0: ──────────────────■───────────────┤ Rx(2.0*β[1]) ├───────────────»\n",
       "«                          │               └──────────────┘               »\n",
       "«   q_1: ──────────────────┼────────────────■───────────────■─────────────»\n",
       "«        ┌───────────────┐ │                │ZZ(-0.5*γ[1])  │             »\n",
       "«   q_2: ┤ Rz(-0.5*γ[1]) ├─┼────────────────■───────────────┼─────────────»\n",
       "«        └───────────────┘ │ZZ(-0.5*γ[1]) ┌───────────────┐ │ZZ(0.5*γ[1]) »\n",
       "«   q_3: ──────────────────■──────────────┤ Rz(-0.5*γ[1]) ├─■─────────────»\n",
       "«                                         └───────────────┘               »\n",
       "«meas: 4/═════════════════════════════════════════════════════════════════»\n",
       "«                                                                         »\n",
       "«                                         ░ ┌─┐         \n",
       "«   q_0: ─────────────────────────────────░─┤M├─────────\n",
       "«        ┌──────────────┐                 ░ └╥┘┌─┐      \n",
       "«   q_1: ┤ Rx(2.0*β[1]) ├─────────────────░──╫─┤M├──────\n",
       "«        └──────────────┘┌──────────────┐ ░  ║ └╥┘┌─┐   \n",
       "«   q_2: ─■──────────────┤ Rx(2.0*β[1]) ├─░──╫──╫─┤M├───\n",
       "«         │ZZ(0.5*γ[1])  ├──────────────┤ ░  ║  ║ └╥┘┌─┐\n",
       "«   q_3: ─■──────────────┤ Rx(2.0*β[1]) ├─░──╫──╫──╫─┤M├\n",
       "«                        └──────────────┘ ░  ║  ║  ║ └╥┘\n",
       "«meas: 4/════════════════════════════════════╩══╩══╩══╩═\n",
       "«                                            0  1  2  3 </pre>"
      ],
      "text/plain": [
       "        ┌─────────────┐               ┌───────────────┐               »\n",
       "   q_0: ┤ U3(π/2,0,π) ├─■─────────────┤ Rz(-0.5*γ[0]) ├─■─────────────»\n",
       "        ├─────────────┤ │ZZ(0.5*γ[0]) ├───────────────┤ │             »\n",
       "   q_1: ┤ U3(π/2,0,π) ├─■─────────────┤ Rz(-0.5*γ[0]) ├─┼─────────────»\n",
       "        ├─────────────┤               └───────────────┘ │ZZ(0.5*γ[0]) »\n",
       "   q_2: ┤ U3(π/2,0,π) ├─────────────────────────────────■─────────────»\n",
       "        ├─────────────┤                                               »\n",
       "   q_3: ┤ U3(π/2,0,π) ├───────────────────────────────────────────────»\n",
       "        └─────────────┘                                               »\n",
       "meas: 4/══════════════════════════════════════════════════════════════»\n",
       "                                                                      »\n",
       "«                                          ┌──────────────┐               »\n",
       "«   q_0: ──────────────────■───────────────┤ Rx(2.0*β[0]) ├───────────────»\n",
       "«                          │               └──────────────┘               »\n",
       "«   q_1: ──────────────────┼────────────────■───────────────■─────────────»\n",
       "«        ┌───────────────┐ │                │ZZ(-0.5*γ[0])  │             »\n",
       "«   q_2: ┤ Rz(-0.5*γ[0]) ├─┼────────────────■───────────────┼─────────────»\n",
       "«        └───────────────┘ │ZZ(-0.5*γ[0]) ┌───────────────┐ │ZZ(0.5*γ[0]) »\n",
       "«   q_3: ──────────────────■──────────────┤ Rz(-0.5*γ[0]) ├─■─────────────»\n",
       "«                                         └───────────────┘               »\n",
       "«meas: 4/═════════════════════════════════════════════════════════════════»\n",
       "«                                                                         »\n",
       "«                                        ┌───────────────┐               »\n",
       "«   q_0: ─────────────────■──────────────┤ Rz(-0.5*γ[1]) ├─■─────────────»\n",
       "«        ┌──────────────┐ │ZZ(0.5*γ[1])  ├───────────────┤ │             »\n",
       "«   q_1: ┤ Rx(2.0*β[0]) ├─■──────────────┤ Rz(-0.5*γ[1]) ├─┼─────────────»\n",
       "«        └──────────────┘┌──────────────┐└───────────────┘ │ZZ(0.5*γ[1]) »\n",
       "«   q_2: ─■──────────────┤ Rx(2.0*β[0]) ├──────────────────■─────────────»\n",
       "«         │ZZ(0.5*γ[0])  ├──────────────┤                                »\n",
       "«   q_3: ─■──────────────┤ Rx(2.0*β[0]) ├────────────────────────────────»\n",
       "«                        └──────────────┘                                »\n",
       "«meas: 4/════════════════════════════════════════════════════════════════»\n",
       "«                                                                        »\n",
       "«                                          ┌──────────────┐               »\n",
       "«   q_0: ──────────────────■───────────────┤ Rx(2.0*β[1]) ├───────────────»\n",
       "«                          │               └──────────────┘               »\n",
       "«   q_1: ──────────────────┼────────────────■───────────────■─────────────»\n",
       "«        ┌───────────────┐ │                │ZZ(-0.5*γ[1])  │             »\n",
       "«   q_2: ┤ Rz(-0.5*γ[1]) ├─┼────────────────■───────────────┼─────────────»\n",
       "«        └───────────────┘ │ZZ(-0.5*γ[1]) ┌───────────────┐ │ZZ(0.5*γ[1]) »\n",
       "«   q_3: ──────────────────■──────────────┤ Rz(-0.5*γ[1]) ├─■─────────────»\n",
       "«                                         └───────────────┘               »\n",
       "«meas: 4/═════════════════════════════════════════════════════════════════»\n",
       "«                                                                         »\n",
       "«                                         ░ ┌─┐         \n",
       "«   q_0: ─────────────────────────────────░─┤M├─────────\n",
       "«        ┌──────────────┐                 ░ └╥┘┌─┐      \n",
       "«   q_1: ┤ Rx(2.0*β[1]) ├─────────────────░──╫─┤M├──────\n",
       "«        └──────────────┘┌──────────────┐ ░  ║ └╥┘┌─┐   \n",
       "«   q_2: ─■──────────────┤ Rx(2.0*β[1]) ├─░──╫──╫─┤M├───\n",
       "«         │ZZ(0.5*γ[1])  ├──────────────┤ ░  ║  ║ └╥┘┌─┐\n",
       "«   q_3: ─■──────────────┤ Rx(2.0*β[1]) ├─░──╫──╫──╫─┤M├\n",
       "«                        └──────────────┘ ░  ║  ║  ║ └╥┘\n",
       "«meas: 4/════════════════════════════════════╩══╩══╩══╩═\n",
       "«                                            0  1  2  3 "
      ]
     },
     "execution_count": 20,
     "metadata": {},
     "output_type": "execute_result"
    }
   ],
   "source": [
    "result.optimal_circuit.decompose(reps=2).draw()"
   ]
  },
  {
   "cell_type": "code",
   "execution_count": 106,
   "id": "5ce385c0-e305-41d5-bcae-1b8a69a7821b",
   "metadata": {
    "tags": []
   },
   "outputs": [],
   "source": [
    "job = sampler.run(qc, parameter_values=[0.0,0.0, 0.0,0.0])"
   ]
  },
  {
   "cell_type": "code",
   "execution_count": 107,
   "id": "d865ea93-d433-4e1e-845b-3fc9dc542564",
   "metadata": {
    "tags": []
   },
   "outputs": [
    {
     "name": "stdout",
     "output_type": "stream",
     "text": [
      "0 0.001953125\n"
     ]
    }
   ],
   "source": [
    "i=0\n",
    "e=0.0\n",
    "for k,v in job.result().quasi_dists[0].items():\n",
    "    if v>e:\n",
    "        e=v\n",
    "        i=k\n",
    "print(i,e)"
   ]
  },
  {
   "cell_type": "code",
   "execution_count": 108,
   "id": "0c33a7ec-4443-4a87-8253-4f6f298a9685",
   "metadata": {
    "tags": []
   },
   "outputs": [
    {
     "data": {
      "text/plain": [
       "[0, 0, 0, 0, 0, 0, 0, 0, 0]"
      ]
     },
     "execution_count": 108,
     "metadata": {},
     "output_type": "execute_result"
    }
   ],
   "source": [
    "def bitfield(n, L):\n",
    "    result = np.binary_repr(n, L)\n",
    "    return [int(digit) for digit in result]\n",
    "x = bitfield(i, 9)\n",
    "x.reverse()\n",
    "x"
   ]
  },
  {
   "cell_type": "code",
   "execution_count": null,
   "id": "405ee04e-cefc-4887-b45f-e7d3a680570a",
   "metadata": {},
   "outputs": [],
   "source": []
  }
 ],
 "metadata": {
  "kernelspec": {
   "display_name": "Python 3 (ipykernel)",
   "language": "python",
   "name": "python3"
  },
  "language_info": {
   "codemirror_mode": {
    "name": "ipython",
    "version": 3
   },
   "file_extension": ".py",
   "mimetype": "text/x-python",
   "name": "python",
   "nbconvert_exporter": "python",
   "pygments_lexer": "ipython3",
   "version": "3.8.18"
  }
 },
 "nbformat": 4,
 "nbformat_minor": 5
}
