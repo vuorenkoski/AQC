{
 "cells": [
  {
   "cell_type": "markdown",
   "id": "c252b968-2f76-4c0b-87fd-8cb1d3dcff71",
   "metadata": {
    "tags": []
   },
   "source": [
    "# Community detection\n",
    "\n",
    "Classical algorithm used as a model: https://en.wikipedia.org/wiki/Louvain_method. Task is to minimize funcion $Q=\\dfrac{1}{2m} \\sum_{ij}(-A_{ij}+\\dfrac{k_ik_j}{2m}) \\delta(c_i,c_j)$.\n",
    "\n",
    "Algorithm solves community detection problem of undirected graph $G = (V, E)$ where every edge there has weight $w_{xy}$.\n",
    "\n",
    "QUBO elements $|V||C|$ where $C$ is set of communities. Maximum number of communities must be defined a priori. Constraints:\n",
    "1. Vertex can belong to only one community \n",
    "2. Minimize above mentioned function. "
   ]
  },
  {
   "cell_type": "code",
   "execution_count": 1,
   "id": "d54d56b9-5848-4124-9dae-36e495947ecc",
   "metadata": {
    "tags": []
   },
   "outputs": [],
   "source": [
    "import numpy as np\n",
    "import time\n",
    "import dimod\n",
    "from dwave.system import DWaveSampler, EmbeddingComposite, LeapHybridSampler\n",
    "from dwave.samplers import SimulatedAnnealingSampler\n",
    "import dwave.inspector\n",
    "import networkx as nx\n",
    "from networkx.classes.function import path_weight\n",
    "import random"
   ]
  },
  {
   "cell_type": "markdown",
   "id": "40f568aa-84de-4973-b0ab-015b00f9b125",
   "metadata": {},
   "source": [
    "## QUBO function"
   ]
  },
  {
   "cell_type": "code",
   "execution_count": 2,
   "id": "96035ce5-67dd-4d80-9580-331563cf1c07",
   "metadata": {
    "tags": []
   },
   "outputs": [],
   "source": [
    "def create_qubo2(E, vertices, communities, p):\n",
    "    Q = np.zeros((vertices*communities, vertices*communities))\n",
    "    \n",
    "    # Constraint 1\n",
    "    for i in range(vertices): \n",
    "        for j in range(communities): \n",
    "            for k in range(j+1,communities): \n",
    "                Q[i*communities+j,i*communities+k]=p\n",
    "                \n",
    "    # Constraint 2\n",
    "    for e in E:\n",
    "        for i in range(communities):\n",
    "            for j in range(communities):\n",
    "                if i==j:\n",
    "                    Q[e[0]*communities+i, e[1]*communities+j] = -e[2]\n",
    "                else:\n",
    "                    Q[e[0]*communities+i, e[1]*communities+j] = e[2]\n",
    "            \n",
    "    return Q"
   ]
  },
  {
   "cell_type": "code",
   "execution_count": 3,
   "id": "9861a509-df2a-4e73-8f59-5307fb541285",
   "metadata": {
    "tags": []
   },
   "outputs": [],
   "source": [
    "def create_qubo(E, vertices, communities, p):\n",
    "    Q = np.zeros((vertices*communities, vertices*communities))\n",
    "    \n",
    "    # We need helper datastructure to containt k\n",
    "    k = np.zeros(vertices)\n",
    "    for e in E:\n",
    "        k[e[0]] += e[2]\n",
    "        k[e[1]] += e[2]\n",
    "    print(k)\n",
    "\n",
    "    # Constraint 1\n",
    "    for v in range(vertices): \n",
    "        for c1 in range(communities): \n",
    "            for c2 in range(c1+1,communities): \n",
    "                Q[v*communities+c1,v*communities+c2]=p\n",
    "                \n",
    "    # Constraint 2 and 3\n",
    "    for v1 in range(vertices): \n",
    "        for v2 in range(v1+1,vertices): \n",
    "            for c in range(communities):\n",
    "                Q[v1*communities+c, v2*communities+c] = round(k[v1]*k[v2] / (2*p),1)\n",
    "                \n",
    "    for e in E:\n",
    "        for c in range(communities):\n",
    "            Q[e[0]*communities+c, e[1]*communities+c] -= e[2]\n",
    "            \n",
    "    return Q"
   ]
  },
  {
   "cell_type": "markdown",
   "id": "62ccb068-5f13-44a8-81ad-77ff82c116f1",
   "metadata": {},
   "source": [
    "## Small example"
   ]
  },
  {
   "cell_type": "code",
   "execution_count": 4,
   "id": "f56660de-6a00-4c80-bb86-83b0c0aff93e",
   "metadata": {
    "tags": []
   },
   "outputs": [],
   "source": [
    "E = np.array([(0, 2, 1), (1, 2, 2), (1, 3, 1), (0, 5, 8), (0, 1, 10), (3, 4, 6), (2, 4, 16)])\n",
    "vertices = 6\n",
    "communities = 3"
   ]
  },
  {
   "cell_type": "markdown",
   "id": "0d9da1bf-4bf4-4c91-8354-a48e4c0619ad",
   "metadata": {},
   "source": [
    "Above graph visualised:\n",
    "\n",
    "![](graph1.png)"
   ]
  },
  {
   "cell_type": "code",
   "execution_count": 5,
   "id": "36a84f82-8221-4e24-8da9-dc86bae743f3",
   "metadata": {
    "tags": []
   },
   "outputs": [
    {
     "name": "stdout",
     "output_type": "stream",
     "text": [
      "Max count: 44\n"
     ]
    }
   ],
   "source": [
    "max_count = 0\n",
    "edges = len(E)\n",
    "for e in E:\n",
    "    max_count += e[2]\n",
    "print('Max count:',max_count)\n",
    "\n",
    "labels = {}\n",
    "for i in range(vertices):\n",
    "    for j in range(communities):\n",
    "        labels[i*communities + j]=(i,j)"
   ]
  },
  {
   "cell_type": "code",
   "execution_count": 6,
   "id": "8bbc37fd-2e23-4a81-afa1-9c4322d9ae33",
   "metadata": {
    "tags": []
   },
   "outputs": [
    {
     "name": "stdout",
     "output_type": "stream",
     "text": [
      "[19. 13. 19.  7. 22.  8.]\n",
      "Time used for construction Q (ms): 1.545\n",
      "\n",
      "{0: (0, 0), 1: (0, 1), 2: (0, 2), 3: (1, 0), 4: (1, 1), 5: (1, 2), 6: (2, 0), 7: (2, 1), 8: (2, 2), 9: (3, 0), 10: (3, 1), 11: (3, 2), 12: (4, 0), 13: (4, 1), 14: (4, 2), 15: (5, 0), 16: (5, 1), 17: (5, 2)}\n",
      "[[  0.   44.   44.   -7.2   0.    0.    3.1   0.    0.    1.5   0.    0.\n",
      "    4.8   0.    0.   -6.3   0.    0. ]\n",
      " [  0.    0.   44.    0.   -7.2   0.    0.    3.1   0.    0.    1.5   0.\n",
      "    0.    4.8   0.    0.   -6.3   0. ]\n",
      " [  0.    0.    0.    0.    0.   -7.2   0.    0.    3.1   0.    0.    1.5\n",
      "    0.    0.    4.8   0.    0.   -6.3]\n",
      " [  0.    0.    0.    0.   44.   44.    0.8   0.    0.    0.    0.    0.\n",
      "    3.2   0.    0.    1.2   0.    0. ]\n",
      " [  0.    0.    0.    0.    0.   44.    0.    0.8   0.    0.    0.    0.\n",
      "    0.    3.2   0.    0.    1.2   0. ]\n",
      " [  0.    0.    0.    0.    0.    0.    0.    0.    0.8   0.    0.    0.\n",
      "    0.    0.    3.2   0.    0.    1.2]\n",
      " [  0.    0.    0.    0.    0.    0.    0.   44.   44.    1.5   0.    0.\n",
      "  -11.2   0.    0.    1.7   0.    0. ]\n",
      " [  0.    0.    0.    0.    0.    0.    0.    0.   44.    0.    1.5   0.\n",
      "    0.  -11.2   0.    0.    1.7   0. ]\n",
      " [  0.    0.    0.    0.    0.    0.    0.    0.    0.    0.    0.    1.5\n",
      "    0.    0.  -11.2   0.    0.    1.7]\n",
      " [  0.    0.    0.    0.    0.    0.    0.    0.    0.    0.   44.   44.\n",
      "   -4.2   0.    0.    0.6   0.    0. ]\n",
      " [  0.    0.    0.    0.    0.    0.    0.    0.    0.    0.    0.   44.\n",
      "    0.   -4.2   0.    0.    0.6   0. ]\n",
      " [  0.    0.    0.    0.    0.    0.    0.    0.    0.    0.    0.    0.\n",
      "    0.    0.   -4.2   0.    0.    0.6]\n",
      " [  0.    0.    0.    0.    0.    0.    0.    0.    0.    0.    0.    0.\n",
      "    0.   44.   44.    2.    0.    0. ]\n",
      " [  0.    0.    0.    0.    0.    0.    0.    0.    0.    0.    0.    0.\n",
      "    0.    0.   44.    0.    2.    0. ]\n",
      " [  0.    0.    0.    0.    0.    0.    0.    0.    0.    0.    0.    0.\n",
      "    0.    0.    0.    0.    0.    2. ]\n",
      " [  0.    0.    0.    0.    0.    0.    0.    0.    0.    0.    0.    0.\n",
      "    0.    0.    0.    0.   44.   44. ]\n",
      " [  0.    0.    0.    0.    0.    0.    0.    0.    0.    0.    0.    0.\n",
      "    0.    0.    0.    0.    0.   44. ]\n",
      " [  0.    0.    0.    0.    0.    0.    0.    0.    0.    0.    0.    0.\n",
      "    0.    0.    0.    0.    0.    0. ]]\n"
     ]
    }
   ],
   "source": [
    "ts = time.time()\n",
    "Q = create_qubo(E, vertices, communities, max_count)\n",
    "qubo_time = (time.time()-ts)*1000\n",
    "print('Time used for construction Q (ms): {:.3f}\\n'.format(qubo_time))\n",
    "print(labels)\n",
    "print(Q)\n",
    "\n",
    "ts = time.time()\n",
    "bqm = dimod.BinaryQuadraticModel(Q, 'BINARY')\n",
    "bqm_time = (time.time()-ts)*1000\n",
    "bqm = bqm.relabel_variables(labels, inplace=False)"
   ]
  },
  {
   "cell_type": "code",
   "execution_count": 7,
   "id": "c95a2fb5-c7c5-4a22-945b-dedd3397cfa0",
   "metadata": {
    "tags": []
   },
   "outputs": [
    {
     "name": "stdout",
     "output_type": "stream",
     "text": [
      "Time used (ms): 348.528\n",
      "\n",
      "   (0, 0) (0, 1) (0, 2) (1, 0) (1, 1) (1, 2) (2, 0) ... (5, 2) energy num_oc.\n",
      "0       1      0      0      1      0      0      0 ...      0  -26.2       1\n",
      "1       0      0      1      0      0      1      1 ...      1  -26.2       1\n",
      "2       0      1      0      0      1      0      1 ...      0  -26.2       1\n",
      "3       0      0      1      0      0      1      0 ...      1  -26.2       1\n",
      "4       0      1      0      0      1      0      0 ...      0  -26.2       1\n",
      "5       1      0      0      1      0      0      0 ...      0  -26.2       1\n",
      "6       0      1      0      0      1      0      1 ...      0  -23.5       1\n",
      "7       0      0      1      0      0      1      1 ...      1  -23.5       1\n",
      "8       0      0      1      0      0      1      1 ...      1  -23.5       1\n",
      "9       1      0      0      1      0      0      0 ...      0  -23.5       1\n",
      "10      0      1      0      0      1      0      0 ...      0  -23.5       1\n",
      "11      0      0      1      0      0      1      0 ...      1  -23.5       1\n",
      "12      0      1      0      0      1      0      1 ...      0  -23.5       1\n",
      "13      0      1      0      0      1      0      0 ...      0  -23.5       1\n",
      "14      1      0      0      1      0      0      0 ...      0  -23.5       1\n",
      "15      0      0      1      0      0      1      0 ...      1  -23.5       1\n",
      "16      1      0      0      1      0      0      0 ...      0  -23.5       1\n",
      "17      1      0      0      1      0      0      0 ...      0  -23.5       1\n",
      "18      0      1      0      0      1      0      0 ...      0  -21.4       1\n",
      "19      0      1      0      0      1      0      1 ...      0  -21.4       1\n",
      "['BINARY', 20 rows, 20 samples, 18 variables]\n"
     ]
    }
   ],
   "source": [
    "ts = time.time()\n",
    "sampleset = dimod.ExactSolver().sample(bqm)\n",
    "det_time = (time.time()-ts)*1000\n",
    "print('Time used (ms): {:.3f}\\n'.format(det_time))\n",
    "energy = sampleset.first.energy\n",
    "print(sampleset.truncate(20))"
   ]
  },
  {
   "cell_type": "code",
   "execution_count": 8,
   "id": "6939c67f-d193-4d48-aba8-d7e43c943068",
   "metadata": {
    "tags": []
   },
   "outputs": [
    {
     "name": "stdout",
     "output_type": "stream",
     "text": [
      "(0, 0)\n",
      "(1, 0)\n",
      "(2, 1)\n",
      "(3, 1)\n",
      "(4, 1)\n",
      "(5, 0)\n"
     ]
    }
   ],
   "source": [
    "for k,v in sampleset.first.sample.items():\n",
    "    if v==1: print(k)"
   ]
  },
  {
   "cell_type": "code",
   "execution_count": null,
   "id": "73ef5c9c-b747-44ca-a5cd-0b8c612fb916",
   "metadata": {},
   "outputs": [],
   "source": []
  },
  {
   "cell_type": "code",
   "execution_count": null,
   "id": "596e1da5-3cbd-4737-a279-501aff575187",
   "metadata": {},
   "outputs": [],
   "source": []
  }
 ],
 "metadata": {
  "kernelspec": {
   "display_name": "Python 3 (ipykernel)",
   "language": "python",
   "name": "python3"
  },
  "language_info": {
   "codemirror_mode": {
    "name": "ipython",
    "version": 3
   },
   "file_extension": ".py",
   "mimetype": "text/x-python",
   "name": "python",
   "nbconvert_exporter": "python",
   "pygments_lexer": "ipython3",
   "version": "3.8.18"
  }
 },
 "nbformat": 4,
 "nbformat_minor": 5
}
