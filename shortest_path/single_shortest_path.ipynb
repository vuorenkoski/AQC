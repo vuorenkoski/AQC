{
 "cells": [
  {
   "cell_type": "markdown",
   "id": "d55be57b-8ef5-4716-95cb-35c8666239ac",
   "metadata": {},
   "source": [
    "# All shortest paths\n",
    "\n",
    "All shortest path algorithm implemented by QUBO in quantum annealer. Classical version of this is for example bellman-ford: https://en.wikipedia.org/wiki/Bellman%E2%80%93Ford_algorithm\n",
    "\n",
    "Here directed graph $G=(V,E)$ has sets of vertices $V$ and edges $E \\subseteq \\{(x,y)|(x,y) \\in V^2 and x \\not = y\\}$. For every edge there is weight $w_{xy}$. Task is to find path with minimum sum of weights for defined $(s,t) \\in E^2$.\n",
    "\n",
    "Solution is inspired by \"Directed Edge-Based Approach\" from Kraus & McCollum (2020) Solving the Network Shortest Path Problem on a Quantum Annealer: https://doi.org/10.1109/TQE.2020.3021921\n",
    "\n",
    "Penalty $p=\\sum w_{xy}$.\n",
    "\n",
    "Following constraints are build to QUBO: \n",
    "1. There should be one vertice starting from $s$ ($-p$ for each), no vertice should end to $s$ ($p$ for each)\n",
    "2. There should be one vertice ending to $t$ ($-p$ for each), no vertice should start from $t$ ($p$ for each)\n",
    "3. Two edges should not start/end to the same vertice, for example $s$ or $t$ (if so $2p$) \n",
    "4. Two edges should form a chain (ok chain gives $p$, otherwise more than that)\n",
    "5. Pathing having lower weights should be prioritised\n",
    "\n",
    "Proper path would give energy level of $w-p$ (constraint 4 brings minimum $p$ and constraint 1 and 2 both minimum $-p$). From this set of samples we choose lowest energy level sample. All samples with energy level below zero are correct pahts between $(s,t)$."
   ]
  },
  {
   "cell_type": "code",
   "execution_count": 40,
   "id": "63525c69-dd51-43cc-b6a5-988fcf02f1d3",
   "metadata": {
    "tags": []
   },
   "outputs": [],
   "source": [
    "import numpy as np\n",
    "import time\n",
    "import dimod\n",
    "from dwave.system import DWaveSampler, EmbeddingComposite, LeapHybridSampler\n",
    "from dwave.samplers import SimulatedAnnealingSampler\n",
    "import dwave.inspector"
   ]
  },
  {
   "cell_type": "markdown",
   "id": "434b7ea2-767c-4280-9270-74bc50121584",
   "metadata": {},
   "source": [
    "## 1. First run with simple graph"
   ]
  },
  {
   "cell_type": "markdown",
   "id": "5649c0b6",
   "metadata": {},
   "source": [
    "### Define graph\n",
    "\n",
    "Input graph is array of tuples (1st vertice, 2nd vertice, weight)"
   ]
  },
  {
   "cell_type": "code",
   "execution_count": 41,
   "id": "c7f22202",
   "metadata": {
    "tags": []
   },
   "outputs": [],
   "source": [
    "E = np.array([(0, 2, 1), (2, 1, 2), (1, 3, 3), (3, 2, 4), (0, 1, 5), (3, 4, 3), (2, 4, 8)])\n",
    "vertices = 5\n",
    "s = 0\n",
    "t = 4"
   ]
  },
  {
   "cell_type": "markdown",
   "id": "4aac45bc",
   "metadata": {},
   "source": [
    "Above graph visualised:\n",
    "\n",
    "![](graph4.png)"
   ]
  },
  {
   "cell_type": "code",
   "execution_count": 42,
   "id": "fe3cfdce",
   "metadata": {
    "tags": []
   },
   "outputs": [],
   "source": [
    "#E = np.array([(0, 1, 8), (1, 3, 5), (0, 2, 2), (2, 1, 4), (2, 4, 7), (4, 3, 3)])\n",
    "#vertices = 5\n",
    "#s = 0\n",
    "#t = 3"
   ]
  },
  {
   "cell_type": "markdown",
   "id": "8b6cb481",
   "metadata": {},
   "source": [
    "Above graph visualised:\n",
    "    \n",
    "![](graph2.png)"
   ]
  },
  {
   "cell_type": "markdown",
   "id": "72682cd6-5890-43d4-9826-4c82ece6f476",
   "metadata": {},
   "source": [
    "### Construct max_count and labels variables"
   ]
  },
  {
   "cell_type": "code",
   "execution_count": 43,
   "id": "df0cf817-0abf-4fd9-ad7f-7d1fa82f6d3e",
   "metadata": {
    "tags": []
   },
   "outputs": [
    {
     "name": "stdout",
     "output_type": "stream",
     "text": [
      "Max count: 26\n"
     ]
    }
   ],
   "source": [
    "max_count = 0\n",
    "labels = {}\n",
    "for i,e in enumerate(E):\n",
    "    max_count += e[2]\n",
    "    labels[i] = str(e[0]) + '-' + str(e[1])\n",
    "print('Max count:',max_count)"
   ]
  },
  {
   "cell_type": "markdown",
   "id": "ffce4831-c678-4b44-b79c-f5a91622dcac",
   "metadata": {},
   "source": [
    "### Some helper functions for getting results from sampleset"
   ]
  },
  {
   "cell_type": "code",
   "execution_count": 44,
   "id": "3556b425-ec15-428c-a429-df334fbcf867",
   "metadata": {
    "tags": []
   },
   "outputs": [],
   "source": [
    "def path_from_sample(sample,s,t,E):\n",
    "    w = 0\n",
    "    i = s\n",
    "    path = str(i)\n",
    "    while i!=t:\n",
    "        found = False\n",
    "        for e in E:\n",
    "            if e[0]==i and sample[str(e[0]) + '-' + str(e[1])]==1:\n",
    "                i = e[1]\n",
    "                path += '-'+str(i)\n",
    "                w += e[2]\n",
    "                found = True\n",
    "        if not found:\n",
    "            print('Path broken')\n",
    "            break\n",
    "    return (str(s)+'-'+str(t),path,w)\n",
    "        \n",
    "\n",
    "def result_info(sampleset,s,t,E):\n",
    "    energy= sampleset.first.energy\n",
    "    ss = sampleset.filter(lambda s: s.energy==energy)\n",
    "    res = []\n",
    "    for sample in ss:\n",
    "        st, path, w = path_from_sample(sample,s,t,E)\n",
    "        if st not in res:\n",
    "            res.append((st,path,w))\n",
    "    return res"
   ]
  },
  {
   "cell_type": "markdown",
   "id": "cedec220",
   "metadata": {},
   "source": [
    "### Function to create QUBO\n",
    "\n",
    "Constraints: \n",
    "1. There should be one vertice starting from $s$ ($-p$ for each), no vertice should end to $s$ ($p$ for each)\n",
    "2. There should be one vertice ending to $t$ ($-p$ for each), no vertice should start from $t$ ($p$ for each)\n",
    "3. Two edges should not start/end to the same vertice, for example $s$ or $t$ (if so $2p$) \n",
    "4. Two edges should form a chain (ok chain gives $p$, otherwise more than that)\n",
    "5. Pathing having lower weights should be prioritised"
   ]
  },
  {
   "cell_type": "code",
   "execution_count": 45,
   "id": "28c0a125-984b-4dda-9838-e9c7af4724b1",
   "metadata": {
    "tags": []
   },
   "outputs": [],
   "source": [
    "def create_qubo(E,p,s,t):\n",
    "    edges = len(E)\n",
    "    Q = np.zeros((edges,edges))\n",
    "\n",
    "    # Constraint 1\n",
    "    for i in range(edges):\n",
    "        if E[i][1]==s:\n",
    "            Q[i][i] += p\n",
    "        if E[i][0]==s:\n",
    "            Q[i][i] -= p\n",
    "        \n",
    "    # Constraint 2\n",
    "    for i in range(edges):\n",
    "        if E[i][0]==t:\n",
    "            Q[i][i] += p\n",
    "        if E[i][1]==t:\n",
    "            Q[i][i] -= p\n",
    "\n",
    "    # Constraint 3\n",
    "    for i in range(edges):\n",
    "        for j in range(i+1,edges):\n",
    "            if E[i][0]==E[j][0] or E[i][1]==E[j][1]:\n",
    "                Q[i,j] = 2*p\n",
    "\n",
    "    # Constraint 4\n",
    "    for i in range(edges):\n",
    "        Q[i,i] += p\n",
    "        for j in range(i+1,edges):\n",
    "            if E[i][1]==E[j][0] or E[i][0]==E[j][1]:\n",
    "                Q[i,j] -= p\n",
    "\n",
    "    # Constraint 5\n",
    "    for i,e in enumerate(E):\n",
    "        Q[i][i] += e[2]        \n",
    "\n",
    "    return Q"
   ]
  },
  {
   "cell_type": "markdown",
   "id": "6d9d09b2-587a-40e9-a41c-e9358b890b06",
   "metadata": {},
   "source": [
    "### Create QUBO"
   ]
  },
  {
   "cell_type": "code",
   "execution_count": 46,
   "id": "2cf5536e-fa02-4f37-8ed6-e10ea1f672d6",
   "metadata": {
    "tags": []
   },
   "outputs": [
    {
     "name": "stdout",
     "output_type": "stream",
     "text": [
      "Time used for construction Q (ms): 0.369\n",
      "\n",
      "{0: '0-2', 1: '2-1', 2: '1-3', 3: '3-2', 4: '0-1', 5: '3-4', 6: '2-4'}\n",
      "[[  1. -26.   0.  52.  52.   0. -26.]\n",
      " [  0.  28. -26. -26.  52.   0.  52.]\n",
      " [  0.   0.  29. -26. -26. -26.   0.]\n",
      " [  0.   0.   0.  30.   0.  52. -26.]\n",
      " [  0.   0.   0.   0.   5.   0.   0.]\n",
      " [  0.   0.   0.   0.   0.   3.  52.]\n",
      " [  0.   0.   0.   0.   0.   0.   8.]]\n"
     ]
    }
   ],
   "source": [
    "t1 = time.time()\n",
    "Q = create_qubo(E,max_count,s,t)\n",
    "qubo_time = (time.time()-t1)*1000\n",
    "print('Time used for construction Q (ms): {:.3f}\\n'.format(qubo_time))\n",
    "print(labels)\n",
    "print(Q)"
   ]
  },
  {
   "cell_type": "markdown",
   "id": "a649a509-ae35-4998-9ebd-5eeaafaa57d0",
   "metadata": {},
   "source": [
    "### Create BQM from QUBO"
   ]
  },
  {
   "cell_type": "code",
   "execution_count": 47,
   "id": "1891d43a",
   "metadata": {
    "tags": []
   },
   "outputs": [],
   "source": [
    "t1 = time.time()\n",
    "bqm = dimod.BinaryQuadraticModel(Q, 'BINARY')\n",
    "bqm_time = (time.time()-t1)*1000\n",
    "bqm = bqm.relabel_variables(labels, inplace=False)"
   ]
  },
  {
   "cell_type": "markdown",
   "id": "bd174749",
   "metadata": {},
   "source": [
    "### Local deterministic classical solver"
   ]
  },
  {
   "cell_type": "code",
   "execution_count": 48,
   "id": "a8ca8697",
   "metadata": {
    "tags": []
   },
   "outputs": [
    {
     "name": "stdout",
     "output_type": "stream",
     "text": [
      "Time used (ms): 1.867\n",
      "\n",
      "  0-1 0-2 1-3 2-1 2-4 3-2 3-4 energy num_oc.\n",
      "1   0   1   1   1   0   0   1  -17.0       1\n",
      "3   0   1   0   0   1   0   0  -17.0       1\n",
      "0   1   0   1   0   0   0   1  -15.0       1\n",
      "2   1   0   1   0   1   1   0   -6.0       1\n",
      "['BINARY', 4 rows, 4 samples, 7 variables]\n"
     ]
    }
   ],
   "source": [
    "t1 = time.time()\n",
    "sampleset = dimod.ExactSolver().sample(bqm)\n",
    "det_time = (time.time()-t1)*1000\n",
    "print('Time used (ms): {:.3f}\\n'.format(det_time))\n",
    "energy= sampleset.first.energy\n",
    "print(sampleset.filter(lambda s: s.energy<0))"
   ]
  },
  {
   "cell_type": "code",
   "execution_count": 49,
   "id": "47b0f271",
   "metadata": {
    "tags": []
   },
   "outputs": [
    {
     "name": "stdout",
     "output_type": "stream",
     "text": [
      "Route 0-4: 0-2-1-3-4, weight 9\n",
      "Route 0-4: 0-2-4, weight 9\n"
     ]
    }
   ],
   "source": [
    "for r in result_info(sampleset,s,t,E):\n",
    "    print('Route '+r[0]+': '+r[1]+', weight '+str(r[2]))"
   ]
  },
  {
   "cell_type": "markdown",
   "id": "317bf617",
   "metadata": {},
   "source": [
    "### Local heuristic classical solver"
   ]
  },
  {
   "cell_type": "code",
   "execution_count": 11,
   "id": "a68eb6b7-2bd9-4203-a58b-2ea612e40537",
   "metadata": {
    "tags": []
   },
   "outputs": [
    {
     "name": "stdout",
     "output_type": "stream",
     "text": [
      "Time used (ms): 65.236\n",
      "\n",
      "  0-1 0-2 1-3 2-1 2-4 3-2 3-4 energy num_oc.\n",
      "0   0   1   0   0   1   0   0  -17.0     190\n",
      "3   0   1   1   1   0   0   1  -17.0     171\n",
      "1   1   0   1   0   0   0   1  -15.0     128\n",
      "2   1   0   1   0   1   1   0   -6.0      11\n",
      "['BINARY', 4 rows, 500 samples, 7 variables]\n"
     ]
    }
   ],
   "source": [
    "t1 = time.time()\n",
    "sampleset2 = SimulatedAnnealingSampler().sample(bqm, num_reads=500).aggregate()\n",
    "heur_time = (time.time()-t1)*1000\n",
    "print('Time used (ms): {:.3f}\\n'.format(heur_time))\n",
    "print(sampleset2)"
   ]
  },
  {
   "cell_type": "code",
   "execution_count": 12,
   "id": "b4a76d16-edae-4e59-a557-c389ce37d764",
   "metadata": {
    "tags": []
   },
   "outputs": [
    {
     "name": "stdout",
     "output_type": "stream",
     "text": [
      "Route 0-4: 0-2-4, weight 9\n",
      "Route 0-4: 0-2-1-3-4, weight 9\n"
     ]
    }
   ],
   "source": [
    "for r in result_info(sampleset2,s,t,E):\n",
    "    print('Route '+r[0]+': '+r[1]+', weight '+str(r[2]))"
   ]
  },
  {
   "cell_type": "markdown",
   "id": "919a2172",
   "metadata": {},
   "source": [
    "### Quantum solver"
   ]
  },
  {
   "cell_type": "code",
   "execution_count": 13,
   "id": "132c1754",
   "metadata": {
    "tags": []
   },
   "outputs": [
    {
     "name": "stdout",
     "output_type": "stream",
     "text": [
      "Chip: Advantage_system4.1\n",
      "Qubits: 5760\n"
     ]
    }
   ],
   "source": [
    "machine = DWaveSampler(solver={'chip_id': 'Advantage_system4.1'})\n",
    "print('Chip:', machine.properties['chip_id'])\n",
    "print('Qubits:', machine.properties['num_qubits'])"
   ]
  },
  {
   "cell_type": "code",
   "execution_count": 14,
   "id": "25f71f94",
   "metadata": {
    "tags": []
   },
   "outputs": [],
   "source": [
    "sampleset3 = EmbeddingComposite(machine).sample(bqm, num_reads=500)"
   ]
  },
  {
   "cell_type": "code",
   "execution_count": 38,
   "id": "ee8aac50",
   "metadata": {
    "tags": []
   },
   "outputs": [
    {
     "name": "stdout",
     "output_type": "stream",
     "text": [
      "QPU time used (ms): 66.6\n",
      "Physical qubits used: 8\n",
      "\n",
      "  0-1 0-2 1-3 2-1 2-4 3-2 3-4 energy num_oc. chain_.\n",
      "0   0   1   0   0   1   0   0  -17.0     100     0.0\n",
      "1   0   1   1   1   0   0   1  -17.0     101     0.0\n",
      "2   1   0   1   0   0   0   1  -15.0      57     0.0\n",
      "3   1   0   1   0   1   1   0   -6.0      29     0.0\n",
      "['BINARY', 4 rows, 287 samples, 7 variables]\n"
     ]
    }
   ],
   "source": [
    "qpu_time = sampleset3.info['timing']['qpu_access_time'] / 1000\n",
    "qubits = sum(len(x) for x in sampleset3.info['embedding_context']['embedding'].values())\n",
    "print('QPU time used (ms): {:.1f}'.format(qpu_time))\n",
    "print('Physical qubits used: {}\\n'.format(qubits))\n",
    "print(sampleset3.filter(lambda s: s.energy<0).aggregate())"
   ]
  },
  {
   "cell_type": "code",
   "execution_count": 50,
   "id": "8bd6a731",
   "metadata": {
    "tags": []
   },
   "outputs": [
    {
     "name": "stdout",
     "output_type": "stream",
     "text": [
      "Route 0-4: 0-2-4, weight 9\n",
      "Route 0-4: 0-2-1-3-4, weight 9\n"
     ]
    }
   ],
   "source": [
    "for r in result_info(sampleset3.aggregate(),s,t,E):\n",
    "    print('Route '+r[0]+': '+r[1]+', weight '+str(r[2]))"
   ]
  },
  {
   "cell_type": "code",
   "execution_count": 17,
   "id": "7040df75",
   "metadata": {
    "tags": []
   },
   "outputs": [
    {
     "data": {
      "text/html": [
       "<iframe src=http://127.0.0.1:18001/?problemId=ce5ef1f4-6028-46bd-be0f-5e064985c00c width=\"100%\" height=640></iframe>"
      ],
      "text/plain": [
       "Serving Inspector on http://127.0.0.1:18001/?problemId=ce5ef1f4-6028-46bd-be0f-5e064985c00c"
      ]
     },
     "metadata": {},
     "output_type": "display_data"
    },
    {
     "data": {
      "text/plain": [
       "'http://127.0.0.1:18001/?problemId=ce5ef1f4-6028-46bd-be0f-5e064985c00c'"
      ]
     },
     "execution_count": 17,
     "metadata": {},
     "output_type": "execute_result"
    }
   ],
   "source": [
    "dwave.inspector.show(sampleset3)"
   ]
  },
  {
   "cell_type": "markdown",
   "id": "9488f929",
   "metadata": {},
   "source": [
    "### Hybrid solver\n",
    "\n",
    "Hybrid solver brings only one solution, not good here"
   ]
  },
  {
   "cell_type": "code",
   "execution_count": 18,
   "id": "e2c5d472",
   "metadata": {
    "tags": []
   },
   "outputs": [],
   "source": [
    "#sampleset4 = LeapHybridSampler().sample(bqm)"
   ]
  },
  {
   "cell_type": "code",
   "execution_count": 19,
   "id": "b76a7ec1",
   "metadata": {
    "tags": []
   },
   "outputs": [],
   "source": [
    "#hyb_time = sampleset4.info['qpu_access_time'] / 1000\n",
    "#print('QPU time used (ms): {:.1f}\\n'.format(hyb_time))\n",
    "#print(sampleset4) "
   ]
  },
  {
   "cell_type": "code",
   "execution_count": 20,
   "id": "3d7d07c2",
   "metadata": {
    "tags": []
   },
   "outputs": [],
   "source": [
    "#for r in result_info(sampleset4,s,t):\n",
    "#    print('Route '+r[0]+': '+r[1]+', weight '+str(r[2]))"
   ]
  },
  {
   "cell_type": "markdown",
   "id": "8e67bc7a-e138-46de-964d-18b5bb814610",
   "metadata": {},
   "source": [
    "### Timings"
   ]
  },
  {
   "cell_type": "code",
   "execution_count": 21,
   "id": "ac4ce99c-83d0-4035-b95b-96a2894f7525",
   "metadata": {
    "tags": []
   },
   "outputs": [
    {
     "name": "stdout",
     "output_type": "stream",
     "text": [
      "Construting QUBO: 0.131\n",
      "Construting BQM: 0.380\n",
      "\n",
      "Local deterministic solver: 0.9\n",
      "Local heuristic solver: 65.2\n",
      "Quantum solver: 66.6\n"
     ]
    }
   ],
   "source": [
    "print('Construting QUBO: {:.3f}'.format(qubo_time))\n",
    "print('Construting BQM: {:.3f}'.format(bqm_time))\n",
    "print('\\nLocal deterministic solver: {:.1f}'.format(det_time))\n",
    "print('Local heuristic solver: {:.1f}'.format(heur_time))\n",
    "print('Quantum solver: {:.1f}'.format(qpu_time))"
   ]
  },
  {
   "cell_type": "markdown",
   "id": "37c8b0ab-d0b1-4193-b15c-b79e51a36927",
   "metadata": {},
   "source": [
    "## 2. Second more complex graph"
   ]
  },
  {
   "cell_type": "code",
   "execution_count": 22,
   "id": "cfcae4a0-abed-44ea-8f50-94e51a374f44",
   "metadata": {
    "tags": []
   },
   "outputs": [],
   "source": [
    "import networkx as nx\n",
    "import random"
   ]
  },
  {
   "cell_type": "markdown",
   "id": "d3d8523d-f4a3-450b-9dbe-a1da30243ad3",
   "metadata": {},
   "source": [
    "Parameters with several equal lengths: maxvert=15 s=0 t=9; maxvert=10 s=1 t=9"
   ]
  },
  {
   "cell_type": "code",
   "execution_count": 59,
   "id": "5a5d12ae-1ecb-4ca0-884a-78d1c939b4e4",
   "metadata": {
    "tags": []
   },
   "outputs": [],
   "source": [
    "seed = 42\n",
    "maxvert = 15\n",
    "random.seed(seed)\n",
    "G = nx.gnp_random_graph(maxvert, 0.20, seed)\n",
    "G = G.to_directed()\n",
    "nx.set_edge_attributes(G, {e: {'weight': random.randint(1, 10)} for e in G.edges})\n",
    "\n",
    "vertices = len(G.nodes)\n",
    "s = 0\n",
    "t = 9"
   ]
  },
  {
   "cell_type": "code",
   "execution_count": 60,
   "id": "97536e20-d3cb-4a8f-b516-d7c7bb772b99",
   "metadata": {
    "tags": []
   },
   "outputs": [
    {
     "name": "stdout",
     "output_type": "stream",
     "text": [
      "Number of edges: 40\n",
      "Number of vertices: 15\n"
     ]
    }
   ],
   "source": [
    "E = [] \n",
    "for e in G.edges(data=True):\n",
    "    E.append((e[0],e[1],e[2]['weight']))\n",
    "#    print(e)\n",
    "print('Number of edges:',len(E))\n",
    "print('Number of vertices:',vertices)"
   ]
  },
  {
   "cell_type": "markdown",
   "id": "63c0800d-c73e-4de8-9f3b-30a1129ac7de",
   "metadata": {
    "tags": []
   },
   "source": [
    "### Test with classical algorithm"
   ]
  },
  {
   "cell_type": "code",
   "execution_count": 61,
   "id": "a68b6a75-8e82-4af4-b8f7-ca8a3da89084",
   "metadata": {
    "tags": []
   },
   "outputs": [
    {
     "name": "stdout",
     "output_type": "stream",
     "text": [
      "Time used by classical algorithm (ms): 0.168\n",
      "\n",
      "[0, 14, 9]\n",
      "[0, 10, 9]\n",
      "[0, 13, 11, 3, 9]\n"
     ]
    }
   ],
   "source": [
    "t1 = time.time()\n",
    "res = nx.all_shortest_paths(G,s,t,weight='weight')\n",
    "classical_time = (time.time()-t1)*1000\n",
    "print('Time used by classical algorithm (ms): {:.3f}\\n'.format(classical_time))\n",
    "for r in res:\n",
    "     print(r)"
   ]
  },
  {
   "cell_type": "code",
   "execution_count": 62,
   "id": "e707c86b-03e8-4ddc-87c0-0e0fcee2654f",
   "metadata": {
    "tags": []
   },
   "outputs": [
    {
     "name": "stdout",
     "output_type": "stream",
     "text": [
      "Max count: 191\n"
     ]
    }
   ],
   "source": [
    "max_count = 0\n",
    "labels = {}\n",
    "for i,e in enumerate(E):\n",
    "    max_count += e[2]\n",
    "    labels[i] = str(e[0]) + '-' + str(e[1])\n",
    "print('Max count:',max_count)"
   ]
  },
  {
   "cell_type": "markdown",
   "id": "7bda8e08-f7af-42a7-9975-d684d1aeef70",
   "metadata": {
    "tags": []
   },
   "source": [
    "### QUBO and BQM"
   ]
  },
  {
   "cell_type": "code",
   "execution_count": 63,
   "id": "083224d8-04a5-4c71-b735-4be69bfd7020",
   "metadata": {
    "tags": []
   },
   "outputs": [
    {
     "name": "stdout",
     "output_type": "stream",
     "text": [
      "Time used for construction Q (s): 0.001\n",
      "\n"
     ]
    }
   ],
   "source": [
    "t1 = time.time()\n",
    "Q = create_qubo(E,max_count,s,t)\n",
    "qubo_time = (time.time()-t1)\n",
    "print('Time used for construction Q (s): {:.3f}\\n'.format(qubo_time))"
   ]
  },
  {
   "cell_type": "code",
   "execution_count": 64,
   "id": "6a898071-1013-4874-8baa-e966cacc707e",
   "metadata": {
    "tags": []
   },
   "outputs": [
    {
     "name": "stdout",
     "output_type": "stream",
     "text": [
      "Time used for construction BQM (s): 0.000\n",
      "\n"
     ]
    }
   ],
   "source": [
    "t1 = time.time()\n",
    "bqm = dimod.BinaryQuadraticModel(Q, 'BINARY')\n",
    "bqm_time = (time.time()-t1)\n",
    "bqm = bqm.relabel_variables(labels, inplace=False)\n",
    "print('Time used for construction BQM (s): {:.3f}\\n'.format(bqm_time))"
   ]
  },
  {
   "cell_type": "markdown",
   "id": "bc7a3bce-34aa-4201-9b51-8406b7e47e7f",
   "metadata": {},
   "source": [
    "### Local heuristic solver"
   ]
  },
  {
   "cell_type": "code",
   "execution_count": 65,
   "id": "9f982fd5-3ede-4ea1-ad45-90ce027a5dd1",
   "metadata": {
    "tags": []
   },
   "outputs": [
    {
     "name": "stdout",
     "output_type": "stream",
     "text": [
      "Time used (s): 3.966\n",
      "\n",
      "Lowest energy should be nearly: -191\n",
      "Lowest energy reached: -181\n",
      "Lowest energy occurences: 4.4 %\n"
     ]
    }
   ],
   "source": [
    "num_reads=5000\n",
    "t1 = time.time()\n",
    "sampleset5 = SimulatedAnnealingSampler().sample(bqm, num_reads=num_reads).aggregate()\n",
    "heur_time = (time.time()-t1)\n",
    "print('Time used (s): {:.3f}\\n'.format(heur_time))\n",
    "\n",
    "print('Lowest energy should be nearly:',-max_count)  \n",
    "print('Lowest energy reached:',int(sampleset5.first.energy))\n",
    "print('Lowest energy occurences: {:.1f} %'.format(sampleset5.first.num_occurrences/num_reads*100))"
   ]
  },
  {
   "cell_type": "code",
   "execution_count": 66,
   "id": "ccf2be53-e674-4453-aa0d-09b5f9419f03",
   "metadata": {
    "tags": []
   },
   "outputs": [
    {
     "name": "stdout",
     "output_type": "stream",
     "text": [
      "Route 0-9: 0-13-11-3-9, weight 10\n",
      "Route 0-9: 0-14-9, weight 10\n",
      "Route 0-9: 0-10-9, weight 10\n"
     ]
    }
   ],
   "source": [
    "for r in result_info(sampleset5,s,t,E):\n",
    "    print('Route '+r[0]+': '+r[1]+', weight '+str(r[2]))"
   ]
  },
  {
   "cell_type": "markdown",
   "id": "3d9450be-911b-41bb-9013-9425640daad8",
   "metadata": {},
   "source": [
    "### Quantum solver"
   ]
  },
  {
   "cell_type": "code",
   "execution_count": 67,
   "id": "0ce58819-bd7c-424a-af42-f6a29e751583",
   "metadata": {
    "tags": []
   },
   "outputs": [
    {
     "name": "stdout",
     "output_type": "stream",
     "text": [
      "Number of logical qubits needed: 40\n",
      "Number of logical couplers needed: 220\n"
     ]
    }
   ],
   "source": [
    "print('Number of logical qubits needed:',Q.shape[0])\n",
    "print('Number of logical couplers needed:', len(bqm.quadratic))"
   ]
  },
  {
   "cell_type": "code",
   "execution_count": 68,
   "id": "6946013b-8842-466f-a291-f73fac0b452b",
   "metadata": {
    "tags": []
   },
   "outputs": [
    {
     "name": "stdout",
     "output_type": "stream",
     "text": [
      "Estimate actual qubits needed: 192\n",
      "Estimate QPU time needed (ms): 1253\n"
     ]
    }
   ],
   "source": [
    "from minorminer.busclique import find_clique_embedding\n",
    "\n",
    "num_reads = 1000\n",
    "\n",
    "embedding = find_clique_embedding(bqm.variables, machine.to_networkx_graph())  \n",
    "num_qubits_needed = sum(len(chain) for chain in embedding.values())\n",
    "print('Estimate actual qubits needed:',num_qubits_needed)\n",
    "\n",
    "anneal_schedule = [[0.0, 0.0], [40.0, 0.4], [1040.0, 0.4], [1042, 1.0]]\n",
    "estimated_runtime = machine.solver.estimate_qpu_access_time(num_qubits_needed, num_reads=num_reads, anneal_schedule=anneal_schedule)    \n",
    "print(\"Estimate QPU time needed (ms): {:.0f}\".format(estimated_runtime/1000, machine.solver.name))"
   ]
  },
  {
   "cell_type": "code",
   "execution_count": 69,
   "id": "5f41b451-0b45-4693-bb62-4d76b64cd714",
   "metadata": {
    "tags": []
   },
   "outputs": [
    {
     "name": "stdout",
     "output_type": "stream",
     "text": [
      "Chip: Advantage_system4.1\n",
      "Qubits: 5760\n"
     ]
    }
   ],
   "source": [
    "machine = DWaveSampler(solver={'chip_id': 'Advantage_system4.1'})\n",
    "print('Chip:', machine.properties['chip_id'])\n",
    "print('Qubits:', machine.properties['num_qubits'])"
   ]
  },
  {
   "cell_type": "code",
   "execution_count": 70,
   "id": "e3f5d5ea-9acb-490a-80f7-a1f61b7e1d4c",
   "metadata": {
    "tags": []
   },
   "outputs": [],
   "source": [
    "sampleset6 = EmbeddingComposite(machine).sample(bqm, num_reads=num_reads)"
   ]
  },
  {
   "cell_type": "code",
   "execution_count": 71,
   "id": "23c0f823-2d61-4aca-8556-ec00e0445a3a",
   "metadata": {
    "tags": []
   },
   "outputs": [
    {
     "name": "stdout",
     "output_type": "stream",
     "text": [
      "Lowest energy should be nearly: -191\n",
      "Lowest energy reached: -175\n",
      "Lowest energy occurences: 0.1 %\n",
      "QPU time used (ms): 116.6\n",
      "Physical qubits used: 88\n"
     ]
    }
   ],
   "source": [
    "qtime = sampleset6.info['timing']['qpu_access_time'] / 1000\n",
    "qubits = sum(len(x) for x in sampleset6.info['embedding_context']['embedding'].values())\n",
    "print('Lowest energy should be nearly:',-max_count)  \n",
    "print('Lowest energy reached:',int(sampleset6.first.energy))\n",
    "print('Lowest energy occurences: {:.1f} %'.format(sampleset6.first.num_occurrences/num_reads*100))\n",
    "print('QPU time used (ms): {:.1f}'.format(qtime))\n",
    "print('Physical qubits used: {}'.format(qubits))"
   ]
  },
  {
   "cell_type": "code",
   "execution_count": 72,
   "id": "5a412762-e292-42be-a763-e4a9086c9518",
   "metadata": {
    "tags": []
   },
   "outputs": [
    {
     "name": "stdout",
     "output_type": "stream",
     "text": [
      "Route 0-9: 0-8-13-4-11-3-9, weight 16\n"
     ]
    }
   ],
   "source": [
    "for r in result_info(sampleset6.aggregate(),s,t,E):\n",
    "    print('Route '+r[0]+': '+r[1]+', weight '+str(r[2]))"
   ]
  },
  {
   "cell_type": "code",
   "execution_count": null,
   "id": "c81bd2cd-3ed1-4700-a423-50c4c0a1c64a",
   "metadata": {},
   "outputs": [],
   "source": []
  }
 ],
 "metadata": {
  "kernelspec": {
   "display_name": "Python 3 (ipykernel)",
   "language": "python",
   "name": "python3"
  },
  "language_info": {
   "codemirror_mode": {
    "name": "ipython",
    "version": 3
   },
   "file_extension": ".py",
   "mimetype": "text/x-python",
   "name": "python",
   "nbconvert_exporter": "python",
   "pygments_lexer": "ipython3",
   "version": "3.8.18"
  }
 },
 "nbformat": 4,
 "nbformat_minor": 5
}
