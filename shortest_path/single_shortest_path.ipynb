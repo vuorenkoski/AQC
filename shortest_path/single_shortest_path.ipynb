{
 "cells": [
  {
   "cell_type": "markdown",
   "id": "d55be57b-8ef5-4716-95cb-35c8666239ac",
   "metadata": {},
   "source": [
    "# Single shortest path\n",
    "\n",
    "Single shortest path algorithm implemented by QUBO in quantum annealer"
   ]
  },
  {
   "cell_type": "code",
   "execution_count": 59,
   "id": "63525c69-dd51-43cc-b6a5-988fcf02f1d3",
   "metadata": {
    "tags": []
   },
   "outputs": [],
   "source": [
    "import numpy as np\n",
    "import time\n",
    "import dimod\n",
    "from dwave.system import DWaveSampler, EmbeddingComposite, LeapHybridSampler\n",
    "from dwave.samplers import SimulatedAnnealingSampler\n",
    "import dwave.inspector"
   ]
  },
  {
   "cell_type": "markdown",
   "id": "5649c0b6",
   "metadata": {},
   "source": [
    "## Define graph\n",
    "\n",
    "Input graph is array of tuples (1st vertice, 2nd vertice, weight)"
   ]
  },
  {
   "cell_type": "code",
   "execution_count": 60,
   "id": "c7f22202",
   "metadata": {
    "tags": []
   },
   "outputs": [],
   "source": [
    "edge = np.array([(0, 1, 5), (0, 2, 1), (2, 1, 2), (1, 3, 3), (3, 2, 4)])\n",
    "vertices = 4\n",
    "start = 0\n",
    "end = 3"
   ]
  },
  {
   "cell_type": "markdown",
   "id": "4aac45bc",
   "metadata": {},
   "source": [
    "Above graph visualised:\n",
    "\n",
    "![](graph1.png)"
   ]
  },
  {
   "cell_type": "code",
   "execution_count": 61,
   "id": "fe3cfdce",
   "metadata": {
    "tags": []
   },
   "outputs": [],
   "source": [
    "#edge = np.array([(0, 1, 8), (1, 3, 5), (0, 2, 2), (2, 1, 4), (2, 4, 7), (4, 3, 3)])\n",
    "#vertices = 5\n",
    "#start = 0\n",
    "#end = 3"
   ]
  },
  {
   "cell_type": "markdown",
   "id": "8b6cb481",
   "metadata": {},
   "source": [
    "Above graph visualised:\n",
    "    \n",
    "![](graph2.png)"
   ]
  },
  {
   "cell_type": "code",
   "execution_count": 63,
   "id": "308170be",
   "metadata": {
    "tags": []
   },
   "outputs": [],
   "source": [
    "#edge = np.array([(0, 1, 5), (0, 2, 5), (1, 0, 5), (1, 2, 2), (1, 3, 2),\n",
    "#                 (2, 0, 5), (2, 1, 2), (2, 3, 10), (3, 1, 2), (3, 2, 10)])\n",
    "#vertices = 4\n",
    "#start = 0\n",
    "#end = 3"
   ]
  },
  {
   "cell_type": "markdown",
   "id": "588baa50-1de1-4cbd-bd60-094455162baf",
   "metadata": {},
   "source": [
    "Above graph visualised (every edge is biderctional):\n",
    "    \n",
    "![](graph3.png)"
   ]
  },
  {
   "cell_type": "markdown",
   "id": "72682cd6-5890-43d4-9826-4c82ece6f476",
   "metadata": {},
   "source": [
    "## Construct max_count, edge_names and edge_weights variables"
   ]
  },
  {
   "cell_type": "code",
   "execution_count": 64,
   "id": "df0cf817-0abf-4fd9-ad7f-7d1fa82f6d3e",
   "metadata": {
    "tags": []
   },
   "outputs": [
    {
     "name": "stdout",
     "output_type": "stream",
     "text": [
      "Max count: 15\n"
     ]
    }
   ],
   "source": [
    "max_count = 0\n",
    "edges = len(edge)\n",
    "edge_names = {}\n",
    "edge_weights = {}\n",
    "for i,e in enumerate(edge):\n",
    "    max_count += e[2]\n",
    "    edge_names[i] = str(e[0]) + '-' + str(e[1])\n",
    "    edge_weights[edge_names[i]] = e[2]\n",
    "print('Max count:',max_count)\n",
    "\n",
    "def result_info(sampleset):\n",
    "    r = sampleset.first.sample\n",
    "    r = dict((k, edge_weights[k]) for k, v in r.items() if v==1)\n",
    "    print('Edges: ' + str(r) + '\\nTotal weights:', str(sum(r.values())))"
   ]
  },
  {
   "cell_type": "markdown",
   "id": "cedec220",
   "metadata": {},
   "source": [
    "## Create QUBO from edge array\n",
    "\n",
    "Based on \"Directed Edge-Based Approach\" from Kraus & McCollum (2020) Solving the Network Shortest Path Problem on a Quantum Annealer.\n",
    "\n",
    "https://doi.org/10.1109/TQE.2020.3021921\n",
    "\n",
    "\n",
    "Constraints: \n",
    "\n",
    "- the source vertex has one more edge leaving it than entering it\n",
    "- the terminal vertex has one more edge entering it than leaving it\n",
    "- every other vertex has as many edges entering it as it has leaving it.\n",
    "\n"
   ]
  },
  {
   "cell_type": "code",
   "execution_count": 71,
   "id": "28c0a125-984b-4dda-9838-e9c7af4724b1",
   "metadata": {
    "tags": []
   },
   "outputs": [
    {
     "name": "stdout",
     "output_type": "stream",
     "text": [
      "Time used for construction Q (ms): 0.498\n",
      "\n",
      "{0: '0-1', 1: '0-2', 2: '2-1', 3: '1-3', 4: '3-2'}\n",
      "[[  5.  30.  30. -30.   0.]\n",
      " [  0.   1. -30.   0.  30.]\n",
      " [  0.   0.  32. -30. -30.]\n",
      " [  0.   0.   0.   3. -30.]\n",
      " [  0.   0.   0.   0.  64.]]\n",
      "45.0\n"
     ]
    }
   ],
   "source": [
    "Q = np.zeros((edges,edges))\n",
    "\n",
    "t1 = time.time()\n",
    "\n",
    "# Include weights of edges\n",
    "\n",
    "for i,e in enumerate(edge):\n",
    "    Q[i][i] = e[2]        \n",
    "\n",
    "# set constraints for starting node, ending node and other nodes for incoming and outgoing edges\n",
    "\n",
    "for i,e in enumerate(edge):\n",
    "    Q[i][i] += max_count * 2               # Every edge is incomig and outgoing to a vertex\n",
    "\n",
    "\n",
    "for x in range(vertices):\n",
    "    ec = np.zeros(edges)                   # Mark edges connected to vertex x, input (+1) or output (-1). \n",
    "    for i,e in enumerate(edge):\n",
    "        if e[0]==x:\n",
    "            ec[i] = 1\n",
    "        if e[1]==x:\n",
    "            ec[i] = -1\n",
    "\n",
    "    for i in range(edges):                     # Loop through all edge combinations connected to vertex x, and \n",
    "        for j in range(i+1, edges):            #   add penalty to edge pair if both are incoming or outgoing to   \n",
    "            Q[i][j] += ec[i]*ec[j]*2*max_count #   vertex x, and negative penalty otherwise.\n",
    "\n",
    "    for i in range(edges):\n",
    "        if x==end:                         # If we are in ending vertex, add penalty if vertex is input of edge i, \n",
    "            Q[i][i] += ec[i]*2*max_count   #   and negative penalty if vertex is output.\n",
    "        if x==start:                       # Similar mirrored operation if we are in starting vertex. \n",
    "            Q[i][i] -= ec[i]*2*max_count\n",
    "\n",
    "t2 = time.time()\n",
    "print('Time used for construction Q (ms): {:.3f}\\n'.format((t2-t1)*1000))\n",
    "print(edge_names)\n",
    "print(Q)\n",
    "print(sum(sum(Q)))"
   ]
  },
  {
   "cell_type": "markdown",
   "id": "a649a509-ae35-4998-9ebd-5eeaafaa57d0",
   "metadata": {},
   "source": [
    "## Create BQM from QUBO"
   ]
  },
  {
   "cell_type": "code",
   "execution_count": 72,
   "id": "1891d43a",
   "metadata": {
    "tags": []
   },
   "outputs": [],
   "source": [
    "bqm = dimod.BinaryQuadraticModel(Q, 'BINARY')\n",
    "bqm = bqm.relabel_variables(edge_names, inplace=False)"
   ]
  },
  {
   "cell_type": "markdown",
   "id": "bd174749",
   "metadata": {},
   "source": [
    "## Local deterministic classical solver"
   ]
  },
  {
   "cell_type": "code",
   "execution_count": 73,
   "id": "a8ca8697",
   "metadata": {
    "tags": []
   },
   "outputs": [
    {
     "name": "stdout",
     "output_type": "stream",
     "text": [
      "  0-1 0-2 1-3 2-1 3-2 energy num_oc.\n",
      "0   0   1   1   1   0  -24.0       1\n",
      "1   1   0   1   0   0  -22.0       1\n",
      "2   0   0   0   0   0    0.0       1\n",
      "3   0   1   0   0   0    1.0       1\n",
      "4   0   0   1   0   0    3.0       1\n",
      "5   0   1   0   1   0    3.0       1\n",
      "6   0   1   1   0   0    4.0       1\n",
      "7   1   0   0   0   0    5.0       1\n",
      "8   0   0   1   1   0    5.0       1\n",
      "9   1   1   1   0   0    9.0       1\n",
      "['BINARY', 10 rows, 10 samples, 5 variables]\n"
     ]
    }
   ],
   "source": [
    "sampleset = dimod.ExactSolver().sample(bqm)\n",
    "print(sampleset.truncate(10))"
   ]
  },
  {
   "cell_type": "code",
   "execution_count": 68,
   "id": "47b0f271",
   "metadata": {
    "tags": []
   },
   "outputs": [
    {
     "name": "stdout",
     "output_type": "stream",
     "text": [
      "Edges: {'0-2': 1, '1-3': 3, '2-1': 2}\n",
      "Total weights: 6\n"
     ]
    }
   ],
   "source": [
    "result_info(sampleset)"
   ]
  },
  {
   "cell_type": "markdown",
   "id": "317bf617",
   "metadata": {},
   "source": [
    "## Local heuristic classical solver"
   ]
  },
  {
   "cell_type": "code",
   "execution_count": 69,
   "id": "a68eb6b7-2bd9-4203-a58b-2ea612e40537",
   "metadata": {
    "tags": []
   },
   "outputs": [
    {
     "name": "stdout",
     "output_type": "stream",
     "text": [
      "  0-1 0-2 1-3 2-1 3-2 energy num_oc.\n",
      "0   0   1   1   1   0  -24.0     291\n",
      "1   1   0   1   0   0  -22.0     209\n",
      "['BINARY', 2 rows, 500 samples, 5 variables]\n"
     ]
    }
   ],
   "source": [
    "sampleset2 = SimulatedAnnealingSampler().sample(bqm, num_reads=500)\n",
    "print(sampleset2.aggregate())"
   ]
  },
  {
   "cell_type": "code",
   "execution_count": 70,
   "id": "b4a76d16-edae-4e59-a557-c389ce37d764",
   "metadata": {
    "tags": []
   },
   "outputs": [
    {
     "name": "stdout",
     "output_type": "stream",
     "text": [
      "Edges: {'0-2': 1, '1-3': 3, '2-1': 2}\n",
      "Total weights: 6\n"
     ]
    }
   ],
   "source": [
    "result_info(sampleset2)"
   ]
  },
  {
   "cell_type": "markdown",
   "id": "919a2172",
   "metadata": {},
   "source": [
    "## Quantum solver"
   ]
  },
  {
   "cell_type": "code",
   "execution_count": 12,
   "id": "132c1754",
   "metadata": {},
   "outputs": [
    {
     "name": "stdout",
     "output_type": "stream",
     "text": [
      "Chip: Advantage_system4.1\n",
      "Qubits: 5760\n"
     ]
    }
   ],
   "source": [
    "machine = DWaveSampler(solver={'chip_id': 'Advantage_system4.1'})\n",
    "print('Chip:', machine.properties['chip_id'])\n",
    "print('Qubits:', machine.properties['num_qubits'])"
   ]
  },
  {
   "cell_type": "code",
   "execution_count": 13,
   "id": "25f71f94",
   "metadata": {},
   "outputs": [
    {
     "name": "stdout",
     "output_type": "stream",
     "text": [
      "  0-1 0-2 1-3 2-1 3-2 energy num_oc. chain_.\n",
      "0   0   1   1   1   0  -24.0     247     0.0\n",
      "1   1   0   1   0   0  -22.0     250     0.0\n",
      "2   0   0   0   0   0    0.0       1     0.0\n",
      "3   0   0   1   1   0    5.0       1     0.0\n",
      "4   1   0   1   1   0   10.0       1     0.2\n",
      "['BINARY', 5 rows, 500 samples, 5 variables]\n"
     ]
    }
   ],
   "source": [
    "sampleset3 = EmbeddingComposite(machine).sample(bqm, num_reads=500)\n",
    "print(sampleset3) "
   ]
  },
  {
   "cell_type": "code",
   "execution_count": 14,
   "id": "ee8aac50",
   "metadata": {},
   "outputs": [
    {
     "name": "stdout",
     "output_type": "stream",
     "text": [
      "QPU time used (ms): 68.3\n",
      "Physical qubits used: 6\n"
     ]
    }
   ],
   "source": [
    "time = sampleset3.info['timing']['qpu_access_time'] / 1000\n",
    "qubits = sum(len(x) for x in sampleset3.info['embedding_context']['embedding'].values())\n",
    "print('QPU time used (ms): {:.1f}'.format(time))\n",
    "print('Physical qubits used: {}'.format(qubits))"
   ]
  },
  {
   "cell_type": "code",
   "execution_count": 15,
   "id": "8bd6a731",
   "metadata": {},
   "outputs": [
    {
     "name": "stdout",
     "output_type": "stream",
     "text": [
      "Edges: {'0-2': 1, '1-3': 3, '2-1': 2}\n",
      "Total weights: 6\n"
     ]
    }
   ],
   "source": [
    "result_info(sampleset3)"
   ]
  },
  {
   "cell_type": "code",
   "execution_count": 16,
   "id": "7040df75",
   "metadata": {},
   "outputs": [
    {
     "data": {
      "text/html": [
       "<iframe src=http://127.0.0.1:18000/?problemId=23aecf5e-de20-44c6-90d2-3b9dc4faaf06 width=\"100%\" height=640></iframe>"
      ],
      "text/plain": [
       "Serving Inspector on http://127.0.0.1:18000/?problemId=23aecf5e-de20-44c6-90d2-3b9dc4faaf06"
      ]
     },
     "metadata": {},
     "output_type": "display_data"
    },
    {
     "data": {
      "text/plain": [
       "'http://127.0.0.1:18000/?problemId=23aecf5e-de20-44c6-90d2-3b9dc4faaf06'"
      ]
     },
     "execution_count": 16,
     "metadata": {},
     "output_type": "execute_result"
    }
   ],
   "source": [
    "dwave.inspector.show(sampleset3)"
   ]
  },
  {
   "cell_type": "markdown",
   "id": "9488f929",
   "metadata": {},
   "source": [
    "## Hybrid solver"
   ]
  },
  {
   "cell_type": "code",
   "execution_count": 17,
   "id": "e2c5d472",
   "metadata": {},
   "outputs": [
    {
     "name": "stdout",
     "output_type": "stream",
     "text": [
      "  0-1 0-2 1-3 2-1 3-2 energy num_oc.\n",
      "0   0   1   1   1   0  -24.0       1\n",
      "['BINARY', 1 rows, 1 samples, 5 variables]\n"
     ]
    }
   ],
   "source": [
    "sampleset4 = LeapHybridSampler().sample(bqm)\n",
    "print(sampleset4) "
   ]
  },
  {
   "cell_type": "code",
   "execution_count": 18,
   "id": "b76a7ec1",
   "metadata": {},
   "outputs": [
    {
     "name": "stdout",
     "output_type": "stream",
     "text": [
      "QPU time used (ms): 96.4\n"
     ]
    }
   ],
   "source": [
    "time = sampleset4.info['qpu_access_time'] / 1000\n",
    "print('QPU time used (ms): {:.1f}'.format(time))"
   ]
  },
  {
   "cell_type": "code",
   "execution_count": 19,
   "id": "3d7d07c2",
   "metadata": {},
   "outputs": [
    {
     "name": "stdout",
     "output_type": "stream",
     "text": [
      "Edges: {'0-2': 1, '1-3': 3, '2-1': 2}\n",
      "Total weights: 6\n"
     ]
    }
   ],
   "source": [
    "result_info(sampleset4)"
   ]
  },
  {
   "cell_type": "code",
   "execution_count": null,
   "id": "96a727aa",
   "metadata": {},
   "outputs": [],
   "source": []
  }
 ],
 "metadata": {
  "kernelspec": {
   "display_name": "Python 3 (ipykernel)",
   "language": "python",
   "name": "python3"
  },
  "language_info": {
   "codemirror_mode": {
    "name": "ipython",
    "version": 3
   },
   "file_extension": ".py",
   "mimetype": "text/x-python",
   "name": "python",
   "nbconvert_exporter": "python",
   "pygments_lexer": "ipython3",
   "version": "3.8.18"
  }
 },
 "nbformat": 4,
 "nbformat_minor": 5
}
