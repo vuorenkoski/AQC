{
 "cells": [
  {
   "cell_type": "markdown",
   "id": "d55be57b-8ef5-4716-95cb-35c8666239ac",
   "metadata": {},
   "source": [
    "# All shortest paths\n",
    "\n",
    "All shortest path algorithm implemented by QUBO in quantum annealer. Classical version of this is for example bellman-ford: https://en.wikipedia.org/wiki/Bellman%E2%80%93Ford_algorithm\n",
    "\n",
    "Here directed graph $G=(V,E)$ has sets of vertices $V$ and edges $E \\subseteq \\{(x,y)|(x,y) \\in V^2 and x \\not = y\\}$. For every edge there is weight $w_{xy}$. Task is to find path with minimum sum of weights for defined $(s,t) \\in E^2$.\n",
    "\n",
    "Solution is inspired by \"Directed Edge-Based Approach\" from Kraus & McCollum (2020) Solving the Network Shortest Path Problem on a Quantum Annealer: https://doi.org/10.1109/TQE.2020.3021921\n",
    "\n",
    "Penalty $p=\\sum w_{xy}$.\n",
    "\n",
    "Following constraints are build to QUBO: \n",
    "1. There should be one vertice starting from $s$ ($-p$ for each), no vertice should end to $s$ ($p$ for each)\n",
    "2. There should be one vertice ending to $t$ ($-p$ for each), no vertice should start from $t$ ($p$ for each)\n",
    "3. Two edges should not start/end to the same vertice, for example $s$ or $t$ (if so $2p$) \n",
    "4. Two edges should form a chain (ok chain gives $p$, otherwise more than that)\n",
    "5. Path having lower weights should be prioritised\n",
    "\n",
    "Proper path would give energy level of $w-p$ (constraint 4 brings minimum $p$ and constraint 1 and 2 both minimum $-p$). From this set of samples we choose sample(s) having lowest energy level. With perfectly working solver all samples with energy level below zero are correct paths between $(s,t)$."
   ]
  },
  {
   "cell_type": "code",
   "execution_count": 1,
   "id": "63525c69-dd51-43cc-b6a5-988fcf02f1d3",
   "metadata": {
    "tags": []
   },
   "outputs": [],
   "source": [
    "import numpy as np\n",
    "import time\n",
    "import dimod\n",
    "from dwave.system import DWaveSampler, EmbeddingComposite, LeapHybridSampler\n",
    "from dwave.samplers import SimulatedAnnealingSampler\n",
    "import dwave.inspector\n",
    "import networkx as nx\n",
    "import random"
   ]
  },
  {
   "cell_type": "markdown",
   "id": "d3c8c10c-fa93-4cda-ad64-9c5badef1460",
   "metadata": {
    "tags": []
   },
   "source": [
    "## Function to create QUBO\n",
    "\n",
    "E is array of tuples (1st vertice, 2nd vertice, weight), p is penalty, s is starting vertice and t is terminating vertice."
   ]
  },
  {
   "cell_type": "code",
   "execution_count": 2,
   "id": "98a5c8f9-d64c-4f8f-b952-c7bc35a4781d",
   "metadata": {
    "tags": []
   },
   "outputs": [],
   "source": [
    "def create_qubo(E,p,s,t):\n",
    "    edges = len(E)\n",
    "    Q = np.zeros((edges,edges))\n",
    "\n",
    "    # Constraint 1\n",
    "    for i in range(edges):\n",
    "        if E[i][1]==s:\n",
    "            Q[i][i] += p\n",
    "        if E[i][0]==s:\n",
    "            Q[i][i] -= p\n",
    "        \n",
    "    # Constraint 2\n",
    "    for i in range(edges):\n",
    "        if E[i][0]==t:\n",
    "            Q[i][i] += p\n",
    "        if E[i][1]==t:\n",
    "            Q[i][i] -= p\n",
    "\n",
    "    # Constraint 3\n",
    "    for i in range(edges):\n",
    "        for j in range(i+1,edges):\n",
    "            if E[i][0]==E[j][0] or E[i][1]==E[j][1]:\n",
    "                Q[i,j] = 2*p\n",
    "\n",
    "    # Constraint 4\n",
    "    for i in range(edges):\n",
    "        Q[i,i] += p\n",
    "        for j in range(i+1,edges):\n",
    "            if E[i][1]==E[j][0] or E[i][0]==E[j][1]:\n",
    "                Q[i,j] -= p\n",
    "\n",
    "    # Constraint 5\n",
    "    for i,e in enumerate(E):\n",
    "        Q[i][i] += e[2]        \n",
    "\n",
    "    return Q"
   ]
  },
  {
   "cell_type": "markdown",
   "id": "629804ba-7ea2-479b-ae30-1f2de1503aa7",
   "metadata": {},
   "source": [
    "## Helper functions for results"
   ]
  },
  {
   "cell_type": "code",
   "execution_count": 3,
   "id": "8fe9a885-55eb-4239-9c4e-2de4d0b13df4",
   "metadata": {
    "tags": []
   },
   "outputs": [],
   "source": [
    "def path_from_sample(sample,s,t,E):\n",
    "    w = 0\n",
    "    i = s\n",
    "    path = [i]\n",
    "    while i!=t:\n",
    "        found = False\n",
    "        for e in E:\n",
    "            if e[0]==i and sample[str(e[0]) + '-' + str(e[1])]==1:\n",
    "                i = e[1]\n",
    "                path.append(i)\n",
    "                w += e[2]\n",
    "                found = True\n",
    "        if not found:\n",
    "            print('Path broken')\n",
    "            break\n",
    "    return (str(s)+'-'+str(t),path,w)\n",
    "        \n",
    "\n",
    "def result_info(sampleset,s,t,E):\n",
    "    energy= sampleset.first.energy\n",
    "    res = []\n",
    "    for sample in sampleset.filter(lambda s: s.energy==energy):\n",
    "        st, path, w = path_from_sample(sample,s,t,E)\n",
    "        if st not in res:\n",
    "            res.append((st,path,w))\n",
    "    return res\n",
    "\n",
    "def make_G(E,vertices):\n",
    "    G = nx.DiGraph()\n",
    "    G.add_nodes_from([0, vertices-1])\n",
    "    for e in E:\n",
    "        G.add_edge(e[0], e[1], weight=e[2])\n",
    "    return(G)"
   ]
  },
  {
   "cell_type": "markdown",
   "id": "434b7ea2-767c-4280-9270-74bc50121584",
   "metadata": {},
   "source": [
    "## Run with simple graph"
   ]
  },
  {
   "cell_type": "markdown",
   "id": "5649c0b6",
   "metadata": {},
   "source": [
    "### Define graph\n",
    "\n",
    "Input graph is array of tuples (1st vertice, 2nd vertice, weight)"
   ]
  },
  {
   "cell_type": "code",
   "execution_count": 4,
   "id": "c7f22202",
   "metadata": {
    "tags": []
   },
   "outputs": [],
   "source": [
    "E1 = np.array([(0, 2, 1), (2, 1, 2), (1, 3, 3), (3, 2, 4), (0, 1, 5), (3, 4, 3), (2, 4, 8)])\n",
    "vertices1 = 5\n",
    "s1 = 0\n",
    "t1 = 4"
   ]
  },
  {
   "cell_type": "markdown",
   "id": "4aac45bc",
   "metadata": {},
   "source": [
    "Above graph visualised:\n",
    "\n",
    "![](graph4.png)"
   ]
  },
  {
   "cell_type": "markdown",
   "id": "72682cd6-5890-43d4-9826-4c82ece6f476",
   "metadata": {},
   "source": [
    "### Construct max_count and labels variables"
   ]
  },
  {
   "cell_type": "code",
   "execution_count": 5,
   "id": "df0cf817-0abf-4fd9-ad7f-7d1fa82f6d3e",
   "metadata": {
    "tags": []
   },
   "outputs": [
    {
     "name": "stdout",
     "output_type": "stream",
     "text": [
      "Max count: 26\n"
     ]
    }
   ],
   "source": [
    "max_count1 = 0\n",
    "labels1 = {}\n",
    "for i,e in enumerate(E1):\n",
    "    max_count1 += e[2]\n",
    "    labels1[i] = str(e[0]) + '-' + str(e[1])\n",
    "print('Max count:',max_count1)"
   ]
  },
  {
   "cell_type": "markdown",
   "id": "6d9d09b2-587a-40e9-a41c-e9358b890b06",
   "metadata": {},
   "source": [
    "### Create QUBO and BQM"
   ]
  },
  {
   "cell_type": "code",
   "execution_count": 6,
   "id": "2cf5536e-fa02-4f37-8ed6-e10ea1f672d6",
   "metadata": {
    "tags": []
   },
   "outputs": [
    {
     "name": "stdout",
     "output_type": "stream",
     "text": [
      "Time used for construction Q (ms): 0.235\n",
      "\n",
      "{0: '0-2', 1: '2-1', 2: '1-3', 3: '3-2', 4: '0-1', 5: '3-4', 6: '2-4'}\n",
      "[[  1. -26.   0.  52.  52.   0. -26.]\n",
      " [  0.  28. -26. -26.  52.   0.  52.]\n",
      " [  0.   0.  29. -26. -26. -26.   0.]\n",
      " [  0.   0.   0.  30.   0.  52. -26.]\n",
      " [  0.   0.   0.   0.   5.   0.   0.]\n",
      " [  0.   0.   0.   0.   0.   3.  52.]\n",
      " [  0.   0.   0.   0.   0.   0.   8.]]\n"
     ]
    }
   ],
   "source": [
    "ts = time.time()\n",
    "Q1 = create_qubo(E1,max_count1,s1,t1)\n",
    "qubo_time = (time.time()-ts)*1000\n",
    "print('Time used for construction Q (ms): {:.3f}\\n'.format(qubo_time))\n",
    "print(labels1)\n",
    "print(Q1)\n",
    "\n",
    "ts = time.time()\n",
    "bqm1 = dimod.BinaryQuadraticModel(Q1, 'BINARY')\n",
    "bqm_time = (time.time()-ts)*1000\n",
    "bqm1 = bqm1.relabel_variables(labels1, inplace=False)"
   ]
  },
  {
   "cell_type": "markdown",
   "id": "bd174749",
   "metadata": {},
   "source": [
    "### Local deterministic classical solver"
   ]
  },
  {
   "cell_type": "code",
   "execution_count": 7,
   "id": "a8ca8697",
   "metadata": {
    "tags": []
   },
   "outputs": [
    {
     "name": "stdout",
     "output_type": "stream",
     "text": [
      "Time used (ms): 1.717\n",
      "\n",
      "  0-1 0-2 1-3 2-1 2-4 3-2 3-4 energy num_oc.\n",
      "1   0   1   1   1   0   0   1  -17.0       1\n",
      "3   0   1   0   0   1   0   0  -17.0       1\n",
      "0   1   0   1   0   0   0   1  -15.0       1\n",
      "2   1   0   1   0   1   1   0   -6.0       1\n",
      "['BINARY', 4 rows, 4 samples, 7 variables]\n"
     ]
    }
   ],
   "source": [
    "ts = time.time()\n",
    "sampleset = dimod.ExactSolver().sample(bqm1)\n",
    "det_time = (time.time()-ts)*1000\n",
    "print('Time used (ms): {:.3f}\\n'.format(det_time))\n",
    "energy = sampleset.first.energy\n",
    "print(sampleset.filter(lambda s: s.energy<0))"
   ]
  },
  {
   "cell_type": "code",
   "execution_count": 8,
   "id": "47b0f271",
   "metadata": {
    "tags": []
   },
   "outputs": [
    {
     "name": "stdout",
     "output_type": "stream",
     "text": [
      "Route 0-4: [0, 2, 1, 3, 4], weight 9\n",
      "Route 0-4: [0, 2, 4], weight 9\n"
     ]
    }
   ],
   "source": [
    "for r in result_info(sampleset,s1,t1,E1):\n",
    "    print('Route '+r[0]+': '+str(r[1])+', weight '+str(r[2]))"
   ]
  },
  {
   "cell_type": "markdown",
   "id": "317bf617",
   "metadata": {},
   "source": [
    "### Local heuristic classical solver"
   ]
  },
  {
   "cell_type": "code",
   "execution_count": 9,
   "id": "a68eb6b7-2bd9-4203-a58b-2ea612e40537",
   "metadata": {
    "tags": []
   },
   "outputs": [
    {
     "name": "stdout",
     "output_type": "stream",
     "text": [
      "Time used (ms): 90.060\n",
      "\n",
      "  0-1 0-2 1-3 2-1 2-4 3-2 3-4 energy num_oc.\n",
      "0   0   1   0   0   1   0   0  -17.0     160\n",
      "2   0   1   1   1   0   0   1  -17.0     149\n",
      "1   1   0   1   0   0   0   1  -15.0      83\n",
      "3   1   0   1   0   1   1   0   -6.0       8\n",
      "['BINARY', 4 rows, 400 samples, 7 variables]\n"
     ]
    }
   ],
   "source": [
    "num_reads = 400\n",
    "ts = time.time()\n",
    "sampleset2 = SimulatedAnnealingSampler().sample(bqm1, num_reads=num_reads).aggregate()\n",
    "heur_time = (time.time()-ts)*1000\n",
    "print('Time used (ms): {:.3f}\\n'.format(heur_time))\n",
    "print(sampleset2)"
   ]
  },
  {
   "cell_type": "code",
   "execution_count": 10,
   "id": "b4a76d16-edae-4e59-a557-c389ce37d764",
   "metadata": {
    "tags": []
   },
   "outputs": [
    {
     "name": "stdout",
     "output_type": "stream",
     "text": [
      "Route 0-4: [0, 2, 4], weight 9\n",
      "Route 0-4: [0, 2, 1, 3, 4], weight 9\n"
     ]
    }
   ],
   "source": [
    "for r in result_info(sampleset2,s1,t1,E1):\n",
    "    print('Route '+r[0]+': '+str(r[1])+', weight '+str(r[2]))"
   ]
  },
  {
   "cell_type": "markdown",
   "id": "919a2172",
   "metadata": {},
   "source": [
    "### Quantum solver"
   ]
  },
  {
   "cell_type": "code",
   "execution_count": 11,
   "id": "132c1754",
   "metadata": {
    "tags": []
   },
   "outputs": [
    {
     "name": "stdout",
     "output_type": "stream",
     "text": [
      "Chip: Advantage_system4.1\n",
      "Qubits: 5760\n"
     ]
    }
   ],
   "source": [
    "machine = DWaveSampler(solver={'chip_id': 'Advantage_system4.1'})\n",
    "print('Chip:', machine.properties['chip_id'])\n",
    "print('Qubits:', machine.properties['num_qubits'])"
   ]
  },
  {
   "cell_type": "code",
   "execution_count": 12,
   "id": "25f71f94",
   "metadata": {
    "tags": []
   },
   "outputs": [],
   "source": [
    "num_reads=1000\n",
    "sampleset3 = EmbeddingComposite(machine).sample(bqm1, num_reads=num_reads)"
   ]
  },
  {
   "cell_type": "code",
   "execution_count": 13,
   "id": "ee8aac50",
   "metadata": {
    "tags": []
   },
   "outputs": [
    {
     "name": "stdout",
     "output_type": "stream",
     "text": [
      "QPU time used (ms): 202.1\n",
      "Physical qubits used: 8\n",
      "\n",
      "  0-1 0-2 1-3 2-1 2-4 3-2 3-4 energy num_oc. chain_.\n",
      "0   0   1   0   0   1   0   0  -17.0     275     0.0\n",
      "1   0   1   1   1   0   0   1  -17.0     232     0.0\n",
      "2   1   0   1   0   0   0   1  -15.0     239     0.0\n",
      "3   1   0   1   0   1   1   0   -6.0      56     0.0\n",
      "['BINARY', 4 rows, 802 samples, 7 variables]\n"
     ]
    }
   ],
   "source": [
    "qpu_time = sampleset3.info['timing']['qpu_access_time'] / 1000\n",
    "qubits = sum(len(x) for x in sampleset3.info['embedding_context']['embedding'].values())\n",
    "print('QPU time used (ms): {:.1f}'.format(qpu_time))\n",
    "print('Physical qubits used: {}\\n'.format(qubits))\n",
    "print(sampleset3.filter(lambda s: s.energy<0).aggregate())"
   ]
  },
  {
   "cell_type": "code",
   "execution_count": 14,
   "id": "8bd6a731",
   "metadata": {
    "tags": []
   },
   "outputs": [
    {
     "name": "stdout",
     "output_type": "stream",
     "text": [
      "Route 0-4: [0, 2, 4], weight 9\n",
      "Route 0-4: [0, 2, 1, 3, 4], weight 9\n"
     ]
    }
   ],
   "source": [
    "for r in result_info(sampleset3.aggregate(),s1,t1,E1):\n",
    "    print('Route '+r[0]+': '+str(r[1])+', weight '+str(r[2]))"
   ]
  },
  {
   "cell_type": "code",
   "execution_count": 15,
   "id": "7040df75",
   "metadata": {
    "tags": []
   },
   "outputs": [],
   "source": [
    "#dwave.inspector.show(sampleset3)"
   ]
  },
  {
   "cell_type": "markdown",
   "id": "9488f929",
   "metadata": {},
   "source": [
    "### Hybrid solver\n",
    "\n",
    "Hybrid solver brings only one solution, not good here"
   ]
  },
  {
   "cell_type": "code",
   "execution_count": 16,
   "id": "e2c5d472",
   "metadata": {
    "tags": []
   },
   "outputs": [],
   "source": [
    "#sampleset4 = LeapHybridSampler().sample(bqm)"
   ]
  },
  {
   "cell_type": "code",
   "execution_count": 17,
   "id": "b76a7ec1",
   "metadata": {
    "tags": []
   },
   "outputs": [],
   "source": [
    "#hyb_time = sampleset4.info['qpu_access_time'] / 1000\n",
    "#print('QPU time used (ms): {:.1f}\\n'.format(hyb_time))\n",
    "#print(sampleset4) "
   ]
  },
  {
   "cell_type": "code",
   "execution_count": 18,
   "id": "3d7d07c2",
   "metadata": {
    "tags": []
   },
   "outputs": [],
   "source": [
    "#for r in result_info(sampleset4,s,t):\n",
    "#    print('Route '+r[0]+': '+r[1]+', weight '+str(r[2]))"
   ]
  },
  {
   "cell_type": "markdown",
   "id": "8e67bc7a-e138-46de-964d-18b5bb814610",
   "metadata": {},
   "source": [
    "### Timings"
   ]
  },
  {
   "cell_type": "code",
   "execution_count": 19,
   "id": "ac4ce99c-83d0-4035-b95b-96a2894f7525",
   "metadata": {
    "tags": []
   },
   "outputs": [
    {
     "name": "stdout",
     "output_type": "stream",
     "text": [
      "Construting QUBO: 0.235\n",
      "Construting BQM: 0.631\n",
      "\n",
      "Local deterministic solver: 1.7\n",
      "Local heuristic solver: 90.1\n",
      "Quantum solver: 202.1\n"
     ]
    }
   ],
   "source": [
    "print('Construting QUBO: {:.3f}'.format(qubo_time))\n",
    "print('Construting BQM: {:.3f}'.format(bqm_time))\n",
    "print('\\nLocal deterministic solver: {:.1f}'.format(det_time))\n",
    "print('Local heuristic solver: {:.1f}'.format(heur_time))\n",
    "print('Quantum solver: {:.1f}'.format(qpu_time))"
   ]
  },
  {
   "cell_type": "markdown",
   "id": "37c8b0ab-d0b1-4193-b15c-b79e51a36927",
   "metadata": {
    "tags": []
   },
   "source": [
    "## More complex graph\n",
    "\n",
    "Parameters with several equal lengths: vertices=10 s=2 t=8"
   ]
  },
  {
   "cell_type": "code",
   "execution_count": 20,
   "id": "5a5d12ae-1ecb-4ca0-884a-78d1c939b4e4",
   "metadata": {
    "tags": []
   },
   "outputs": [],
   "source": [
    "seed = 42\n",
    "vertices2 = 10\n",
    "random.seed(seed)\n",
    "G2 = nx.gnp_random_graph(vertices2, 0.30, seed, directed=True)\n",
    "nx.set_edge_attributes(G2, {e: {'weight': random.randint(1, 10)} for e in G2.edges})\n",
    "\n",
    "s2 = 2\n",
    "t2 = 8"
   ]
  },
  {
   "cell_type": "code",
   "execution_count": 21,
   "id": "97536e20-d3cb-4a8f-b516-d7c7bb772b99",
   "metadata": {
    "tags": []
   },
   "outputs": [
    {
     "name": "stdout",
     "output_type": "stream",
     "text": [
      "Number of edges: 34\n",
      "Number of vertices: 10\n"
     ]
    }
   ],
   "source": [
    "E2 = [] \n",
    "for e in G2.edges(data=True):\n",
    "    E2.append((e[0],e[1],e[2]['weight']))\n",
    "print('Number of edges:',len(E2))\n",
    "print('Number of vertices:',vertices2)"
   ]
  },
  {
   "cell_type": "markdown",
   "id": "63c0800d-c73e-4de8-9f3b-30a1129ac7de",
   "metadata": {
    "tags": []
   },
   "source": [
    "### Test with classical algorithm"
   ]
  },
  {
   "cell_type": "code",
   "execution_count": 22,
   "id": "a68b6a75-8e82-4af4-b8f7-ca8a3da89084",
   "metadata": {
    "tags": []
   },
   "outputs": [
    {
     "name": "stdout",
     "output_type": "stream",
     "text": [
      "Time used by classical algorithm (ms): 0.160\n",
      "\n",
      "[2, 9, 8]\n",
      "[2, 9, 7, 8]\n"
     ]
    }
   ],
   "source": [
    "ts = time.time()\n",
    "res = nx.all_shortest_paths(G2,s2,t2,weight='weight')\n",
    "classical_time = (time.time()-ts)*1000\n",
    "print('Time used by classical algorithm (ms): {:.3f}\\n'.format(classical_time))\n",
    "for r in res:\n",
    "    print(r)"
   ]
  },
  {
   "cell_type": "markdown",
   "id": "7bda8e08-f7af-42a7-9975-d684d1aeef70",
   "metadata": {
    "tags": []
   },
   "source": [
    "### QUBO and BQM"
   ]
  },
  {
   "cell_type": "code",
   "execution_count": 23,
   "id": "e707c86b-03e8-4ddc-87c0-0e0fcee2654f",
   "metadata": {
    "tags": []
   },
   "outputs": [
    {
     "name": "stdout",
     "output_type": "stream",
     "text": [
      "Max count: 166\n"
     ]
    }
   ],
   "source": [
    "max_count2 = 0\n",
    "labels2 = {}\n",
    "for i,e in enumerate(E2):\n",
    "    max_count2 += e[2]\n",
    "    labels2[i] = str(e[0]) + '-' + str(e[1])\n",
    "print('Max count:',max_count2)"
   ]
  },
  {
   "cell_type": "code",
   "execution_count": 25,
   "id": "083224d8-04a5-4c71-b735-4be69bfd7020",
   "metadata": {
    "tags": []
   },
   "outputs": [
    {
     "name": "stdout",
     "output_type": "stream",
     "text": [
      "Time used for construction Q (ms): 0.677\n",
      "Time used for construction BQM (ms): 0.304\n"
     ]
    }
   ],
   "source": [
    "ts = time.time()\n",
    "p = max_count2\n",
    "Q2 = create_qubo(E2,p,s2,t2)\n",
    "qubo_time = (time.time()-ts) * 1000\n",
    "print('Time used for construction Q (ms): {:.3f}'.format(qubo_time))\n",
    "\n",
    "ts = time.time()\n",
    "bqm2 = dimod.BinaryQuadraticModel(Q2, 'BINARY')\n",
    "bqm_time = (time.time()-ts) * 1000\n",
    "bqm2 = bqm2.relabel_variables(labels2, inplace=False)\n",
    "print('Time used for construction BQM (ms): {:.3f}'.format(bqm_time))"
   ]
  },
  {
   "cell_type": "markdown",
   "id": "bc7a3bce-34aa-4201-9b51-8406b7e47e7f",
   "metadata": {},
   "source": [
    "### Local heuristic solver"
   ]
  },
  {
   "cell_type": "code",
   "execution_count": 26,
   "id": "9f982fd5-3ede-4ea1-ad45-90ce027a5dd1",
   "metadata": {
    "tags": []
   },
   "outputs": [
    {
     "name": "stdout",
     "output_type": "stream",
     "text": [
      "Time used (ms): 291.862\n",
      "\n",
      "Lowest energy should be nearly: -166\n",
      "Lowest energy reached: -161\n",
      "Lowest energy occurences: 3.0 %\n"
     ]
    }
   ],
   "source": [
    "num_reads=400\n",
    "t1 = time.time()\n",
    "sampleset5 = SimulatedAnnealingSampler().sample(bqm2, num_reads=num_reads).aggregate()\n",
    "heur_time = (time.time()-t1) * 1000\n",
    "print('Time used (ms): {:.3f}\\n'.format(heur_time))\n",
    "\n",
    "print('Lowest energy should be nearly:',-p)  \n",
    "print('Lowest energy reached:',int(sampleset5.first.energy))\n",
    "print('Lowest energy occurences: {:.1f} %'.format(sampleset5.first.num_occurrences/num_reads*100))"
   ]
  },
  {
   "cell_type": "code",
   "execution_count": 27,
   "id": "dd241a71-e2c2-4865-9160-249a8e066ff1",
   "metadata": {
    "tags": []
   },
   "outputs": [
    {
     "name": "stdout",
     "output_type": "stream",
     "text": [
      "  0-2 0-3 0-4 0-8 1-0 1-2 1-4 1-5 1-8 2-1 2-6 2-9 3-0 ... 9-8 energy num_oc.\n",
      "0   0   0   0   0   0   0   0   0   0   0   0   1   0 ...   0 -161.0      12\n",
      "1   0   0   0   0   0   0   0   0   0   0   0   1   0 ...   1 -161.0      20\n",
      "2   0   0   0   0   0   0   0   0   0   0   0   1   0 ...   0 -156.0      10\n",
      "3   0   0   0   1   0   0   0   0   0   0   0   1   0 ...   0 -155.0      10\n",
      "4   0   0   0   0   0   0   0   0   0   0   0   1   0 ...   0 -155.0      13\n",
      "5   0   0   0   0   0   0   0   0   1   1   0   0   0 ...   0 -154.0      12\n",
      "6   0   0   0   0   0   0   0   0   0   0   1   0   0 ...   0 -151.0      17\n",
      "7   0   0   1   0   0   0   0   0   0   0   0   1   0 ...   0 -150.0       9\n",
      "8   0   0   0   0   0   0   0   0   0   0   1   0   0 ...   0 -150.0      10\n",
      "9   0   0   0   0   0   0   1   0   0   1   0   0   0 ...   0 -150.0      10\n",
      "['BINARY', 10 rows, 123 samples, 34 variables]\n"
     ]
    }
   ],
   "source": [
    "print(sampleset5.filter(lambda s: s.energy<0).truncate(10))"
   ]
  },
  {
   "cell_type": "code",
   "execution_count": 28,
   "id": "ccf2be53-e674-4453-aa0d-09b5f9419f03",
   "metadata": {
    "tags": []
   },
   "outputs": [
    {
     "name": "stdout",
     "output_type": "stream",
     "text": [
      "Route 2-8: [2, 9, 7, 8], weight 5\n",
      "Route 2-8: [2, 9, 8], weight 5\n"
     ]
    }
   ],
   "source": [
    "for r in result_info(sampleset5,s2,t2,E2):\n",
    "    print('Route '+r[0]+': '+str(r[1])+', weight '+str(r[2]))"
   ]
  },
  {
   "cell_type": "markdown",
   "id": "3d9450be-911b-41bb-9013-9425640daad8",
   "metadata": {},
   "source": [
    "### Quantum solver"
   ]
  },
  {
   "cell_type": "code",
   "execution_count": 30,
   "id": "0ce58819-bd7c-424a-af42-f6a29e751583",
   "metadata": {
    "tags": []
   },
   "outputs": [
    {
     "name": "stdout",
     "output_type": "stream",
     "text": [
      "Number of logical qubits needed: 34\n",
      "Number of logical couplers needed: 202\n"
     ]
    }
   ],
   "source": [
    "print('Number of logical qubits needed:',Q2.shape[0])\n",
    "print('Number of logical couplers needed:', len(bqm2.quadratic))"
   ]
  },
  {
   "cell_type": "code",
   "execution_count": 31,
   "id": "5f41b451-0b45-4693-bb62-4d76b64cd714",
   "metadata": {
    "tags": []
   },
   "outputs": [
    {
     "name": "stdout",
     "output_type": "stream",
     "text": [
      "Chip: Advantage_system4.1\n",
      "Qubits: 5760\n"
     ]
    }
   ],
   "source": [
    "machine = DWaveSampler(solver={'chip_id': 'Advantage_system4.1'})\n",
    "print('Chip:', machine.properties['chip_id'])\n",
    "print('Qubits:', machine.properties['num_qubits'])"
   ]
  },
  {
   "cell_type": "code",
   "execution_count": 32,
   "id": "e3f5d5ea-9acb-490a-80f7-a1f61b7e1d4c",
   "metadata": {
    "tags": []
   },
   "outputs": [],
   "source": [
    "num_reads = 5000\n",
    "sampleset6 = EmbeddingComposite(machine).sample(bqm2, num_reads=num_reads)"
   ]
  },
  {
   "cell_type": "code",
   "execution_count": 33,
   "id": "23c0f823-2d61-4aca-8556-ec00e0445a3a",
   "metadata": {
    "tags": []
   },
   "outputs": [
    {
     "name": "stdout",
     "output_type": "stream",
     "text": [
      "Lowest energy should be nearly: -166\n",
      "Lowest energy reached: -161\n",
      "Lowest energy occurences: 0.0 %\n",
      "QPU time used (ms): 591.1\n",
      "Physical qubits used: 108\n"
     ]
    }
   ],
   "source": [
    "qpu_time = sampleset6.info['timing']['qpu_access_time'] / 1000\n",
    "qubits = sum(len(x) for x in sampleset6.info['embedding_context']['embedding'].values())\n",
    "print('Lowest energy should be nearly:',-p)  \n",
    "print('Lowest energy reached:',int(sampleset6.first.energy))\n",
    "print('Lowest energy occurences: {:.1f} %'.format(sampleset6.first.num_occurrences/num_reads*100))\n",
    "print('QPU time used (ms): {:.1f}'.format(qpu_time))\n",
    "print('Physical qubits used: {}'.format(qubits))"
   ]
  },
  {
   "cell_type": "code",
   "execution_count": 34,
   "id": "5a412762-e292-42be-a763-e4a9086c9518",
   "metadata": {
    "tags": []
   },
   "outputs": [
    {
     "name": "stdout",
     "output_type": "stream",
     "text": [
      "Route 2-8: [2, 9, 8], weight 5\n"
     ]
    }
   ],
   "source": [
    "for r in result_info(sampleset6.aggregate(),s2,t2,E2):\n",
    "    print('Route '+r[0]+': '+str(r[1])+', weight '+str(r[2]))"
   ]
  },
  {
   "cell_type": "markdown",
   "id": "c72c6612-5a0c-49ad-b9f5-451a092c05f2",
   "metadata": {},
   "source": [
    "### Timings"
   ]
  },
  {
   "cell_type": "code",
   "execution_count": 35,
   "id": "c81bd2cd-3ed1-4700-a423-50c4c0a1c64a",
   "metadata": {},
   "outputs": [
    {
     "name": "stdout",
     "output_type": "stream",
     "text": [
      "Construting QUBO (ms): 0.677\n",
      "Construting BQM (ms): 0.304\n",
      "\n",
      "Local heuristic solver (ms): 291.9\n",
      "Quantum solver (ms): 591.1\n"
     ]
    }
   ],
   "source": [
    "print('Construting QUBO (ms): {:.3f}'.format(qubo_time))\n",
    "print('Construting BQM (ms): {:.3f}'.format(bqm_time))\n",
    "print('\\nLocal heuristic solver (ms): {:.1f}'.format(heur_time))\n",
    "print('Quantum solver (ms): {:.1f}'.format(qpu_time))"
   ]
  },
  {
   "cell_type": "markdown",
   "id": "06d46a95-9e79-4ac1-ab39-cbfbf297b990",
   "metadata": {},
   "source": [
    "## Test procedure"
   ]
  },
  {
   "cell_type": "code",
   "execution_count": 36,
   "id": "adeee717-7c3b-4f33-94b6-c47c3dd1308e",
   "metadata": {
    "tags": []
   },
   "outputs": [
    {
     "name": "stdout",
     "output_type": "stream",
     "text": [
      "Test with deterministic solver\n",
      "Test cases: 13 (passed)\n",
      "\n",
      "Test with heuristic solver\n",
      "Test cases: 13 (passed)\n",
      "Test cases: 90 (passed)\n"
     ]
    }
   ],
   "source": [
    "def test_algorithm(E,solver,vertices,num_reads):\n",
    "    max_count = 0\n",
    "    labels = {}\n",
    "    for i,e in enumerate(E):\n",
    "        max_count += e[2]\n",
    "        labels[i] = str(e[0]) + '-' + str(e[1])\n",
    "    G = make_G(E,vertices)\n",
    "    ok = True\n",
    "    c = 0\n",
    "    for s in range(vertices):\n",
    "        for t in range(vertices):\n",
    "            if s!=t and nx.has_path(G,s,t):\n",
    "                c += 1\n",
    "                Q = create_qubo(E,max_count,s,t)\n",
    "                bqm = dimod.BinaryQuadraticModel(Q, 'BINARY')\n",
    "                bqm = bqm.relabel_variables(labels, inplace=False)\n",
    "                sampleset = None\n",
    "                if num_reads==0:\n",
    "                    sampleset = solver.sample(bqm).aggregate()\n",
    "                else:\n",
    "                    sampleset = solver.sample(bqm, num_reads=num_reads).aggregate()\n",
    "                correct = [p for p in nx.all_shortest_paths(G,s,t,weight='weight')]\n",
    "                result = result_info(sampleset,s,t,E)\n",
    "                if len(correct)==len(result):\n",
    "                    for r in result:\n",
    "                        if r[1] not in correct:\n",
    "                            ok = False\n",
    "                else:\n",
    "                    ok=False\n",
    "    if ok:\n",
    "        print('Test cases: {} (passed)'.format(c))\n",
    "    else:\n",
    "        print('Test cases: {} (failed)'.format(c))\n",
    "\n",
    "print('Test with deterministic solver')\n",
    "test_algorithm(E1, dimod.ExactSolver(), vertices1, 0)\n",
    "print('\\nTest with heuristic solver')\n",
    "test_algorithm(E1, SimulatedAnnealingSampler(), vertices1, 400)\n",
    "test_algorithm(E2, SimulatedAnnealingSampler(), vertices2, 400)"
   ]
  },
  {
   "cell_type": "code",
   "execution_count": null,
   "id": "68873625-d5cd-4a89-8fa0-8ce07e71d73a",
   "metadata": {},
   "outputs": [],
   "source": []
  }
 ],
 "metadata": {
  "kernelspec": {
   "display_name": "Python 3 (ipykernel)",
   "language": "python",
   "name": "python3"
  },
  "language_info": {
   "codemirror_mode": {
    "name": "ipython",
    "version": 3
   },
   "file_extension": ".py",
   "mimetype": "text/x-python",
   "name": "python",
   "nbconvert_exporter": "python",
   "pygments_lexer": "ipython3",
   "version": "3.8.18"
  }
 },
 "nbformat": 4,
 "nbformat_minor": 5
}
