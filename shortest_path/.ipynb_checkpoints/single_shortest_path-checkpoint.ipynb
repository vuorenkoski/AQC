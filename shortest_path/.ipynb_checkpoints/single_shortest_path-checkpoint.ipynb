{
 "cells": [
  {
   "cell_type": "markdown",
   "id": "d55be57b-8ef5-4716-95cb-35c8666239ac",
   "metadata": {},
   "source": [
    "# Single shortest path"
   ]
  },
  {
   "cell_type": "code",
   "execution_count": 55,
   "id": "63525c69-dd51-43cc-b6a5-988fcf02f1d3",
   "metadata": {
    "tags": []
   },
   "outputs": [],
   "source": [
    "import numpy as np\n",
    "import dimod\n",
    "from dwave.system import DWaveSampler, EmbeddingComposite, LeapHybridSampler\n",
    "from dwave.samplers import SimulatedAnnealingSampler"
   ]
  },
  {
   "cell_type": "markdown",
   "id": "5649c0b6",
   "metadata": {},
   "source": [
    "## Define graph\n",
    "\n",
    "(1st vertice, 2nd vertice, weight)"
   ]
  },
  {
   "cell_type": "code",
   "execution_count": 56,
   "id": "c7f22202",
   "metadata": {},
   "outputs": [],
   "source": [
    "edge = np.array([(0, 1, 5), (0, 2, 1), (2, 1, 2), (1, 3, 3), (3, 2, 4)])\n",
    "vertices = 4\n",
    "start = 0\n",
    "end = 3"
   ]
  },
  {
   "cell_type": "code",
   "execution_count": 57,
   "id": "fe3cfdce",
   "metadata": {},
   "outputs": [],
   "source": [
    "#edge = np.array([(0, 1, 8), (1, 3, 5), (0, 2, 2), (2, 1, 4), (2, 4, 7), (4, 3, 3)])\n",
    "#vertices = 5\n",
    "#start = 0\n",
    "#end = 3"
   ]
  },
  {
   "cell_type": "code",
   "execution_count": 58,
   "id": "308170be",
   "metadata": {},
   "outputs": [],
   "source": [
    "#edge = np.array([(0, 1, 5), (0, 2, 5), (1, 0, 5), (1, 2, 2), (1, 3, 2),\n",
    "#                 (2, 0, 5), (2, 1, 2), (2, 3, 10), (3, 1, 2), (3, 2, 10)])\n",
    "#vertices = 4\n",
    "#start = 0\n",
    "#end = 3"
   ]
  },
  {
   "cell_type": "markdown",
   "id": "72682cd6-5890-43d4-9826-4c82ece6f476",
   "metadata": {},
   "source": [
    "## Create array from edge array"
   ]
  },
  {
   "cell_type": "code",
   "execution_count": 59,
   "id": "df0cf817-0abf-4fd9-ad7f-7d1fa82f6d3e",
   "metadata": {
    "tags": []
   },
   "outputs": [
    {
     "name": "stdout",
     "output_type": "stream",
     "text": [
      "[[0. 5. 1. 0.]\n",
      " [0. 0. 0. 3.]\n",
      " [0. 2. 0. 0.]\n",
      " [0. 0. 4. 0.]]\n",
      "Max count: 15\n"
     ]
    }
   ],
   "source": [
    "m = 0\n",
    "edges = len(edge)\n",
    "edge_names = {}\n",
    "edge_weights = {}\n",
    "graph = np.zeros((vertices,vertices))\n",
    "for i,e in enumerate(edge):\n",
    "    graph[e[0],e[1]] = e[2]\n",
    "    m += e[2]\n",
    "    edge_names[i] = str(e[0]) + '-' + str(e[1])\n",
    "    edge_weights[edge_names[i]] = e[2]\n",
    "\n",
    "    \n",
    "print(graph)\n",
    "print('Max count:',m)"
   ]
  },
  {
   "cell_type": "markdown",
   "id": "cedec220",
   "metadata": {},
   "source": [
    "## Create QUBO from edge array\n",
    "\n",
    "Based on \"Directed Edge-Based Approach\" from Kraus & McCollum (2020) Solving the Network Shortest Path Problem on a Quantum Annealer.\n",
    "\n",
    "https://doi.org/10.1109/TQE.2020.3021921\n",
    "\n",
    "\n",
    "Constraints: \n",
    "\n",
    "- the source vertex has one more edge leaving it than entering it\n",
    "- the terminal vertex has one more edge entering it than leaving it\n",
    "- every other vertex has as many edges entering it as it has leaving it.\n",
    "\n"
   ]
  },
  {
   "cell_type": "code",
   "execution_count": 60,
   "id": "28c0a125-984b-4dda-9838-e9c7af4724b1",
   "metadata": {
    "tags": []
   },
   "outputs": [
    {
     "name": "stdout",
     "output_type": "stream",
     "text": [
      "{0: '0-1', 1: '0-2', 2: '2-1', 3: '1-3', 4: '3-2'}\n",
      "[[  5.  30.  30. -30.   0.]\n",
      " [  0.   1. -30.   0.  30.]\n",
      " [  0.   0.  32. -30. -30.]\n",
      " [  0.   0.   0.   3. -30.]\n",
      " [  0.   0.   0.   0.  64.]]\n",
      "45.0\n"
     ]
    }
   ],
   "source": [
    "Q = np.zeros((edges,edges))\n",
    "\n",
    "# Include weights of edges\n",
    "\n",
    "for i,e in enumerate(edge):\n",
    "    Q[i][i] = e[2]\n",
    "\n",
    "# set constraints for starting node, ending node and other nodes for incoming and outgoing edges\n",
    "\n",
    "for x in range(vertices):\n",
    "    ec = np.zeros(edges)                # Has edge i this vertex as an input (+1) or and output (-1). \n",
    "    for i,e in enumerate(edge):\n",
    "        if e[0]==x:\n",
    "            ec[i] = 1\n",
    "        if e[1]==x:\n",
    "            ec[i] = -1\n",
    "\n",
    "    for i in range(edges):              # Loop through all edge combinations, and add penalty if both are incoming\n",
    "        for j in range(i+1, edges):     #   or outgoing to vertex x, and negative penalty if one is incoming and \n",
    "            Q[i][j] += ec[i]*ec[j]*2*m  #   one is outgoing.\n",
    "\n",
    "    for i in range(edges):\n",
    "        Q[i][i] += ec[i]*ec[i]*m        # Add penalty to diagonal if vertex is input or output of edge. \n",
    "        if x==end:                      # If we are in ending vertex, add penalty if vertex is input for edge, \n",
    "            Q[i][i] += ec[i]*2*m        #   negative penalty if vertex is output for edge.\n",
    "        if x==start:                    # Similar mirrored operation if we are in starting vertex. \n",
    "            Q[i][i] -= ec[i]*2*m\n",
    "\n",
    "print(edge_names)\n",
    "print(Q)\n",
    "print(sum(sum(Q)))"
   ]
  },
  {
   "cell_type": "markdown",
   "id": "a649a509-ae35-4998-9ebd-5eeaafaa57d0",
   "metadata": {},
   "source": [
    "## Create BQM"
   ]
  },
  {
   "cell_type": "code",
   "execution_count": 61,
   "id": "1891d43a",
   "metadata": {},
   "outputs": [],
   "source": [
    "bqm = dimod.BinaryQuadraticModel(Q, 'BINARY')\n",
    "bqm = bqm.relabel_variables(edge_names, inplace=False)"
   ]
  },
  {
   "cell_type": "markdown",
   "id": "317bf617",
   "metadata": {},
   "source": [
    "## Solving with simulator"
   ]
  },
  {
   "cell_type": "code",
   "execution_count": 62,
   "id": "a68eb6b7-2bd9-4203-a58b-2ea612e40537",
   "metadata": {
    "tags": []
   },
   "outputs": [
    {
     "name": "stdout",
     "output_type": "stream",
     "text": [
      "   0-1 0-2 1-3 2-1 3-2 energy num_oc.\n",
      "1    0   1   1   1   0  -24.0       1\n",
      "2    0   1   1   1   0  -24.0       1\n",
      "3    0   1   1   1   0  -24.0       1\n",
      "4    0   1   1   1   0  -24.0       1\n",
      "5    0   1   1   1   0  -24.0       1\n",
      "7    0   1   1   1   0  -24.0       1\n",
      "8    0   1   1   1   0  -24.0       1\n",
      "11   0   1   1   1   0  -24.0       1\n",
      "12   0   1   1   1   0  -24.0       1\n",
      "13   0   1   1   1   0  -24.0       1\n",
      "14   0   1   1   1   0  -24.0       1\n",
      "15   0   1   1   1   0  -24.0       1\n",
      "0    1   0   1   0   0  -22.0       1\n",
      "6    1   0   1   0   0  -22.0       1\n",
      "9    1   0   1   0   0  -22.0       1\n",
      "10   1   0   1   0   0  -22.0       1\n",
      "16   1   0   1   0   0  -22.0       1\n",
      "17   1   0   1   0   0  -22.0       1\n",
      "18   1   0   1   0   0  -22.0       1\n",
      "19   1   0   1   0   0  -22.0       1\n",
      "['BINARY', 20 rows, 20 samples, 5 variables]\n"
     ]
    }
   ],
   "source": [
    "simSampler = SimulatedAnnealingSampler()\n",
    "sampleset = simSampler.sample(bqm, num_reads=20)\n",
    "print(sampleset)"
   ]
  },
  {
   "cell_type": "code",
   "execution_count": 63,
   "id": "b4a76d16-edae-4e59-a557-c389ce37d764",
   "metadata": {},
   "outputs": [
    {
     "name": "stdout",
     "output_type": "stream",
     "text": [
      "Edges: {'0-2': 1, '1-3': 3, '2-1': 2}\n",
      "Total weights: 6\n"
     ]
    }
   ],
   "source": [
    "r = sampleset.first.sample\n",
    "r = dict((k, edge_weights[k]) for k, v in r.items() if v==1)\n",
    "print('Edges:',r)\n",
    "print('Total weights:', sum(r.values()))"
   ]
  },
  {
   "cell_type": "markdown",
   "id": "919a2172",
   "metadata": {},
   "source": [
    "Here shortest path should be 0-2, 2-1, 1-3. And total weights 6. \n",
    "\n",
    "## Solving with real thing"
   ]
  },
  {
   "cell_type": "code",
   "execution_count": 16,
   "id": "25f71f94",
   "metadata": {},
   "outputs": [
    {
     "name": "stdout",
     "output_type": "stream",
     "text": [
      "  0-1 0-2 1-3 2-1 3-2 energy num_oc. chain_.\n",
      "0   0   1   1   1   0  -24.0      26     0.0\n",
      "1   1   0   1   0   0  -22.0      23     0.0\n",
      "2   0   1   0   0   0    1.0       1     0.0\n",
      "['BINARY', 3 rows, 50 samples, 5 variables]\n"
     ]
    }
   ],
   "source": [
    "dwSampler = EmbeddingComposite(DWaveSampler())\n",
    "sampleset2 = dwSampler.sample(bqm, num_reads=50)\n",
    "print(sampleset2) "
   ]
  },
  {
   "cell_type": "code",
   "execution_count": 17,
   "id": "ee8aac50",
   "metadata": {},
   "outputs": [
    {
     "name": "stdout",
     "output_type": "stream",
     "text": [
      "QPU time used (ms):  20.96797\n"
     ]
    }
   ],
   "source": [
    "time = sampleset2.info['timing']['qpu_access_time'] / 1000\n",
    "print('QPU time used (ms): ', time)"
   ]
  },
  {
   "cell_type": "code",
   "execution_count": 18,
   "id": "8bd6a731",
   "metadata": {},
   "outputs": [
    {
     "name": "stdout",
     "output_type": "stream",
     "text": [
      "Edges: {'0-2': 1, '1-3': 3, '2-1': 2}\n",
      "Total weights: 6\n"
     ]
    }
   ],
   "source": [
    "r = sampleset2.first.sample\n",
    "r = dict((k, edge_weights[k]) for k, v in r.items() if v==1)\n",
    "print('Edges:',r)\n",
    "print('Total weights:', sum(r.values()))"
   ]
  },
  {
   "cell_type": "markdown",
   "id": "9488f929",
   "metadata": {},
   "source": [
    "## Solving with hybrid sampler"
   ]
  },
  {
   "cell_type": "code",
   "execution_count": 19,
   "id": "e2c5d472",
   "metadata": {},
   "outputs": [
    {
     "name": "stdout",
     "output_type": "stream",
     "text": [
      "  0-1 0-2 1-3 2-1 3-2 energy num_oc.\n",
      "0   0   1   1   1   0  -24.0       1\n",
      "['BINARY', 1 rows, 1 samples, 5 variables]\n"
     ]
    }
   ],
   "source": [
    "dwSampler = LeapHybridSampler()\n",
    "sampleset3 = dwSampler.sample(bqm)\n",
    "print(sampleset3) "
   ]
  },
  {
   "cell_type": "code",
   "execution_count": 21,
   "id": "b76a7ec1",
   "metadata": {},
   "outputs": [
    {
     "name": "stdout",
     "output_type": "stream",
     "text": [
      "QPU time used (ms):  96.359\n"
     ]
    }
   ],
   "source": [
    "time = sampleset3.info['qpu_access_time'] / 1000\n",
    "print('QPU time used (ms): ', time)"
   ]
  },
  {
   "cell_type": "code",
   "execution_count": 22,
   "id": "3d7d07c2",
   "metadata": {},
   "outputs": [
    {
     "name": "stdout",
     "output_type": "stream",
     "text": [
      "Edges: {'0-2': 1, '1-3': 3, '2-1': 2}\n",
      "Total weights: 6\n"
     ]
    }
   ],
   "source": [
    "r = sampleset3.first.sample\n",
    "r = dict((k, edge_weights[k]) for k, v in r.items() if v==1)\n",
    "print('Edges:',r)\n",
    "print('Total weights:', sum(r.values()))"
   ]
  },
  {
   "cell_type": "code",
   "execution_count": null,
   "id": "96a727aa",
   "metadata": {},
   "outputs": [],
   "source": []
  }
 ],
 "metadata": {
  "kernelspec": {
   "display_name": "Python 3 (ipykernel)",
   "language": "python",
   "name": "python3"
  },
  "language_info": {
   "codemirror_mode": {
    "name": "ipython",
    "version": 3
   },
   "file_extension": ".py",
   "mimetype": "text/x-python",
   "name": "python",
   "nbconvert_exporter": "python",
   "pygments_lexer": "ipython3",
   "version": "3.8.18"
  }
 },
 "nbformat": 4,
 "nbformat_minor": 5
}
