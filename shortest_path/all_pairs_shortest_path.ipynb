{
 "cells": [
  {
   "cell_type": "markdown",
   "id": "d55be57b-8ef5-4716-95cb-35c8666239ac",
   "metadata": {},
   "source": [
    "# All pairs shortest path algorithm\n",
    "\n",
    "Shortest paths between every pair of vertices -algorithm implemented by QUBO in quantum annealer. Classical version of this is Floyd-Warshall algorithm: https://en.wikipedia.org/wiki/Floyd%E2%80%93Warshall_algorithm\n",
    "\n",
    "Here directed graph $G=(V,E)$ has sets of vertices $V$ and edges $E \\subseteq \\{(x,y)|(x,y) \\in V^2 and x \\not = y\\}$. For every edge there is weight $w_{xy}$. Task is to find path with minimum sum of weights for every combination of $(s,t) \\in E^2$.\n",
    "\n",
    "In this solution QUBO has seperate elements for starting vertices $s \\in V$ and traget vertices $t \\in V$. In addtion it has one element for each edge $e \\in E$. So alltogother QUBO is matrix of $(|V|+|V|+|E|) \\times (|V|+|V|+|E|)$. First block is |V| elements which indicate what is the starting vertice $s$. Second block is |V| elements which indicate what is the terminating vertice $t$. Last block of $|E|$ indicates which edges form the shortest path between $s$ and $t$.\n",
    "\n",
    "Penalty $p=\\sum w_{xy}$.\n",
    "\n",
    "Following constraints are build to QUBO: \n",
    "1. Exactly one s vertice (if more than one: $2p$)\n",
    "2. Exactly one t vertice (if more than one: $2p$)\n",
    "3. Vertices s and t are different (if not: $p$)\n",
    "4. There should be one vertice starting from $s$ ($-p$ for each), no vertice should end to $s$ ($p$ for each)\n",
    "5. There should be one vertice ending to $t$ ($-p$ for each), no vertice should start from $t$ ($p$ for each)\n",
    "6. Two edges should not start/end to the same vertice, for example $s$ or $t$ (if so $2p$) \n",
    "7. Two edges should form a chain (ok chain gives $p$, otherwise more than that)\n",
    "8. Pathing having lower weights should be prioritised\n",
    "\n",
    "Proper path with correct $s$ and $t$ would give energy level of $w-p$ (constraint 7 brings minimum $p$ and constraint 4 and 5 both minimum $-p$). Because $p=\\sum w_{xy}$ all samples with energy level below zero are correct paths. From this set of samples we choose lowest energy level sample for each $(s,t)$. "
   ]
  },
  {
   "cell_type": "code",
   "execution_count": 1,
   "id": "63525c69-dd51-43cc-b6a5-988fcf02f1d3",
   "metadata": {
    "tags": []
   },
   "outputs": [],
   "source": [
    "import numpy as np\n",
    "import time\n",
    "import dimod\n",
    "from dwave.system import DWaveSampler, EmbeddingComposite, LeapHybridSampler\n",
    "from dwave.samplers import SimulatedAnnealingSampler\n",
    "import dwave.inspector"
   ]
  },
  {
   "cell_type": "markdown",
   "id": "5649c0b6",
   "metadata": {},
   "source": [
    "## Define graph\n",
    "\n",
    "Input graph is array of tuples (1st vertice, 2nd vertice, weight)"
   ]
  },
  {
   "cell_type": "code",
   "execution_count": 2,
   "id": "c7f22202",
   "metadata": {
    "tags": []
   },
   "outputs": [],
   "source": [
    "E = np.array([(0, 2, 1), (2, 1, 2), (1, 3, 3), (3, 2, 4), (0, 1, 5)])\n",
    "vertices = 4"
   ]
  },
  {
   "cell_type": "markdown",
   "id": "4aac45bc",
   "metadata": {},
   "source": [
    "Above graph visualised:\n",
    "\n",
    "![](graph1.png)"
   ]
  },
  {
   "cell_type": "code",
   "execution_count": 3,
   "id": "fe3cfdce",
   "metadata": {
    "tags": []
   },
   "outputs": [],
   "source": [
    "#E = np.array([(0, 1, 8), (1, 3, 5), (0, 2, 2), (2, 1, 4), (2, 4, 7), (4, 3, 3)])\n",
    "#vertices = 5"
   ]
  },
  {
   "cell_type": "markdown",
   "id": "8b6cb481",
   "metadata": {},
   "source": [
    "Above graph visualised:\n",
    "    \n",
    "![](graph2.png)"
   ]
  },
  {
   "cell_type": "code",
   "execution_count": 4,
   "id": "308170be",
   "metadata": {
    "tags": []
   },
   "outputs": [],
   "source": [
    "#E = np.array([(0, 1, 5), (0, 2, 5), (1, 0, 5), (1, 2, 2), (1, 3, 2),\n",
    "#                 (2, 0, 5), (2, 1, 2), (2, 3, 10), (3, 1, 2), (3, 2, 10)])\n",
    "#vertices = 4"
   ]
  },
  {
   "cell_type": "markdown",
   "id": "588baa50-1de1-4cbd-bd60-094455162baf",
   "metadata": {},
   "source": [
    "Above graph visualised (every edge is biderctional):\n",
    "    \n",
    "![](graph3.png)"
   ]
  },
  {
   "cell_type": "markdown",
   "id": "72682cd6-5890-43d4-9826-4c82ece6f476",
   "metadata": {},
   "source": [
    "## Take max_count"
   ]
  },
  {
   "cell_type": "code",
   "execution_count": 5,
   "id": "df0cf817-0abf-4fd9-ad7f-7d1fa82f6d3e",
   "metadata": {
    "tags": []
   },
   "outputs": [
    {
     "name": "stdout",
     "output_type": "stream",
     "text": [
      "Max count: 15\n"
     ]
    }
   ],
   "source": [
    "max_count = 0\n",
    "edges = len(E)\n",
    "for e in E:\n",
    "    max_count += e[2]\n",
    "print('Max count:',max_count)"
   ]
  },
  {
   "cell_type": "markdown",
   "id": "1039835d-2cf8-4cfd-a672-80dc71c6bc1a",
   "metadata": {},
   "source": [
    "## Some helper functions for getting results from sampleset"
   ]
  },
  {
   "cell_type": "code",
   "execution_count": 15,
   "id": "f9771740-4915-41b5-8bb0-c255abbff655",
   "metadata": {
    "tags": []
   },
   "outputs": [],
   "source": [
    "def path_from_sample(sample):\n",
    "    s = 0\n",
    "    t = 0\n",
    "    w = 0\n",
    "    for v in range(vertices):\n",
    "        if sample['s'+str(v)]==1:\n",
    "            s = v\n",
    "        if sample['t'+str(v)]==1:\n",
    "            t = v\n",
    "    i = s\n",
    "    path = str(i)\n",
    "    while i!=t:\n",
    "        for e in E:\n",
    "            if e[0]==i and sample[str(e[0]) + '-' + str(e[1])]==1:\n",
    "                i = e[1]\n",
    "                path += '-'+str(i)\n",
    "                w += e[2]\n",
    "    return (str(s)+'-'+str(t),path,w)\n",
    "        \n",
    "\n",
    "def result_info(sampleset):\n",
    "    ss = sampleset.filter(lambda s: s.energy<0)\n",
    "    res = {}\n",
    "    for s in ss:\n",
    "        st, path, w = path_from_sample(s)\n",
    "        if st not in res:\n",
    "            res[st]=(path,w)\n",
    "    return res"
   ]
  },
  {
   "cell_type": "markdown",
   "id": "cedec220",
   "metadata": {},
   "source": [
    "## Create QUBO from edge array\n",
    "\n",
    "Constraints: \n",
    "1. Exactly one s vertice (if more than one: $2p$)\n",
    "2. Exactly one t vertice (if more than one: $2p$)\n",
    "3. Vertices s and t are different (if not: $p$)\n",
    "4. There should be one vertice starting from $s$ ($-p$ for each), no vertice should end to $s$ ($p$ for each)\n",
    "5. There should be one vertice ending to $t$ ($-p$ for each), no vertice should start from $t$ ($p$ for each)\n",
    "6. Two edges should not start/end to the same vertice, for example $s$ or $t$ (if so $2p$) \n",
    "7. Two edges should form a chain (ok chain gives $p$, otherwise more than that)\n",
    "8. Pathing having lower weights should be prioritised\n"
   ]
  },
  {
   "cell_type": "code",
   "execution_count": 25,
   "id": "28c0a125-984b-4dda-9838-e9c7af4724b1",
   "metadata": {
    "tags": []
   },
   "outputs": [
    {
     "name": "stdout",
     "output_type": "stream",
     "text": [
      "Time used for construction Q (ms): 0.866\n",
      "\n",
      "[[  0.  30.  30.  30.  15.   0.   0.   0. -15.   0.   0.   0. -15.]\n",
      " [  0.   0.  30.  30.   0.  15.   0.   0.   0.  15. -15.   0.  15.]\n",
      " [  0.   0.   0.  30.   0.   0.  15.   0.  15. -15.   0.  15.   0.]\n",
      " [  0.   0.   0.   0.   0.   0.   0.  15.   0.   0.  15. -15.   0.]\n",
      " [  0.   0.   0.   0.   0.  30.  30.  30.  15.   0.   0.   0.  15.]\n",
      " [  0.   0.   0.   0.   0.   0.  30.  30.   0. -15.  15.   0. -15.]\n",
      " [  0.   0.   0.   0.   0.   0.   0.  30. -15.  15.   0. -15.   0.]\n",
      " [  0.   0.   0.   0.   0.   0.   0.   0.   0.   0. -15.  15.   0.]\n",
      " [  0.   0.   0.   0.   0.   0.   0.   0.  16. -15.   0.  30.  30.]\n",
      " [  0.   0.   0.   0.   0.   0.   0.   0.   0.  17. -15. -15.  30.]\n",
      " [  0.   0.   0.   0.   0.   0.   0.   0.   0.   0.  18. -15. -15.]\n",
      " [  0.   0.   0.   0.   0.   0.   0.   0.   0.   0.   0.  19.   0.]\n",
      " [  0.   0.   0.   0.   0.   0.   0.   0.   0.   0.   0.   0.  20.]]\n"
     ]
    }
   ],
   "source": [
    "Q = np.zeros((2*vertices + edges, 2*vertices + edges))\n",
    "p = max_count\n",
    "\n",
    "t1 = time.time()\n",
    "\n",
    "# Constraints 1 and 2\n",
    "for i in range(vertices):\n",
    "    for j in range(i+1,vertices):\n",
    "        Q[i,j]=2*p\n",
    "        Q[vertices+i,j+vertices] = 2*p\n",
    "        \n",
    "# Constraint 3\n",
    "for i in range(vertices):\n",
    "    Q[i,i+vertices] = p\n",
    "\n",
    "# Constraint 4\n",
    "for v in range(vertices):\n",
    "    for i,e in enumerate(E):\n",
    "        if e[0]==v:\n",
    "            Q[v,vertices*2+i] = -p\n",
    "        if e[1]==v:\n",
    "            Q[v,vertices*2+i] = p\n",
    "\n",
    "# Constraint 5\n",
    "for v in range(vertices):\n",
    "    for i,e in enumerate(E):\n",
    "        if e[1]==v:\n",
    "            Q[vertices+v,vertices*2+i] = -p\n",
    "        if e[0]==v:\n",
    "            Q[vertices+v,vertices*2+i] = p\n",
    "\n",
    "# Constraint 6\n",
    "for i in range(edges):\n",
    "    for j in range(i+1,edges):\n",
    "        if E[i][0]==E[j][0] or E[i][1]==E[j][1]:\n",
    "            Q[vertices*2+i,vertices*2+j] = 2*p\n",
    "\n",
    "# Constraint 7\n",
    "for i in range(edges):\n",
    "    Q[vertices*2+i,vertices*2+i] += p\n",
    "    for j in range(i+1,edges):\n",
    "        if E[i][1]==E[j][0] or E[i][0]==E[j][1]:\n",
    "            Q[vertices*2+i,vertices*2+j] += -p\n",
    "\n",
    "# Constraint 8 \n",
    "for i in range(edges):\n",
    "    Q[vertices*2+i,vertices*2+i] += E[i][2]\n",
    "    \n",
    "qubo_time = (time.time()-t1)*1000\n",
    "print('Time used for construction Q (ms): {:.3f}\\n'.format(qubo_time))\n",
    "print(Q)"
   ]
  },
  {
   "cell_type": "code",
   "execution_count": 18,
   "id": "4cee9e47-8c3e-4be4-adf4-74640a504a9d",
   "metadata": {
    "tags": []
   },
   "outputs": [],
   "source": [
    "labels = {}\n",
    "for i in range(vertices):\n",
    "    labels[i]='s'+str(i)\n",
    "    labels[vertices+i]='t'+str(i)   \n",
    "for i,e in enumerate(E):\n",
    "    labels[vertices*2+i] = str(e[0]) + '-' + str(e[1])"
   ]
  },
  {
   "cell_type": "markdown",
   "id": "a649a509-ae35-4998-9ebd-5eeaafaa57d0",
   "metadata": {},
   "source": [
    "## Create BQM from QUBO"
   ]
  },
  {
   "cell_type": "code",
   "execution_count": 26,
   "id": "1891d43a",
   "metadata": {
    "tags": []
   },
   "outputs": [],
   "source": [
    "t1 = time.time()\n",
    "bqm = dimod.BinaryQuadraticModel(Q, 'BINARY')\n",
    "bqm_time = (time.time()-t1)*1000\n",
    "bqm = bqm.relabel_variables(labels, inplace=False)"
   ]
  },
  {
   "cell_type": "markdown",
   "id": "bd174749",
   "metadata": {},
   "source": [
    "## Local deterministic solver"
   ]
  },
  {
   "cell_type": "code",
   "execution_count": 28,
   "id": "a8ca8697",
   "metadata": {
    "tags": []
   },
   "outputs": [
    {
     "name": "stdout",
     "output_type": "stream",
     "text": [
      "Time used (ms): 21.760\n",
      "\n",
      "   0-1 0-2 1-3 2-1 3-2 s0 s1 s2 s3 t0 t1 t2 t3 energy num_oc.\n",
      "0    0   1   0   0   0  1  0  0  0  0  0  1  0  -14.0       1\n",
      "2    0   0   0   1   0  0  0  1  0  0  1  0  0  -13.0       1\n",
      "1    0   1   0   1   0  1  0  0  0  0  1  0  0  -12.0       1\n",
      "5    0   0   1   0   0  0  1  0  0  0  0  0  1  -12.0       1\n",
      "8    0   0   0   0   1  0  0  0  1  0  0  1  0  -11.0       1\n",
      "3    0   0   1   1   0  0  0  1  0  0  0  0  1  -10.0       1\n",
      "11   1   0   0   0   0  1  0  0  0  0  1  0  0  -10.0       1\n",
      "4    0   1   1   1   0  1  0  0  0  0  0  0  1   -9.0       1\n",
      "7    0   0   0   1   1  0  0  0  1  0  1  0  0   -9.0       1\n",
      "6    0   0   1   0   1  0  1  0  0  0  0  1  0   -8.0       1\n",
      "10   1   0   1   0   0  1  0  0  0  0  0  0  1   -7.0       1\n",
      "9    1   0   1   0   1  1  0  0  0  0  0  1  0   -3.0       1\n",
      "['BINARY', 12 rows, 12 samples, 13 variables]\n"
     ]
    }
   ],
   "source": [
    "t1 = time.time()\n",
    "sampleset = dimod.ExactSolver().sample(bqm)\n",
    "det_time = (time.time()-t1)*1000\n",
    "print('Time used (ms): {:.3f}\\n'.format(det_time))\n",
    "print(sampleset.filter(lambda s: s.energy<0))"
   ]
  },
  {
   "cell_type": "code",
   "execution_count": 29,
   "id": "47b0f271",
   "metadata": {
    "tags": []
   },
   "outputs": [
    {
     "name": "stdout",
     "output_type": "stream",
     "text": [
      "Route 0-2: 0-2, weight 1\n",
      "Route 2-1: 2-1, weight 2\n",
      "Route 0-1: 0-2-1, weight 3\n",
      "Route 1-3: 1-3, weight 3\n",
      "Route 3-2: 3-2, weight 4\n",
      "Route 2-3: 2-1-3, weight 5\n",
      "Route 0-3: 0-2-1-3, weight 6\n",
      "Route 3-1: 3-2-1, weight 6\n",
      "Route 1-2: 1-3-2, weight 7\n"
     ]
    }
   ],
   "source": [
    "for k,v in result_info(sampleset).items():\n",
    "    print('Route '+k+': '+v[0]+', weight '+str(v[1]))"
   ]
  },
  {
   "cell_type": "markdown",
   "id": "317bf617",
   "metadata": {},
   "source": [
    "## Local heuristic classical solver"
   ]
  },
  {
   "cell_type": "code",
   "execution_count": 30,
   "id": "a68eb6b7-2bd9-4203-a58b-2ea612e40537",
   "metadata": {
    "tags": []
   },
   "outputs": [
    {
     "name": "stdout",
     "output_type": "stream",
     "text": [
      "Time used (ms): 125.934\n",
      "\n",
      "   0-1 0-2 1-3 2-1 3-2 s0 s1 s2 s3 t0 t1 t2 t3 energy num_oc.\n",
      "7    0   1   0   0   0  1  0  0  0  0  0  1  0  -14.0     126\n",
      "4    0   0   0   1   0  0  0  1  0  0  1  0  0  -13.0      84\n",
      "2    0   0   1   0   0  0  1  0  0  0  0  0  1  -12.0      61\n",
      "5    0   1   0   1   0  1  0  0  0  0  1  0  0  -12.0      73\n",
      "1    0   0   0   0   1  0  0  0  1  0  0  1  0  -11.0      46\n",
      "3    1   0   0   0   0  1  0  0  0  0  1  0  0  -10.0      33\n",
      "9    0   0   1   1   0  0  0  1  0  0  0  0  1  -10.0      22\n",
      "0    0   1   1   1   0  1  0  0  0  0  0  0  1   -9.0      18\n",
      "8    0   0   0   1   1  0  0  0  1  0  1  0  0   -9.0      16\n",
      "10   0   0   1   0   1  0  1  0  0  0  0  1  0   -8.0       9\n",
      "6    1   0   1   0   0  1  0  0  0  0  0  0  1   -7.0      12\n",
      "['BINARY', 11 rows, 500 samples, 13 variables]\n"
     ]
    }
   ],
   "source": [
    "t1 = time.time()\n",
    "sampleset2 = SimulatedAnnealingSampler().sample(bqm, num_reads=500).aggregate()\n",
    "heur_time = (time.time()-t1)*1000\n",
    "print('Time used (ms): {:.3f}\\n'.format(heur_time))\n",
    "print(sampleset2.filter(lambda s: s.energy<0))"
   ]
  },
  {
   "cell_type": "code",
   "execution_count": 31,
   "id": "b4a76d16-edae-4e59-a557-c389ce37d764",
   "metadata": {
    "tags": []
   },
   "outputs": [
    {
     "name": "stdout",
     "output_type": "stream",
     "text": [
      "Route 0-2: 0-2, weight 1\n",
      "Route 2-1: 2-1, weight 2\n",
      "Route 1-3: 1-3, weight 3\n",
      "Route 0-1: 0-2-1, weight 3\n",
      "Route 3-2: 3-2, weight 4\n",
      "Route 2-3: 2-1-3, weight 5\n",
      "Route 0-3: 0-2-1-3, weight 6\n",
      "Route 3-1: 3-2-1, weight 6\n",
      "Route 1-2: 1-3-2, weight 7\n"
     ]
    }
   ],
   "source": [
    "for k,v in result_info(sampleset2).items():\n",
    "    print('Route '+k+': '+v[0]+', weight '+str(v[1]))"
   ]
  },
  {
   "cell_type": "markdown",
   "id": "919a2172",
   "metadata": {},
   "source": [
    "## Quantum solver"
   ]
  },
  {
   "cell_type": "code",
   "execution_count": 32,
   "id": "132c1754",
   "metadata": {
    "tags": []
   },
   "outputs": [
    {
     "name": "stdout",
     "output_type": "stream",
     "text": [
      "Chip: Advantage_system4.1\n",
      "Qubits: 5760\n"
     ]
    }
   ],
   "source": [
    "machine = DWaveSampler(solver={'chip_id': 'Advantage_system4.1'})\n",
    "print('Chip:', machine.properties['chip_id'])\n",
    "print('Qubits:', machine.properties['num_qubits'])"
   ]
  },
  {
   "cell_type": "code",
   "execution_count": 33,
   "id": "25f71f94",
   "metadata": {
    "tags": []
   },
   "outputs": [],
   "source": [
    "sampleset3 = EmbeddingComposite(machine).sample(bqm, num_reads=500)"
   ]
  },
  {
   "cell_type": "code",
   "execution_count": 34,
   "id": "ee8aac50",
   "metadata": {
    "tags": []
   },
   "outputs": [
    {
     "name": "stdout",
     "output_type": "stream",
     "text": [
      "QPU time used (ms): 74.3\n",
      "Physical qubits used: 22\n",
      "\n",
      "   0-1 0-2 1-3 2-1 3-2 s0 s1 s2 s3 t0 t1 t2 t3 energy num_oc. chain_.\n",
      "0    0   1   0   0   0  1  0  0  0  0  0  1  0  -14.0      43     0.0\n",
      "1    0   0   0   1   0  0  0  1  0  0  1  0  0  -13.0      61     0.0\n",
      "2    0   0   1   0   0  0  1  0  0  0  0  0  1  -12.0      23     0.0\n",
      "3    0   1   0   1   0  1  0  0  0  0  1  0  0  -12.0      54     0.0\n",
      "4    0   0   0   0   1  0  0  0  1  0  0  1  0  -11.0      17     0.0\n",
      "5    0   0   1   1   0  0  0  1  0  0  0  0  1  -10.0      21     0.0\n",
      "6    1   0   0   0   0  1  0  0  0  0  1  0  0  -10.0      49     0.0\n",
      "7    0   1   1   1   0  1  0  0  0  0  0  0  1   -9.0      21     0.0\n",
      "8    0   0   0   1   1  0  0  0  1  0  1  0  0   -9.0      23     0.0\n",
      "9    0   0   1   0   1  0  1  0  0  0  0  1  0   -8.0      10     0.0\n",
      "10   1   0   1   0   0  1  0  0  0  0  0  0  1   -7.0      22     0.0\n",
      "11   1   0   1   0   1  1  0  0  0  0  0  1  0   -3.0       8     0.0\n",
      "['BINARY', 12 rows, 352 samples, 13 variables]\n"
     ]
    }
   ],
   "source": [
    "qpu_time = sampleset3.info['timing']['qpu_access_time'] / 1000\n",
    "qubits = sum(len(x) for x in sampleset3.info['embedding_context']['embedding'].values())\n",
    "print('QPU time used (ms): {:.1f}'.format(qpu_time))\n",
    "print('Physical qubits used: {}\\n'.format(qubits))\n",
    "print(sampleset3.filter(lambda s: s.energy<0))"
   ]
  },
  {
   "cell_type": "code",
   "execution_count": 35,
   "id": "8bd6a731",
   "metadata": {
    "tags": []
   },
   "outputs": [
    {
     "name": "stdout",
     "output_type": "stream",
     "text": [
      "Route 0-2: 0-2, weight 1\n",
      "Route 2-1: 2-1, weight 2\n",
      "Route 1-3: 1-3, weight 3\n",
      "Route 0-1: 0-2-1, weight 3\n",
      "Route 3-2: 3-2, weight 4\n",
      "Route 2-3: 2-1-3, weight 5\n",
      "Route 0-3: 0-2-1-3, weight 6\n",
      "Route 3-1: 3-2-1, weight 6\n",
      "Route 1-2: 1-3-2, weight 7\n"
     ]
    }
   ],
   "source": [
    "for k,v in result_info(sampleset3).items():\n",
    "    print('Route '+k+': '+v[0]+', weight '+str(v[1]))"
   ]
  },
  {
   "cell_type": "code",
   "execution_count": 36,
   "id": "7040df75",
   "metadata": {
    "tags": []
   },
   "outputs": [
    {
     "data": {
      "text/html": [
       "<iframe src=http://127.0.0.1:18000/?problemId=b1edf498-7f96-4669-92f3-4d4f7e6c10b4 width=\"100%\" height=640></iframe>"
      ],
      "text/plain": [
       "Serving Inspector on http://127.0.0.1:18000/?problemId=b1edf498-7f96-4669-92f3-4d4f7e6c10b4"
      ]
     },
     "metadata": {},
     "output_type": "display_data"
    },
    {
     "data": {
      "text/plain": [
       "'http://127.0.0.1:18000/?problemId=b1edf498-7f96-4669-92f3-4d4f7e6c10b4'"
      ]
     },
     "execution_count": 36,
     "metadata": {},
     "output_type": "execute_result"
    }
   ],
   "source": [
    "dwave.inspector.show(sampleset3)"
   ]
  },
  {
   "cell_type": "markdown",
   "id": "9488f929",
   "metadata": {},
   "source": [
    "## Hybrid solver\n",
    "\n",
    "Hybrid solver nrings only best solution, not good in here"
   ]
  },
  {
   "cell_type": "code",
   "execution_count": 45,
   "id": "e2c5d472",
   "metadata": {
    "tags": []
   },
   "outputs": [],
   "source": [
    "#sampleset4 = LeapHybridSampler().sample(bqm)"
   ]
  },
  {
   "cell_type": "code",
   "execution_count": 46,
   "id": "b76a7ec1",
   "metadata": {
    "tags": []
   },
   "outputs": [],
   "source": [
    "#hyb_time = sampleset4.info['qpu_access_time'] / 1000\n",
    "#print('QPU time used (ms): {:.1f}\\n'.format(hyb_time))\n",
    "#print(sampleset4.filter(lambda s: s.energy<0))"
   ]
  },
  {
   "cell_type": "code",
   "execution_count": 47,
   "id": "3d7d07c2",
   "metadata": {
    "tags": []
   },
   "outputs": [],
   "source": [
    "#for k,v in result_info(sampleset4).items():\n",
    "#    print('Route '+k+': '+v[0]+', weight '+str(v[1]))"
   ]
  },
  {
   "cell_type": "markdown",
   "id": "2105c607-9da4-4217-9a9a-dd9a299dbf4a",
   "metadata": {},
   "source": [
    "## Timings"
   ]
  },
  {
   "cell_type": "code",
   "execution_count": 49,
   "id": "61bdc818-8515-4396-be7d-d21cf2ea58c4",
   "metadata": {
    "tags": []
   },
   "outputs": [
    {
     "name": "stdout",
     "output_type": "stream",
     "text": [
      "Construting QUBO: 0.866\n",
      "Construting BQM: 0.288\n",
      "\n",
      "Local deterministic solver: 21.8\n",
      "Local heuristic solver: 125.9\n",
      "Quantum solver: 74.3\n"
     ]
    }
   ],
   "source": [
    "print('Construting QUBO: {:.3f}'.format(qubo_time))\n",
    "print('Construting BQM: {:.3f}'.format(bqm_time))\n",
    "print('\\nLocal deterministic solver: {:.1f}'.format(det_time))\n",
    "print('Local heuristic solver: {:.1f}'.format(heur_time))\n",
    "print('Quantum solver: {:.1f}'.format(qpu_time))"
   ]
  },
  {
   "cell_type": "code",
   "execution_count": null,
   "id": "6687cc29-d5a1-4c22-8250-0351356873c1",
   "metadata": {},
   "outputs": [],
   "source": []
  }
 ],
 "metadata": {
  "kernelspec": {
   "display_name": "Python 3 (ipykernel)",
   "language": "python",
   "name": "python3"
  },
  "language_info": {
   "codemirror_mode": {
    "name": "ipython",
    "version": 3
   },
   "file_extension": ".py",
   "mimetype": "text/x-python",
   "name": "python",
   "nbconvert_exporter": "python",
   "pygments_lexer": "ipython3",
   "version": "3.8.18"
  }
 },
 "nbformat": 4,
 "nbformat_minor": 5
}
