{
 "cells": [
  {
   "cell_type": "markdown",
   "id": "d55be57b-8ef5-4716-95cb-35c8666239ac",
   "metadata": {},
   "source": [
    "# All pairs shortest path algorithm\n",
    "\n",
    "Shortest paths between every pair of vertices -algorithm implemented by QUBO in quantum annealer. Classical version of this is Floyd-Warshall algorithm: https://en.wikipedia.org/wiki/Floyd%E2%80%93Warshall_algorithm\n",
    "\n",
    "Here directed graph $G=(V,E)$ has sets of vertices $V$ and edges $E \\subseteq \\{(x,y)|(x,y) \\in V^2 and x \\not = y\\}$. For every edge there is weight $w_{xy}$. Task is to find path with minimum sum of weights for every combination of $(s,t) \\in E^2$.\n",
    "\n",
    "In this solution QUBO has seperate elements for starting vertices $s \\in V$ and traget vertices $t \\in V$. In addtion it has one element for each edge $e \\in E$. So alltogother QUBO is matrix of $(|V|+|V|+|E|) \\times (|V|+|V|+|E|)$. First block is |V| elements which indicate what is the starting vertice $s$. Second block is |V| elements which indicate what is the terminating vertice $t$. Last block of $|E|$ indicates which edges form the shortest path between $s$ and $t$.\n",
    "\n",
    "Penalty $p=\\sum w_{xy}$.\n",
    "\n",
    "Following constraints are build to QUBO: \n",
    "1. Exactly one s vertice (if more than one: $2p$)\n",
    "2. Exactly one t vertice (if more than one: $2p$)\n",
    "3. Vertices s and t are different (if not: $p$)\n",
    "4. There should be one vertice starting from $s$ ($-p$ for each), no vertice should end to $s$ ($p$ for each)\n",
    "5. There should be one vertice ending to $t$ ($-p$ for each), no vertice should start from $t$ ($p$ for each)\n",
    "6. Two edges should not start/end to the same vertice, for example $s$ or $t$ (if so $2p$) \n",
    "7. Two edges should form a chain (ok chain gives $p$, otherwise more than that)\n",
    "8. Path having lower weights should be prioritised\n",
    "\n",
    "Proper path with correct $s$ and $t$ would give energy level of $w-p$ (constraint 7 brings minimum $p$ and constraint 4 and 5 both minimum $-p$). Because $p=\\sum w_{xy}$ all samples with energy level below zero are correct paths. From this set of samples we choose lowest energy level sample for each $(s,t)$. "
   ]
  },
  {
   "cell_type": "code",
   "execution_count": 1,
   "id": "63525c69-dd51-43cc-b6a5-988fcf02f1d3",
   "metadata": {
    "tags": []
   },
   "outputs": [],
   "source": [
    "import numpy as np\n",
    "import time\n",
    "import dimod\n",
    "from dwave.system import DWaveSampler, EmbeddingComposite, LeapHybridSampler\n",
    "from dwave.samplers import SimulatedAnnealingSampler\n",
    "import dwave.inspector\n",
    "import networkx as nx\n",
    "from networkx.classes.function import path_weight\n",
    "import random"
   ]
  },
  {
   "cell_type": "markdown",
   "id": "5d46e183-a34b-41ef-b221-4a2942030dfc",
   "metadata": {},
   "source": [
    "## Function to create QUBO\n",
    "\n",
    "E is array of tuples (1st vertice, 2nd vertice, weight), veritices is number of vertices, p is penalty."
   ]
  },
  {
   "cell_type": "code",
   "execution_count": 2,
   "id": "28c0a125-984b-4dda-9838-e9c7af4724b1",
   "metadata": {
    "tags": []
   },
   "outputs": [],
   "source": [
    "def create_qubo(E,vertices,p):\n",
    "    edges = len(E)\n",
    "    Q = np.zeros((2*vertices + edges, 2*vertices + edges))\n",
    "\n",
    "    t1 = time.time()\n",
    "\n",
    "    # Constraints 1 and 2\n",
    "    for i in range(vertices):\n",
    "        for j in range(i+1,vertices):\n",
    "            Q[i,j]=2*p\n",
    "            Q[vertices+i,j+vertices] = 2*p\n",
    "        \n",
    "    # Constraint 3\n",
    "    for i in range(vertices):\n",
    "        Q[i,i+vertices] = p\n",
    "\n",
    "    # Constraint 4\n",
    "    for v in range(vertices):\n",
    "        for i,e in enumerate(E):\n",
    "            if e[0]==v:\n",
    "                Q[v,vertices*2+i] = -p\n",
    "            if e[1]==v:\n",
    "                Q[v,vertices*2+i] = p\n",
    "\n",
    "    # Constraint 5\n",
    "    for v in range(vertices):\n",
    "        for i,e in enumerate(E):\n",
    "            if e[1]==v:\n",
    "                Q[vertices+v,vertices*2+i] = -p\n",
    "            if e[0]==v:\n",
    "                Q[vertices+v,vertices*2+i] = p\n",
    "\n",
    "    # Constraint 6\n",
    "    for i in range(edges):\n",
    "        for j in range(i+1,edges):\n",
    "            if E[i][0]==E[j][0] or E[i][1]==E[j][1]:\n",
    "                Q[vertices*2+i,vertices*2+j] = 2*p\n",
    "\n",
    "    # Constraint 7\n",
    "    for i in range(edges):\n",
    "        Q[vertices*2+i,vertices*2+i] += p\n",
    "        for j in range(i+1,edges):\n",
    "            if E[i][1]==E[j][0] or E[i][0]==E[j][1]:\n",
    "                Q[vertices*2+i,vertices*2+j] += -p\n",
    "\n",
    "    # Constraint 8 \n",
    "    for i in range(edges):\n",
    "        Q[vertices*2+i,vertices*2+i] += E[i][2]\n",
    "    \n",
    "    return Q"
   ]
  },
  {
   "cell_type": "markdown",
   "id": "1039835d-2cf8-4cfd-a672-80dc71c6bc1a",
   "metadata": {},
   "source": [
    "## Some helper functions for getting results from sampleset"
   ]
  },
  {
   "cell_type": "code",
   "execution_count": 3,
   "id": "4697b080-4e96-4690-adb8-bcf632502e15",
   "metadata": {
    "tags": []
   },
   "outputs": [],
   "source": [
    "def path_from_sample(sample,E,vertices):\n",
    "    s = 0\n",
    "    t = 0\n",
    "    w = 0\n",
    "    for v in range(vertices):\n",
    "        if sample['s'+str(v)]==1:\n",
    "            s = v\n",
    "        if sample['t'+str(v)]==1:\n",
    "            t = v\n",
    "    i = s\n",
    "    path = [i]\n",
    "    while i!=t:\n",
    "        for e in E:\n",
    "            if e[0]==i and sample[str(e[0]) + '-' + str(e[1])]==1:\n",
    "                i = e[1]\n",
    "                path.append(i)\n",
    "                w += e[2]\n",
    "    return (str(s)+'-'+str(t),path,w)\n",
    "        \n",
    "\n",
    "def result_info(sampleset, E, vertices):\n",
    "    res = {}\n",
    "    for s in sampleset.filter(lambda s: s.energy<0):\n",
    "        st, path, w = path_from_sample(s,E,vertices)\n",
    "        if st not in res:\n",
    "            res[st]=(path,w)\n",
    "    return res\n",
    "\n",
    "def check_result(G,sampleset,E,vertices):\n",
    "    ok = 0\n",
    "    s = 0\n",
    "    res = result_info(sampleset,E,vertices)\n",
    "    for i in range(vertices):\n",
    "        for j in range(vertices):\n",
    "            if i!=j:\n",
    "                if nx.has_path(G,i,j):\n",
    "                    s += 1\n",
    "                    p1 = [p for p in nx.all_shortest_paths(G,i,j,weight='weight')]\n",
    "                    w = path_weight(G,p1[0],'weight')\n",
    "                    if str(i)+'-'+str(j) in res.keys():\n",
    "                        p2 = res[str(i)+'-'+str(j)]\n",
    "                        if (not p2[0] in p1) and w!=p2[1]:\n",
    "                            print('Path: '+str(p2[0])+' ('+str(p2[1])+'): correct: '+str(p1)+' ('+str(w)+')')\n",
    "                        else:\n",
    "                            ok += 1\n",
    "                    else:\n",
    "                        print('Path suggested: '+str(i)+'-'+str(j)+' missing: correct: '+str(p1)+' ('+str(w)+')')\n",
    "    print('{:.0f}% ok'.format((100*ok/s)))\n",
    "\n",
    "def make_G(E,vertices):\n",
    "    G = nx.DiGraph()\n",
    "    G.add_nodes_from([0, vertices-1])\n",
    "    for e in E:\n",
    "        G.add_edge(e[0], e[1], weight=e[2])\n",
    "    return(G)"
   ]
  },
  {
   "cell_type": "markdown",
   "id": "b4dcd719-cf35-407e-9711-66a5cabf1d6b",
   "metadata": {
    "tags": []
   },
   "source": [
    "## Simple graph"
   ]
  },
  {
   "cell_type": "markdown",
   "id": "5649c0b6",
   "metadata": {},
   "source": [
    "### Define graph\n",
    "\n",
    "Input graph is array of tuples (1st vertice, 2nd vertice, weight)"
   ]
  },
  {
   "cell_type": "code",
   "execution_count": 4,
   "id": "c7f22202",
   "metadata": {
    "tags": []
   },
   "outputs": [],
   "source": [
    "E1 = np.array([(0, 2, 1), (2, 1, 2), (1, 3, 3), (3, 2, 4), (0, 1, 5), (3, 4, 3), (2, 4, 8)])\n",
    "vertices1 = 5\n",
    "G1 = make_G(E1,vertices1)"
   ]
  },
  {
   "cell_type": "markdown",
   "id": "4aac45bc",
   "metadata": {},
   "source": [
    "Above graph visualised:\n",
    "\n",
    "![](graph4.png)"
   ]
  },
  {
   "cell_type": "markdown",
   "id": "72682cd6-5890-43d4-9826-4c82ece6f476",
   "metadata": {},
   "source": [
    "### Max_count and labels"
   ]
  },
  {
   "cell_type": "code",
   "execution_count": 5,
   "id": "df0cf817-0abf-4fd9-ad7f-7d1fa82f6d3e",
   "metadata": {
    "tags": []
   },
   "outputs": [
    {
     "name": "stdout",
     "output_type": "stream",
     "text": [
      "Max count: 26\n"
     ]
    }
   ],
   "source": [
    "max_count1 = 0\n",
    "edges = len(E1)\n",
    "for e in E1:\n",
    "    max_count1 += e[2]\n",
    "print('Max count:',max_count1)\n",
    "\n",
    "labels1 = {}\n",
    "for i in range(vertices1):\n",
    "    labels1[i]='s'+str(i)\n",
    "    labels1[vertices1+i]='t'+str(i)   \n",
    "for i,e in enumerate(E1):\n",
    "    labels1[vertices1*2+i] = str(e[0]) + '-' + str(e[1])"
   ]
  },
  {
   "cell_type": "markdown",
   "id": "a649a509-ae35-4998-9ebd-5eeaafaa57d0",
   "metadata": {},
   "source": [
    "### Create QUBO and BQM"
   ]
  },
  {
   "cell_type": "code",
   "execution_count": 6,
   "id": "1891d43a",
   "metadata": {
    "tags": []
   },
   "outputs": [
    {
     "name": "stdout",
     "output_type": "stream",
     "text": [
      "Time used for construction Q (ms): 0.243\n",
      "\n"
     ]
    }
   ],
   "source": [
    "t1 = time.time()\n",
    "Q1 = create_qubo(E1,vertices1,max_count1)\n",
    "qubo_time = (time.time()-t1)*1000\n",
    "print('Time used for construction Q (ms): {:.3f}\\n'.format(qubo_time))\n",
    "\n",
    "t1 = time.time()\n",
    "bqm1 = dimod.BinaryQuadraticModel(Q1, 'BINARY')\n",
    "bqm_time = (time.time()-t1)*1000\n",
    "bqm1 = bqm1.relabel_variables(labels1, inplace=False)"
   ]
  },
  {
   "cell_type": "markdown",
   "id": "bd174749",
   "metadata": {},
   "source": [
    "### Local deterministic solver"
   ]
  },
  {
   "cell_type": "code",
   "execution_count": 7,
   "id": "a8ca8697",
   "metadata": {
    "tags": []
   },
   "outputs": [
    {
     "name": "stdout",
     "output_type": "stream",
     "text": [
      "Time used (ms): 172.304\n",
      "\n",
      "   0-1 0-2 1-3 2-1 2-4 3-2 3-4 s0 s1 s2 s3 s4 t0 t1 t2 t3 t4 energy num_oc.\n",
      "0    0   1   0   0   0   0   0  1  0  0  0  0  0  0  1  0  0  -25.0       1\n",
      "2    0   0   0   1   0   0   0  0  0  1  0  0  0  1  0  0  0  -24.0       1\n",
      "1    0   1   0   1   0   0   0  1  0  0  0  0  0  1  0  0  0  -23.0       1\n",
      "5    0   0   1   0   0   0   0  0  1  0  0  0  0  0  0  1  0  -23.0       1\n",
      "16   0   0   0   0   0   0   1  0  0  0  1  0  0  0  0  0  1  -23.0       1\n",
      "8    0   0   0   0   0   1   0  0  0  0  1  0  0  0  1  0  0  -22.0       1\n",
      "3    0   0   1   1   0   0   0  0  0  1  0  0  0  0  0  1  0  -21.0       1\n",
      "11   1   0   0   0   0   0   0  1  0  0  0  0  0  1  0  0  0  -21.0       1\n",
      "4    0   1   1   1   0   0   0  1  0  0  0  0  0  0  0  1  0  -20.0       1\n",
      "7    0   0   0   1   0   1   0  0  0  0  1  0  0  1  0  0  0  -20.0       1\n",
      "13   0   0   1   0   0   0   1  0  1  0  0  0  0  0  0  0  1  -20.0       1\n",
      "6    0   0   1   0   0   1   0  0  1  0  0  0  0  0  1  0  0  -19.0       1\n",
      "10   1   0   1   0   0   0   0  1  0  0  0  0  0  0  0  1  0  -18.0       1\n",
      "15   0   0   1   1   0   0   1  0  0  1  0  0  0  0  0  0  1  -18.0       1\n",
      "21   0   0   0   0   1   0   0  0  0  1  0  0  0  0  0  0  1  -18.0       1\n",
      "14   0   1   1   1   0   0   1  1  0  0  0  0  0  0  0  0  1  -17.0       1\n",
      "20   0   1   0   0   1   0   0  1  0  0  0  0  0  0  0  0  1  -17.0       1\n",
      "12   1   0   1   0   0   0   1  1  0  0  0  0  0  0  0  0  1  -15.0       1\n",
      "9    1   0   1   0   0   1   0  1  0  0  0  0  0  0  1  0  0  -14.0       1\n",
      "18   0   0   0   0   1   1   0  0  0  0  1  0  0  0  0  0  1  -14.0       1\n",
      "19   0   0   1   0   1   1   0  0  1  0  0  0  0  0  0  0  1  -11.0       1\n",
      "17   1   0   1   0   1   1   0  1  0  0  0  0  0  0  0  0  1   -6.0       1\n",
      "['BINARY', 22 rows, 22 samples, 17 variables]\n"
     ]
    }
   ],
   "source": [
    "t1 = time.time()\n",
    "sampleset = dimod.ExactSolver().sample(bqm1)\n",
    "det_time = (time.time()-t1)*1000\n",
    "print('Time used (ms): {:.3f}\\n'.format(det_time))\n",
    "print(sampleset.filter(lambda s: s.energy<0))"
   ]
  },
  {
   "cell_type": "code",
   "execution_count": 8,
   "id": "47b0f271",
   "metadata": {
    "tags": []
   },
   "outputs": [
    {
     "name": "stdout",
     "output_type": "stream",
     "text": [
      "Route 0-2: [0, 2], weight 1\n",
      "Route 2-1: [2, 1], weight 2\n",
      "Route 0-1: [0, 2, 1], weight 3\n",
      "Route 1-3: [1, 3], weight 3\n",
      "Route 3-4: [3, 4], weight 3\n",
      "Route 3-2: [3, 2], weight 4\n",
      "Route 2-3: [2, 1, 3], weight 5\n",
      "Route 0-3: [0, 2, 1, 3], weight 6\n",
      "Route 3-1: [3, 2, 1], weight 6\n",
      "Route 1-4: [1, 3, 4], weight 6\n",
      "Route 1-2: [1, 3, 2], weight 7\n",
      "Route 2-4: [2, 1, 3, 4], weight 8\n",
      "Route 0-4: [0, 2, 1, 3, 4], weight 9\n"
     ]
    }
   ],
   "source": [
    "for k,v in result_info(sampleset, E1, vertices1).items():\n",
    "    print('Route '+k+': '+str(v[0])+', weight '+str(v[1]))"
   ]
  },
  {
   "cell_type": "code",
   "execution_count": 9,
   "id": "b2b687c4-320e-4e77-a470-6fe7fc123ecd",
   "metadata": {
    "tags": []
   },
   "outputs": [
    {
     "name": "stdout",
     "output_type": "stream",
     "text": [
      "100% ok\n"
     ]
    }
   ],
   "source": [
    "check_result(G1,sampleset,E1,vertices1)"
   ]
  },
  {
   "cell_type": "markdown",
   "id": "317bf617",
   "metadata": {},
   "source": [
    "### Local heuristic classical solver"
   ]
  },
  {
   "cell_type": "code",
   "execution_count": 10,
   "id": "a68eb6b7-2bd9-4203-a58b-2ea612e40537",
   "metadata": {
    "tags": []
   },
   "outputs": [
    {
     "name": "stdout",
     "output_type": "stream",
     "text": [
      "Time used (ms): 1528.206\n",
      "\n",
      "   0-1 0-2 1-3 2-1 2-4 3-2 3-4 s0 s1 s2 s3 s4 t0 t1 t2 t3 t4 energy num_oc.\n",
      "14   0   1   0   0   0   0   0  1  0  0  0  0  0  0  1  0  0  -25.0     637\n",
      "1    0   0   0   1   0   0   0  0  0  1  0  0  0  1  0  0  0  -24.0     546\n",
      "2    0   0   1   0   0   0   0  0  1  0  0  0  0  0  0  1  0  -23.0     453\n",
      "4    0   1   0   1   0   0   0  1  0  0  0  0  0  1  0  0  0  -23.0     409\n",
      "5    0   0   0   0   0   0   1  0  0  0  1  0  0  0  0  0  1  -23.0     415\n",
      "0    0   0   0   0   0   1   0  0  0  0  1  0  0  0  1  0  0  -22.0     347\n",
      "3    0   0   1   1   0   0   0  0  0  1  0  0  0  0  0  1  0  -21.0     244\n",
      "9    1   0   0   0   0   0   0  1  0  0  0  0  0  1  0  0  0  -21.0     261\n",
      "6    0   0   0   1   0   1   0  0  0  0  1  0  0  1  0  0  0  -20.0     224\n",
      "11   0   0   1   0   0   0   1  0  1  0  0  0  0  0  0  0  1  -20.0     264\n",
      "16   0   1   1   1   0   0   0  1  0  0  0  0  0  0  0  1  0  -20.0     217\n",
      "15   0   0   1   0   0   1   0  0  1  0  0  0  0  0  1  0  0  -19.0     160\n",
      "7    1   0   1   0   0   0   0  1  0  0  0  0  0  0  0  1  0  -18.0     143\n",
      "8    0   0   1   1   0   0   1  0  0  1  0  0  0  0  0  0  1  -18.0     137\n",
      "12   0   0   0   0   1   0   0  0  0  1  0  0  0  0  0  0  1  -18.0     111\n",
      "10   0   1   1   1   0   0   1  1  0  0  0  0  0  0  0  0  1  -17.0     129\n",
      "17   0   1   0   0   1   0   0  1  0  0  0  0  0  0  0  0  1  -17.0     113\n",
      "18   1   0   1   0   0   0   1  1  0  0  0  0  0  0  0  0  1  -15.0      52\n",
      "13   0   0   0   0   1   1   0  0  0  0  1  0  0  0  0  0  1  -14.0      40\n",
      "19   1   0   1   0   0   1   0  1  0  0  0  0  0  0  1  0  0  -14.0      63\n",
      "20   0   0   1   0   1   1   0  0  1  0  0  0  0  0  0  0  1  -11.0      28\n",
      "21   1   0   1   0   1   1   0  1  0  0  0  0  0  0  0  0  1   -6.0       7\n",
      "['BINARY', 22 rows, 5000 samples, 17 variables]\n"
     ]
    }
   ],
   "source": [
    "num_reads = 5000\n",
    "t1 = time.time()\n",
    "sampleset2 = SimulatedAnnealingSampler().sample(bqm1, num_reads=num_reads).aggregate()\n",
    "heur_time = (time.time()-t1)*1000\n",
    "print('Time used (ms): {:.3f}\\n'.format(heur_time))\n",
    "print(sampleset2.filter(lambda s: s.energy<0))"
   ]
  },
  {
   "cell_type": "code",
   "execution_count": 11,
   "id": "b4a76d16-edae-4e59-a557-c389ce37d764",
   "metadata": {
    "tags": []
   },
   "outputs": [
    {
     "name": "stdout",
     "output_type": "stream",
     "text": [
      "Route 0-2: [0, 2], weight 1\n",
      "Route 2-1: [2, 1], weight 2\n",
      "Route 1-3: [1, 3], weight 3\n",
      "Route 0-1: [0, 2, 1], weight 3\n",
      "Route 3-4: [3, 4], weight 3\n",
      "Route 3-2: [3, 2], weight 4\n",
      "Route 2-3: [2, 1, 3], weight 5\n",
      "Route 3-1: [3, 2, 1], weight 6\n",
      "Route 1-4: [1, 3, 4], weight 6\n",
      "Route 0-3: [0, 2, 1, 3], weight 6\n",
      "Route 1-2: [1, 3, 2], weight 7\n",
      "Route 2-4: [2, 1, 3, 4], weight 8\n",
      "Route 0-4: [0, 2, 4], weight 9\n"
     ]
    }
   ],
   "source": [
    "for k,v in result_info(sampleset2,E1,vertices1).items():\n",
    "    print('Route '+k+': '+str(v[0])+', weight '+str(v[1]))"
   ]
  },
  {
   "cell_type": "code",
   "execution_count": 12,
   "id": "5f164d9d-5b0f-40d0-b57a-bb2464c29a58",
   "metadata": {
    "tags": []
   },
   "outputs": [
    {
     "name": "stdout",
     "output_type": "stream",
     "text": [
      "100% ok\n"
     ]
    }
   ],
   "source": [
    "check_result(G1,sampleset2,E1,vertices1)"
   ]
  },
  {
   "cell_type": "markdown",
   "id": "919a2172",
   "metadata": {},
   "source": [
    "### Quantum solver"
   ]
  },
  {
   "cell_type": "code",
   "execution_count": 13,
   "id": "132c1754",
   "metadata": {
    "tags": []
   },
   "outputs": [
    {
     "name": "stdout",
     "output_type": "stream",
     "text": [
      "Chip: Advantage_system4.1\n",
      "Qubits: 5760\n"
     ]
    }
   ],
   "source": [
    "machine = DWaveSampler(solver={'chip_id': 'Advantage_system4.1'})\n",
    "print('Chip:', machine.properties['chip_id'])\n",
    "print('Qubits:', machine.properties['num_qubits'])"
   ]
  },
  {
   "cell_type": "code",
   "execution_count": 14,
   "id": "25f71f94",
   "metadata": {
    "tags": []
   },
   "outputs": [],
   "source": [
    "num_reads = 500\n",
    "sampleset3 = EmbeddingComposite(machine).sample(bqm1, num_reads=num_reads)"
   ]
  },
  {
   "cell_type": "code",
   "execution_count": 15,
   "id": "ee8aac50",
   "metadata": {
    "tags": []
   },
   "outputs": [
    {
     "name": "stdout",
     "output_type": "stream",
     "text": [
      "QPU time used (ms): 82.3\n",
      "Physical qubits used: 33\n",
      "\n",
      "   0-1 0-2 1-3 2-1 2-4 3-2 3-4 s0 s1 s2 s3 s4 t0 t1 t2 t3 t4 energy num_oc. ...\n",
      "0    0   1   0   0   0   0   0  1  0  0  0  0  0  0  1  0  0  -25.0      18 ...\n",
      "1    0   0   0   1   0   0   0  0  0  1  0  0  0  1  0  0  0  -24.0      18 ...\n",
      "2    0   0   0   0   0   0   1  0  0  0  1  0  0  0  0  0  1  -23.0       4 ...\n",
      "3    0   1   0   1   0   0   0  1  0  0  0  0  0  1  0  0  0  -23.0      17 ...\n",
      "4    0   0   1   0   0   0   0  0  1  0  0  0  0  0  0  1  0  -23.0       6 ...\n",
      "5    0   0   0   0   0   1   0  0  0  0  1  0  0  0  1  0  0  -22.0      13 ...\n",
      "6    1   0   0   0   0   0   0  1  0  0  0  0  0  1  0  0  0  -21.0      12 ...\n",
      "7    0   0   1   1   0   0   0  0  0  1  0  0  0  0  0  1  0  -21.0      15 ...\n",
      "8    0   0   0   1   0   1   0  0  0  0  1  0  0  1  0  0  0  -20.0      18 ...\n",
      "9    0   0   1   0   0   0   1  0  1  0  0  0  0  0  0  0  1  -20.0      11 ...\n",
      "10   0   1   1   1   0   0   0  1  0  0  0  0  0  0  0  1  0  -20.0      17 ...\n",
      "11   0   0   1   0   0   1   0  0  1  0  0  0  0  0  1  0  0  -19.0      14 ...\n",
      "12   1   0   1   0   0   0   0  1  0  0  0  0  0  0  0  1  0  -18.0       5 ...\n",
      "13   0   0   1   1   0   0   1  0  0  1  0  0  0  0  0  0  1  -18.0       9 ...\n",
      "14   0   0   0   0   1   0   0  0  0  1  0  0  0  0  0  0  1  -18.0       1 ...\n",
      "15   0   1   0   0   1   0   0  1  0  0  0  0  0  0  0  0  1  -17.0      11 ...\n",
      "16   0   1   1   1   0   0   1  1  0  0  0  0  0  0  0  0  1  -17.0      19 ...\n",
      "17   1   0   1   0   0   0   1  1  0  0  0  0  0  0  0  0  1  -15.0       5 ...\n",
      "18   1   0   1   0   0   1   0  1  0  0  0  0  0  0  1  0  0  -14.0      10 ...\n",
      "19   0   0   0   0   1   1   0  0  0  0  1  0  0  0  0  0  1  -14.0       3 ...\n",
      "20   0   0   1   0   1   1   0  0  1  0  0  0  0  0  0  0  1  -11.0       4 ...\n",
      "21   1   0   1   0   1   1   0  1  0  0  0  0  0  0  0  0  1   -6.0       6 ...\n",
      "['BINARY', 22 rows, 236 samples, 17 variables]\n"
     ]
    }
   ],
   "source": [
    "qpu_time = sampleset3.info['timing']['qpu_access_time'] / 1000\n",
    "qubits = sum(len(x) for x in sampleset3.info['embedding_context']['embedding'].values())\n",
    "print('QPU time used (ms): {:.1f}'.format(qpu_time))\n",
    "print('Physical qubits used: {}\\n'.format(qubits))\n",
    "print(sampleset3.filter(lambda s: s.energy<0))"
   ]
  },
  {
   "cell_type": "code",
   "execution_count": 16,
   "id": "8bd6a731",
   "metadata": {
    "tags": []
   },
   "outputs": [
    {
     "name": "stdout",
     "output_type": "stream",
     "text": [
      "Route 0-2: [0, 2], weight 1\n",
      "Route 2-1: [2, 1], weight 2\n",
      "Route 3-4: [3, 4], weight 3\n",
      "Route 0-1: [0, 2, 1], weight 3\n",
      "Route 1-3: [1, 3], weight 3\n",
      "Route 3-2: [3, 2], weight 4\n",
      "Route 2-3: [2, 1, 3], weight 5\n",
      "Route 1-4: [1, 3, 4], weight 6\n",
      "Route 0-3: [0, 2, 1, 3], weight 6\n",
      "Route 3-1: [3, 2, 1], weight 6\n",
      "Route 1-2: [1, 3, 2], weight 7\n",
      "Route 2-4: [2, 1, 3, 4], weight 8\n",
      "Route 0-4: [0, 2, 4], weight 9\n"
     ]
    }
   ],
   "source": [
    "for k,v in result_info(sampleset3,E1,vertices1).items():\n",
    "    print('Route '+k+': '+str(v[0])+', weight '+str(v[1]))"
   ]
  },
  {
   "cell_type": "code",
   "execution_count": 17,
   "id": "ecb2d43b-a988-48ee-a1e7-d9779ff527f6",
   "metadata": {
    "tags": []
   },
   "outputs": [
    {
     "name": "stdout",
     "output_type": "stream",
     "text": [
      "100% ok\n"
     ]
    }
   ],
   "source": [
    "check_result(G1,sampleset3,E1,vertices1)"
   ]
  },
  {
   "cell_type": "markdown",
   "id": "2105c607-9da4-4217-9a9a-dd9a299dbf4a",
   "metadata": {},
   "source": [
    "### Timings"
   ]
  },
  {
   "cell_type": "code",
   "execution_count": 18,
   "id": "61bdc818-8515-4396-be7d-d21cf2ea58c4",
   "metadata": {
    "tags": []
   },
   "outputs": [
    {
     "name": "stdout",
     "output_type": "stream",
     "text": [
      "Construting QUBO: 0.243\n",
      "Construting BQM: 0.547\n",
      "\n",
      "Local deterministic solver: 172.3\n",
      "Local heuristic solver: 1528.2\n",
      "Quantum solver: 82.3\n"
     ]
    }
   ],
   "source": [
    "print('Construting QUBO: {:.3f}'.format(qubo_time))\n",
    "print('Construting BQM: {:.3f}'.format(bqm_time))\n",
    "print('\\nLocal deterministic solver: {:.1f}'.format(det_time))\n",
    "print('Local heuristic solver: {:.1f}'.format(heur_time))\n",
    "print('Quantum solver: {:.1f}'.format(qpu_time))"
   ]
  },
  {
   "cell_type": "markdown",
   "id": "68a02299-8517-4e2a-b68f-6f5371285672",
   "metadata": {},
   "source": [
    "## More complex graph"
   ]
  },
  {
   "cell_type": "code",
   "execution_count": 19,
   "id": "80038cf1-6ef8-4820-bc45-ef653df86e93",
   "metadata": {
    "tags": []
   },
   "outputs": [],
   "source": [
    "seed = 42\n",
    "vertices2 = 10\n",
    "random.seed(seed)\n",
    "G2 = nx.gnp_random_graph(vertices2, 0.30, seed, directed=True)\n",
    "nx.set_edge_attributes(G2, {e: {'weight': random.randint(1, 10)} for e in G2.edges})"
   ]
  },
  {
   "cell_type": "code",
   "execution_count": 30,
   "id": "7175b2b6-244e-410b-8535-2ebe5f66f3fe",
   "metadata": {
    "tags": []
   },
   "outputs": [
    {
     "name": "stdout",
     "output_type": "stream",
     "text": [
      "Number of edges: 34\n",
      "Number of vertices: 10\n",
      "Max count: 166\n"
     ]
    }
   ],
   "source": [
    "E2 = [] \n",
    "for e in G2.edges(data=True):\n",
    "    E2.append((e[0],e[1],e[2]['weight']))\n",
    "print('Number of edges:',len(E2))\n",
    "print('Number of vertices:',vertices2)\n",
    "\n",
    "max_count2 = 0\n",
    "for e in E2:\n",
    "    max_count2 += e[2]\n",
    "print('Max count:',max_count2)\n",
    "\n",
    "labels2 = {}\n",
    "for i in range(vertices2):\n",
    "    labels2[i]='s'+str(i)\n",
    "    labels2[vertices2+i]='t'+str(i)   \n",
    "for i,e in enumerate(E2):\n",
    "    labels2[vertices2*2+i] = str(e[0]) + '-' + str(e[1])"
   ]
  },
  {
   "cell_type": "markdown",
   "id": "a9827abc-de75-4ddc-9187-cb5d8faa8752",
   "metadata": {},
   "source": [
    "### QUBO and BQM"
   ]
  },
  {
   "cell_type": "code",
   "execution_count": 31,
   "id": "e75fc527-e8bf-48cb-b054-1f4b451f541a",
   "metadata": {
    "tags": []
   },
   "outputs": [
    {
     "name": "stdout",
     "output_type": "stream",
     "text": [
      "Time used for construction Q (ms): 1.350\n",
      "Time used for construction BQM (ms): 0.344\n"
     ]
    }
   ],
   "source": [
    "t1 = time.time()\n",
    "p = max_count2\n",
    "Q2 = create_qubo(E2,vertices2,p)\n",
    "qubo_time = (time.time()-t1) * 1000\n",
    "print('Time used for construction Q (ms): {:.3f}'.format(qubo_time))\n",
    "\n",
    "t1 = time.time()\n",
    "bqm2 = dimod.BinaryQuadraticModel(Q2, 'BINARY')\n",
    "bqm_time = (time.time()-t1) * 1000\n",
    "bqm2 = bqm2.relabel_variables(labels2, inplace=False)\n",
    "print('Time used for construction BQM (ms): {:.3f}'.format(bqm_time))"
   ]
  },
  {
   "cell_type": "markdown",
   "id": "66198218-b00d-41ce-9497-0fb7517580fc",
   "metadata": {},
   "source": [
    "### Local heuristic solver"
   ]
  },
  {
   "cell_type": "code",
   "execution_count": 23,
   "id": "f44045b9-742f-4151-aab6-5bb1b0aa2e7d",
   "metadata": {
    "tags": []
   },
   "outputs": [
    {
     "name": "stdout",
     "output_type": "stream",
     "text": [
      "Time used (ms): 7515.466\n",
      "\n"
     ]
    }
   ],
   "source": [
    "num_reads = 10000\n",
    "t1 = time.time()\n",
    "sampleset4 = SimulatedAnnealingSampler().sample(bqm2, num_reads=num_reads).aggregate()\n",
    "heur_time = (time.time()-t1)*1000\n",
    "print('Time used (ms): {:.3f}\\n'.format(heur_time))"
   ]
  },
  {
   "cell_type": "code",
   "execution_count": 24,
   "id": "7c95d89f-450a-45e7-a1ec-9a4fc945fdaa",
   "metadata": {
    "tags": []
   },
   "outputs": [
    {
     "name": "stdout",
     "output_type": "stream",
     "text": [
      "Path: [6, 4, 7, 3] (16): correct: [[6, 2, 9, 0, 3]] (15)\n",
      "99% ok\n"
     ]
    }
   ],
   "source": [
    "check_result(G2,sampleset4,E2,vertices2)"
   ]
  },
  {
   "cell_type": "markdown",
   "id": "cfd3ab9f-5c24-42f6-a160-c0b2125bc8e9",
   "metadata": {},
   "source": [
    "### Quantum solver"
   ]
  },
  {
   "cell_type": "code",
   "execution_count": 25,
   "id": "96a23ec1-8f3c-4f1c-a866-8edd466f912a",
   "metadata": {
    "tags": []
   },
   "outputs": [
    {
     "name": "stdout",
     "output_type": "stream",
     "text": [
      "Chip: Advantage_system4.1\n",
      "Qubits: 5760\n"
     ]
    }
   ],
   "source": [
    "machine = DWaveSampler(solver={'chip_id': 'Advantage_system4.1'})\n",
    "print('Chip:', machine.properties['chip_id'])\n",
    "print('Qubits:', machine.properties['num_qubits'])"
   ]
  },
  {
   "cell_type": "code",
   "execution_count": 26,
   "id": "df670e28-f622-4c13-8c15-921e64236abb",
   "metadata": {
    "tags": []
   },
   "outputs": [],
   "source": [
    "num_reads = 1000\n",
    "sampleset5 = EmbeddingComposite(machine).sample(bqm2, num_reads=num_reads)"
   ]
  },
  {
   "cell_type": "code",
   "execution_count": 27,
   "id": "3a33303b-df1f-4a59-acf7-4887648657c4",
   "metadata": {
    "tags": []
   },
   "outputs": [
    {
     "name": "stdout",
     "output_type": "stream",
     "text": [
      "QPU time used (ms): 153.2\n",
      "Physical qubits used: 235\n",
      "\n"
     ]
    }
   ],
   "source": [
    "qpu_time = sampleset5.info['timing']['qpu_access_time'] / 1000\n",
    "qubits = sum(len(x) for x in sampleset5.info['embedding_context']['embedding'].values())\n",
    "print('QPU time used (ms): {:.1f}'.format(qpu_time))\n",
    "print('Physical qubits used: {}\\n'.format(qubits))\n",
    "#print(sampleset5)"
   ]
  },
  {
   "cell_type": "code",
   "execution_count": 28,
   "id": "b6058feb-1bf7-48b8-9653-d9bc4b70f51e",
   "metadata": {
    "tags": []
   },
   "outputs": [
    {
     "name": "stdout",
     "output_type": "stream",
     "text": [
      "Path suggested: 0-1 missing: correct: [[0, 2, 1]] (12)\n",
      "Path suggested: 0-2 missing: correct: [[0, 2]] (2)\n",
      "Path suggested: 0-3 missing: correct: [[0, 3]] (1)\n",
      "Path suggested: 0-4 missing: correct: [[0, 4]] (5)\n",
      "Path suggested: 0-5 missing: correct: [[0, 2, 1, 5]] (21)\n",
      "Path suggested: 0-6 missing: correct: [[0, 8, 6], [0, 4, 6]] (7)\n",
      "Path suggested: 0-7 missing: correct: [[0, 2, 9, 7]] (6)\n",
      "Path suggested: 0-8 missing: correct: [[0, 8]] (4)\n",
      "Path suggested: 0-9 missing: correct: [[0, 2, 9]] (3)\n",
      "Path suggested: 1-0 missing: correct: [[1, 0]] (4)\n",
      "Path suggested: 1-2 missing: correct: [[1, 2]] (3)\n",
      "Path suggested: 1-3 missing: correct: [[1, 0, 3]] (5)\n",
      "Path suggested: 1-4 missing: correct: [[1, 4]] (2)\n",
      "Path suggested: 1-5 missing: correct: [[1, 5]] (9)\n",
      "Path suggested: 1-6 missing: correct: [[1, 4, 6]] (4)\n",
      "Path suggested: 1-7 missing: correct: [[1, 4, 7]] (6)\n",
      "Path suggested: 1-8 missing: correct: [[1, 8]] (2)\n",
      "Path suggested: 1-9 missing: correct: [[1, 2, 9]] (4)\n",
      "Path suggested: 2-0 missing: correct: [[2, 9, 0]] (7)\n",
      "Path suggested: 2-1 missing: correct: [[2, 1]] (10)\n",
      "Path suggested: 2-3 missing: correct: [[2, 9, 0, 3]] (8)\n",
      "Path suggested: 2-4 missing: correct: [[2, 9, 4]] (6)\n",
      "Path suggested: 2-5 missing: correct: [[2, 1, 5]] (19)\n",
      "Path suggested: 2-6 missing: correct: [[2, 6]] (7)\n",
      "Path suggested: 2-7 missing: correct: [[2, 9, 7]] (4)\n",
      "Path: [2, 1, 8] (12): correct: [[2, 9, 8], [2, 9, 7, 8]] (5)\n",
      "Path suggested: 2-9 missing: correct: [[2, 9]] (1)\n",
      "Path suggested: 3-0 missing: correct: [[3, 0]] (1)\n",
      "Path suggested: 3-1 missing: correct: [[3, 0, 2, 1]] (13)\n",
      "Path suggested: 3-2 missing: correct: [[3, 0, 2]] (3)\n",
      "Path suggested: 3-4 missing: correct: [[3, 0, 4]] (6)\n",
      "Path suggested: 3-5 missing: correct: [[3, 0, 2, 1, 5]] (22)\n",
      "Path suggested: 3-6 missing: correct: [[3, 0, 8, 6], [3, 0, 4, 6]] (8)\n",
      "Path suggested: 3-7 missing: correct: [[3, 0, 2, 9, 7]] (7)\n",
      "Path suggested: 3-8 missing: correct: [[3, 0, 8]] (5)\n",
      "Path suggested: 3-9 missing: correct: [[3, 0, 2, 9]] (4)\n",
      "Path suggested: 4-0 missing: correct: [[4, 7, 3, 0]] (13)\n",
      "Path suggested: 4-1 missing: correct: [[4, 6, 2, 1]] (19)\n",
      "Path suggested: 4-2 missing: correct: [[4, 6, 2]] (9)\n",
      "Path suggested: 4-3 missing: correct: [[4, 7, 3]] (12)\n",
      "Path suggested: 4-5 missing: correct: [[4, 6, 2, 1, 5]] (28)\n",
      "Path suggested: 4-6 missing: correct: [[4, 6]] (2)\n",
      "Path suggested: 4-7 missing: correct: [[4, 7]] (4)\n",
      "Path suggested: 4-8 missing: correct: [[4, 8]] (4)\n",
      "Path suggested: 4-9 missing: correct: [[4, 9]] (9)\n",
      "Path suggested: 5-0 missing: correct: [[5, 1, 0]] (5)\n",
      "Path suggested: 5-1 missing: correct: [[5, 1]] (1)\n",
      "Path suggested: 5-2 missing: correct: [[5, 1, 2]] (4)\n",
      "Path suggested: 5-3 missing: correct: [[5, 1, 0, 3]] (6)\n",
      "Path: [5, 7, 3, 0, 4] (18): correct: [[5, 1, 4]] (3)\n",
      "Path suggested: 5-6 missing: correct: [[5, 1, 4, 6]] (5)\n",
      "Path suggested: 5-7 missing: correct: [[5, 7]] (4)\n",
      "Path suggested: 5-8 missing: correct: [[5, 1, 8]] (3)\n",
      "Path suggested: 5-9 missing: correct: [[5, 1, 2, 9]] (5)\n",
      "Path suggested: 6-0 missing: correct: [[6, 2, 9, 0]] (14)\n",
      "Path suggested: 6-1 missing: correct: [[6, 2, 1]] (17)\n",
      "Path suggested: 6-2 missing: correct: [[6, 2]] (7)\n",
      "Path suggested: 6-3 missing: correct: [[6, 2, 9, 0, 3]] (15)\n",
      "Path suggested: 6-4 missing: correct: [[6, 4]] (4)\n",
      "Path suggested: 6-5 missing: correct: [[6, 2, 1, 5]] (26)\n",
      "Path suggested: 6-7 missing: correct: [[6, 4, 7]] (8)\n",
      "Path suggested: 6-8 missing: correct: [[6, 4, 8]] (8)\n",
      "Path suggested: 6-9 missing: correct: [[6, 2, 9]] (8)\n",
      "Path suggested: 7-0 missing: correct: [[7, 3, 0]] (9)\n",
      "Path suggested: 7-1 missing: correct: [[7, 8, 6, 2, 1], [7, 3, 0, 2, 1]] (21)\n",
      "Path suggested: 7-2 missing: correct: [[7, 8, 6, 2], [7, 3, 0, 2]] (11)\n",
      "Path suggested: 7-3 missing: correct: [[7, 3]] (8)\n",
      "Path suggested: 7-4 missing: correct: [[7, 8, 6, 4]] (8)\n",
      "Path suggested: 7-5 missing: correct: [[7, 8, 6, 2, 1, 5], [7, 3, 0, 2, 1, 5]] (30)\n",
      "Path suggested: 7-6 missing: correct: [[7, 8, 6]] (4)\n",
      "Path suggested: 7-8 missing: correct: [[7, 8]] (1)\n",
      "Path suggested: 7-9 missing: correct: [[7, 8, 6, 2, 9], [7, 3, 0, 2, 9]] (12)\n",
      "Path suggested: 8-0 missing: correct: [[8, 7, 3, 0]] (16)\n",
      "Path suggested: 8-1 missing: correct: [[8, 6, 2, 1]] (20)\n",
      "Path suggested: 8-2 missing: correct: [[8, 6, 2]] (10)\n",
      "Path: [8, 6, 2, 1, 0, 4, 9, 7, 3] (49): correct: [[8, 7, 3]] (15)\n",
      "Path suggested: 8-4 missing: correct: [[8, 6, 4]] (7)\n",
      "Path suggested: 8-5 missing: correct: [[8, 6, 2, 1, 5]] (29)\n",
      "Path suggested: 8-6 missing: correct: [[8, 6]] (3)\n",
      "Path suggested: 8-7 missing: correct: [[8, 7]] (7)\n",
      "Path suggested: 8-9 missing: correct: [[8, 6, 2, 9]] (11)\n",
      "Path suggested: 9-0 missing: correct: [[9, 0]] (6)\n",
      "Path suggested: 9-1 missing: correct: [[9, 0, 2, 1]] (18)\n",
      "Path suggested: 9-2 missing: correct: [[9, 0, 2]] (8)\n",
      "Path suggested: 9-3 missing: correct: [[9, 0, 3]] (7)\n",
      "Path suggested: 9-4 missing: correct: [[9, 4]] (5)\n",
      "Path suggested: 9-5 missing: correct: [[9, 0, 2, 1, 5]] (27)\n",
      "Path suggested: 9-6 missing: correct: [[9, 8, 6], [9, 7, 8, 6], [9, 4, 6]] (7)\n",
      "Path suggested: 9-7 missing: correct: [[9, 7]] (3)\n",
      "Path suggested: 9-8 missing: correct: [[9, 8], [9, 7, 8]] (4)\n",
      "0% ok\n"
     ]
    }
   ],
   "source": [
    "check_result(G2,sampleset5,E2,vertices2)"
   ]
  },
  {
   "cell_type": "markdown",
   "id": "f2b32a10-a3b3-4243-a168-d76fe8532dc2",
   "metadata": {},
   "source": [
    "### Timings"
   ]
  },
  {
   "cell_type": "code",
   "execution_count": 32,
   "id": "958463dc-afbb-4f7f-a7d5-169348488c5d",
   "metadata": {
    "tags": []
   },
   "outputs": [
    {
     "name": "stdout",
     "output_type": "stream",
     "text": [
      "Construting QUBO (ms): 1.350\n",
      "Construting BQM (ms): 0.344\n",
      "\n",
      "Local heuristic solver (ms): 7515.5\n",
      "Quantum solver (ms): 153.2\n"
     ]
    }
   ],
   "source": [
    "print('Construting QUBO (ms): {:.3f}'.format(qubo_time))\n",
    "print('Construting BQM (ms): {:.3f}'.format(bqm_time))\n",
    "print('\\nLocal heuristic solver (ms): {:.1f}'.format(heur_time))\n",
    "print('Quantum solver (ms): {:.1f}'.format(qpu_time))"
   ]
  },
  {
   "cell_type": "code",
   "execution_count": null,
   "id": "51dfc0bd-f17a-453e-a981-52996b50e409",
   "metadata": {},
   "outputs": [],
   "source": []
  }
 ],
 "metadata": {
  "kernelspec": {
   "display_name": "Python 3 (ipykernel)",
   "language": "python",
   "name": "python3"
  },
  "language_info": {
   "codemirror_mode": {
    "name": "ipython",
    "version": 3
   },
   "file_extension": ".py",
   "mimetype": "text/x-python",
   "name": "python",
   "nbconvert_exporter": "python",
   "pygments_lexer": "ipython3",
   "version": "3.8.18"
  }
 },
 "nbformat": 4,
 "nbformat_minor": 5
}
