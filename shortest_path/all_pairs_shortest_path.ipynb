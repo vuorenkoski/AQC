{
 "cells": [
  {
   "cell_type": "markdown",
   "id": "d55be57b-8ef5-4716-95cb-35c8666239ac",
   "metadata": {},
   "source": [
    "# All pairs shortest path algorithm\n",
    "\n",
    "Shortest paths between every pair of vertices -algorithm implemented by QUBO in quantum annealer. Classical version of this is Floyd-Warshall algorithm: https://en.wikipedia.org/wiki/Floyd%E2%80%93Warshall_algorithm\n",
    "\n",
    "Here directed graph $G=(V,E)$ has sets of vertices $V$ and edges $E \\subseteq \\{(x,y)|(x,y) \\in V^2 and x \\not = y\\}$. For every edge there is weight $w_{xy}$. Task is to find path with minimum sum of weights for every combination of $(s,t) \\in E^2$.\n",
    "\n",
    "In this solution binary variable vector $x$ to be solved has $|V|+|V|+|E|$ elements. First $|V|$ elements indicate the starting vertex and second $|V|$ elements indicate the ending vertex. Last $|E|$ elements would define which edges are part of the shortest path. \n",
    "\n",
    "Penalty $p=\\sum w_{xy}+1$.\n",
    "\n",
    "QUBO should implement following constraints to proper $x$: \n",
    "1. There must be exactly one starting vertex $s$ (if more than one: penalty of $p$)\n",
    "2. There must be exactly one terminating vertex $t$ (if more than one: penalty of $p$)\n",
    "3. Vertices $s$ and $t$ must different (if not: penalty of $p$)\n",
    "4. There must edge starting from $s$ (gain of $-p$ for each) and no edge terminating to $s$ ($p$ for each)\n",
    "5. There must edge ending to $t$ (gain of $-p$ for each) and no edge starting from $t$ ($p$ for each)\n",
    "6. Two edges should not start/end to the same vertex, for example $s$ or $t$ (if so: penalty of $p$) \n",
    "7. Two edges should form a chain (two edges forming a chain gives gain of $-p/2$)\n",
    "8. Path having lower weights should be prioritised (penalty of $w$ to each edge)\n",
    "\n",
    "Proper path with correct $s$ and $t$ would give energy level of $w-p$ (constraint 7 brings minimum $p$ and constraint 4 and 5 both minimum $-p$). Because $p=\\sum w_{xy}$ all samples with energy level below zero are correct paths. From this set of samples we choose lowest energy level sample for each $(s,t)$. "
   ]
  },
  {
   "cell_type": "code",
   "execution_count": 1,
   "id": "63525c69-dd51-43cc-b6a5-988fcf02f1d3",
   "metadata": {
    "tags": []
   },
   "outputs": [],
   "source": [
    "import numpy as np\n",
    "import time\n",
    "import dimod\n",
    "from dwave.system import DWaveSampler, EmbeddingComposite, LeapHybridSampler\n",
    "from dwave.samplers import SimulatedAnnealingSampler\n",
    "import dwave.inspector\n",
    "import networkx as nx\n",
    "from networkx.classes.function import path_weight\n",
    "import random"
   ]
  },
  {
   "cell_type": "markdown",
   "id": "5d46e183-a34b-41ef-b221-4a2942030dfc",
   "metadata": {},
   "source": [
    "## Function to create QUBO\n",
    "\n",
    "E is array of tuples (1st vertice, 2nd vertice, weight), veritices is number of vertices, p is penalty."
   ]
  },
  {
   "cell_type": "code",
   "execution_count": 2,
   "id": "28c0a125-984b-4dda-9838-e9c7af4724b1",
   "metadata": {
    "tags": []
   },
   "outputs": [],
   "source": [
    "def create_qubo(E,vertices,p):\n",
    "    edges = len(E)\n",
    "    Q = np.zeros((2*vertices + edges, 2*vertices + edges))\n",
    "\n",
    "    # Constraints 1 and 2\n",
    "    for i in range(vertices):\n",
    "        for j in range(i+1, vertices):\n",
    "            Q[i,j] += p\n",
    "            Q[vertices+i,vertices+j] += p\n",
    "\n",
    "    # Constraint 3\n",
    "    for i in range(vertices):\n",
    "        Q[i,i+vertices] += p\n",
    " \n",
    "    # Constraint 4\n",
    "    for v in range(vertices):\n",
    "        for i,e in enumerate(E):\n",
    "            if e[0]==v:\n",
    "                Q[v,vertices*2+i] -= p\n",
    "            if e[1]==v:\n",
    "                Q[v,vertices*2+i] += p\n",
    " \n",
    "    # Constraint 5\n",
    "    for v in range(vertices):\n",
    "        for i in range(edges):\n",
    "            if E[i][1]==v:\n",
    "                Q[vertices+v,vertices*2+i] -= p\n",
    "            if E[i][0]==v:\n",
    "                Q[vertices+v,vertices*2+i] += p\n",
    " \n",
    "    # Constraint 6\n",
    "    for i in range(edges):\n",
    "        for j in range(i+1,edges):\n",
    "            if E[i][0]==E[j][0] or E[i][1]==E[j][1]:\n",
    "                Q[vertices*2+i,vertices*2+j] += p\n",
    " \n",
    "    # Constraint 7\n",
    "    for i in range(edges):\n",
    "        Q[vertices*2+i,vertices*2+i] +=p\n",
    "        for j in range(i+1,edges):\n",
    "            if E[i][1]==E[j][0] or E[i][0]==E[j][1]:\n",
    "                Q[vertices*2+i,vertices*2+j] -= p\n",
    " \n",
    "    # Constraint 8\n",
    "    for i in range(edges):\n",
    "        Q[vertices*2+i,vertices*2+i] += E[i][2]\n",
    "    return Q"
   ]
  },
  {
   "cell_type": "markdown",
   "id": "1039835d-2cf8-4cfd-a672-80dc71c6bc1a",
   "metadata": {},
   "source": [
    "## Some helper functions for getting results from sampleset"
   ]
  },
  {
   "cell_type": "code",
   "execution_count": 16,
   "id": "4697b080-4e96-4690-adb8-bcf632502e15",
   "metadata": {
    "tags": []
   },
   "outputs": [],
   "source": [
    "def xy_from_label(e):\n",
    "    x = 0\n",
    "    y = 0\n",
    "    i = len(e)-1\n",
    "    d = 1\n",
    "    while e[i]!='-':\n",
    "        y += d*int(e[i])\n",
    "        d *= 10\n",
    "        i -= 1\n",
    "    d = 1\n",
    "    i -= 1\n",
    "    while i>=0:\n",
    "        x += d*int(e[i])\n",
    "        d *= 10\n",
    "        i -= 1\n",
    "    return (x,y)\n",
    " \n",
    "def path_from_sample(sample,G):\n",
    "    vertices = len(G.nodes)\n",
    "    s = 0\n",
    "    si = 0\n",
    "    t = 0\n",
    "    ti = 0\n",
    "    w = 0\n",
    "    for v in range(vertices):\n",
    "        if sample['s'+str(v)]==1:\n",
    "            s = v\n",
    "            si += 1\n",
    "        if sample['t'+str(v)]==1:\n",
    "            t = v\n",
    "            ti += 1\n",
    "    if s==t or si!=1 or ti!=1: # only one s and t allowed, not the same\n",
    "        return (None,None,None)\n",
    "    i = s\n",
    "    path = [i]\n",
    "    vv = 1\n",
    "    while i!=t:\n",
    "        xx = i\n",
    "        for p in sample:\n",
    "            if p[0]!='s' and p[0]!='t' and sample[p]==1:\n",
    "                x,y = xy_from_label(p)\n",
    "                if x==i:\n",
    "                    path.append(y)\n",
    "                    w += G[x][y]['weight']\n",
    "                    i = y\n",
    "                    break\n",
    "        vv += 1\n",
    "        if vv>vertices:\n",
    "            return (None,None,None)\n",
    "    return (str(s)+'-'+str(t),path,w)\n",
    " \n",
    "def result_paths(sampleset, G): # return all legal shrotest paths from sampleset\n",
    "    res = {}\n",
    "    for s in sampleset.filter(lambda s: s.energy<0):\n",
    "        st, path, w = path_from_sample(s,G)\n",
    "        if st!=None:\n",
    "            if st not in res:\n",
    "                res[st]=(path,w)\n",
    "            else:\n",
    "                if res[st][1]>w:\n",
    "                    res[st]=(path,w)\n",
    "    return res\n",
    " \n",
    "def check_result(G,sampleset):\n",
    "    ok = 0\n",
    "    s = 0\n",
    "    res = result_paths(sampleset, G)\n",
    "    for i in G.nodes:\n",
    "        for j in G.nodes:\n",
    "            if i!=j and nx.has_path(G,i,j):\n",
    "                s += 1\n",
    "                sp = [p for p in nx.all_shortest_paths(G,i,j,weight='weight')] # correct shorstest paths for this pair\n",
    "                w1 = path_weight(G,sp[0],'weight') # correct weight\n",
    "                if str(i)+'-'+str(j) in res.keys():  # Does result have path between s-t\n",
    "                    path,w2 = res[str(i)+'-'+str(j)]\n",
    "                    if (path in sp) and w1==w2:      # Is path among correct paths and are weights same\n",
    "                        ok += 1\n",
    "    print(ok,'/',s)\n",
    "    return str(int(100*ok/s))\n",
    "\n",
    "def make_G(E,vertices):\n",
    "    G = nx.DiGraph()\n",
    "    G.add_nodes_from([0, vertices-1])\n",
    "    for e in E:\n",
    "        G.add_edge(e[0], e[1], weight=e[2])\n",
    "    return(G)"
   ]
  },
  {
   "cell_type": "markdown",
   "id": "b4dcd719-cf35-407e-9711-66a5cabf1d6b",
   "metadata": {
    "tags": []
   },
   "source": [
    "## Simple graph"
   ]
  },
  {
   "cell_type": "markdown",
   "id": "5649c0b6",
   "metadata": {},
   "source": [
    "### Define graph\n",
    "\n",
    "Input graph is array of tuples (1st vertice, 2nd vertice, weight)"
   ]
  },
  {
   "cell_type": "code",
   "execution_count": 4,
   "id": "c7f22202",
   "metadata": {
    "tags": []
   },
   "outputs": [],
   "source": [
    "E1 = np.array([(0, 2, 1), (2, 1, 2), (1, 3, 3), (3, 2, 4), (0, 1, 5), (3, 4, 3), (2, 4, 8)])\n",
    "vertices1 = 5\n",
    "G1 = make_G(E1,vertices1)"
   ]
  },
  {
   "cell_type": "markdown",
   "id": "4aac45bc",
   "metadata": {},
   "source": [
    "Above graph visualised:\n",
    "\n",
    "![](graph4.png)"
   ]
  },
  {
   "cell_type": "markdown",
   "id": "72682cd6-5890-43d4-9826-4c82ece6f476",
   "metadata": {},
   "source": [
    "### Max_count and labels"
   ]
  },
  {
   "cell_type": "code",
   "execution_count": 5,
   "id": "df0cf817-0abf-4fd9-ad7f-7d1fa82f6d3e",
   "metadata": {
    "tags": []
   },
   "outputs": [
    {
     "name": "stdout",
     "output_type": "stream",
     "text": [
      "Max count: 26\n"
     ]
    }
   ],
   "source": [
    "max_count1 = 0\n",
    "edges = len(E1)\n",
    "for e in E1:\n",
    "    max_count1 += e[2]\n",
    "print('Max count:',max_count1)\n",
    "\n",
    "labels1 = {}\n",
    "for i in range(vertices1):\n",
    "    labels1[i]='s'+str(i)\n",
    "    labels1[vertices1+i]='t'+str(i)   \n",
    "for i,e in enumerate(E1):\n",
    "    labels1[vertices1*2+i] = str(e[0]) + '-' + str(e[1])"
   ]
  },
  {
   "cell_type": "markdown",
   "id": "a649a509-ae35-4998-9ebd-5eeaafaa57d0",
   "metadata": {},
   "source": [
    "### Create QUBO and BQM"
   ]
  },
  {
   "cell_type": "code",
   "execution_count": 6,
   "id": "1891d43a",
   "metadata": {
    "tags": []
   },
   "outputs": [
    {
     "name": "stdout",
     "output_type": "stream",
     "text": [
      "Time used for construction Q (ms): 0.328\n",
      "\n"
     ]
    }
   ],
   "source": [
    "t1 = time.time()\n",
    "Q1 = create_qubo(E1,vertices1,max_count1+1)\n",
    "qubo_time = (time.time()-t1)*1000\n",
    "print('Time used for construction Q (ms): {:.3f}\\n'.format(qubo_time))\n",
    "\n",
    "t1 = time.time()\n",
    "bqm1 = dimod.BinaryQuadraticModel(Q1, 'BINARY')\n",
    "bqm_time = (time.time()-t1)*1000\n",
    "bqm1 = bqm1.relabel_variables(labels1, inplace=False)"
   ]
  },
  {
   "cell_type": "markdown",
   "id": "bd174749",
   "metadata": {},
   "source": [
    "### Local deterministic solver"
   ]
  },
  {
   "cell_type": "code",
   "execution_count": 7,
   "id": "a8ca8697",
   "metadata": {
    "tags": []
   },
   "outputs": [
    {
     "name": "stdout",
     "output_type": "stream",
     "text": [
      "Time used (ms): 169.626\n",
      "\n",
      "   0-1 0-2 1-3 2-1 2-4 3-2 3-4 s0 s1 s2 s3 s4 t0 t1 t2 t3 t4 energy num_oc.\n",
      "0    0   1   0   0   0   0   0  1  0  0  0  0  0  0  1  0  0  -26.0       1\n",
      "2    0   0   0   1   0   0   0  0  0  1  0  0  0  1  0  0  0  -25.0       1\n",
      "1    0   1   0   1   0   0   0  1  0  0  0  0  0  1  0  0  0  -24.0       1\n",
      "5    0   0   1   0   0   0   0  0  1  0  0  0  0  0  0  1  0  -24.0       1\n",
      "19   0   0   0   0   0   0   1  0  0  0  1  0  0  0  0  0  1  -24.0       1\n",
      "9    0   0   0   0   0   1   0  0  0  0  1  0  0  0  1  0  0  -23.0       1\n",
      "3    0   0   1   1   0   0   0  0  0  1  0  0  0  0  0  1  0  -22.0       1\n",
      "13   1   0   0   0   0   0   0  1  0  0  0  0  0  1  0  0  0  -22.0       1\n",
      "4    0   1   1   1   0   0   0  1  0  0  0  0  0  0  0  1  0  -21.0       1\n",
      "8    0   0   0   1   0   1   0  0  0  0  1  0  0  1  0  0  0  -21.0       1\n",
      "16   0   0   1   0   0   0   1  0  1  0  0  0  0  0  0  0  1  -21.0       1\n",
      "6    0   0   1   0   0   1   0  0  1  0  0  0  0  0  1  0  0  -20.0       1\n",
      "12   1   0   1   0   0   0   0  1  0  0  0  0  0  0  0  1  0  -19.0       1\n",
      "18   0   0   1   1   0   0   1  0  0  1  0  0  0  0  0  0  1  -19.0       1\n",
      "26   0   0   0   0   1   0   0  0  0  1  0  0  0  0  0  0  1  -19.0       1\n",
      "17   0   1   1   1   0   0   1  1  0  0  0  0  0  0  0  0  1  -18.0       1\n",
      "25   0   1   0   0   1   0   0  1  0  0  0  0  0  0  0  0  1  -18.0       1\n",
      "7    0   1   1   1   0   1   0  1  0  0  0  0  0  0  1  0  0  -17.0       1\n",
      "14   1   0   1   0   0   0   1  1  0  0  0  0  0  0  0  0  1  -16.0       1\n",
      "11   1   0   1   0   0   1   0  1  0  0  0  0  0  0  1  0  0  -15.0       1\n",
      "15   0   0   1   1   0   1   1  0  0  0  1  0  0  0  0  0  1  -15.0       1\n",
      "21   0   0   0   0   1   1   0  0  0  0  1  0  0  0  0  0  1  -15.0       1\n",
      "10   1   0   1   1   0   1   0  1  0  0  0  0  0  1  0  0  0  -13.0       1\n",
      "24   0   0   1   0   1   1   0  0  1  0  0  0  0  0  0  0  1  -12.0       1\n",
      "22   0   0   1   1   1   1   0  0  0  1  0  0  0  0  0  0  1  -10.0       1\n",
      "23   0   1   1   1   1   1   0  1  0  0  0  0  0  0  0  0  1   -9.0       1\n",
      "20   1   0   1   0   1   1   0  1  0  0  0  0  0  0  0  0  1   -7.0       1\n",
      "['BINARY', 27 rows, 27 samples, 17 variables]\n"
     ]
    }
   ],
   "source": [
    "t1 = time.time()\n",
    "sampleset = dimod.ExactSolver().sample(bqm1)\n",
    "det_time = (time.time()-t1)*1000\n",
    "print('Time used (ms): {:.3f}\\n'.format(det_time))\n",
    "print(sampleset.filter(lambda s: s.energy<0))"
   ]
  },
  {
   "cell_type": "code",
   "execution_count": 8,
   "id": "47b0f271",
   "metadata": {
    "tags": []
   },
   "outputs": [
    {
     "name": "stdout",
     "output_type": "stream",
     "text": [
      "Route 0-2: [0, 2], weight 1\n",
      "Route 2-1: [2, 1], weight 2\n",
      "Route 0-1: [0, 2, 1], weight 3\n",
      "Route 1-3: [1, 3], weight 3\n",
      "Route 3-4: [3, 4], weight 3\n",
      "Route 3-2: [3, 2], weight 4\n",
      "Route 2-3: [2, 1, 3], weight 5\n",
      "Route 0-3: [0, 2, 1, 3], weight 6\n",
      "Route 3-1: [3, 2, 1], weight 6\n",
      "Route 1-4: [1, 3, 4], weight 6\n",
      "Route 1-2: [1, 3, 2], weight 7\n",
      "Route 2-4: [2, 1, 3, 4], weight 8\n",
      "Route 0-4: [0, 2, 1, 3, 4], weight 9\n"
     ]
    }
   ],
   "source": [
    "for k,v in result_info(sampleset, E1, vertices1).items():\n",
    "    print('Route '+k+': '+str(v[0])+', weight '+str(v[1]))"
   ]
  },
  {
   "cell_type": "code",
   "execution_count": 9,
   "id": "b2b687c4-320e-4e77-a470-6fe7fc123ecd",
   "metadata": {
    "tags": []
   },
   "outputs": [
    {
     "name": "stdout",
     "output_type": "stream",
     "text": [
      "100% ok\n"
     ]
    }
   ],
   "source": [
    "check_result(G1,sampleset,E1,vertices1)"
   ]
  },
  {
   "cell_type": "markdown",
   "id": "317bf617",
   "metadata": {},
   "source": [
    "### Local heuristic classical solver"
   ]
  },
  {
   "cell_type": "code",
   "execution_count": 8,
   "id": "a68eb6b7-2bd9-4203-a58b-2ea612e40537",
   "metadata": {
    "tags": []
   },
   "outputs": [
    {
     "name": "stdout",
     "output_type": "stream",
     "text": [
      "Time used (ms): 638.940\n",
      "\n",
      "   0-1 0-2 1-3 2-1 2-4 3-2 3-4 s0 s1 s2 s3 s4 t0 t1 t2 t3 t4 energy num_oc.\n",
      "3    0   1   0   0   0   0   0  1  0  0  0  0  0  0  1  0  0  -26.0     262\n",
      "10   0   0   0   1   0   0   0  0  0  1  0  0  0  1  0  0  0  -25.0     185\n",
      "2    0   1   0   1   0   0   0  1  0  0  0  0  0  1  0  0  0  -24.0     155\n",
      "4    0   0   1   0   0   0   0  0  1  0  0  0  0  0  0  1  0  -24.0     134\n",
      "7    0   0   0   0   0   0   1  0  0  0  1  0  0  0  0  0  1  -24.0     162\n",
      "8    0   0   0   0   0   1   0  0  0  0  1  0  0  0  1  0  0  -23.0     142\n",
      "0    0   0   1   1   0   0   0  0  0  1  0  0  0  0  0  1  0  -22.0     123\n",
      "13   1   0   0   0   0   0   0  1  0  0  0  0  0  1  0  0  0  -22.0     112\n",
      "9    0   0   0   1   0   1   0  0  0  0  1  0  0  1  0  0  0  -21.0      88\n",
      "14   0   1   1   1   0   0   0  1  0  0  0  0  0  0  0  1  0  -21.0      78\n",
      "16   0   0   1   0   0   0   1  0  1  0  0  0  0  0  0  0  1  -21.0      86\n",
      "18   0   0   1   0   0   1   0  0  1  0  0  0  0  0  1  0  0  -20.0      75\n",
      "1    0   0   1   1   0   0   1  0  0  1  0  0  0  0  0  0  1  -19.0      57\n",
      "5    1   0   1   0   0   0   0  1  0  0  0  0  0  0  0  1  0  -19.0      63\n",
      "15   0   0   0   0   1   0   0  0  0  1  0  0  0  0  0  0  1  -19.0      64\n",
      "6    0   1   0   0   1   0   0  1  0  0  0  0  0  0  0  0  1  -18.0      31\n",
      "17   0   1   1   1   0   0   1  1  0  0  0  0  0  0  0  0  1  -18.0      51\n",
      "11   0   1   1   1   0   1   0  1  0  0  0  0  0  0  1  0  0  -17.0      30\n",
      "20   1   0   1   0   0   0   1  1  0  0  0  0  0  0  0  0  1  -16.0      27\n",
      "12   1   0   1   0   0   1   0  1  0  0  0  0  0  0  1  0  0  -15.0      11\n",
      "19   0   0   1   1   0   1   1  0  0  0  1  0  0  0  0  0  1  -15.0      25\n",
      "25   0   0   0   0   1   1   0  0  0  0  1  0  0  0  0  0  1  -15.0       8\n",
      "23   1   0   1   1   0   1   0  1  0  0  0  0  0  1  0  0  0  -13.0      17\n",
      "21   0   0   1   0   1   1   0  0  1  0  0  0  0  0  0  0  1  -12.0       5\n",
      "26   0   0   1   1   1   1   0  0  0  1  0  0  0  0  0  0  1  -10.0       4\n",
      "22   0   1   1   1   1   1   0  1  0  0  0  0  0  0  0  0  1   -9.0       1\n",
      "24   1   0   1   0   1   1   0  1  0  0  0  0  0  0  0  0  1   -7.0       4\n",
      "['BINARY', 27 rows, 2000 samples, 17 variables]\n"
     ]
    }
   ],
   "source": [
    "num_reads = 2000\n",
    "t1 = time.time()\n",
    "sampleset2 = SimulatedAnnealingSampler().sample(bqm1, num_reads=num_reads).aggregate()\n",
    "heur_time = (time.time()-t1)*1000\n",
    "print('Time used (ms): {:.3f}\\n'.format(heur_time))\n",
    "print(sampleset2.filter(lambda s: s.energy<0))"
   ]
  },
  {
   "cell_type": "code",
   "execution_count": 11,
   "id": "b4a76d16-edae-4e59-a557-c389ce37d764",
   "metadata": {
    "tags": []
   },
   "outputs": [
    {
     "name": "stdout",
     "output_type": "stream",
     "text": [
      "Route 0-2: [0, 2], weight 1\n",
      "Route 2-1: [2, 1], weight 2\n",
      "Route 0-1: [0, 2, 1], weight 3\n",
      "Route 3-4: [3, 4], weight 3\n",
      "Route 1-3: [1, 3], weight 3\n",
      "Route 3-2: [3, 2], weight 4\n",
      "Route 2-3: [2, 1, 3], weight 5\n",
      "Route 3-1: [3, 2, 1], weight 6\n",
      "Route 0-3: [0, 2, 1, 3], weight 6\n",
      "Route 1-4: [1, 3, 4], weight 6\n",
      "Route 1-2: [1, 3, 2], weight 7\n",
      "Route 2-4: [2, 1, 3, 4], weight 8\n",
      "Route 0-4: [0, 2, 1, 3, 4], weight 9\n"
     ]
    }
   ],
   "source": [
    "for k,v in result_info(sampleset2,E1,vertices1).items():\n",
    "    print('Route '+k+': '+str(v[0])+', weight '+str(v[1]))"
   ]
  },
  {
   "cell_type": "code",
   "execution_count": 12,
   "id": "5f164d9d-5b0f-40d0-b57a-bb2464c29a58",
   "metadata": {
    "tags": []
   },
   "outputs": [
    {
     "name": "stdout",
     "output_type": "stream",
     "text": [
      "100% ok\n"
     ]
    }
   ],
   "source": [
    "check_result(G1,sampleset2,E1,vertices1)"
   ]
  },
  {
   "cell_type": "markdown",
   "id": "919a2172",
   "metadata": {},
   "source": [
    "### Quantum solver"
   ]
  },
  {
   "cell_type": "code",
   "execution_count": 9,
   "id": "132c1754",
   "metadata": {
    "tags": []
   },
   "outputs": [
    {
     "name": "stdout",
     "output_type": "stream",
     "text": [
      "Chip: Advantage_system4.1\n",
      "Qubits: 5760\n"
     ]
    }
   ],
   "source": [
    "machine = DWaveSampler(solver={'chip_id': 'Advantage_system4.1'})\n",
    "print('Chip:', machine.properties['chip_id'])\n",
    "print('Qubits:', machine.properties['num_qubits'])"
   ]
  },
  {
   "cell_type": "code",
   "execution_count": 10,
   "id": "25f71f94",
   "metadata": {
    "tags": []
   },
   "outputs": [],
   "source": [
    "num_reads = 2000\n",
    "sampleset3 = EmbeddingComposite(machine).sample(bqm1, num_reads=num_reads).aggregate()"
   ]
  },
  {
   "cell_type": "code",
   "execution_count": 11,
   "id": "ee8aac50",
   "metadata": {
    "tags": []
   },
   "outputs": [
    {
     "name": "stdout",
     "output_type": "stream",
     "text": [
      "QPU time used (ms): 345.4\n",
      "Physical qubits used: 34\n",
      "\n",
      "   0-1 0-2 1-3 2-1 2-4 3-2 3-4 s0 s1 s2 s3 s4 t0 t1 t2 t3 t4 energy num_oc. ...\n",
      "0    0   1   0   0   0   0   0  1  0  0  0  0  0  0  1  0  0  -26.0      61 ...\n",
      "1    0   0   0   1   0   0   0  0  0  1  0  0  0  1  0  0  0  -25.0     279 ...\n",
      "2    0   1   0   1   0   0   0  1  0  0  0  0  0  1  0  0  0  -24.0     139 ...\n",
      "3    0   0   0   0   0   0   1  0  0  0  1  0  0  0  0  0  1  -24.0     205 ...\n",
      "4    0   0   1   0   0   0   0  0  1  0  0  0  0  0  0  1  0  -24.0     121 ...\n",
      "5    0   0   0   0   0   1   0  0  0  0  1  0  0  0  1  0  0  -23.0      19 ...\n",
      "6    1   0   0   0   0   0   0  1  0  0  0  0  0  1  0  0  0  -22.0     119 ...\n",
      "7    0   0   1   1   0   0   0  0  0  1  0  0  0  0  0  1  0  -22.0     168 ...\n",
      "8    0   1   1   1   0   0   0  1  0  0  0  0  0  0  0  1  0  -21.0      82 ...\n",
      "9    0   0   0   1   0   1   0  0  0  0  1  0  0  1  0  0  0  -21.0      81 ...\n",
      "10   0   0   1   0   0   0   1  0  1  0  0  0  0  0  0  0  1  -21.0      69 ...\n",
      "11   0   0   1   0   0   1   0  0  1  0  0  0  0  0  1  0  0  -20.0      22 ...\n",
      "12   0   0   1   1   0   0   1  0  0  1  0  0  0  0  0  0  1  -19.0     145 ...\n",
      "13   0   0   0   0   1   0   0  0  0  1  0  0  0  0  0  0  1  -19.0      33 ...\n",
      "14   1   0   1   0   0   0   0  1  0  0  0  0  0  0  0  1  0  -19.0      66 ...\n",
      "15   0   1   1   1   0   0   1  1  0  0  0  0  0  0  0  0  1  -18.0      46 ...\n",
      "16   0   1   0   0   1   0   0  1  0  0  0  0  0  0  0  0  1  -18.0      23 ...\n",
      "17   0   1   1   1   0   1   0  1  0  0  0  0  0  0  1  0  0  -17.0      26 ...\n",
      "18   1   0   1   0   0   0   1  1  0  0  0  0  0  0  0  0  1  -16.0      42 ...\n",
      "19   0   0   0   0   1   1   0  0  0  0  1  0  0  0  0  0  1  -15.0      13 ...\n",
      "20   1   0   1   0   0   1   0  1  0  0  0  0  0  0  1  0  0  -15.0      20 ...\n",
      "21   0   0   1   1   0   1   1  0  0  0  1  0  0  0  0  0  1  -15.0      45 ...\n",
      "22   1   0   1   1   0   1   0  1  0  0  0  0  0  1  0  0  0  -13.0      40 ...\n",
      "23   0   0   1   0   1   1   0  0  1  0  0  0  0  0  0  0  1  -12.0       7 ...\n",
      "24   0   0   1   1   1   1   0  0  0  1  0  0  0  0  0  0  1  -10.0       7 ...\n",
      "25   0   1   1   1   1   1   0  1  0  0  0  0  0  0  0  0  1   -9.0       6 ...\n",
      "26   1   0   1   0   1   1   0  1  0  0  0  0  0  0  0  0  1   -7.0       6 ...\n",
      "['BINARY', 27 rows, 1890 samples, 17 variables]\n"
     ]
    }
   ],
   "source": [
    "qpu_time = sampleset3.info['timing']['qpu_access_time'] / 1000\n",
    "qubits = sum(len(x) for x in sampleset3.info['embedding_context']['embedding'].values())\n",
    "print('QPU time used (ms): {:.1f}'.format(qpu_time))\n",
    "print('Physical qubits used: {}\\n'.format(qubits))\n",
    "print(sampleset3.filter(lambda s: s.energy<0))"
   ]
  },
  {
   "cell_type": "code",
   "execution_count": 20,
   "id": "11e37b0d-ab79-4a15-b467-dc93b1f3a86f",
   "metadata": {
    "tags": []
   },
   "outputs": [
    {
     "name": "stdout",
     "output_type": "stream",
     "text": [
      "Number of logical qubits: 17\n",
      "Number of couplers: 67\n",
      "QPU time used (ms): 179.9\n",
      "Physical qubits used: 32\n",
      "\n"
     ]
    }
   ],
   "source": [
    "print('Number of logical qubits:',Q1.shape[0])\n",
    "print('Number of couplers:', len(bqm1.quadratic))\n",
    "qpu_time = sampleset3.info['timing']['qpu_access_time'] / 1000\n",
    "qubits = sum(len(x) for x in sampleset3.info['embedding_context']['embedding'].values())\n",
    "print('QPU time used (ms): {:.1f}'.format(qpu_time))\n",
    "print('Physical qubits used: {}\\n'.format(qubits))"
   ]
  },
  {
   "cell_type": "code",
   "execution_count": 21,
   "id": "8bd6a731",
   "metadata": {
    "tags": []
   },
   "outputs": [
    {
     "name": "stdout",
     "output_type": "stream",
     "text": [
      "Route 0-2: [0, 2], weight 1\n",
      "Route 2-1: [2, 1], weight 2\n",
      "Route 0-1: [0, 2, 1], weight 3\n",
      "Route 1-3: [1, 3], weight 3\n",
      "Route 3-4: [3, 4], weight 3\n",
      "Route 3-2: [3, 2], weight 4\n",
      "Route 2-3: [2, 1, 3], weight 5\n",
      "Route 0-3: [0, 2, 1, 3], weight 6\n",
      "Route 1-4: [1, 3, 4], weight 6\n",
      "Route 3-1: [3, 2, 1], weight 6\n",
      "Route 1-2: [1, 3, 2], weight 7\n",
      "Route 2-4: [2, 1, 3, 4], weight 8\n",
      "Route 0-4: [0, 2, 1, 3, 4], weight 9\n"
     ]
    }
   ],
   "source": [
    "for k,v in result_info(sampleset3,E1,vertices1).items():\n",
    "    print('Route '+k+': '+str(v[0])+', weight '+str(v[1]))"
   ]
  },
  {
   "cell_type": "code",
   "execution_count": 22,
   "id": "ecb2d43b-a988-48ee-a1e7-d9779ff527f6",
   "metadata": {
    "tags": []
   },
   "outputs": [
    {
     "name": "stdout",
     "output_type": "stream",
     "text": [
      "100% ok\n"
     ]
    }
   ],
   "source": [
    "check_result(G1,sampleset3,E1,vertices1)"
   ]
  },
  {
   "cell_type": "markdown",
   "id": "38cc6a22-c293-4909-93e3-dfd1079efdf8",
   "metadata": {},
   "source": [
    "### Hybrid solver"
   ]
  },
  {
   "cell_type": "code",
   "execution_count": 23,
   "id": "7ad65da6-93ab-487b-b778-189a34c9b869",
   "metadata": {
    "tags": []
   },
   "outputs": [
    {
     "name": "stdout",
     "output_type": "stream",
     "text": [
      "QPU time used (ms): 104.9\n",
      "Total time used (ms): 2995.6\n",
      "\n",
      "  0-1 0-2 1-3 2-1 2-4 3-2 3-4 s0 s1 s2 s3 s4 t0 t1 t2 t3 t4 energy num_oc.\n",
      "0   0   1   0   0   0   0   0  1  0  0  0  0  0  0  1  0  0  -26.0       1\n",
      "['BINARY', 1 rows, 1 samples, 17 variables]\n"
     ]
    }
   ],
   "source": [
    "sampleset3 = LeapHybridSampler().sample(bqm1)\n",
    "hyb_time = sampleset3.info['qpu_access_time'] / 1000\n",
    "run_time = sampleset3.info['run_time'] / 1000\n",
    "print('QPU time used (ms): {:.1f}'.format(hyb_time))\n",
    "print('Total time used (ms): {:.1f}\\n'.format(run_time))\n",
    "print(sampleset3) "
   ]
  },
  {
   "cell_type": "markdown",
   "id": "2105c607-9da4-4217-9a9a-dd9a299dbf4a",
   "metadata": {},
   "source": [
    "### Timings"
   ]
  },
  {
   "cell_type": "code",
   "execution_count": 221,
   "id": "61bdc818-8515-4396-be7d-d21cf2ea58c4",
   "metadata": {
    "tags": []
   },
   "outputs": [
    {
     "name": "stdout",
     "output_type": "stream",
     "text": [
      "Construting QUBO: 0.374\n",
      "Construting BQM: 0.257\n",
      "\n",
      "Local deterministic solver: 251.4\n",
      "Local heuristic solver: 1548.3\n",
      "Quantum solver: 252.7\n"
     ]
    }
   ],
   "source": [
    "print('Construting QUBO: {:.3f}'.format(qubo_time))\n",
    "print('Construting BQM: {:.3f}'.format(bqm_time))\n",
    "print('\\nLocal deterministic solver: {:.1f}'.format(det_time))\n",
    "print('Local heuristic solver: {:.1f}'.format(heur_time))\n",
    "print('Quantum solver: {:.1f}'.format(qpu_time))"
   ]
  },
  {
   "cell_type": "markdown",
   "id": "68a02299-8517-4e2a-b68f-6f5371285672",
   "metadata": {},
   "source": [
    "## More complex graph"
   ]
  },
  {
   "cell_type": "code",
   "execution_count": 24,
   "id": "80038cf1-6ef8-4820-bc45-ef653df86e93",
   "metadata": {
    "tags": []
   },
   "outputs": [],
   "source": [
    "seed = 42\n",
    "vertices2 = 10\n",
    "random.seed(seed)\n",
    "G2 = nx.gnp_random_graph(vertices2, 0.30, seed, directed=True)\n",
    "nx.set_edge_attributes(G2, {e: {'weight': random.randint(1, 10)} for e in G2.edges})"
   ]
  },
  {
   "cell_type": "code",
   "execution_count": 25,
   "id": "7175b2b6-244e-410b-8535-2ebe5f66f3fe",
   "metadata": {
    "tags": []
   },
   "outputs": [
    {
     "name": "stdout",
     "output_type": "stream",
     "text": [
      "Number of edges: 34\n",
      "Number of vertices: 10\n",
      "Max count: 166\n"
     ]
    }
   ],
   "source": [
    "E2 = [] \n",
    "for e in G2.edges(data=True):\n",
    "    E2.append((e[0],e[1],e[2]['weight']))\n",
    "print('Number of edges:',len(E2))\n",
    "print('Number of vertices:',vertices2)\n",
    "\n",
    "max_count2 = 0\n",
    "for e in E2:\n",
    "    max_count2 += e[2]\n",
    "print('Max count:',max_count2)\n",
    "\n",
    "labels2 = {}\n",
    "for i in range(vertices2):\n",
    "    labels2[i]='s'+str(i)\n",
    "    labels2[vertices2+i]='t'+str(i)   \n",
    "for i,e in enumerate(E2):\n",
    "    labels2[vertices2*2+i] = str(e[0]) + '-' + str(e[1])"
   ]
  },
  {
   "cell_type": "markdown",
   "id": "a9827abc-de75-4ddc-9187-cb5d8faa8752",
   "metadata": {},
   "source": [
    "### QUBO and BQM"
   ]
  },
  {
   "cell_type": "code",
   "execution_count": 26,
   "id": "e75fc527-e8bf-48cb-b054-1f4b451f541a",
   "metadata": {
    "tags": []
   },
   "outputs": [
    {
     "name": "stdout",
     "output_type": "stream",
     "text": [
      "Time used for construction Q (ms): 1.100\n",
      "Time used for construction BQM (ms): 0.345\n",
      "\n",
      "Number of logical qubits needed: 54\n",
      "Number of couplers needed: 438\n"
     ]
    }
   ],
   "source": [
    "t1 = time.time()\n",
    "p = max_count2\n",
    "Q2 = create_qubo(E2,vertices2,p)\n",
    "qubo_time = (time.time()-t1) * 1000\n",
    "print('Time used for construction Q (ms): {:.3f}'.format(qubo_time))\n",
    "\n",
    "t1 = time.time()\n",
    "bqm2 = dimod.BinaryQuadraticModel(Q2, 'BINARY')\n",
    "bqm_time = (time.time()-t1) * 1000\n",
    "bqm2 = bqm2.relabel_variables(labels2, inplace=False)\n",
    "print('Time used for construction BQM (ms): {:.3f}'.format(bqm_time))\n",
    "\n",
    "print('\\nNumber of logical qubits needed:',Q2.shape[0])\n",
    "print('Number of couplers needed:', len(bqm2.quadratic))"
   ]
  },
  {
   "cell_type": "code",
   "execution_count": 27,
   "id": "955ef64b-a862-4c44-8adf-a5e3b12f51fd",
   "metadata": {
    "tags": []
   },
   "outputs": [
    {
     "ename": "MemoryError",
     "evalue": "Unable to allocate 864. PiB for an array with shape (18014398509481984, 54) and data type int8",
     "output_type": "error",
     "traceback": [
      "\u001b[0;31m---------------------------------------------------------------------------\u001b[0m",
      "\u001b[0;31mMemoryError\u001b[0m                               Traceback (most recent call last)",
      "Cell \u001b[0;32mIn[27], line 2\u001b[0m\n\u001b[1;32m      1\u001b[0m t1 \u001b[38;5;241m=\u001b[39m time\u001b[38;5;241m.\u001b[39mtime()\n\u001b[0;32m----> 2\u001b[0m sampleset4 \u001b[38;5;241m=\u001b[39m \u001b[43mdimod\u001b[49m\u001b[38;5;241;43m.\u001b[39;49m\u001b[43mExactSolver\u001b[49m\u001b[43m(\u001b[49m\u001b[43m)\u001b[49m\u001b[38;5;241;43m.\u001b[39;49m\u001b[43msample\u001b[49m\u001b[43m(\u001b[49m\u001b[43mbqm2\u001b[49m\u001b[43m)\u001b[49m\n\u001b[1;32m      3\u001b[0m det_time \u001b[38;5;241m=\u001b[39m (time\u001b[38;5;241m.\u001b[39mtime()\u001b[38;5;241m-\u001b[39mt1)\u001b[38;5;241m*\u001b[39m\u001b[38;5;241m1000\u001b[39m\n\u001b[1;32m      4\u001b[0m \u001b[38;5;28mprint\u001b[39m(\u001b[38;5;124m'\u001b[39m\u001b[38;5;124mTime used (ms): \u001b[39m\u001b[38;5;132;01m{:.3f}\u001b[39;00m\u001b[38;5;130;01m\\n\u001b[39;00m\u001b[38;5;124m'\u001b[39m\u001b[38;5;241m.\u001b[39mformat(det_time))\n",
      "File \u001b[0;32m~/anaconda3/envs/ocean/lib/python3.8/site-packages/dimod/reference/samplers/exact_solver.py:83\u001b[0m, in \u001b[0;36mExactSolver.sample\u001b[0;34m(self, bqm, **kwargs)\u001b[0m\n\u001b[1;32m     80\u001b[0m \u001b[38;5;28;01mif\u001b[39;00m \u001b[38;5;129;01mnot\u001b[39;00m \u001b[38;5;28mlen\u001b[39m(bqm\u001b[38;5;241m.\u001b[39mvariables):\n\u001b[1;32m     81\u001b[0m     \u001b[38;5;28;01mreturn\u001b[39;00m SampleSet\u001b[38;5;241m.\u001b[39mfrom_samples([], bqm\u001b[38;5;241m.\u001b[39mvartype, energy\u001b[38;5;241m=\u001b[39m[])\n\u001b[0;32m---> 83\u001b[0m samples \u001b[38;5;241m=\u001b[39m \u001b[43m_graycode\u001b[49m\u001b[43m(\u001b[49m\u001b[43mbqm\u001b[49m\u001b[43m)\u001b[49m\n\u001b[1;32m     85\u001b[0m \u001b[38;5;28;01mif\u001b[39;00m bqm\u001b[38;5;241m.\u001b[39mvartype \u001b[38;5;129;01mis\u001b[39;00m Vartype\u001b[38;5;241m.\u001b[39mSPIN:\n\u001b[1;32m     86\u001b[0m     samples \u001b[38;5;241m=\u001b[39m \u001b[38;5;241m2\u001b[39m\u001b[38;5;241m*\u001b[39msamples \u001b[38;5;241m-\u001b[39m \u001b[38;5;241m1\u001b[39m\n",
      "File \u001b[0;32m~/anaconda3/envs/ocean/lib/python3.8/site-packages/dimod/reference/samplers/exact_solver.py:257\u001b[0m, in \u001b[0;36m_graycode\u001b[0;34m(bqm)\u001b[0m\n\u001b[1;32m    255\u001b[0m n \u001b[38;5;241m=\u001b[39m \u001b[38;5;28mlen\u001b[39m(bqm\u001b[38;5;241m.\u001b[39mvariables)\n\u001b[1;32m    256\u001b[0m ns \u001b[38;5;241m=\u001b[39m \u001b[38;5;241m1\u001b[39m \u001b[38;5;241m<<\u001b[39m n\n\u001b[0;32m--> 257\u001b[0m samples \u001b[38;5;241m=\u001b[39m \u001b[43mnp\u001b[49m\u001b[38;5;241;43m.\u001b[39;49m\u001b[43mempty\u001b[49m\u001b[43m(\u001b[49m\u001b[43m(\u001b[49m\u001b[43mns\u001b[49m\u001b[43m,\u001b[49m\u001b[43m \u001b[49m\u001b[43mn\u001b[49m\u001b[43m)\u001b[49m\u001b[43m,\u001b[49m\u001b[43m \u001b[49m\u001b[43mdtype\u001b[49m\u001b[38;5;241;43m=\u001b[39;49m\u001b[43mnp\u001b[49m\u001b[38;5;241;43m.\u001b[39;49m\u001b[43mint8\u001b[49m\u001b[43m)\u001b[49m\n\u001b[1;32m    259\u001b[0m samples[\u001b[38;5;241m0\u001b[39m, :] \u001b[38;5;241m=\u001b[39m \u001b[38;5;241m0\u001b[39m\n\u001b[1;32m    261\u001b[0m \u001b[38;5;28;01mfor\u001b[39;00m i \u001b[38;5;129;01min\u001b[39;00m \u001b[38;5;28mrange\u001b[39m(\u001b[38;5;241m1\u001b[39m, ns):\n",
      "\u001b[0;31mMemoryError\u001b[0m: Unable to allocate 864. PiB for an array with shape (18014398509481984, 54) and data type int8"
     ]
    }
   ],
   "source": [
    "t1 = time.time()\n",
    "sampleset4 = dimod.ExactSolver().sample(bqm2)\n",
    "det_time = (time.time()-t1)*1000\n",
    "print('Time used (ms): {:.3f}\\n'.format(det_time))\n",
    "print(sampleset4.filter(lambda s: s.energy<0))"
   ]
  },
  {
   "cell_type": "markdown",
   "id": "66198218-b00d-41ce-9497-0fb7517580fc",
   "metadata": {},
   "source": [
    "### Local heuristic solver"
   ]
  },
  {
   "cell_type": "code",
   "execution_count": 32,
   "id": "f44045b9-742f-4151-aab6-5bb1b0aa2e7d",
   "metadata": {
    "tags": []
   },
   "outputs": [
    {
     "name": "stdout",
     "output_type": "stream",
     "text": [
      "Time used (ms): 7464.803\n",
      "Lowest energy -165.0\n"
     ]
    }
   ],
   "source": [
    "num_reads = 10000\n",
    "t1 = time.time()\n",
    "sampleset4 = SimulatedAnnealingSampler().sample(bqm2, num_reads=num_reads).aggregate()\n",
    "heur_time = (time.time()-t1)*1000\n",
    "print('Time used (ms): {:.3f}'.format(heur_time))\n",
    "print('Lowest energy', sampleset4.first.energy)"
   ]
  },
  {
   "cell_type": "code",
   "execution_count": 33,
   "id": "7c95d89f-450a-45e7-a1ec-9a4fc945fdaa",
   "metadata": {
    "tags": []
   },
   "outputs": [
    {
     "name": "stdout",
     "output_type": "stream",
     "text": [
      "Path: [8, 6, 2, 9, 0] (17): correct: [[8, 7, 3, 0]] (16)\n",
      "99% ok\n"
     ]
    }
   ],
   "source": [
    "check_result(G2,sampleset4,E2,vertices2)"
   ]
  },
  {
   "cell_type": "markdown",
   "id": "cfd3ab9f-5c24-42f6-a160-c0b2125bc8e9",
   "metadata": {},
   "source": [
    "### Quantum solver"
   ]
  },
  {
   "cell_type": "code",
   "execution_count": 34,
   "id": "96a23ec1-8f3c-4f1c-a866-8edd466f912a",
   "metadata": {
    "tags": []
   },
   "outputs": [
    {
     "name": "stdout",
     "output_type": "stream",
     "text": [
      "Chip: Advantage_system4.1\n",
      "Qubits: 5760\n"
     ]
    }
   ],
   "source": [
    "machine = DWaveSampler(solver={'chip_id': 'Advantage_system4.1'})\n",
    "print('Chip:', machine.properties['chip_id'])\n",
    "print('Qubits:', machine.properties['num_qubits'])"
   ]
  },
  {
   "cell_type": "code",
   "execution_count": 39,
   "id": "df670e28-f622-4c13-8c15-921e64236abb",
   "metadata": {
    "tags": []
   },
   "outputs": [],
   "source": [
    "num_reads = 3000\n",
    "sampleset5 = EmbeddingComposite(machine).sample(bqm2, num_reads=num_reads)"
   ]
  },
  {
   "cell_type": "code",
   "execution_count": 40,
   "id": "3a33303b-df1f-4a59-acf7-4887648657c4",
   "metadata": {
    "tags": []
   },
   "outputs": [
    {
     "name": "stdout",
     "output_type": "stream",
     "text": [
      "QPU time used (ms): 416.8\n",
      "Lowest energy -154.0\n",
      "Physical qubits used: 241\n"
     ]
    }
   ],
   "source": [
    "qpu_time = sampleset5.info['timing']['qpu_access_time'] / 1000\n",
    "qubits = sum(len(x) for x in sampleset5.info['embedding_context']['embedding'].values())\n",
    "print('QPU time used (ms): {:.1f}'.format(qpu_time))\n",
    "print('Lowest energy', sampleset5.first.energy)\n",
    "print('Physical qubits used: {}'.format(qubits))"
   ]
  },
  {
   "cell_type": "code",
   "execution_count": 42,
   "id": "241aa0b0-fa3b-4479-a145-a04446872dd2",
   "metadata": {
    "tags": []
   },
   "outputs": [
    {
     "name": "stdout",
     "output_type": "stream",
     "text": [
      "Number of logical qubits: 54\n",
      "Number of couplers: 438\n",
      "QPU time used (ms): 416.8\n",
      "Physical qubits used: 241\n",
      "\n"
     ]
    }
   ],
   "source": [
    "print('Number of logical qubits:',Q2.shape[0])\n",
    "print('Number of couplers:', len(bqm2.quadratic))\n",
    "qpu_time = sampleset5.info['timing']['qpu_access_time'] / 1000\n",
    "qubits = sum(len(x) for x in sampleset5.info['embedding_context']['embedding'].values())\n",
    "print('QPU time used (ms): {:.1f}'.format(qpu_time))\n",
    "print('Physical qubits used: {}\\n'.format(qubits))"
   ]
  },
  {
   "cell_type": "code",
   "execution_count": 43,
   "id": "b6058feb-1bf7-48b8-9653-d9bc4b70f51e",
   "metadata": {
    "tags": []
   },
   "outputs": [
    {
     "name": "stdout",
     "output_type": "stream",
     "text": [
      "11% ok\n",
      "Chain breaks: 0.0\n"
     ]
    }
   ],
   "source": [
    "check_result(G2,sampleset5,E2,vertices2,verbose=False)\n",
    "print('Chain breaks:',sampleset5.first.chain_break_fraction)"
   ]
  },
  {
   "cell_type": "code",
   "execution_count": 44,
   "id": "49001b04-7058-4a69-8a3e-69a62bb1c79e",
   "metadata": {
    "tags": []
   },
   "outputs": [
    {
     "name": "stdout",
     "output_type": "stream",
     "text": [
      "  0-2 0-3 0-4 0-8 1-0 1-2 1-4 1-5 1-8 2-1 2-6 2-9 3-0 ... t9 energy num_oc. ...\n",
      "0   0   0   0   0   0   0   1   0   0   0   0   0   0 ...  1 -154.0       1 ...\n",
      "1   1   0   0   0   0   0   0   0   0   0   0   1   1 ...  0 -153.0       1 ...\n",
      "2   0   0   0   0   0   1   0   0   0   0   0   1   0 ...  0 -150.0       1 ...\n",
      "3   0   0   0   0   0   1   0   0   0   0   0   1   0 ...  0 -148.0       1 ...\n",
      "4   0   0   0   0   0   0   0   0   0   0   0   1   0 ...  0 -148.0       1 ...\n",
      "5   0   0   1   0   0   0   0   0   0   0   0   0   0 ...  0 -148.0       1 ...\n",
      "6   0   0   0   0   0   0   0   0   1   0   0   1   0 ...  0 -147.0       1 ...\n",
      "7   0   0   1   0   1   0   0   0   0   0   0   0   0 ...  1 -147.0       1 ...\n",
      "8   0   1   0   0   0   0   0   0   0   0   0   1   0 ...  0 -147.0       1 ...\n",
      "9   0   1   0   0   1   0   0   0   0   0   0   1   0 ...  0 -146.0       1 ...\n",
      "['BINARY', 10 rows, 10 samples, 54 variables]\n"
     ]
    }
   ],
   "source": [
    "print(sampleset5.truncate(10))"
   ]
  },
  {
   "cell_type": "code",
   "execution_count": 232,
   "id": "e1f7ae25-daa4-4196-8cba-b208ec313dae",
   "metadata": {
    "tags": []
   },
   "outputs": [
    {
     "name": "stdout",
     "output_type": "stream",
     "text": [
      "QPU time used (ms): 138.7\n",
      "Lowest energy -154.0\n",
      "Chain breaks: 0.0\n",
      "Physical qubits used: 241\n",
      "\n",
      "3% ok\n"
     ]
    }
   ],
   "source": [
    "chain_strength = p*2+1 #Default 1\n",
    "num_reads = 1000\n",
    "sampleset5 = EmbeddingComposite(machine).sample(bqm2, num_reads=num_reads, chain_strength=chain_strength)\n",
    "qpu_time = sampleset5.info['timing']['qpu_access_time'] / 1000\n",
    "qubits = sum(len(x) for x in sampleset5.info['embedding_context']['embedding'].values())\n",
    "print('QPU time used (ms): {:.1f}'.format(qpu_time))\n",
    "print('Lowest energy', sampleset5.first.energy)\n",
    "print('Chain breaks:',sampleset5.first.chain_break_fraction)\n",
    "print('Physical qubits used: {}\\n'.format(qubits))\n",
    "check_result(G2,sampleset5,E2,vertices2,verbose=False)"
   ]
  },
  {
   "cell_type": "markdown",
   "id": "f2b32a10-a3b3-4243-a168-d76fe8532dc2",
   "metadata": {},
   "source": [
    "### Timings"
   ]
  },
  {
   "cell_type": "code",
   "execution_count": 233,
   "id": "958463dc-afbb-4f7f-a7d5-169348488c5d",
   "metadata": {
    "tags": []
   },
   "outputs": [
    {
     "name": "stdout",
     "output_type": "stream",
     "text": [
      "Construting QUBO (ms): 1.170\n",
      "Construting BQM (ms): 0.361\n",
      "\n",
      "Local heuristic solver (ms): 7581.9\n",
      "Quantum solver (ms): 138.7\n"
     ]
    }
   ],
   "source": [
    "print('Construting QUBO (ms): {:.3f}'.format(qubo_time))\n",
    "print('Construting BQM (ms): {:.3f}'.format(bqm_time))\n",
    "print('\\nLocal heuristic solver (ms): {:.1f}'.format(heur_time))\n",
    "print('Quantum solver (ms): {:.1f}'.format(qpu_time))"
   ]
  },
  {
   "cell_type": "markdown",
   "id": "bfb4415d-fc8e-4757-8c05-53f20aa83300",
   "metadata": {},
   "source": [
    "## Test procedure #1\n",
    "\n",
    "Test with 20 random graphs, with local heuristic solver"
   ]
  },
  {
   "cell_type": "code",
   "execution_count": 19,
   "id": "ee19137d-50e7-4033-b264-c378a9592c45",
   "metadata": {
    "tags": []
   },
   "outputs": [
    {
     "name": "stdout",
     "output_type": "stream",
     "text": [
      "\n",
      "Seed: 0\n",
      "81 / 81\n",
      "result: 100%\n",
      "\n",
      "Seed: 1\n",
      "81 / 81\n",
      "result: 100%\n",
      "\n",
      "Seed: 2\n",
      "73 / 73\n",
      "result: 100%\n",
      "\n",
      "Seed: 3\n",
      "72 / 72\n",
      "result: 100%\n",
      "\n",
      "Seed: 4\n",
      "89 / 90\n",
      "result: 98%\n",
      "\n",
      "Seed: 5\n",
      "90 / 90\n",
      "result: 100%\n",
      "\n",
      "Seed: 6\n",
      "56 / 56\n",
      "result: 100%\n",
      "\n",
      "Seed: 7\n",
      "81 / 81\n",
      "result: 100%\n",
      "\n",
      "Seed: 8\n",
      "90 / 90\n",
      "result: 100%\n",
      "\n",
      "Seed: 9\n",
      "85 / 90\n",
      "result: 94%\n",
      "\n",
      "Seed: 10\n",
      "81 / 81\n",
      "result: 100%\n",
      "\n",
      "Seed: 11\n",
      "86 / 90\n",
      "result: 95%\n",
      "\n",
      "Seed: 12\n",
      "74 / 74\n",
      "result: 100%\n",
      "\n",
      "Seed: 13\n",
      "90 / 90\n",
      "result: 100%\n",
      "\n",
      "Seed: 14\n",
      "90 / 90\n",
      "result: 100%\n",
      "\n",
      "Seed: 15\n",
      "72 / 72\n",
      "result: 100%\n",
      "\n",
      "Seed: 16\n",
      "81 / 81\n",
      "result: 100%\n",
      "\n",
      "Seed: 17\n",
      "81 / 81\n",
      "result: 100%\n",
      "\n",
      "Seed: 18\n",
      "90 / 90\n",
      "result: 100%\n",
      "\n",
      "Seed: 19\n",
      "86 / 90\n",
      "result: 95%\n"
     ]
    }
   ],
   "source": [
    "for seed in range(20):\n",
    "    vertices = 10\n",
    "    num_reads = 20000\n",
    "    random.seed(seed)\n",
    "    G = nx.gnp_random_graph(vertices, 0.30, seed, directed=True)\n",
    "    nx.set_edge_attributes(G, {e: {'weight': random.randint(1, 10)} for e in G.edges})\n",
    "    \n",
    "    E = [] \n",
    "    for e in G.edges(data=True):\n",
    "        E.append((e[0],e[1],e[2]['weight']))\n",
    "\n",
    "    max_count = 0\n",
    "    for e in E:\n",
    "        max_count += e[2]\n",
    "\n",
    "    labels = {}\n",
    "    for i in range(vertices):\n",
    "        labels[i]='s'+str(i)\n",
    "        labels[vertices+i]='t'+str(i)   \n",
    "    for i,e in enumerate(E):\n",
    "        labels[vertices*2+i] = str(e[0]) + '-' + str(e[1])\n",
    "        \n",
    "    \n",
    "    Q = create_qubo(E,vertices,max_count)\n",
    "    bqm = dimod.BinaryQuadraticModel(Q, 'BINARY')\n",
    "    bqm = bqm.relabel_variables(labels, inplace=False)\n",
    "\n",
    "    sampleset = SimulatedAnnealingSampler().sample(bqm, num_reads=num_reads).aggregate()\n",
    "    print('\\nSeed:',seed)\n",
    "    res = check_result(G,sampleset)\n",
    "    print('result: ' + res + \"%\")"
   ]
  },
  {
   "cell_type": "code",
   "execution_count": null,
   "id": "2e13d896-4401-44ea-b3f5-bf04e4335ceb",
   "metadata": {},
   "outputs": [],
   "source": []
  }
 ],
 "metadata": {
  "kernelspec": {
   "display_name": "Python 3 (ipykernel)",
   "language": "python",
   "name": "python3"
  },
  "language_info": {
   "codemirror_mode": {
    "name": "ipython",
    "version": 3
   },
   "file_extension": ".py",
   "mimetype": "text/x-python",
   "name": "python",
   "nbconvert_exporter": "python",
   "pygments_lexer": "ipython3",
   "version": "3.8.18"
  }
 },
 "nbformat": 4,
 "nbformat_minor": 5
}
