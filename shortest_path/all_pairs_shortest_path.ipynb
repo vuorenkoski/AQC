{
 "cells": [
  {
   "cell_type": "markdown",
   "id": "d55be57b-8ef5-4716-95cb-35c8666239ac",
   "metadata": {},
   "source": [
    "# All pairs shortest path algorithm\n",
    "\n",
    "Shortest paths between every pair of vertices -algorithm implemented by QUBO in quantum annealer. Classical version of this is Floyd-Warshall algorithm: https://en.wikipedia.org/wiki/Floyd%E2%80%93Warshall_algorithm\n",
    "\n",
    "Here directed graph $G=(V,E)$ has sets of vertices $V$ and edges $E \\subseteq \\{(x,y)|(x,y) \\in V^2 and x \\not = y\\}$. For every edge there is weight $w_{xy}$. Task is to find path with minimum sum of weights for every combination of $(s,t) \\in E^2$.\n",
    "\n",
    "In this solution QUBO has seperate elements for starting vertices $s \\in V$ and terminating vertices $t \\in V$. In addition it has one element for each edge $e \\in E$. So alltogother QUBO is matrix of $(|V|+|V|+|E|) \\times (|V|+|V|+|E|)$. First block is $|V|$ elements which indicate what is the starting vertex $s$. Second block is $|V|$ elements which indicate what is the terminating vertex $t$. Last block of $|E|$ indicates which edges form the shortest path between $s$ and $t$.\n",
    "\n",
    "Penalty $p=\\sum w_{xy}$.\n",
    "\n",
    "Following constraints are build to QUBO: \n",
    "1. Exactly one s vertex (if more than one: $2p$)\n",
    "2. Exactly one t vertex (if more than one: $2p$)\n",
    "3. Vertices s and t are different (if not: $p$)\n",
    "4. There should be one vertex starting from $s$ ($-p$ for each), no vertex should end to $s$ ($p$ for each)\n",
    "5. There should be one vertex ending to $t$ ($-p$ for each), no vertex should start from $t$ ($p$ for each)\n",
    "6. Two edges should not start/end to the same vertex, for example $s$ or $t$ (if so $2p$) \n",
    "7. Two edges should form a chain (ok chain gives $p$, otherwise more than that)\n",
    "8. Path having lower weights should be prioritised\n",
    "\n",
    "Proper path with correct $s$ and $t$ would give energy level of $w-p$ (constraint 7 brings minimum $p$ and constraint 4 and 5 both minimum $-p$). Because $p=\\sum w_{xy}$ all samples with energy level below zero are correct paths. From this set of samples we choose lowest energy level sample for each $(s,t)$. "
   ]
  },
  {
   "cell_type": "code",
   "execution_count": 13,
   "id": "63525c69-dd51-43cc-b6a5-988fcf02f1d3",
   "metadata": {
    "tags": []
   },
   "outputs": [],
   "source": [
    "import numpy as np\n",
    "import time\n",
    "import dimod\n",
    "from dwave.system import DWaveSampler, EmbeddingComposite, LeapHybridSampler\n",
    "from dwave.samplers import SimulatedAnnealingSampler\n",
    "import dwave.inspector\n",
    "import networkx as nx\n",
    "from networkx.classes.function import path_weight\n",
    "import random"
   ]
  },
  {
   "cell_type": "markdown",
   "id": "5d46e183-a34b-41ef-b221-4a2942030dfc",
   "metadata": {},
   "source": [
    "## Function to create QUBO\n",
    "\n",
    "E is array of tuples (1st vertice, 2nd vertice, weight), veritices is number of vertices, p is penalty."
   ]
  },
  {
   "cell_type": "code",
   "execution_count": 14,
   "id": "28c0a125-984b-4dda-9838-e9c7af4724b1",
   "metadata": {
    "tags": []
   },
   "outputs": [],
   "source": [
    "def create_qubo(E,vertices,p):\n",
    "    edges = len(E)\n",
    "    Q = np.zeros((2*vertices + edges, 2*vertices + edges))\n",
    "\n",
    "    t1 = time.time()\n",
    "\n",
    "    # Constraints 1 and 2\n",
    "    for i in range(vertices):\n",
    "        for j in range(i+1,vertices):\n",
    "            Q[i,j]=2*p\n",
    "            Q[vertices+i,j+vertices] = 2*p\n",
    "        \n",
    "    # Constraint 3\n",
    "    for i in range(vertices):\n",
    "        Q[i,i+vertices] = p\n",
    "\n",
    "    # Constraint 4\n",
    "    for v in range(vertices):\n",
    "        for i,e in enumerate(E):\n",
    "            if e[0]==v:\n",
    "                Q[v,vertices*2+i] = -p\n",
    "            if e[1]==v:\n",
    "                Q[v,vertices*2+i] = p\n",
    "\n",
    "    # Constraint 5\n",
    "    for v in range(vertices):\n",
    "        for i,e in enumerate(E):\n",
    "            if e[1]==v:\n",
    "                Q[vertices+v,vertices*2+i] = -p\n",
    "            if e[0]==v:\n",
    "                Q[vertices+v,vertices*2+i] = p\n",
    "\n",
    "    # Constraint 6\n",
    "    for i in range(edges):\n",
    "        for j in range(i+1,edges):\n",
    "            if E[i][0]==E[j][0] or E[i][1]==E[j][1]:\n",
    "                Q[vertices*2+i,vertices*2+j] = 2*p\n",
    "\n",
    "    # Constraint 7\n",
    "    for i in range(edges):\n",
    "        Q[vertices*2+i,vertices*2+i] += p\n",
    "        for j in range(i+1,edges):\n",
    "            if E[i][1]==E[j][0] or E[i][0]==E[j][1]:\n",
    "                Q[vertices*2+i,vertices*2+j] += -p\n",
    "\n",
    "    # Constraint 8 \n",
    "    for i in range(edges):\n",
    "        Q[vertices*2+i,vertices*2+i] += E[i][2]\n",
    "    \n",
    "    return Q"
   ]
  },
  {
   "cell_type": "markdown",
   "id": "1039835d-2cf8-4cfd-a672-80dc71c6bc1a",
   "metadata": {},
   "source": [
    "## Some helper functions for getting results from sampleset"
   ]
  },
  {
   "cell_type": "code",
   "execution_count": 15,
   "id": "4697b080-4e96-4690-adb8-bcf632502e15",
   "metadata": {
    "tags": []
   },
   "outputs": [],
   "source": [
    "def path_from_sample(sample,E,vertices):\n",
    "    s = 0\n",
    "    t = 0\n",
    "    w = 0\n",
    "    for v in range(vertices):\n",
    "        if sample['s'+str(v)]==1:\n",
    "            s = v\n",
    "        if sample['t'+str(v)]==1:\n",
    "            t = v\n",
    "    i = s\n",
    "    path = [i]\n",
    "    while i!=t:\n",
    "        for e in E:\n",
    "            if e[0]==i and sample[str(e[0]) + '-' + str(e[1])]==1:\n",
    "                i = e[1]\n",
    "                path.append(i)\n",
    "                w += e[2]\n",
    "    return (str(s)+'-'+str(t),path,w)\n",
    "        \n",
    "\n",
    "def result_info(sampleset, E, vertices):\n",
    "    res = {}\n",
    "    for s in sampleset.filter(lambda s: s.energy<0):\n",
    "        st, path, w = path_from_sample(s,E,vertices)\n",
    "        if st not in res:\n",
    "            res[st]=(path,w)\n",
    "    return res\n",
    "\n",
    "def check_result(G,sampleset,E,vertices, verbose=True):\n",
    "    ok = 0\n",
    "    s = 0\n",
    "    res = result_info(sampleset,E,vertices)\n",
    "    for i in range(vertices):\n",
    "        for j in range(vertices):\n",
    "            if i!=j:\n",
    "                if nx.has_path(G,i,j):\n",
    "                    s += 1\n",
    "                    p1 = [p for p in nx.all_shortest_paths(G,i,j,weight='weight')]\n",
    "                    w = path_weight(G,p1[0],'weight')\n",
    "                    if str(i)+'-'+str(j) in res.keys():\n",
    "                        p2 = res[str(i)+'-'+str(j)]\n",
    "                        if (not p2[0] in p1) and w!=p2[1]:\n",
    "                            if verbose:\n",
    "                                print('Path: '+str(p2[0])+' ('+str(p2[1])+'): correct: '+str(p1)+' ('+str(w)+')')\n",
    "                        else:\n",
    "                            ok += 1\n",
    "                    else:\n",
    "                        if verbose:\n",
    "                            print('Path suggested: '+str(i)+'-'+str(j)+' missing: correct: '+str(p1)+' ('+str(w)+')')\n",
    "    print('{:.0f}% ok'.format((100*ok/s)))\n",
    "\n",
    "def make_G(E,vertices):\n",
    "    G = nx.DiGraph()\n",
    "    G.add_nodes_from([0, vertices-1])\n",
    "    for e in E:\n",
    "        G.add_edge(e[0], e[1], weight=e[2])\n",
    "    return(G)"
   ]
  },
  {
   "cell_type": "markdown",
   "id": "b4dcd719-cf35-407e-9711-66a5cabf1d6b",
   "metadata": {
    "tags": []
   },
   "source": [
    "## Simple graph"
   ]
  },
  {
   "cell_type": "markdown",
   "id": "5649c0b6",
   "metadata": {},
   "source": [
    "### Define graph\n",
    "\n",
    "Input graph is array of tuples (1st vertice, 2nd vertice, weight)"
   ]
  },
  {
   "cell_type": "code",
   "execution_count": 16,
   "id": "c7f22202",
   "metadata": {
    "tags": []
   },
   "outputs": [],
   "source": [
    "E1 = np.array([(0, 2, 1), (2, 1, 2), (1, 3, 3), (3, 2, 4), (0, 1, 5), (3, 4, 3), (2, 4, 8)])\n",
    "vertices1 = 5\n",
    "G1 = make_G(E1,vertices1)"
   ]
  },
  {
   "cell_type": "markdown",
   "id": "4aac45bc",
   "metadata": {},
   "source": [
    "Above graph visualised:\n",
    "\n",
    "![](graph4.png)"
   ]
  },
  {
   "cell_type": "markdown",
   "id": "72682cd6-5890-43d4-9826-4c82ece6f476",
   "metadata": {},
   "source": [
    "### Max_count and labels"
   ]
  },
  {
   "cell_type": "code",
   "execution_count": 17,
   "id": "df0cf817-0abf-4fd9-ad7f-7d1fa82f6d3e",
   "metadata": {
    "tags": []
   },
   "outputs": [
    {
     "name": "stdout",
     "output_type": "stream",
     "text": [
      "Max count: 26\n"
     ]
    }
   ],
   "source": [
    "max_count1 = 0\n",
    "edges = len(E1)\n",
    "for e in E1:\n",
    "    max_count1 += e[2]\n",
    "print('Max count:',max_count1)\n",
    "\n",
    "labels1 = {}\n",
    "for i in range(vertices1):\n",
    "    labels1[i]='s'+str(i)\n",
    "    labels1[vertices1+i]='t'+str(i)   \n",
    "for i,e in enumerate(E1):\n",
    "    labels1[vertices1*2+i] = str(e[0]) + '-' + str(e[1])"
   ]
  },
  {
   "cell_type": "markdown",
   "id": "a649a509-ae35-4998-9ebd-5eeaafaa57d0",
   "metadata": {},
   "source": [
    "### Create QUBO and BQM"
   ]
  },
  {
   "cell_type": "code",
   "execution_count": 18,
   "id": "1891d43a",
   "metadata": {
    "tags": []
   },
   "outputs": [
    {
     "name": "stdout",
     "output_type": "stream",
     "text": [
      "Time used for construction Q (ms): 0.320\n",
      "\n"
     ]
    }
   ],
   "source": [
    "t1 = time.time()\n",
    "Q1 = create_qubo(E1,vertices1,max_count1)\n",
    "qubo_time = (time.time()-t1)*1000\n",
    "print('Time used for construction Q (ms): {:.3f}\\n'.format(qubo_time))\n",
    "\n",
    "t1 = time.time()\n",
    "bqm1 = dimod.BinaryQuadraticModel(Q1, 'BINARY')\n",
    "bqm_time = (time.time()-t1)*1000\n",
    "bqm1 = bqm1.relabel_variables(labels1, inplace=False)"
   ]
  },
  {
   "cell_type": "markdown",
   "id": "bd174749",
   "metadata": {},
   "source": [
    "### Local deterministic solver"
   ]
  },
  {
   "cell_type": "code",
   "execution_count": 19,
   "id": "a8ca8697",
   "metadata": {
    "tags": []
   },
   "outputs": [
    {
     "name": "stdout",
     "output_type": "stream",
     "text": [
      "Time used (ms): 218.564\n",
      "\n",
      "   0-1 0-2 1-3 2-1 2-4 3-2 3-4 s0 s1 s2 s3 s4 t0 t1 t2 t3 t4 energy num_oc.\n",
      "0    0   1   0   0   0   0   0  1  0  0  0  0  0  0  1  0  0  -25.0       1\n",
      "2    0   0   0   1   0   0   0  0  0  1  0  0  0  1  0  0  0  -24.0       1\n",
      "1    0   1   0   1   0   0   0  1  0  0  0  0  0  1  0  0  0  -23.0       1\n",
      "5    0   0   1   0   0   0   0  0  1  0  0  0  0  0  0  1  0  -23.0       1\n",
      "16   0   0   0   0   0   0   1  0  0  0  1  0  0  0  0  0  1  -23.0       1\n",
      "8    0   0   0   0   0   1   0  0  0  0  1  0  0  0  1  0  0  -22.0       1\n",
      "3    0   0   1   1   0   0   0  0  0  1  0  0  0  0  0  1  0  -21.0       1\n",
      "11   1   0   0   0   0   0   0  1  0  0  0  0  0  1  0  0  0  -21.0       1\n",
      "4    0   1   1   1   0   0   0  1  0  0  0  0  0  0  0  1  0  -20.0       1\n",
      "7    0   0   0   1   0   1   0  0  0  0  1  0  0  1  0  0  0  -20.0       1\n",
      "13   0   0   1   0   0   0   1  0  1  0  0  0  0  0  0  0  1  -20.0       1\n",
      "6    0   0   1   0   0   1   0  0  1  0  0  0  0  0  1  0  0  -19.0       1\n",
      "10   1   0   1   0   0   0   0  1  0  0  0  0  0  0  0  1  0  -18.0       1\n",
      "15   0   0   1   1   0   0   1  0  0  1  0  0  0  0  0  0  1  -18.0       1\n",
      "21   0   0   0   0   1   0   0  0  0  1  0  0  0  0  0  0  1  -18.0       1\n",
      "14   0   1   1   1   0   0   1  1  0  0  0  0  0  0  0  0  1  -17.0       1\n",
      "20   0   1   0   0   1   0   0  1  0  0  0  0  0  0  0  0  1  -17.0       1\n",
      "12   1   0   1   0   0   0   1  1  0  0  0  0  0  0  0  0  1  -15.0       1\n",
      "9    1   0   1   0   0   1   0  1  0  0  0  0  0  0  1  0  0  -14.0       1\n",
      "18   0   0   0   0   1   1   0  0  0  0  1  0  0  0  0  0  1  -14.0       1\n",
      "19   0   0   1   0   1   1   0  0  1  0  0  0  0  0  0  0  1  -11.0       1\n",
      "17   1   0   1   0   1   1   0  1  0  0  0  0  0  0  0  0  1   -6.0       1\n",
      "['BINARY', 22 rows, 22 samples, 17 variables]\n"
     ]
    }
   ],
   "source": [
    "t1 = time.time()\n",
    "sampleset = dimod.ExactSolver().sample(bqm1)\n",
    "det_time = (time.time()-t1)*1000\n",
    "print('Time used (ms): {:.3f}\\n'.format(det_time))\n",
    "print(sampleset.filter(lambda s: s.energy<0))"
   ]
  },
  {
   "cell_type": "code",
   "execution_count": 20,
   "id": "47b0f271",
   "metadata": {
    "tags": []
   },
   "outputs": [
    {
     "name": "stdout",
     "output_type": "stream",
     "text": [
      "Route 0-2: [0, 2], weight 1\n",
      "Route 2-1: [2, 1], weight 2\n",
      "Route 0-1: [0, 2, 1], weight 3\n",
      "Route 1-3: [1, 3], weight 3\n",
      "Route 3-4: [3, 4], weight 3\n",
      "Route 3-2: [3, 2], weight 4\n",
      "Route 2-3: [2, 1, 3], weight 5\n",
      "Route 0-3: [0, 2, 1, 3], weight 6\n",
      "Route 3-1: [3, 2, 1], weight 6\n",
      "Route 1-4: [1, 3, 4], weight 6\n",
      "Route 1-2: [1, 3, 2], weight 7\n",
      "Route 2-4: [2, 1, 3, 4], weight 8\n",
      "Route 0-4: [0, 2, 1, 3, 4], weight 9\n"
     ]
    }
   ],
   "source": [
    "for k,v in result_info(sampleset, E1, vertices1).items():\n",
    "    print('Route '+k+': '+str(v[0])+', weight '+str(v[1]))"
   ]
  },
  {
   "cell_type": "code",
   "execution_count": 21,
   "id": "b2b687c4-320e-4e77-a470-6fe7fc123ecd",
   "metadata": {
    "tags": []
   },
   "outputs": [
    {
     "name": "stdout",
     "output_type": "stream",
     "text": [
      "100% ok\n"
     ]
    }
   ],
   "source": [
    "check_result(G1,sampleset,E1,vertices1)"
   ]
  },
  {
   "cell_type": "markdown",
   "id": "317bf617",
   "metadata": {},
   "source": [
    "### Local heuristic classical solver"
   ]
  },
  {
   "cell_type": "code",
   "execution_count": 22,
   "id": "a68eb6b7-2bd9-4203-a58b-2ea612e40537",
   "metadata": {
    "tags": []
   },
   "outputs": [
    {
     "name": "stdout",
     "output_type": "stream",
     "text": [
      "Time used (ms): 1536.451\n",
      "\n",
      "   0-1 0-2 1-3 2-1 2-4 3-2 3-4 s0 s1 s2 s3 s4 t0 t1 t2 t3 t4 energy num_oc.\n",
      "9    0   1   0   0   0   0   0  1  0  0  0  0  0  0  1  0  0  -25.0     606\n",
      "0    0   0   0   1   0   0   0  0  0  1  0  0  0  1  0  0  0  -24.0     556\n",
      "1    0   0   0   0   0   0   1  0  0  0  1  0  0  0  0  0  1  -23.0     445\n",
      "5    0   1   0   1   0   0   0  1  0  0  0  0  0  1  0  0  0  -23.0     435\n",
      "7    0   0   1   0   0   0   0  0  1  0  0  0  0  0  0  1  0  -23.0     435\n",
      "3    0   0   0   0   0   1   0  0  0  0  1  0  0  0  1  0  0  -22.0     314\n",
      "11   1   0   0   0   0   0   0  1  0  0  0  0  0  1  0  0  0  -21.0     258\n",
      "18   0   0   1   1   0   0   0  0  0  1  0  0  0  0  0  1  0  -21.0     256\n",
      "4    0   0   1   0   0   0   1  0  1  0  0  0  0  0  0  0  1  -20.0     232\n",
      "12   0   0   0   1   0   1   0  0  0  0  1  0  0  1  0  0  0  -20.0     249\n",
      "14   0   1   1   1   0   0   0  1  0  0  0  0  0  0  0  1  0  -20.0     204\n",
      "13   0   0   1   0   0   1   0  0  1  0  0  0  0  0  1  0  0  -19.0     157\n",
      "2    0   0   1   1   0   0   1  0  0  1  0  0  0  0  0  0  1  -18.0     142\n",
      "8    1   0   1   0   0   0   0  1  0  0  0  0  0  0  0  1  0  -18.0     143\n",
      "10   0   0   0   0   1   0   0  0  0  1  0  0  0  0  0  0  1  -18.0     117\n",
      "15   0   1   1   1   0   0   1  1  0  0  0  0  0  0  0  0  1  -17.0     116\n",
      "17   0   1   0   0   1   0   0  1  0  0  0  0  0  0  0  0  1  -17.0     119\n",
      "6    1   0   1   0   0   0   1  1  0  0  0  0  0  0  0  0  1  -15.0      85\n",
      "16   1   0   1   0   0   1   0  1  0  0  0  0  0  0  1  0  0  -14.0      53\n",
      "19   0   0   0   0   1   1   0  0  0  0  1  0  0  0  0  0  1  -14.0      43\n",
      "20   0   0   1   0   1   1   0  0  1  0  0  0  0  0  0  0  1  -11.0      26\n",
      "21   1   0   1   0   1   1   0  1  0  0  0  0  0  0  0  0  1   -6.0       9\n",
      "['BINARY', 22 rows, 5000 samples, 17 variables]\n"
     ]
    }
   ],
   "source": [
    "num_reads = 5000\n",
    "t1 = time.time()\n",
    "sampleset2 = SimulatedAnnealingSampler().sample(bqm1, num_reads=num_reads).aggregate()\n",
    "heur_time = (time.time()-t1)*1000\n",
    "print('Time used (ms): {:.3f}\\n'.format(heur_time))\n",
    "print(sampleset2.filter(lambda s: s.energy<0))"
   ]
  },
  {
   "cell_type": "code",
   "execution_count": 23,
   "id": "b4a76d16-edae-4e59-a557-c389ce37d764",
   "metadata": {
    "tags": []
   },
   "outputs": [
    {
     "name": "stdout",
     "output_type": "stream",
     "text": [
      "Route 0-2: [0, 2], weight 1\n",
      "Route 2-1: [2, 1], weight 2\n",
      "Route 3-4: [3, 4], weight 3\n",
      "Route 0-1: [0, 2, 1], weight 3\n",
      "Route 1-3: [1, 3], weight 3\n",
      "Route 3-2: [3, 2], weight 4\n",
      "Route 2-3: [2, 1, 3], weight 5\n",
      "Route 1-4: [1, 3, 4], weight 6\n",
      "Route 0-3: [0, 2, 1, 3], weight 6\n",
      "Route 3-1: [3, 2, 1], weight 6\n",
      "Route 1-2: [1, 3, 2], weight 7\n",
      "Route 2-4: [2, 4], weight 8\n",
      "Route 0-4: [0, 2, 1, 3, 4], weight 9\n"
     ]
    }
   ],
   "source": [
    "for k,v in result_info(sampleset2,E1,vertices1).items():\n",
    "    print('Route '+k+': '+str(v[0])+', weight '+str(v[1]))"
   ]
  },
  {
   "cell_type": "code",
   "execution_count": 24,
   "id": "5f164d9d-5b0f-40d0-b57a-bb2464c29a58",
   "metadata": {
    "tags": []
   },
   "outputs": [
    {
     "name": "stdout",
     "output_type": "stream",
     "text": [
      "100% ok\n"
     ]
    }
   ],
   "source": [
    "check_result(G1,sampleset2,E1,vertices1)"
   ]
  },
  {
   "cell_type": "markdown",
   "id": "919a2172",
   "metadata": {},
   "source": [
    "### Quantum solver"
   ]
  },
  {
   "cell_type": "code",
   "execution_count": 25,
   "id": "132c1754",
   "metadata": {
    "tags": []
   },
   "outputs": [
    {
     "name": "stdout",
     "output_type": "stream",
     "text": [
      "Chip: Advantage_system4.1\n",
      "Qubits: 5760\n"
     ]
    }
   ],
   "source": [
    "machine = DWaveSampler(solver={'chip_id': 'Advantage_system4.1'})\n",
    "print('Chip:', machine.properties['chip_id'])\n",
    "print('Qubits:', machine.properties['num_qubits'])"
   ]
  },
  {
   "cell_type": "code",
   "execution_count": 26,
   "id": "25f71f94",
   "metadata": {
    "tags": []
   },
   "outputs": [],
   "source": [
    "num_reads = 500\n",
    "sampleset3 = EmbeddingComposite(machine).sample(bqm1, num_reads=num_reads)"
   ]
  },
  {
   "cell_type": "code",
   "execution_count": 27,
   "id": "ee8aac50",
   "metadata": {
    "tags": []
   },
   "outputs": [
    {
     "name": "stdout",
     "output_type": "stream",
     "text": [
      "QPU time used (ms): 70.1\n",
      "Physical qubits used: 33\n",
      "\n",
      "   0-1 0-2 1-3 2-1 2-4 3-2 3-4 s0 s1 s2 s3 s4 t0 t1 t2 t3 t4 energy num_oc. ...\n",
      "0    0   1   0   0   0   0   0  1  0  0  0  0  0  0  1  0  0  -25.0       4 ...\n",
      "1    0   0   0   1   0   0   0  0  0  1  0  0  0  1  0  0  0  -24.0      16 ...\n",
      "2    0   1   0   1   0   0   0  1  0  0  0  0  0  1  0  0  0  -23.0       9 ...\n",
      "3    0   0   0   0   0   0   1  0  0  0  1  0  0  0  0  0  1  -23.0      17 ...\n",
      "4    0   0   1   0   0   0   0  0  1  0  0  0  0  0  0  1  0  -23.0       6 ...\n",
      "5    0   0   0   0   0   1   0  0  0  0  1  0  0  0  1  0  0  -22.0       3 ...\n",
      "6    1   0   0   0   0   0   0  1  0  0  0  0  0  1  0  0  0  -21.0      14 ...\n",
      "7    0   0   1   1   0   0   0  0  0  1  0  0  0  0  0  1  0  -21.0       8 ...\n",
      "8    0   1   1   1   0   0   0  1  0  0  0  0  0  0  0  1  0  -20.0       4 ...\n",
      "9    0   0   0   1   0   1   0  0  0  0  1  0  0  1  0  0  0  -20.0      15 ...\n",
      "10   0   0   1   0   0   0   1  0  1  0  0  0  0  0  0  0  1  -20.0      10 ...\n",
      "21   0   0   1   0   0   0   1  0  1  0  0  0  0  0  0  0  1  -20.0       1 ...\n",
      "11   0   0   1   0   0   1   0  0  1  0  0  0  0  0  1  0  0  -19.0       3 ...\n",
      "12   1   0   1   0   0   0   0  1  0  0  0  0  0  0  0  1  0  -18.0       6 ...\n",
      "13   0   0   0   0   1   0   0  0  0  1  0  0  0  0  0  0  1  -18.0      16 ...\n",
      "14   0   0   1   1   0   0   1  0  0  1  0  0  0  0  0  0  1  -18.0      15 ...\n",
      "15   0   1   1   1   0   0   1  1  0  0  0  0  0  0  0  0  1  -17.0       8 ...\n",
      "16   0   1   0   0   1   0   0  1  0  0  0  0  0  0  0  0  1  -17.0      12 ...\n",
      "17   1   0   1   0   0   0   1  1  0  0  0  0  0  0  0  0  1  -15.0      14 ...\n",
      "18   0   0   0   0   1   1   0  0  0  0  1  0  0  0  0  0  1  -14.0      11 ...\n",
      "19   0   0   1   0   1   1   0  0  1  0  0  0  0  0  0  0  1  -11.0       2 ...\n",
      "20   1   0   1   0   1   1   0  1  0  0  0  0  0  0  0  0  1   -6.0       8 ...\n",
      "['BINARY', 22 rows, 202 samples, 17 variables]\n"
     ]
    }
   ],
   "source": [
    "qpu_time = sampleset3.info['timing']['qpu_access_time'] / 1000\n",
    "qubits = sum(len(x) for x in sampleset3.info['embedding_context']['embedding'].values())\n",
    "print('QPU time used (ms): {:.1f}'.format(qpu_time))\n",
    "print('Physical qubits used: {}\\n'.format(qubits))\n",
    "print(sampleset3.filter(lambda s: s.energy<0))"
   ]
  },
  {
   "cell_type": "code",
   "execution_count": 28,
   "id": "8bd6a731",
   "metadata": {
    "tags": []
   },
   "outputs": [
    {
     "name": "stdout",
     "output_type": "stream",
     "text": [
      "Route 0-2: [0, 2], weight 1\n",
      "Route 2-1: [2, 1], weight 2\n",
      "Route 0-1: [0, 2, 1], weight 3\n",
      "Route 3-4: [3, 4], weight 3\n",
      "Route 1-3: [1, 3], weight 3\n",
      "Route 3-2: [3, 2], weight 4\n",
      "Route 2-3: [2, 1, 3], weight 5\n",
      "Route 3-1: [3, 2, 1], weight 6\n",
      "Route 1-4: [1, 3, 4], weight 6\n",
      "Route 0-3: [0, 2, 1, 3], weight 6\n",
      "Route 1-2: [1, 3, 2], weight 7\n",
      "Route 2-4: [2, 4], weight 8\n",
      "Route 0-4: [0, 2, 1, 3, 4], weight 9\n"
     ]
    }
   ],
   "source": [
    "for k,v in result_info(sampleset3,E1,vertices1).items():\n",
    "    print('Route '+k+': '+str(v[0])+', weight '+str(v[1]))"
   ]
  },
  {
   "cell_type": "code",
   "execution_count": 29,
   "id": "ecb2d43b-a988-48ee-a1e7-d9779ff527f6",
   "metadata": {
    "tags": []
   },
   "outputs": [
    {
     "name": "stdout",
     "output_type": "stream",
     "text": [
      "100% ok\n"
     ]
    }
   ],
   "source": [
    "check_result(G1,sampleset3,E1,vertices1)"
   ]
  },
  {
   "cell_type": "markdown",
   "id": "2105c607-9da4-4217-9a9a-dd9a299dbf4a",
   "metadata": {},
   "source": [
    "### Timings"
   ]
  },
  {
   "cell_type": "code",
   "execution_count": 30,
   "id": "61bdc818-8515-4396-be7d-d21cf2ea58c4",
   "metadata": {
    "tags": []
   },
   "outputs": [
    {
     "name": "stdout",
     "output_type": "stream",
     "text": [
      "Construting QUBO: 0.320\n",
      "Construting BQM: 0.270\n",
      "\n",
      "Local deterministic solver: 218.6\n",
      "Local heuristic solver: 1536.5\n",
      "Quantum solver: 70.1\n"
     ]
    }
   ],
   "source": [
    "print('Construting QUBO: {:.3f}'.format(qubo_time))\n",
    "print('Construting BQM: {:.3f}'.format(bqm_time))\n",
    "print('\\nLocal deterministic solver: {:.1f}'.format(det_time))\n",
    "print('Local heuristic solver: {:.1f}'.format(heur_time))\n",
    "print('Quantum solver: {:.1f}'.format(qpu_time))"
   ]
  },
  {
   "cell_type": "markdown",
   "id": "68a02299-8517-4e2a-b68f-6f5371285672",
   "metadata": {},
   "source": [
    "## More complex graph"
   ]
  },
  {
   "cell_type": "code",
   "execution_count": 31,
   "id": "80038cf1-6ef8-4820-bc45-ef653df86e93",
   "metadata": {
    "tags": []
   },
   "outputs": [],
   "source": [
    "seed = 42\n",
    "vertices2 = 10\n",
    "random.seed(seed)\n",
    "G2 = nx.gnp_random_graph(vertices2, 0.30, seed, directed=True)\n",
    "nx.set_edge_attributes(G2, {e: {'weight': random.randint(1, 10)} for e in G2.edges})"
   ]
  },
  {
   "cell_type": "code",
   "execution_count": 32,
   "id": "7175b2b6-244e-410b-8535-2ebe5f66f3fe",
   "metadata": {
    "tags": []
   },
   "outputs": [
    {
     "name": "stdout",
     "output_type": "stream",
     "text": [
      "Number of edges: 34\n",
      "Number of vertices: 10\n",
      "Max count: 166\n"
     ]
    }
   ],
   "source": [
    "E2 = [] \n",
    "for e in G2.edges(data=True):\n",
    "    E2.append((e[0],e[1],e[2]['weight']))\n",
    "print('Number of edges:',len(E2))\n",
    "print('Number of vertices:',vertices2)\n",
    "\n",
    "max_count2 = 0\n",
    "for e in E2:\n",
    "    max_count2 += e[2]\n",
    "print('Max count:',max_count2)\n",
    "\n",
    "labels2 = {}\n",
    "for i in range(vertices2):\n",
    "    labels2[i]='s'+str(i)\n",
    "    labels2[vertices2+i]='t'+str(i)   \n",
    "for i,e in enumerate(E2):\n",
    "    labels2[vertices2*2+i] = str(e[0]) + '-' + str(e[1])"
   ]
  },
  {
   "cell_type": "markdown",
   "id": "a9827abc-de75-4ddc-9187-cb5d8faa8752",
   "metadata": {},
   "source": [
    "### QUBO and BQM"
   ]
  },
  {
   "cell_type": "code",
   "execution_count": 33,
   "id": "e75fc527-e8bf-48cb-b054-1f4b451f541a",
   "metadata": {
    "tags": []
   },
   "outputs": [
    {
     "name": "stdout",
     "output_type": "stream",
     "text": [
      "Time used for construction Q (ms): 0.769\n",
      "Time used for construction BQM (ms): 0.353\n"
     ]
    }
   ],
   "source": [
    "t1 = time.time()\n",
    "p = max_count2\n",
    "Q2 = create_qubo(E2,vertices2,p)\n",
    "qubo_time = (time.time()-t1) * 1000\n",
    "print('Time used for construction Q (ms): {:.3f}'.format(qubo_time))\n",
    "\n",
    "t1 = time.time()\n",
    "bqm2 = dimod.BinaryQuadraticModel(Q2, 'BINARY')\n",
    "bqm_time = (time.time()-t1) * 1000\n",
    "bqm2 = bqm2.relabel_variables(labels2, inplace=False)\n",
    "print('Time used for construction BQM (ms): {:.3f}'.format(bqm_time))"
   ]
  },
  {
   "cell_type": "markdown",
   "id": "66198218-b00d-41ce-9497-0fb7517580fc",
   "metadata": {},
   "source": [
    "### Local heuristic solver"
   ]
  },
  {
   "cell_type": "code",
   "execution_count": 34,
   "id": "f44045b9-742f-4151-aab6-5bb1b0aa2e7d",
   "metadata": {
    "tags": []
   },
   "outputs": [
    {
     "name": "stdout",
     "output_type": "stream",
     "text": [
      "Time used (ms): 7592.943\n",
      "\n"
     ]
    }
   ],
   "source": [
    "num_reads = 10000\n",
    "t1 = time.time()\n",
    "sampleset4 = SimulatedAnnealingSampler().sample(bqm2, num_reads=num_reads).aggregate()\n",
    "heur_time = (time.time()-t1)*1000\n",
    "print('Time used (ms): {:.3f}\\n'.format(heur_time))"
   ]
  },
  {
   "cell_type": "code",
   "execution_count": 35,
   "id": "7c95d89f-450a-45e7-a1ec-9a4fc945fdaa",
   "metadata": {
    "tags": []
   },
   "outputs": [
    {
     "name": "stdout",
     "output_type": "stream",
     "text": [
      "Path: [6, 4, 7, 3, 0, 2, 1, 5] (38): correct: [[6, 2, 1, 5]] (26)\n",
      "99% ok\n"
     ]
    }
   ],
   "source": [
    "check_result(G2,sampleset4,E2,vertices2)"
   ]
  },
  {
   "cell_type": "markdown",
   "id": "cfd3ab9f-5c24-42f6-a160-c0b2125bc8e9",
   "metadata": {},
   "source": [
    "### Quantum solver"
   ]
  },
  {
   "cell_type": "code",
   "execution_count": 36,
   "id": "96a23ec1-8f3c-4f1c-a866-8edd466f912a",
   "metadata": {
    "tags": []
   },
   "outputs": [
    {
     "name": "stdout",
     "output_type": "stream",
     "text": [
      "Chip: Advantage_system4.1\n",
      "Qubits: 5760\n"
     ]
    }
   ],
   "source": [
    "machine = DWaveSampler(solver={'chip_id': 'Advantage_system4.1'})\n",
    "print('Chip:', machine.properties['chip_id'])\n",
    "print('Qubits:', machine.properties['num_qubits'])"
   ]
  },
  {
   "cell_type": "code",
   "execution_count": 37,
   "id": "df670e28-f622-4c13-8c15-921e64236abb",
   "metadata": {
    "tags": []
   },
   "outputs": [],
   "source": [
    "num_reads = 2000\n",
    "sampleset5 = EmbeddingComposite(machine).sample(bqm2, num_reads=num_reads)"
   ]
  },
  {
   "cell_type": "code",
   "execution_count": 38,
   "id": "3a33303b-df1f-4a59-acf7-4887648657c4",
   "metadata": {
    "tags": []
   },
   "outputs": [
    {
     "name": "stdout",
     "output_type": "stream",
     "text": [
      "QPU time used (ms): 294.0\n",
      "Physical qubits used: 241\n",
      "\n"
     ]
    }
   ],
   "source": [
    "qpu_time = sampleset5.info['timing']['qpu_access_time'] / 1000\n",
    "qubits = sum(len(x) for x in sampleset5.info['embedding_context']['embedding'].values())\n",
    "print('QPU time used (ms): {:.1f}'.format(qpu_time))\n",
    "print('Physical qubits used: {}\\n'.format(qubits))\n",
    "#print(sampleset5)"
   ]
  },
  {
   "cell_type": "code",
   "execution_count": 39,
   "id": "b6058feb-1bf7-48b8-9653-d9bc4b70f51e",
   "metadata": {
    "tags": []
   },
   "outputs": [
    {
     "name": "stdout",
     "output_type": "stream",
     "text": [
      "1% ok\n"
     ]
    }
   ],
   "source": [
    "check_result(G2,sampleset5,E2,vertices2,verbose=False)"
   ]
  },
  {
   "cell_type": "markdown",
   "id": "f2b32a10-a3b3-4243-a168-d76fe8532dc2",
   "metadata": {},
   "source": [
    "### Timings"
   ]
  },
  {
   "cell_type": "code",
   "execution_count": 40,
   "id": "958463dc-afbb-4f7f-a7d5-169348488c5d",
   "metadata": {
    "tags": []
   },
   "outputs": [
    {
     "name": "stdout",
     "output_type": "stream",
     "text": [
      "Construting QUBO (ms): 0.769\n",
      "Construting BQM (ms): 0.353\n",
      "\n",
      "Local heuristic solver (ms): 7592.9\n",
      "Quantum solver (ms): 294.0\n"
     ]
    }
   ],
   "source": [
    "print('Construting QUBO (ms): {:.3f}'.format(qubo_time))\n",
    "print('Construting BQM (ms): {:.3f}'.format(bqm_time))\n",
    "print('\\nLocal heuristic solver (ms): {:.1f}'.format(heur_time))\n",
    "print('Quantum solver (ms): {:.1f}'.format(qpu_time))"
   ]
  },
  {
   "cell_type": "markdown",
   "id": "bfb4415d-fc8e-4757-8c05-53f20aa83300",
   "metadata": {},
   "source": [
    "## Test procedure #1\n",
    "\n",
    "Test with 20 random graphs, with local heuristic solver"
   ]
  },
  {
   "cell_type": "code",
   "execution_count": 41,
   "id": "ee19137d-50e7-4033-b264-c378a9592c45",
   "metadata": {
    "tags": []
   },
   "outputs": [
    {
     "name": "stdout",
     "output_type": "stream",
     "text": [
      "\n",
      "Seed: 0\n",
      "100% ok\n",
      "\n",
      "Seed: 1\n",
      "100% ok\n",
      "\n",
      "Seed: 2\n",
      "100% ok\n",
      "\n",
      "Seed: 3\n",
      "100% ok\n",
      "\n",
      "Seed: 4\n",
      "100% ok\n",
      "\n",
      "Seed: 5\n",
      "100% ok\n",
      "\n",
      "Seed: 6\n",
      "100% ok\n",
      "\n",
      "Seed: 7\n",
      "100% ok\n",
      "\n",
      "Seed: 8\n",
      "100% ok\n",
      "\n",
      "Seed: 9\n",
      "100% ok\n",
      "\n",
      "Seed: 10\n",
      "100% ok\n",
      "\n",
      "Seed: 11\n",
      "100% ok\n",
      "\n",
      "Seed: 12\n",
      "100% ok\n",
      "\n",
      "Seed: 13\n",
      "100% ok\n",
      "\n",
      "Seed: 14\n",
      "100% ok\n",
      "\n",
      "Seed: 15\n",
      "100% ok\n",
      "\n",
      "Seed: 16\n",
      "100% ok\n",
      "\n",
      "Seed: 17\n",
      "100% ok\n",
      "\n",
      "Seed: 18\n",
      "100% ok\n",
      "\n",
      "Seed: 19\n",
      "Path: [0, 7, 9, 4, 3] (10): correct: [[0, 9, 4, 3]] (9)\n",
      "Path: [2, 0, 7, 9, 4, 6, 5, 1] (24): correct: [[2, 0, 9, 4, 6, 5, 1]] (23)\n",
      "98% ok\n"
     ]
    }
   ],
   "source": [
    "for seed in range(20):\n",
    "    vertices = 10\n",
    "    random.seed(seed)\n",
    "    G = nx.gnp_random_graph(vertices, 0.30, seed, directed=True)\n",
    "    nx.set_edge_attributes(G, {e: {'weight': random.randint(1, 10)} for e in G.edges})\n",
    "    \n",
    "    E = [] \n",
    "    for e in G.edges(data=True):\n",
    "        E.append((e[0],e[1],e[2]['weight']))\n",
    "\n",
    "    max_count = 0\n",
    "    for e in E:\n",
    "        max_count += e[2]\n",
    "\n",
    "    labels = {}\n",
    "    for i in range(vertices):\n",
    "        labels[i]='s'+str(i)\n",
    "        labels[vertices+i]='t'+str(i)   \n",
    "    for i,e in enumerate(E):\n",
    "        labels[vertices*2+i] = str(e[0]) + '-' + str(e[1])\n",
    "        \n",
    "    \n",
    "    Q = create_qubo(E,vertices,max_count)\n",
    "    bqm = dimod.BinaryQuadraticModel(Q, 'BINARY')\n",
    "    bqm = bqm.relabel_variables(labels, inplace=False)\n",
    "\n",
    "    num_reads = 20000\n",
    "    sampleset = SimulatedAnnealingSampler().sample(bqm, num_reads=num_reads).aggregate()\n",
    "    print('\\nSeed:',seed)\n",
    "    check_result(G,sampleset,E,vertices)"
   ]
  },
  {
   "cell_type": "code",
   "execution_count": null,
   "id": "2e13d896-4401-44ea-b3f5-bf04e4335ceb",
   "metadata": {},
   "outputs": [],
   "source": []
  }
 ],
 "metadata": {
  "kernelspec": {
   "display_name": "Python 3 (ipykernel)",
   "language": "python",
   "name": "python3"
  },
  "language_info": {
   "codemirror_mode": {
    "name": "ipython",
    "version": 3
   },
   "file_extension": ".py",
   "mimetype": "text/x-python",
   "name": "python",
   "nbconvert_exporter": "python",
   "pygments_lexer": "ipython3",
   "version": "3.8.18"
  }
 },
 "nbformat": 4,
 "nbformat_minor": 5
}
